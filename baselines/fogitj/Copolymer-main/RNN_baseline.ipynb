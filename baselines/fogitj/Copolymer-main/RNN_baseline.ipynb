{
 "cells": [
  {
   "cell_type": "code",
   "execution_count": 1,
   "id": "47d6bdc5",
   "metadata": {},
   "outputs": [
    {
     "name": "stdout",
     "output_type": "stream",
     "text": [
      "/home/zmao_umass_edu/baselines/Copolymer\n"
     ]
    }
   ],
   "source": [
    "%cd \"baselines/Copolymer\""
   ]
  },
  {
   "cell_type": "code",
   "execution_count": 2,
   "id": "71696b5e",
   "metadata": {},
   "outputs": [
    {
     "data": {
      "text/plain": [
       "[PhysicalDevice(name='/physical_device:GPU:0', device_type='GPU')]"
      ]
     },
     "execution_count": 2,
     "metadata": {},
     "output_type": "execute_result"
    }
   ],
   "source": [
    "import tensorflow as tf\n",
    "tf.config.list_physical_devices('GPU')"
   ]
  },
  {
   "cell_type": "code",
   "execution_count": 28,
   "id": "295282d4",
   "metadata": {},
   "outputs": [],
   "source": [
    "import pandas as pd\n",
    "import numpy as np\n",
    "import pickle\n",
    "\n",
    "import rdkit\n",
    "from rdkit import Chem\n",
    "from rdkit.Chem import AllChem\n",
    "from rdkit.Chem import Descriptors\n",
    "from rdkit.Chem import rdMolDescriptors\n",
    "from rdkit.Chem.Draw import IPythonConsole\n",
    "from rdkit.Chem import Draw\n",
    "from rdkit.Chem.Draw import rdMolDraw2D\n",
    "import keras_tuner as kt\n",
    "from keras_tuner.tuners import RandomSearch\n",
    "from keras_tuner.engine.hyperparameters import HyperParameters\n",
    "from tensorflow.keras.models import Sequential, save_model, load_model\n",
    "from tensorflow.keras.optimizers import Adam\n",
    "from tensorflow import keras\n",
    "from tensorflow.keras.layers import Conv2D, MaxPooling2D, Conv1D, MaxPooling1D, Dense, Flatten, Activation, ZeroPadding2D\n",
    "from tensorflow.keras.layers import LSTM, Embedding, Bidirectional, TimeDistributed, Reshape, Dropout\n",
    "from tensorflow.keras.preprocessing.text import one_hot\n",
    "from tensorflow.keras.preprocessing.sequence import pad_sequences\n",
    "import time\n",
    "from tensorflow.keras import layers\n",
    "from sklearn.metrics import r2_score, mean_squared_error, mean_absolute_error\n",
    "from sklearn.metrics import mean_absolute_error, r2_score\n",
    "from sklearn.model_selection import train_test_split\n",
    "import random\n",
    "from numpy.random import seed\n",
    "import tensorflow\n",
    "from keras.layers import Input\n",
    "from keras.models import Model\n",
    "from keras.layers import Concatenate\n",
    "import argparse\n",
    "import os\n",
    "import matplotlib.pyplot as plt\n"
   ]
  },
  {
   "cell_type": "code",
   "execution_count": 4,
   "id": "2703ca1e",
   "metadata": {},
   "outputs": [],
   "source": [
    "#read in the reference data\n",
    "DF = pd.read_csv('datasets/Dataset 1.csv') #to be comparable with the size of other datasets, select ~5000 data points from the reference\n",
    "DF['TRIMER_mol'] = DF['TRIMER'].apply(Chem.MolFromSmiles)\n",
    "DF = DF.dropna()\n",
    "#DF = DF.head(20000)"
   ]
  },
  {
   "cell_type": "code",
   "execution_count": 5,
   "id": "010703a0",
   "metadata": {},
   "outputs": [],
   "source": [
    "nbits = 1024#1024\n",
    "fp = DF['TRIMER_mol'].apply(lambda m: AllChem.GetMorganFingerprintAsBitVect(m, radius=3, nBits=nbits))"
   ]
  },
  {
   "cell_type": "code",
   "execution_count": 6,
   "id": "5937cc82",
   "metadata": {},
   "outputs": [
    {
     "data": {
      "text/plain": [
       "'0000000000000001000000000000000000101000000000000000000000000000100000000010000000010000001000000000001000000000000000000000000000000010100000000011000000000000000000000000000000000000000010000000000000010000000010000000000000000000000000000000000000000000000000000000000000000000000000000000000001100000000100000010000110010000000000000010000000000000100011000000001000100000000000000000001000000000000000000000000000000010010000000000000000000000000000000000100000000000000000100000000000000000000000000000000000000100000000000000000000001000000000010000000001000000000000000000000100000000000000000010000010000000110000100000000000000000000000000010010000010000000000000001000000001000000011000001000000000000000000000000001000000000000000000000000000000000000000000000000000000000010001000000000000000100000000001000000000000000000000000010000001000000000000100000000000011000000000000000000010000000100000000000000000000010000000000000100000000000000000100001000000000000000000001000000000000000000000000000000000000000'"
      ]
     },
     "execution_count": 6,
     "metadata": {},
     "output_type": "execute_result"
    }
   ],
   "source": [
    "fp[0].ToBitString()"
   ]
  },
  {
   "cell_type": "code",
   "execution_count": 7,
   "id": "816e5ae2",
   "metadata": {},
   "outputs": [
    {
     "data": {
      "text/plain": [
       "array([0, 0, 0, ..., 0, 0, 0])"
      ]
     },
     "execution_count": 7,
     "metadata": {},
     "output_type": "execute_result"
    }
   ],
   "source": [
    "np.array(fp[0])"
   ]
  },
  {
   "cell_type": "code",
   "execution_count": 8,
   "id": "62821463",
   "metadata": {},
   "outputs": [],
   "source": [
    "fp_array = np.asarray([np.array(fp[i]) for i in range(len(fp))])"
   ]
  },
  {
   "cell_type": "code",
   "execution_count": 9,
   "id": "d7b0160c",
   "metadata": {},
   "outputs": [
    {
     "data": {
      "text/plain": [
       "(47988, 1024)"
      ]
     },
     "execution_count": 9,
     "metadata": {},
     "output_type": "execute_result"
    }
   ],
   "source": [
    "fp_array.shape"
   ]
  },
  {
   "cell_type": "code",
   "execution_count": 10,
   "id": "1df31a4a",
   "metadata": {},
   "outputs": [],
   "source": [
    "Mix_X_100Block = np.repeat(fp_array, 100, axis=0)\n",
    "Mix_X_100Block = Mix_X_100Block.reshape(len(DF), 100, nbits)"
   ]
  },
  {
   "cell_type": "code",
   "execution_count": 11,
   "id": "6c06a6d6",
   "metadata": {},
   "outputs": [
    {
     "data": {
      "text/plain": [
       "(47988, 100, 1024)"
      ]
     },
     "execution_count": 11,
     "metadata": {},
     "output_type": "execute_result"
    }
   ],
   "source": [
    "Mix_X_100Block.shape"
   ]
  },
  {
   "cell_type": "code",
   "execution_count": 18,
   "id": "ece5107f",
   "metadata": {},
   "outputs": [],
   "source": [
    "X_train, X_test, y_train, y_test = train_test_split(Mix_X_100Block, DF['IP (eV)'], test_size=0.2, random_state=11)"
   ]
  },
  {
   "cell_type": "code",
   "execution_count": 13,
   "id": "ebb9b20c",
   "metadata": {},
   "outputs": [
    {
     "name": "stdout",
     "output_type": "stream",
     "text": [
      "INFO:tensorflow:Using MirroredStrategy with devices ('/job:localhost/replica:0/task:0/device:GPU:0',)\n"
     ]
    }
   ],
   "source": [
    "strategy = tf.distribute.MirroredStrategy()"
   ]
  },
  {
   "cell_type": "code",
   "execution_count": 14,
   "id": "b4c03ab1",
   "metadata": {},
   "outputs": [],
   "source": [
    "# X_train_reshaped = np.expand_dims(X_train, axis=1)\n",
    "# X_train = X_train_reshaped"
   ]
  },
  {
   "cell_type": "code",
   "execution_count": 15,
   "id": "998e5c75",
   "metadata": {},
   "outputs": [],
   "source": [
    "X_train = X_train.astype('int64')\n",
    "y_train = y_train.astype('int64' )"
   ]
  },
  {
   "cell_type": "code",
   "execution_count": 19,
   "id": "0152ecdb",
   "metadata": {
    "scrolled": false
   },
   "outputs": [],
   "source": [
    "# # model setup using the optimized architecture for IP\n",
    "LSTMunits = 20 # hyperprameter for LSTM\n",
    "\n",
    "# # ### multiple GPU\n",
    "# with strategy.scope():\n",
    "#     RNNmodel = Sequential()\n",
    "#     RNNmodel.add(Bidirectional(LSTM(LSTMunits, return_sequences=True), input_shape=(100,2048)))\n",
    "#     RNNmodel.add(Bidirectional(LSTM(LSTMunits, return_sequences=True)))\n",
    "#     RNNmodel.add(TimeDistributed(tensorflow.keras.layers.Dense(int(LSTMunits/2), activation=\"relu\")))\n",
    "#     RNNmodel.add(Reshape((int(LSTMunits/2*100),)))\n",
    "#     RNNmodel.add(Dense(1))\n",
    "#     RNNmodel.compile(loss='mse', optimizer='adam')\n",
    "# RNNmodel.fit(X_train, y_train, validation_split=0.2, epochs=120, batch_size=2)\n",
    "\n",
    "# ### Single GPU:\n",
    "RNNmodel = Sequential()\n",
    "RNNmodel.add(Bidirectional(LSTM(LSTMunits, return_sequences=True), input_shape=(100,1024)))\n",
    "RNNmodel.add(Bidirectional(LSTM(LSTMunits, return_sequences=True)))\n",
    "RNNmodel.add(TimeDistributed(tensorflow.keras.layers.Dense(int(LSTMunits/2), activation=\"relu\")))\n",
    "RNNmodel.add(Reshape((int(LSTMunits/2*100),)))\n",
    "RNNmodel.add(Dense(1))\n",
    "RNNmodel.compile(loss='mse', optimizer='adam')\n"
   ]
  },
  {
   "cell_type": "code",
   "execution_count": 23,
   "id": "5d46bd68",
   "metadata": {},
   "outputs": [
    {
     "name": "stdout",
     "output_type": "stream",
     "text": [
      "Epoch 1/120\n",
      "960/960 [==============================] - 45s 47ms/step - loss: 0.0123 - val_loss: 0.0172\n",
      "Epoch 2/120\n",
      "960/960 [==============================] - 46s 48ms/step - loss: 0.0102 - val_loss: 0.0179\n",
      "Epoch 3/120\n",
      "960/960 [==============================] - 46s 47ms/step - loss: 0.0089 - val_loss: 0.0198\n",
      "Epoch 4/120\n",
      "960/960 [==============================] - 46s 47ms/step - loss: 0.0088 - val_loss: 0.0170\n",
      "Epoch 5/120\n",
      "960/960 [==============================] - 46s 48ms/step - loss: 0.0074 - val_loss: 0.0211\n",
      "Epoch 6/120\n",
      "960/960 [==============================] - 46s 47ms/step - loss: 0.0071 - val_loss: 0.0161\n",
      "Epoch 7/120\n",
      "960/960 [==============================] - 45s 47ms/step - loss: 0.0061 - val_loss: 0.0158\n",
      "Epoch 8/120\n",
      "960/960 [==============================] - 45s 47ms/step - loss: 0.0056 - val_loss: 0.0164\n",
      "Epoch 9/120\n",
      "960/960 [==============================] - 45s 47ms/step - loss: 0.0049 - val_loss: 0.0162\n",
      "Epoch 10/120\n",
      "960/960 [==============================] - 45s 47ms/step - loss: 0.0045 - val_loss: 0.0175\n",
      "Epoch 11/120\n",
      "960/960 [==============================] - 46s 48ms/step - loss: 0.0047 - val_loss: 0.0160\n",
      "Epoch 12/120\n",
      "960/960 [==============================] - 45s 47ms/step - loss: 0.0041 - val_loss: 0.0158\n",
      "Epoch 13/120\n",
      "960/960 [==============================] - 46s 48ms/step - loss: 0.0040 - val_loss: 0.0157\n",
      "Epoch 14/120\n",
      "960/960 [==============================] - 46s 47ms/step - loss: 0.0038 - val_loss: 0.0162\n",
      "Epoch 15/120\n",
      "960/960 [==============================] - 46s 47ms/step - loss: 0.0035 - val_loss: 0.0157\n",
      "Epoch 16/120\n",
      "960/960 [==============================] - 46s 48ms/step - loss: 0.0032 - val_loss: 0.0166\n",
      "Epoch 17/120\n",
      "960/960 [==============================] - 46s 48ms/step - loss: 0.0030 - val_loss: 0.0162\n",
      "Epoch 18/120\n",
      "960/960 [==============================] - 46s 48ms/step - loss: 0.0031 - val_loss: 0.0161\n",
      "Epoch 19/120\n",
      "960/960 [==============================] - 45s 47ms/step - loss: 0.0031 - val_loss: 0.0160\n",
      "Epoch 20/120\n",
      "960/960 [==============================] - 46s 48ms/step - loss: 0.0029 - val_loss: 0.0158\n",
      "Epoch 21/120\n",
      "960/960 [==============================] - 46s 48ms/step - loss: 0.0026 - val_loss: 0.0154\n",
      "Epoch 22/120\n",
      "960/960 [==============================] - 46s 48ms/step - loss: 0.0026 - val_loss: 0.0162\n",
      "Epoch 23/120\n",
      "960/960 [==============================] - 45s 47ms/step - loss: 0.0026 - val_loss: 0.0154\n",
      "Epoch 24/120\n",
      "960/960 [==============================] - 45s 47ms/step - loss: 0.0026 - val_loss: 0.0154\n",
      "Epoch 25/120\n",
      "960/960 [==============================] - 46s 48ms/step - loss: 0.0023 - val_loss: 0.0151\n",
      "Epoch 26/120\n",
      "960/960 [==============================] - 45s 47ms/step - loss: 0.0023 - val_loss: 0.0183\n",
      "Epoch 27/120\n",
      "960/960 [==============================] - 45s 47ms/step - loss: 0.0023 - val_loss: 0.0153\n",
      "Epoch 28/120\n",
      "960/960 [==============================] - 46s 48ms/step - loss: 0.0024 - val_loss: 0.0153\n",
      "Epoch 29/120\n",
      "960/960 [==============================] - 46s 47ms/step - loss: 0.0023 - val_loss: 0.0151\n",
      "Epoch 30/120\n",
      "960/960 [==============================] - 46s 47ms/step - loss: 0.0021 - val_loss: 0.0153\n",
      "Epoch 31/120\n",
      "960/960 [==============================] - 46s 48ms/step - loss: 0.0021 - val_loss: 0.0153\n",
      "Epoch 32/120\n",
      "960/960 [==============================] - 46s 48ms/step - loss: 0.0021 - val_loss: 0.0158\n",
      "Epoch 33/120\n",
      "960/960 [==============================] - 45s 47ms/step - loss: 0.0021 - val_loss: 0.0152\n",
      "Epoch 34/120\n",
      "960/960 [==============================] - 45s 47ms/step - loss: 0.0018 - val_loss: 0.0150\n",
      "Epoch 35/120\n",
      "960/960 [==============================] - 46s 48ms/step - loss: 0.0019 - val_loss: 0.0150\n",
      "Epoch 36/120\n",
      "960/960 [==============================] - 46s 48ms/step - loss: 0.0019 - val_loss: 0.0155\n",
      "Epoch 37/120\n",
      "960/960 [==============================] - 45s 47ms/step - loss: 0.0018 - val_loss: 0.0156\n",
      "Epoch 38/120\n",
      "960/960 [==============================] - 46s 48ms/step - loss: 0.0018 - val_loss: 0.0153\n",
      "Epoch 39/120\n",
      "960/960 [==============================] - 45s 47ms/step - loss: 0.0017 - val_loss: 0.0155\n",
      "Epoch 40/120\n",
      "960/960 [==============================] - 45s 47ms/step - loss: 0.0017 - val_loss: 0.0149\n",
      "Epoch 41/120\n",
      "960/960 [==============================] - 46s 47ms/step - loss: 0.0018 - val_loss: 0.0160\n",
      "Epoch 42/120\n",
      "960/960 [==============================] - 46s 48ms/step - loss: 0.0017 - val_loss: 0.0156\n",
      "Epoch 43/120\n",
      "960/960 [==============================] - 46s 48ms/step - loss: 0.0016 - val_loss: 0.0152\n",
      "Epoch 44/120\n",
      "960/960 [==============================] - 46s 48ms/step - loss: 0.0016 - val_loss: 0.0154\n",
      "Epoch 45/120\n",
      "960/960 [==============================] - 46s 48ms/step - loss: 0.0016 - val_loss: 0.0151\n",
      "Epoch 46/120\n",
      "960/960 [==============================] - 46s 48ms/step - loss: 0.0017 - val_loss: 0.0170\n",
      "Epoch 47/120\n",
      "960/960 [==============================] - 46s 48ms/step - loss: 0.0017 - val_loss: 0.0155\n",
      "Epoch 48/120\n",
      "960/960 [==============================] - 45s 47ms/step - loss: 0.0015 - val_loss: 0.0153\n",
      "Epoch 49/120\n",
      "960/960 [==============================] - 45s 47ms/step - loss: 0.0016 - val_loss: 0.0150\n",
      "Epoch 50/120\n",
      "960/960 [==============================] - 46s 47ms/step - loss: 0.0016 - val_loss: 0.0154\n",
      "Epoch 51/120\n",
      "960/960 [==============================] - 46s 48ms/step - loss: 0.0016 - val_loss: 0.0172\n",
      "Epoch 52/120\n",
      "960/960 [==============================] - 46s 48ms/step - loss: 0.0014 - val_loss: 0.0164\n",
      "Epoch 53/120\n",
      "960/960 [==============================] - 46s 48ms/step - loss: 0.0016 - val_loss: 0.0153\n",
      "Epoch 54/120\n",
      "960/960 [==============================] - 46s 48ms/step - loss: 0.0015 - val_loss: 0.0152\n",
      "Epoch 55/120\n",
      "960/960 [==============================] - 45s 47ms/step - loss: 0.0014 - val_loss: 0.0183\n",
      "Epoch 56/120\n",
      "960/960 [==============================] - 46s 48ms/step - loss: 0.0015 - val_loss: 0.0152\n",
      "Epoch 57/120\n",
      "960/960 [==============================] - 45s 47ms/step - loss: 0.0014 - val_loss: 0.0156\n",
      "Epoch 58/120\n",
      "960/960 [==============================] - 45s 47ms/step - loss: 0.0015 - val_loss: 0.0157\n",
      "Epoch 59/120\n",
      "960/960 [==============================] - 46s 48ms/step - loss: 0.0014 - val_loss: 0.0152\n",
      "Epoch 60/120\n",
      "960/960 [==============================] - 46s 48ms/step - loss: 0.0014 - val_loss: 0.0152\n",
      "Epoch 61/120\n",
      "960/960 [==============================] - 45s 47ms/step - loss: 0.0014 - val_loss: 0.0152\n",
      "Epoch 62/120\n",
      "960/960 [==============================] - 46s 48ms/step - loss: 0.0014 - val_loss: 0.0155\n",
      "Epoch 63/120\n",
      "960/960 [==============================] - 46s 48ms/step - loss: 0.0014 - val_loss: 0.0153\n",
      "Epoch 64/120\n",
      "960/960 [==============================] - 46s 48ms/step - loss: 0.0014 - val_loss: 0.0151\n",
      "Epoch 65/120\n",
      "960/960 [==============================] - 47s 48ms/step - loss: 0.0014 - val_loss: 0.0160\n",
      "Epoch 66/120\n",
      "960/960 [==============================] - 47s 49ms/step - loss: 0.0013 - val_loss: 0.0148\n",
      "Epoch 67/120\n",
      "960/960 [==============================] - 46s 48ms/step - loss: 0.0013 - val_loss: 0.0152\n",
      "Epoch 68/120\n",
      "960/960 [==============================] - 46s 48ms/step - loss: 0.0013 - val_loss: 0.0152\n",
      "Epoch 69/120\n",
      "960/960 [==============================] - 46s 48ms/step - loss: 0.0014 - val_loss: 0.0153\n",
      "Epoch 70/120\n",
      "960/960 [==============================] - 46s 48ms/step - loss: 0.0013 - val_loss: 0.0156\n",
      "Epoch 71/120\n",
      "960/960 [==============================] - 46s 48ms/step - loss: 0.0013 - val_loss: 0.0153\n",
      "Epoch 72/120\n",
      "960/960 [==============================] - 46s 47ms/step - loss: 0.0013 - val_loss: 0.0152\n",
      "Epoch 73/120\n",
      "960/960 [==============================] - 46s 48ms/step - loss: 0.0013 - val_loss: 0.0154\n",
      "Epoch 74/120\n",
      "960/960 [==============================] - 46s 48ms/step - loss: 0.0013 - val_loss: 0.0157\n",
      "Epoch 75/120\n",
      "960/960 [==============================] - 45s 47ms/step - loss: 0.0012 - val_loss: 0.0153\n",
      "Epoch 76/120\n",
      "960/960 [==============================] - 46s 48ms/step - loss: 0.0012 - val_loss: 0.0153\n",
      "Epoch 77/120\n",
      "960/960 [==============================] - 44s 46ms/step - loss: 0.0012 - val_loss: 0.0156\n",
      "Epoch 78/120\n",
      "960/960 [==============================] - 45s 47ms/step - loss: 0.0013 - val_loss: 0.0152\n",
      "Epoch 79/120\n",
      "960/960 [==============================] - 46s 48ms/step - loss: 0.0012 - val_loss: 0.0155\n"
     ]
    },
    {
     "name": "stdout",
     "output_type": "stream",
     "text": [
      "Epoch 80/120\n",
      "960/960 [==============================] - 46s 48ms/step - loss: 0.0012 - val_loss: 0.0153\n",
      "Epoch 81/120\n",
      "960/960 [==============================] - 46s 48ms/step - loss: 0.0012 - val_loss: 0.0152\n",
      "Epoch 82/120\n",
      "960/960 [==============================] - 45s 47ms/step - loss: 0.0012 - val_loss: 0.0169\n",
      "Epoch 83/120\n",
      "960/960 [==============================] - 46s 48ms/step - loss: 0.0012 - val_loss: 0.0152\n",
      "Epoch 84/120\n",
      "960/960 [==============================] - 46s 48ms/step - loss: 0.0012 - val_loss: 0.0154\n",
      "Epoch 85/120\n",
      "960/960 [==============================] - 46s 48ms/step - loss: 0.0012 - val_loss: 0.0155\n",
      "Epoch 86/120\n",
      "960/960 [==============================] - 46s 48ms/step - loss: 0.0012 - val_loss: 0.0157\n",
      "Epoch 87/120\n",
      "960/960 [==============================] - 46s 48ms/step - loss: 0.0012 - val_loss: 0.0156\n",
      "Epoch 88/120\n",
      "960/960 [==============================] - 46s 48ms/step - loss: 0.0013 - val_loss: 0.0152\n",
      "Epoch 89/120\n",
      "960/960 [==============================] - 46s 47ms/step - loss: 0.0012 - val_loss: 0.0153\n",
      "Epoch 90/120\n",
      "960/960 [==============================] - 46s 47ms/step - loss: 0.0011 - val_loss: 0.0154\n",
      "Epoch 91/120\n",
      "960/960 [==============================] - 45s 47ms/step - loss: 0.0012 - val_loss: 0.0156\n",
      "Epoch 92/120\n",
      "960/960 [==============================] - 45s 47ms/step - loss: 0.0012 - val_loss: 0.0153\n",
      "Epoch 93/120\n",
      "960/960 [==============================] - 46s 48ms/step - loss: 0.0011 - val_loss: 0.0153\n",
      "Epoch 94/120\n",
      "960/960 [==============================] - 45s 47ms/step - loss: 0.0012 - val_loss: 0.0152\n",
      "Epoch 95/120\n",
      "960/960 [==============================] - 46s 48ms/step - loss: 0.0012 - val_loss: 0.0159\n",
      "Epoch 96/120\n",
      "960/960 [==============================] - 46s 48ms/step - loss: 0.0011 - val_loss: 0.0153\n",
      "Epoch 97/120\n",
      "960/960 [==============================] - 46s 48ms/step - loss: 0.0011 - val_loss: 0.0153\n",
      "Epoch 98/120\n",
      "960/960 [==============================] - 46s 48ms/step - loss: 0.0011 - val_loss: 0.0154\n",
      "Epoch 99/120\n",
      "960/960 [==============================] - 46s 48ms/step - loss: 0.0011 - val_loss: 0.0155\n",
      "Epoch 100/120\n",
      "960/960 [==============================] - 46s 48ms/step - loss: 0.0011 - val_loss: 0.0158\n",
      "Epoch 101/120\n",
      "960/960 [==============================] - 46s 48ms/step - loss: 0.0012 - val_loss: 0.0156\n",
      "Epoch 102/120\n",
      "960/960 [==============================] - 45s 47ms/step - loss: 0.0012 - val_loss: 0.0156\n",
      "Epoch 103/120\n",
      "960/960 [==============================] - 45s 47ms/step - loss: 0.0011 - val_loss: 0.0159\n",
      "Epoch 104/120\n",
      "960/960 [==============================] - 45s 47ms/step - loss: 0.0011 - val_loss: 0.0155\n",
      "Epoch 105/120\n",
      "960/960 [==============================] - 46s 48ms/step - loss: 0.0011 - val_loss: 0.0154\n",
      "Epoch 106/120\n",
      "960/960 [==============================] - 47s 49ms/step - loss: 0.0011 - val_loss: 0.0154\n",
      "Epoch 107/120\n",
      "960/960 [==============================] - 47s 49ms/step - loss: 0.0011 - val_loss: 0.0153\n",
      "Epoch 108/120\n",
      "960/960 [==============================] - 47s 49ms/step - loss: 0.0011 - val_loss: 0.0158\n",
      "Epoch 109/120\n",
      "960/960 [==============================] - 47s 49ms/step - loss: 0.0012 - val_loss: 0.0152\n",
      "Epoch 110/120\n",
      "960/960 [==============================] - 46s 48ms/step - loss: 0.0011 - val_loss: 0.0153\n",
      "Epoch 111/120\n",
      "960/960 [==============================] - 46s 48ms/step - loss: 0.0011 - val_loss: 0.0154\n",
      "Epoch 112/120\n",
      "960/960 [==============================] - 46s 48ms/step - loss: 0.0011 - val_loss: 0.0161\n",
      "Epoch 113/120\n",
      "960/960 [==============================] - 46s 48ms/step - loss: 0.0011 - val_loss: 0.0153\n",
      "Epoch 114/120\n",
      "960/960 [==============================] - 46s 48ms/step - loss: 0.0011 - val_loss: 0.0155\n",
      "Epoch 115/120\n",
      "960/960 [==============================] - 45s 47ms/step - loss: 0.0011 - val_loss: 0.0157\n",
      "Epoch 116/120\n",
      "960/960 [==============================] - 45s 47ms/step - loss: 0.0011 - val_loss: 0.0176\n",
      "Epoch 117/120\n",
      "960/960 [==============================] - 45s 47ms/step - loss: 0.0011 - val_loss: 0.0155\n",
      "Epoch 118/120\n",
      "960/960 [==============================] - 45s 47ms/step - loss: 9.9217e-04 - val_loss: 0.0154\n",
      "Epoch 119/120\n",
      "960/960 [==============================] - 45s 47ms/step - loss: 0.0011 - val_loss: 0.0155\n",
      "Epoch 120/120\n",
      "960/960 [==============================] - 46s 47ms/step - loss: 0.0010 - val_loss: 0.0153\n"
     ]
    },
    {
     "data": {
      "text/plain": [
       "<tensorflow.python.keras.callbacks.History at 0x7fd9f4b1b750>"
      ]
     },
     "execution_count": 23,
     "metadata": {},
     "output_type": "execute_result"
    }
   ],
   "source": [
    "RNNmodel.fit(X_train, y_train, validation_split=0.2, epochs=120, batch_size=32)"
   ]
  },
  {
   "cell_type": "code",
   "execution_count": 24,
   "id": "c24d8a0e",
   "metadata": {},
   "outputs": [],
   "source": [
    "filepath = 'Binary_IP_RNN_1024_bit_full.model'\n",
    "save_model(RNNmodel, filepath, save_format='h5')"
   ]
  },
  {
   "cell_type": "code",
   "execution_count": 25,
   "id": "e47128ba",
   "metadata": {},
   "outputs": [
    {
     "name": "stdout",
     "output_type": "stream",
     "text": [
      "model performance (EA)\n",
      "Train set R^2: 0.98\n",
      "Train MAE score: 0.03\n",
      "Train RMSE score: 0.06\n",
      "Test set R^2: 0.94\n",
      "Test MAE score: 0.08\n",
      "Test RMSE score: 0.12\n"
     ]
    }
   ],
   "source": [
    "# model evaluation\n",
    "print(\"model performance (EA)\")\n",
    "y_pred_train = RNNmodel.predict((X_train))\n",
    "print(\"Train set R^2: %.2f\" % r2_score(y_train, y_pred_train))\n",
    "print(\"Train MAE score: %.2f\" % mean_absolute_error(y_train, y_pred_train))\n",
    "print(\"Train RMSE score: %.2f\" % np.sqrt(mean_squared_error(y_train, y_pred_train)))\n",
    "y_pred_test = RNNmodel.predict((X_test))\n",
    "print(\"Test set R^2: %.2f\" % r2_score(y_test, y_pred_test))\n",
    "print(\"Test MAE score: %.2f\" % mean_absolute_error(y_test, y_pred_test))\n",
    "print(\"Test RMSE score: %.2f\" % np.sqrt(mean_squared_error(y_test, y_pred_test)))"
   ]
  },
  {
   "cell_type": "code",
   "execution_count": 26,
   "id": "58280e65",
   "metadata": {},
   "outputs": [],
   "source": [
    "y_pred_test = y_pred_test.ravel()"
   ]
  },
  {
   "cell_type": "code",
   "execution_count": 29,
   "id": "367f97b0",
   "metadata": {},
   "outputs": [
    {
     "data": {
      "image/png": "[encoded data removed]",
      "text/plain": [
       "<Figure size 432x288 with 1 Axes>"
      ]
     },
     "metadata": {
      "needs_background": "light"
     },
     "output_type": "display_data"
    }
   ],
   "source": [
    "plt.scatter(y_pred_test, y_test, alpha=0.5)\n",
    "\n",
    "\n",
    "r2 = r2_score(y_test, y_pred_test)\n",
    "rmse = np.sqrt(mean_squared_error(y_test, y_pred_test))\n",
    "\n",
    "\n",
    "plt.text(0.1, 0.9, \"R2 = {:.2f}\".format(r2), transform=plt.gca().transAxes)\n",
    "plt.text(0.1, 0.85, \"RMSE = {:.2f}\".format(rmse), transform=plt.gca().transAxes)\n",
    "\n",
    "m, b = np.polyfit(y_pred_test, y_test, 1)\n",
    "plt.plot(y_pred_test, m*y_pred_test + b, color='red')\n",
    "\n",
    "\n",
    "plt.xlabel(\"Predicted EA\")\n",
    "plt.ylabel(\"Actual EA\")\n",
    "plt.title(\"Actual vs. Predicted EA\")\n",
    "\n",
    "plt.show()"
   ]
  },
  {
   "cell_type": "code",
   "execution_count": null,
   "id": "736d0aaf",
   "metadata": {},
   "outputs": [],
   "source": []
  },
  {
   "cell_type": "code",
   "execution_count": null,
   "id": "6e2927bc",
   "metadata": {},
   "outputs": [],
   "source": [
    "\n"
   ]
  }
 ],
 "metadata": {
  "kernelspec": {
   "display_name": "Python [conda env:.conda-figo] *",
   "language": "python",
   "name": "conda-env-.conda-figo-py"
  },
  "language_info": {
   "codemirror_mode": {
    "name": "ipython",
    "version": 3
   },
   "file_extension": ".py",
   "mimetype": "text/x-python",
   "name": "python",
   "nbconvert_exporter": "python",
   "pygments_lexer": "ipython3",
   "version": "3.7.13"
  }
 },
 "nbformat": 4,
 "nbformat_minor": 5
}
