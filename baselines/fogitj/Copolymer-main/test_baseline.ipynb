{
 "cells": [
  {
   "cell_type": "code",
   "execution_count": 1,
   "metadata": {},
   "outputs": [
    {
     "name": "stdout",
     "output_type": "stream",
     "text": [
      "/home/zmao_umass_edu/baselines/Copolymer\n"
     ]
    }
   ],
   "source": [
    "%cd \"baselines/Copolymer\""
   ]
  },
  {
   "cell_type": "code",
   "execution_count": 2,
   "metadata": {
    "colab": {
     "base_uri": "https://localhost:8080/"
    },
    "executionInfo": {
     "elapsed": 4037,
     "status": "ok",
     "timestamp": 1677967058337,
     "user": {
      "displayName": "Mao Tim",
      "userId": "10158930274252295750"
     },
     "user_tz": 300
    },
    "id": "jPHzNWujTxIh",
    "outputId": "a41c91ca-e7fb-48c6-c980-669f7210a515"
   },
   "outputs": [
    {
     "name": "stderr",
     "output_type": "stream",
     "text": [
      "2023-03-05 00:59:37.090755: W tensorflow/stream_executor/platform/default/dso_loader.cc:59] Could not load dynamic library 'libcudart.so.10.1'; dlerror: libcudart.so.10.1: cannot open shared object file: No such file or directory; LD_LIBRARY_PATH: /modules/apps/julia/1.7.2/lib\n",
      "2023-03-05 00:59:37.090854: I tensorflow/stream_executor/cuda/cudart_stub.cc:29] Ignore above cudart dlerror if you do not have a GPU set up on your machine.\n",
      "Using TensorFlow backend.\n"
     ]
    }
   ],
   "source": [
    "import pandas as pd\n",
    "import numpy as np\n",
    "import pickle\n",
    "\n",
    "import rdkit\n",
    "from rdkit import Chem\n",
    "from rdkit.Chem import AllChem\n",
    "from rdkit.Chem import Descriptors\n",
    "from rdkit.Chem import rdMolDescriptors\n",
    "from rdkit.Chem.Draw import IPythonConsole\n",
    "from rdkit.Chem import Draw\n",
    "from rdkit.Chem.Draw import rdMolDraw2D\n",
    "import keras_tuner as kt\n",
    "from keras_tuner.tuners import RandomSearch\n",
    "from keras_tuner.engine.hyperparameters import HyperParameters\n",
    "from tensorflow.keras.models import Sequential, save_model, load_model\n",
    "from tensorflow.keras.optimizers import Adam\n",
    "from tensorflow import keras\n",
    "from tensorflow.keras.layers import Conv2D, MaxPooling2D, Conv1D, MaxPooling1D, Dense, Flatten, Activation, ZeroPadding2D\n",
    "from tensorflow.keras.layers import LSTM, Embedding, Bidirectional, TimeDistributed, Reshape, Dropout\n",
    "from tensorflow.keras.preprocessing.text import one_hot\n",
    "from tensorflow.keras.preprocessing.sequence import pad_sequences\n",
    "import time\n",
    "from sklearn.metrics import r2_score, mean_squared_error, mean_absolute_error\n",
    "from sklearn.metrics import mean_absolute_error, r2_score\n",
    "from sklearn.model_selection import train_test_split\n",
    "import random\n",
    "from numpy.random import seed\n",
    "import tensorflow\n",
    "from keras.layers import Input\n",
    "from keras.models import Model\n",
    "from keras.layers import Concatenate\n",
    "import argparse\n",
    "import os\n"
   ]
  },
  {
   "cell_type": "code",
   "execution_count": 3,
   "metadata": {
    "executionInfo": {
     "elapsed": 11916,
     "status": "ok",
     "timestamp": 1677967081975,
     "user": {
      "displayName": "Mao Tim",
      "userId": "10158930274252295750"
     },
     "user_tz": 300
    },
    "id": "2K_xHylEU0Gt"
   },
   "outputs": [],
   "source": [
    "#read in the reference data\n",
    "DF = pd.read_csv('datasets/Dataset 1.csv') #to be comparable with the size of other datasets, select ~5000 data points from the reference\n",
    "DF['TRIMER_mol'] = DF['TRIMER'].apply(Chem.MolFromSmiles)\n",
    "DF = DF.dropna()\n",
    "DF = DF.head(1000)"
   ]
  },
  {
   "cell_type": "code",
   "execution_count": 5,
   "metadata": {
    "colab": {
     "base_uri": "https://localhost:8080/",
     "height": 676
    },
    "executionInfo": {
     "elapsed": 5,
     "status": "ok",
     "timestamp": 1677967084736,
     "user": {
      "displayName": "Mao Tim",
      "userId": "10158930274252295750"
     },
     "user_tz": 300
    },
    "id": "3jTS0Cc2zC96",
    "outputId": "67498f2b-4751-4044-f2fb-5fb34a2423a1"
   },
   "outputs": [
    {
     "data": {
      "text/html": [
       "\n",
       "  <div id=\"df-8c5c43a2-ecef-4286-b186-1074010ce593\">\n",
       "    <div class=\"colab-df-container\">\n",
       "      <div>\n",
       "<style scoped>\n",
       "    .dataframe tbody tr th:only-of-type {\n",
       "        vertical-align: middle;\n",
       "    }\n",
       "\n",
       "    .dataframe tbody tr th {\n",
       "        vertical-align: top;\n",
       "    }\n",
       "\n",
       "    .dataframe thead th {\n",
       "        text-align: right;\n",
       "    }\n",
       "</style>\n",
       "<table border=\"1\" class=\"dataframe\">\n",
       "  <thead>\n",
       "    <tr style=\"text-align: right;\">\n",
       "      <th></th>\n",
       "      <th>TRIMER</th>\n",
       "      <th>Excitation Energy (eV)</th>\n",
       "      <th>IP (eV)</th>\n",
       "      <th>EA (eV)</th>\n",
       "      <th>Calib. IP (eV)</th>\n",
       "      <th>Calib. EA (eV)</th>\n",
       "      <th>Calib. Excitation Energy (eV)</th>\n",
       "      <th>TRIMER_mol</th>\n",
       "    </tr>\n",
       "  </thead>\n",
       "  <tbody>\n",
       "    <tr>\n",
       "      <th>0</th>\n",
       "      <td>[H]C1=C([H])C(C2C([H])=C(F)C(=C([H])C=2Cl)C2=C...</td>\n",
       "      <td>3.40548</td>\n",
       "      <td>6.352397</td>\n",
       "      <td>1.481368</td>\n",
       "      <td>6.330281</td>\n",
       "      <td>0.668059</td>\n",
       "      <td>3.371348</td>\n",
       "      <td>&lt;rdkit.Chem.rdchem.Mol object at 0x7f4a2bea1520&gt;</td>\n",
       "    </tr>\n",
       "    <tr>\n",
       "      <th>1</th>\n",
       "      <td>[H]C1=C([H])C(C2=C([H])C(Cl)=C(C([H])=C2F)C2=C...</td>\n",
       "      <td>3.36813</td>\n",
       "      <td>6.319819</td>\n",
       "      <td>1.484588</td>\n",
       "      <td>6.300635</td>\n",
       "      <td>0.671021</td>\n",
       "      <td>3.340348</td>\n",
       "      <td>&lt;rdkit.Chem.rdchem.Mol object at 0x7f4a2bea1640&gt;</td>\n",
       "    </tr>\n",
       "    <tr>\n",
       "      <th>2</th>\n",
       "      <td>[H]C1=NC(C#N)=C(C2C([H])=C3C(=O)C(=O)N([H])C3=...</td>\n",
       "      <td>1.88575</td>\n",
       "      <td>6.585175</td>\n",
       "      <td>3.063124</td>\n",
       "      <td>6.542109</td>\n",
       "      <td>2.123274</td>\n",
       "      <td>2.109973</td>\n",
       "      <td>&lt;rdkit.Chem.rdchem.Mol object at 0x7f4a2bea1820&gt;</td>\n",
       "    </tr>\n",
       "    <tr>\n",
       "      <th>3</th>\n",
       "      <td>[H]C1=NC(C#N)=C(C2C([H])=C(C3=NC(C#N)=C([H])N3...</td>\n",
       "      <td>1.86334</td>\n",
       "      <td>6.608289</td>\n",
       "      <td>3.064964</td>\n",
       "      <td>6.563143</td>\n",
       "      <td>2.124967</td>\n",
       "      <td>2.091372</td>\n",
       "      <td>&lt;rdkit.Chem.rdchem.Mol object at 0x7f4a2bea15e0&gt;</td>\n",
       "    </tr>\n",
       "    <tr>\n",
       "      <th>4</th>\n",
       "      <td>[H]C(=O)C1=C([H])C(C2N=C([H])C3=C([H])C([H])=C...</td>\n",
       "      <td>2.84523</td>\n",
       "      <td>6.694830</td>\n",
       "      <td>2.420412</td>\n",
       "      <td>6.641895</td>\n",
       "      <td>1.531979</td>\n",
       "      <td>2.906341</td>\n",
       "      <td>&lt;rdkit.Chem.rdchem.Mol object at 0x7f4a2bea1700&gt;</td>\n",
       "    </tr>\n",
       "    <tr>\n",
       "      <th>...</th>\n",
       "      <td>...</td>\n",
       "      <td>...</td>\n",
       "      <td>...</td>\n",
       "      <td>...</td>\n",
       "      <td>...</td>\n",
       "      <td>...</td>\n",
       "      <td>...</td>\n",
       "      <td>...</td>\n",
       "    </tr>\n",
       "    <tr>\n",
       "      <th>995</th>\n",
       "      <td>[H]C1=C([H])C(C2N=C(C([H])=C(C=2[N+](=O)[O-])N...</td>\n",
       "      <td>2.52153</td>\n",
       "      <td>6.653971</td>\n",
       "      <td>2.612692</td>\n",
       "      <td>6.604714</td>\n",
       "      <td>1.708877</td>\n",
       "      <td>2.637670</td>\n",
       "      <td>&lt;rdkit.Chem.rdchem.Mol object at 0x7f4a2d229400&gt;</td>\n",
       "    </tr>\n",
       "    <tr>\n",
       "      <th>996</th>\n",
       "      <td>[H]C1=NC(=C([H])C2=C([H])C([H])=C([H])C([H])=C...</td>\n",
       "      <td>2.85851</td>\n",
       "      <td>5.949540</td>\n",
       "      <td>1.779540</td>\n",
       "      <td>5.963681</td>\n",
       "      <td>0.942377</td>\n",
       "      <td>2.917363</td>\n",
       "      <td>&lt;rdkit.Chem.rdchem.Mol object at 0x7f4a2d229460&gt;</td>\n",
       "    </tr>\n",
       "    <tr>\n",
       "      <th>997</th>\n",
       "      <td>[H]C1=NC(=C([H])C2=C([H])C([H])=C([H])C([H])=C...</td>\n",
       "      <td>2.94566</td>\n",
       "      <td>5.930066</td>\n",
       "      <td>1.716796</td>\n",
       "      <td>5.945960</td>\n",
       "      <td>0.884652</td>\n",
       "      <td>2.989698</td>\n",
       "      <td>&lt;rdkit.Chem.rdchem.Mol object at 0x7f4a2d2294c0&gt;</td>\n",
       "    </tr>\n",
       "    <tr>\n",
       "      <th>998</th>\n",
       "      <td>[H]C1N=C(N=C(C=1C1C(=C([H])C([H])=C(C=1C([H])(...</td>\n",
       "      <td>2.95064</td>\n",
       "      <td>5.897488</td>\n",
       "      <td>1.490384</td>\n",
       "      <td>5.916314</td>\n",
       "      <td>0.676353</td>\n",
       "      <td>2.993831</td>\n",
       "      <td>&lt;rdkit.Chem.rdchem.Mol object at 0x7f4a2d229520&gt;</td>\n",
       "    </tr>\n",
       "    <tr>\n",
       "      <th>999</th>\n",
       "      <td>[H]C1N=C(N=C(C=1C1C([H])=C(C(=C([H])C=1N([H])[...</td>\n",
       "      <td>2.82531</td>\n",
       "      <td>5.886386</td>\n",
       "      <td>1.513384</td>\n",
       "      <td>5.906211</td>\n",
       "      <td>0.697513</td>\n",
       "      <td>2.889807</td>\n",
       "      <td>&lt;rdkit.Chem.rdchem.Mol object at 0x7f4a2d229580&gt;</td>\n",
       "    </tr>\n",
       "  </tbody>\n",
       "</table>\n",
       "<p>1000 rows × 8 columns</p>\n",
       "</div>\n",
       "      <button class=\"colab-df-convert\" onclick=\"convertToInteractive('df-8c5c43a2-ecef-4286-b186-1074010ce593')\"\n",
       "              title=\"Convert this dataframe to an interactive table.\"\n",
       "              style=\"display:none;\">\n",
       "        \n",
       "  <svg xmlns=\"http://www.w3.org/2000/svg\" height=\"24px\"viewBox=\"0 0 24 24\"\n",
       "       width=\"24px\">\n",
       "    <path d=\"M0 0h24v24H0V0z\" fill=\"none\"/>\n",
       "    <path d=\"M18.56 5.44l.94 2.06.94-2.06 2.06-.94-2.06-.94-.94-2.06-.94 2.06-2.06.94zm-11 1L8.5 8.5l.94-2.06 2.06-.94-2.06-.94L8.5 2.5l-.94 2.06-2.06.94zm10 10l.94 2.06.94-2.06 2.06-.94-2.06-.94-.94-2.06-.94 2.06-2.06.94z\"/><path d=\"M17.41 7.96l-1.37-1.37c-.4-.4-.92-.59-1.43-.59-.52 0-1.04.2-1.43.59L10.3 9.45l-7.72 7.72c-.78.78-.78 2.05 0 2.83L4 21.41c.39.39.9.59 1.41.59.51 0 1.02-.2 1.41-.59l7.78-7.78 2.81-2.81c.8-.78.8-2.07 0-2.86zM5.41 20L4 18.59l7.72-7.72 1.47 1.35L5.41 20z\"/>\n",
       "  </svg>\n",
       "      </button>\n",
       "      \n",
       "  <style>\n",
       "    .colab-df-container {\n",
       "      display:flex;\n",
       "      flex-wrap:wrap;\n",
       "      gap: 12px;\n",
       "    }\n",
       "\n",
       "    .colab-df-convert {\n",
       "      background-color: #E8F0FE;\n",
       "      border: none;\n",
       "      border-radius: 50%;\n",
       "      cursor: pointer;\n",
       "      display: none;\n",
       "      fill: #1967D2;\n",
       "      height: 32px;\n",
       "      padding: 0 0 0 0;\n",
       "      width: 32px;\n",
       "    }\n",
       "\n",
       "    .colab-df-convert:hover {\n",
       "      background-color: #E2EBFA;\n",
       "      box-shadow: 0px 1px 2px rgba(60, 64, 67, 0.3), 0px 1px 3px 1px rgba(60, 64, 67, 0.15);\n",
       "      fill: #174EA6;\n",
       "    }\n",
       "\n",
       "    [theme=dark] .colab-df-convert {\n",
       "      background-color: #3B4455;\n",
       "      fill: #D2E3FC;\n",
       "    }\n",
       "\n",
       "    [theme=dark] .colab-df-convert:hover {\n",
       "      background-color: #434B5C;\n",
       "      box-shadow: 0px 1px 3px 1px rgba(0, 0, 0, 0.15);\n",
       "      filter: drop-shadow(0px 1px 2px rgba(0, 0, 0, 0.3));\n",
       "      fill: #FFFFFF;\n",
       "    }\n",
       "  </style>\n",
       "\n",
       "      <script>\n",
       "        const buttonEl =\n",
       "          document.querySelector('#df-8c5c43a2-ecef-4286-b186-1074010ce593 button.colab-df-convert');\n",
       "        buttonEl.style.display =\n",
       "          google.colab.kernel.accessAllowed ? 'block' : 'none';\n",
       "\n",
       "        async function convertToInteractive(key) {\n",
       "          const element = document.querySelector('#df-8c5c43a2-ecef-4286-b186-1074010ce593');\n",
       "          const dataTable =\n",
       "            await google.colab.kernel.invokeFunction('convertToInteractive',\n",
       "                                                     [key], {});\n",
       "          if (!dataTable) return;\n",
       "\n",
       "          const docLinkHtml = 'Like what you see? Visit the ' +\n",
       "            '<a target=\"_blank\" href=https://colab.research.google.com/notebooks/data_table.ipynb>data table notebook</a>'\n",
       "            + ' to learn more about interactive tables.';\n",
       "          element.innerHTML = '';\n",
       "          dataTable['output_type'] = 'display_data';\n",
       "          await google.colab.output.renderOutput(dataTable, element);\n",
       "          const docLink = document.createElement('div');\n",
       "          docLink.innerHTML = docLinkHtml;\n",
       "          element.appendChild(docLink);\n",
       "        }\n",
       "      </script>\n",
       "    </div>\n",
       "  </div>\n",
       "  "
      ],
      "text/plain": [
       "                                                TRIMER  \\\n",
       "0    [H]C1=C([H])C(C2C([H])=C(F)C(=C([H])C=2Cl)C2=C...   \n",
       "1    [H]C1=C([H])C(C2=C([H])C(Cl)=C(C([H])=C2F)C2=C...   \n",
       "2    [H]C1=NC(C#N)=C(C2C([H])=C3C(=O)C(=O)N([H])C3=...   \n",
       "3    [H]C1=NC(C#N)=C(C2C([H])=C(C3=NC(C#N)=C([H])N3...   \n",
       "4    [H]C(=O)C1=C([H])C(C2N=C([H])C3=C([H])C([H])=C...   \n",
       "..                                                 ...   \n",
       "995  [H]C1=C([H])C(C2N=C(C([H])=C(C=2[N+](=O)[O-])N...   \n",
       "996  [H]C1=NC(=C([H])C2=C([H])C([H])=C([H])C([H])=C...   \n",
       "997  [H]C1=NC(=C([H])C2=C([H])C([H])=C([H])C([H])=C...   \n",
       "998  [H]C1N=C(N=C(C=1C1C(=C([H])C([H])=C(C=1C([H])(...   \n",
       "999  [H]C1N=C(N=C(C=1C1C([H])=C(C(=C([H])C=1N([H])[...   \n",
       "\n",
       "     Excitation Energy (eV)   IP (eV)   EA (eV)  Calib. IP (eV)  \\\n",
       "0                   3.40548  6.352397  1.481368        6.330281   \n",
       "1                   3.36813  6.319819  1.484588        6.300635   \n",
       "2                   1.88575  6.585175  3.063124        6.542109   \n",
       "3                   1.86334  6.608289  3.064964        6.563143   \n",
       "4                   2.84523  6.694830  2.420412        6.641895   \n",
       "..                      ...       ...       ...             ...   \n",
       "995                 2.52153  6.653971  2.612692        6.604714   \n",
       "996                 2.85851  5.949540  1.779540        5.963681   \n",
       "997                 2.94566  5.930066  1.716796        5.945960   \n",
       "998                 2.95064  5.897488  1.490384        5.916314   \n",
       "999                 2.82531  5.886386  1.513384        5.906211   \n",
       "\n",
       "     Calib. EA (eV)  Calib. Excitation Energy (eV)  \\\n",
       "0          0.668059                       3.371348   \n",
       "1          0.671021                       3.340348   \n",
       "2          2.123274                       2.109973   \n",
       "3          2.124967                       2.091372   \n",
       "4          1.531979                       2.906341   \n",
       "..              ...                            ...   \n",
       "995        1.708877                       2.637670   \n",
       "996        0.942377                       2.917363   \n",
       "997        0.884652                       2.989698   \n",
       "998        0.676353                       2.993831   \n",
       "999        0.697513                       2.889807   \n",
       "\n",
       "                                           TRIMER_mol  \n",
       "0    <rdkit.Chem.rdchem.Mol object at 0x7f4a2bea1520>  \n",
       "1    <rdkit.Chem.rdchem.Mol object at 0x7f4a2bea1640>  \n",
       "2    <rdkit.Chem.rdchem.Mol object at 0x7f4a2bea1820>  \n",
       "3    <rdkit.Chem.rdchem.Mol object at 0x7f4a2bea15e0>  \n",
       "4    <rdkit.Chem.rdchem.Mol object at 0x7f4a2bea1700>  \n",
       "..                                                ...  \n",
       "995  <rdkit.Chem.rdchem.Mol object at 0x7f4a2d229400>  \n",
       "996  <rdkit.Chem.rdchem.Mol object at 0x7f4a2d229460>  \n",
       "997  <rdkit.Chem.rdchem.Mol object at 0x7f4a2d2294c0>  \n",
       "998  <rdkit.Chem.rdchem.Mol object at 0x7f4a2d229520>  \n",
       "999  <rdkit.Chem.rdchem.Mol object at 0x7f4a2d229580>  \n",
       "\n",
       "[1000 rows x 8 columns]"
      ]
     },
     "execution_count": 5,
     "metadata": {},
     "output_type": "execute_result"
    }
   ],
   "source": [
    "DF"
   ]
  },
  {
   "cell_type": "code",
   "execution_count": 6,
   "metadata": {
    "colab": {
     "base_uri": "https://localhost:8080/"
    },
    "executionInfo": {
     "elapsed": 4,
     "status": "ok",
     "timestamp": 1677967087371,
     "user": {
      "displayName": "Mao Tim",
      "userId": "10158930274252295750"
     },
     "user_tz": 300
    },
    "id": "HRckokDSxSUR",
    "outputId": "753bc806-09c2-4d45-a69f-61ee71a9b1fc"
   },
   "outputs": [
    {
     "data": {
      "text/plain": [
       "28"
      ]
     },
     "execution_count": 6,
     "metadata": {},
     "output_type": "execute_result"
    }
   ],
   "source": [
    "mol1 = DF.loc[0][\"TRIMER_mol\"]\n",
    "mol1.GetNumAtoms()"
   ]
  },
  {
   "cell_type": "code",
   "execution_count": 7,
   "metadata": {
    "colab": {
     "base_uri": "https://localhost:8080/"
    },
    "executionInfo": {
     "elapsed": 4,
     "status": "ok",
     "timestamp": 1677967087372,
     "user": {
      "displayName": "Mao Tim",
      "userId": "10158930274252295750"
     },
     "user_tz": 300
    },
    "id": "D9snhP25ytmT",
    "outputId": "cbbb8c0f-a8a1-42e5-c740-addca2188389"
   },
   "outputs": [
    {
     "data": {
      "text/plain": [
       "32"
      ]
     },
     "execution_count": 7,
     "metadata": {},
     "output_type": "execute_result"
    }
   ],
   "source": [
    "mol1.GetNumBonds()"
   ]
  },
  {
   "cell_type": "code",
   "execution_count": 8,
   "metadata": {
    "colab": {
     "base_uri": "https://localhost:8080/",
     "height": 167
    },
    "executionInfo": {
     "elapsed": 4,
     "status": "ok",
     "timestamp": 1677967088262,
     "user": {
      "displayName": "Mao Tim",
      "userId": "10158930274252295750"
     },
     "user_tz": 300
    },
    "id": "ciowTwg71ZKQ",
    "outputId": "5dd03dce-b25e-471c-8897-a619d2281802"
   },
   "outputs": [
    {
     "data": {
      "image/png": "[encoded data removed]",
      "text/plain": [
       "<rdkit.Chem.rdchem.Mol at 0x7f4a2bea1520>"
      ]
     },
     "execution_count": 8,
     "metadata": {},
     "output_type": "execute_result"
    }
   ],
   "source": [
    "mol1"
   ]
  },
  {
   "cell_type": "code",
   "execution_count": 9,
   "metadata": {
    "colab": {
     "base_uri": "https://localhost:8080/",
     "height": 167
    },
    "executionInfo": {
     "elapsed": 3,
     "status": "ok",
     "timestamp": 1677967089421,
     "user": {
      "displayName": "Mao Tim",
      "userId": "10158930274252295750"
     },
     "user_tz": 300
    },
    "id": "MlgR35nC2NxC",
    "outputId": "e19cc36f-37ee-480c-89af-72818d60e0d6"
   },
   "outputs": [
    {
     "data": {
      "image/png": "[encoded data removed]",
      "text/plain": [
       "<rdkit.Chem.rdchem.Mol at 0x7f4a2cc1d100>"
      ]
     },
     "execution_count": 9,
     "metadata": {},
     "output_type": "execute_result"
    }
   ],
   "source": [
    "Chem.AddHs(mol1)"
   ]
  },
  {
   "cell_type": "code",
   "execution_count": 10,
   "metadata": {
    "executionInfo": {
     "elapsed": 2,
     "status": "ok",
     "timestamp": 1677967091789,
     "user": {
      "displayName": "Mao Tim",
      "userId": "10158930274252295750"
     },
     "user_tz": 300
    },
    "id": "9q20Zqnp255S"
   },
   "outputs": [],
   "source": [
    "from rdkit.Chem import PandasTools\n",
    "DF_small = DF.head().copy()\n",
    "PandasTools.AddMoleculeColumnToFrame(DF_small, smilesCol = 'TRIMER', molCol = 'TRIMER_mol')"
   ]
  },
  {
   "cell_type": "code",
   "execution_count": 11,
   "metadata": {
    "colab": {
     "base_uri": "https://localhost:8080/",
     "height": 1000
    },
    "executionInfo": {
     "elapsed": 555,
     "status": "ok",
     "timestamp": 1677967095138,
     "user": {
      "displayName": "Mao Tim",
      "userId": "10158930274252295750"
     },
     "user_tz": 300
    },
    "id": "jE2pLnOC3gBQ",
    "outputId": "f4dc4017-7b91-4519-9562-aa9e78e7f1e5"
   },
   "outputs": [
    {
     "data": {
      "text/html": [
       "\n",
       "  <div id=\"df-5bb8adda-d731-4155-89ea-8c53d4c41145\">\n",
       "    <div class=\"colab-df-container\">\n",
       "      <div>\n",
       "<style scoped>\n",
       "    .dataframe tbody tr th:only-of-type {\n",
       "        vertical-align: middle;\n",
       "    }\n",
       "\n",
       "    .dataframe tbody tr th {\n",
       "        vertical-align: top;\n",
       "    }\n",
       "\n",
       "    .dataframe thead th {\n",
       "        text-align: right;\n",
       "    }\n",
       "</style>\n",
       "<table border=\"1\" class=\"dataframe\">\n",
       "  <thead>\n",
       "    <tr style=\"text-align: right;\">\n",
       "      <th></th>\n",
       "      <th>TRIMER</th>\n",
       "      <th>Excitation Energy (eV)</th>\n",
       "      <th>IP (eV)</th>\n",
       "      <th>EA (eV)</th>\n",
       "      <th>Calib. IP (eV)</th>\n",
       "      <th>Calib. EA (eV)</th>\n",
       "      <th>Calib. Excitation Energy (eV)</th>\n",
       "      <th>TRIMER_mol</th>\n",
       "    </tr>\n",
       "  </thead>\n",
       "  <tbody>\n",
       "    <tr>\n",
       "      <th>0</th>\n",
       "      <td>[H]C1=C([H])C(C2C([H])=C(F)C(=C([H])C=2Cl)C2=C...</td>\n",
       "      <td>3.40548</td>\n",
       "      <td>6.352397</td>\n",
       "      <td>1.481368</td>\n",
       "      <td>6.330281</td>\n",
       "      <td>0.668059</td>\n",
       "      <td>3.371348</td>\n",
       "      <td><img data-content=\"rdkit/molecule\" src=\"data:image/png;base64,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\" alt=\"Mol\"/></td>\n",
       "    </tr>\n",
       "    <tr>\n",
       "      <th>1</th>\n",
       "      <td>[H]C1=C([H])C(C2=C([H])C(Cl)=C(C([H])=C2F)C2=C...</td>\n",
       "      <td>3.36813</td>\n",
       "      <td>6.319819</td>\n",
       "      <td>1.484588</td>\n",
       "      <td>6.300635</td>\n",
       "      <td>0.671021</td>\n",
       "      <td>3.340348</td>\n",
       "      <td><img data-content=\"rdkit/molecule\" src=\"data:image/png;base64,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\" alt=\"Mol\"/></td>\n",
       "    </tr>\n",
       "    <tr>\n",
       "      <th>2</th>\n",
       "      <td>[H]C1=NC(C#N)=C(C2C([H])=C3C(=O)C(=O)N([H])C3=...</td>\n",
       "      <td>1.88575</td>\n",
       "      <td>6.585175</td>\n",
       "      <td>3.063124</td>\n",
       "      <td>6.542109</td>\n",
       "      <td>2.123274</td>\n",
       "      <td>2.109973</td>\n",
       "      <td><img data-content=\"rdkit/molecule\" src=\"data:image/png;base64,iVBORw0KGgoAAAANSUhEUgAAAMgAAADICAIAAAAiOjnJAAAABmJLR0QA/wD/AP+gvaeTAAAgAElEQVR4nO2deVxTV9rHf0kIYYnIWjBoqy3YAiq4gYq4YtWK1LpUW5uKjqO2KrRorVYrXfQto6NSp2NlXKrWfS+1Ki5Vi0sFcUXGqQoosgkiOwRCnvePEyNuQODehOV+/+CTe5M854T8cu85zznP84iICAICXCM2dgcEmiaCsAR4QRCWAC8IwhLgBUFYArwgCEuAFwRhCfCCICwBXhCEJcALgrAEeEEQlgAvCMIS4AVBWAK8IAhLgBcEYQnwgiAsAV4QhCXAC4KwBHhBEJYALwjCEuAFQVgCvCAIS4AXBGEJ8IIgLAFeEIQlwAuCsAR4QRCWAC8YR1iJiYnff//9+++/f/ToUaN0QIBvRIZPCnLmzJnAwMDc3Fx2OHz48GXLlrm6uhq4GwL8QoZl27ZtpqamACZOnPjjjz86ODgAMDExmTJlyv379/lrt6KiYvv27W+99VZpaSl/rQjoMKiwli5dKhKJAISFhWk0GiLKzc0NDg42MTEBYGNjEx4erlKpuG304cOHS5YsadOmDfshrVu3jlv7zYrQUDpz5vHjajCQsDQaTXBwMACxWLxy5cqnnr1w4ULv3r3ZF9+lS5czZ65y0ujVq1eVSqVMJmOWe/ToERUVVVlZyYnx5kmnTuTnR+XlREQeHtW90hDCKi8vVyqVAMzMzPbs2cNOJiYm7ty5s+rLjh496ubmZmkpd3K65+9P16/XvcUTJ04FBgaKxdqpyaBBgw4fPsyukQL1wcuLvv+ewsOJjC6s0lKaMSNZIjG1sLA4cOAAO3n27Fk7OzupVBoTE1P1xcXFxRERJywsCCBzc1q4kIqL9WiruJgiIsjFhfr0mQnAwsIiODj41q1bHH6cZoVKRRMmUGLi4zNeXqRWU69elJJiVGE9fEh9+hBAQ4YknDt3jp3csWMHuz1NmjSpoqLi2Xfl5FBwMEkkBJCdHUVEkFpdc0P/+Ae1bk0AAeTldWPevHlpaWmcf6LmQ2UljRtHAHXoQLrhg5cXEdHp0zRypPGEdfMmvfYaAdS+PSUlaU+uWrVKIpEAmDNnTvX3pvh48vPTCqVzZzp1ih48IN3VJyuLsrOJiK5fJ6WSZDLtK729aedO4noC0ByZMoUAsrV9YkzChEVEQUGkUFT3dr6EdekSOTkRQD17Uk6O9uS//32GzQq//vrr2hiprKT167V2xGKaPp2srIhdhlasoMWLacwY7YUNIH9/OnCAhKE5J3zzDQFkaUl//qk9M3curVtH336rPczMpNmzq7PAi7Cio0kuJ4CGDqWiIiKiigqaOJFEIvL2/ndkZKRe1kpKKDycXF1p/XoaPpzGjiUiWrGCvvuOTEzI0pKCg0kYR3HI2rUkEpGJCf36q/bMihUEkIkJ3b5dWyPcC2v7djI1JYAmTSI2glKp6P33CSAzM9q7t45mS0tp61YKD6dx4+jwYVqxgtasoa1bKSuLw74L0PHjOVIpAaRzCq1fTyIRicW0ZYsedjgQ1po1lJysffzDD+TgQABNn669K+XlUd++BJCDA8XG1qshJqx796hrV1qyhNasqWfHBZ7m9OnT5uYWPj4n587Vnjl4kJjOlizRnjl0iD78sOZRLAfCcnen4cO1jzt0oNOn6bvvtId5edStGwGkUNDVens9mbCIaPlycnERhMUxt27deumllwBMmDCBzavOniXm+pk1S/ua2FjtIKfG9QsOhOXlRTNm0K5dREQdOjzxlEZDkyeTpyelp9e/ncfCqqwkb29BWFxy9+7d1q1bAxg5cqRarSaiGzfI3p4ACgoiNn1PTCRbWwIoOLhmg9wIKyeHPD2poOBpYRFReTk9eFD/RoiIVCpatYr27aPiYiopobIybswK5ObmdujQAUDv3r1LSkqIKDs7p1s3NUD9+2v/z3fukLMzATRqVK2m3twIi4jWraO5c58jLA6pqCALCxKJOFOqABGVlpb27dsXQKdOnfLy8oiouLi4R48erq4jBw4szc8nIsrNJQ8PAsjPj2q5O4QzYWk0NGAAtWtXf3sv5PJlAsjFhccmmiHx8fFyudzJyen27dtEVFZWNmDAAACvv/56dnY2EalUqnffLWKObuaUrg0cCOu997QPrlyhoUPrb++F/Oc/BND77/PYRPMkNjb24sWLRFRZWfnee+8BcHJySkpKYmfGjRvn6Ojl65uvWz6pDVz6sX7/nfz8aN8+Dk0+weTJBNCKFXzZF5gzZw4Aa2vrq4/m8FOmTAFga2t7Xc/dJlwKi/lne/Xi0OQTdOpEwOONZgLcsnz5cgAymez3339nZ7788ksAlpaW58+f19cal8IqKCBrawLo0T4GLiksJImEpNLaDh4F9GLTpk0ikUgsFm/bto2dWbFiBds1rtvspBccL+l89hkB2uU8bjl5kgDq0oV7ywIxMTH9+vUDsGjRInZmx44dYrFYJBJt3ry5bjY5Fta9eySVkkRCeg30asOSJQTQtGkcmxVISEiwsbERiURhYWG6kwsXLgTwzTff1Nks94vQbL1ZtwjAFZ9++puv7+2NG4s4ttu8SU5ObtWqFYAPP/zwqe1xJ06cqI9l7oUVH08AWVlRXh6XZl9++WUACQkJXBpt3mRmZrq4uAAYPHhwOQuQ4A5e9mOx7Qwc+gXS09MBWFlZCTE2XFFYWNi9e3cWFlVQUMC5fV5C7ENC0KHDnydOBGs0Gk4MxsXFAejatasu8EagPqjV6rFjx8bFxbVv3/7w4cMtWrTgvAlevqfAwMrS0g+iov4VFRWl1xsLCgoSExOPHDmyYcOGQ4cO6c4zYfn4+HDc0WYJEQUFBR08eNDR0fHgwYMsGJ1zTPgwKpFIQkNDp0+fvmTJkhEjRlR9qqKiIjU1NSkpKT09PSMjQ/cgPT39wYMH5eXlulcGBgYOHTqUPY6NjQXg7e3NR2+bG/Pnz9+yZYtcLj9w4MBrr73GVzOc31wZxcXFdnZ2AM6ePas7OX78eDMzs2o6I5fL3dzcBgwYoFQq//Wvf7F3aTQaa2trAPfu3eOpt80H5vaUyWTHjx/ntSFerlgALCwspkyZ8t133y1fvnzXrl3spFQqNTMz8/DwaNWqlUKheOqvvb09yxfyFDdv3szLy3N2dnZ2duapt82EXbt2zZo1SywW//TTT2wLA4/wp9m0tDRTU1OJRKKLRS4uLq59nHtZWdnt27djYmI+/vhjAO+88w5vPW0WHDlyhP1ul+i2r/MJv/mxlErl5s2bQ0JCIiIinn1WrVbfvXv32cEW+1tWVqZ7pUKhsLa2vnjxoi7DRxOmoACZmWjfHgAePEBFBZyc6mvz0qVL/fr1KygoCA0NXbZsWf07WSP8CuvixYtdu3aVy+V79+4tLCy8d+9eWlpaenp6ampqRkZGampqaWnpi95ramrq6OjYpk0bGxubmJiYgoKCiRMnrlu3joW8NmGio/H227h6Fe3bY9MmZGZizpx6GUxJSenVq1dGRsaHH364YcMGw/wD+RpjMbp06eLm5paWlvbmm28++6ylpaW7u/uzgy3219zcXPfKa9eu9enT56effrKwsPjhhx947XNDYOBAhISgir+l7ty/f3/QoEEZGRmDBw9eu3atwX6W/F6xsrOzXVxciouLu3Xr1r59e4VCoVAonJ2dW7Vq1bp1aycnp+eO1p/LyZMnhwwZolKpli5dOnv2bP76bHSio3HiBAoK0KcPysuRmYnbt2FhgZdfRqtWaN0aCgUUClQ7vdZSVFQ0YMCAuLi4Ll26nDx5kg9H6Ivg94o1b968goKC4cOH6+spfZZ+/fpt37599OjRc+bMsbe3DwoK4qKDDZdFizBgAKZMQWUl1q7Fs0sY9vZo1Qq9e0eXl+9q3bq1s7OzQqFo3bp1q1atWHigzr3u6urKk3u9OvibF8TGxorFYplMxmGGqlWrVgGQSqWHDh3iymZD4/Bh+vxzIqING8jFhRYvpk2bKDycgoPpnXeoRw9ydiYTE20qlH79wp79TmUyWdu2bdu2bQvA1tY2sWqGK0PB1xWLiD755BONRjNz5kwO3bsfffTR3bt3w8PDR40adezYsZ49e3JluQEyYQJ+/hkmJlAqn35Ko0FWFtLSkJPz9ujRDpmZmampqenp6WlpaWlpafn5+SkpKSKRyMbGZuPGjW5ubkboPU+C3b59O4BWrVpxvnKu0WgmTZoEwN7e/saNG9wabwgsW0YbN2rzfJaV1WUrdnFx8Y0bN9gK2P79+znvYW3gRVjFxcUsXnsNP2HwarWaLUG2a9cuIyODjyaMRW4uyeUkEtUrBStjwYIFAObNm8dFv/SGF2F9/fXXALp168bf9qmSkpJevXoB6Nix48OHD3lqxfAsXkwADRvGgSk2YRo4cCAHtvSHe2HduXPH3NxcJBKdPn2ac+NVycnJeeONNwD079+/rEkkclCpSKEggI4dq6OF06dPf/zxxzt27CCirKwsAC1atDDK7kjuhTV+/HgAY8aM4dzys6SmprLKAOPGjavnv6+iouLSpUurV6/esGFDZmYmVz3Ui02bWGZe7eHx46RvsY7169ez/wY7ZBNDfWNNOYFjYcXExIhEIgsLi7t373Jr+UVcu3bNxsYGwMcff6zXGysrKxMSEiIjI5VKpbu7O6uOAUChUJiamu6tc+rBuqLRaCNyf/qJiKioiGxtycyMUlL0MJKQkMCGnuxw7NixANavX899d2uCS2FVVlZ26dIFwIIFCzg0WyMnT55k27xqXLd/+PBhdHT0t99+O3z4cEdHx6qzY7FY7OHhMXHixCFDhrA7SFxcnGH6zzhxggBq1UqbLG/lSgKob1/9jFRWVlpZWQHIysoiIrbePM0YQXNcCmvDhg0AXn755WK90v5zwf79+yUSiUgk+on93h9RVFR09OjRsLCwgIAAFuekQyQSubu7K5XKyMjIhISEqmEq06dPB2BnZ2dI12JgIAHEIvnUamrXjgCqg6+gf//+AFj48unTpwF0MUaYL2fCys/PZ9eAn3/+mSubevHjjz8CkEqla9eu3bJlS0hISM+ePZ/asCqXy/v27Ttnzpw9e/akpqa+yJRarR45ciQAZ2fnO3fuGKDzSUmpnp75ZmbERnf792sTNtVh3Dh37lwACxcuJKKSkhKpVCqVSg3/U+dMWF988QUAX19fI5asCQ0NBWBpaalTkrm5ua+v7+effx4VFaVXoYqSkhJWN8rDw+MB/4neWAWrTz+NYIcsfu6ZYla1Yu/evQCGDBnCDjt37gyA7xn6s3AjrJs3b5qamorF4gsXLnBisG7k5+dLpVKZTDZixIilS5eeOnWqqEi/yOmkpKTx48ez33deXl6nTp0A+Pj46GtHL3JyciwsLMRiMVtIuHr1et++8QpFJcumpy/37t0DYGtry37h06ZNA7Bs2TJu+1wj3Ahr1KhRAJRKJSfW6szmzZvr6RJkTtdhw4axIj/37t1jEdgBAQHPLfvDCd999x2AoY+S1k2YMAFAaOhndTbIggP++usveuSAGMtHnpZq4UBYR44cYcMXo0fRvPPOOwBWrVpVZwt37959yjGWkJBga2sLYPLkydz19DEqlUqhUAA4cuQIEd25c0cqlZqYmNRnbMf+DyxRzPXr16s6IAxGfYVVUVHh4eGBKhlwjEVRUZG5ublEIqmne/PatWss2kznGDt37pyFhQWAL7/8kouePgG7ynp6erJDllOvnhcYdgkMDg6mKg4IA3t99RZWXFycukqVt61bt1pbW7dp08bw846nYEFmvXv3Zodz5sz5+uuv6/bfPHHixFOOsaioKOZBjYiI4KzHRETEPH+soHB+fj4TQT1daMePHwfQo0cPdsgivX7VVcYxCPoJi60Denp6ssEsczHY2trq6qYakXHjxgFYsWIF65hMJqvP1UvnGNO5rSMjI5kf9anCsPXh1KlTAJycnNhaJ4tl6tmzZz3NFhQUSCQSmUzGzM6bN4+ny2016Ces0aNHVx2kh4SEAOjXrx8PHdOP0tJSuVwuEomYd4rtBvPz86uPTZ1j7ODBg+wMS0dmamrKxkN15t69e3v37p07dy7bXBQSEsLOJycnT58+fffu3fUxzmDjk9jYWCLat28fgDfffLP+ZmuPHsI6efIk8xKxQfrVq1dNTExMTEwaQs4qtkWke/fu7HDMmDGc3LaYc87CwkKXKGDGjBkArKysWP7qWnL//v2oqKjPP//c19eX3ex0mJiYKBQKzteJJ06cCOCHH36gR0mgrK2tDbnNobbCUqvVXl5eqJI+cODAgQA++ugj3vqmB2yKHh4eTkTFxcUWFha6q1d90Gg0f/vb31Blt6rOKf/SSy+x+fxzqaiouHz5cmRk5KRJkzp06MCKyup46aWXAgICvvnmm927dzMHh1wuj46Ormdvq7Jnz55p06adOnWKHbKpriE33NZWWGvWrAHQtm1bVmtl//79bDWNeaXPnz/v7e19xkiZslUqFZvH3bx5kx5d+X18fDgxrlar2ey9Xbt26enpVMUp/9prr+nGcC/aK8Gws7MLCAgICwuLiop6astrWVkZG2CYmprqMhZzDnM0btq0iSf7z1IrYeXl5bGIIvbJS0tLX331VQArV66kKpsaDDw81BEdHQ2gU6dO7PCDDz4ApxkKSkpKfH19UWW3qs4p7+7uvnDhwsDAQKcnw+DFYrG7u3tQUNCqVavi4+Ord66q1eqpU6cCEIlES5cu5arbOq5fv+7i4mJvb//UCj2v1EpYixYV+fqu6tGjJ1slYG6Sjh07Mr+DblMDu5gZHlY9gdWZLisra9myJYAkTvM2Z2VlsXSdoaGh7ExSUpKdnZ1OT7q9EhERERcuXKhDSs/w8HBmKjg4mKv11pKSkq+++orFlLdp04bzRKPVULOwkpLIzIxEIjp/XkVEWVk0cGCSk1NXFtln9E0NarWaXU3ZHOK3334D4KXbhckdt27dUiqVhYWFujMsDCYgIGD37t2cbGxcvnw5y4W5cOHBKr7CulBZWRkZGcl2CkkkkuDg4BxdzXeDULOwhg/XFnhm/P3vBNCIEdrPPX/+fBh1UwObq7q5ubFDFhn2ra7aOm+kp6eLxWJzc/OqUqs/W7du7d9/BkDvvFP3Ghznzp1jiWvZVxMfH89hD2tJDcI6dIgAatlSW9P7/HkSi0km01YzT05ONjMzE4lEf/75J/9dfT4zZ84EMH/+fCKqqKhgaQQNsEGPebkCAwM5t3zuHNnZEUDdu+u95z03l0JD57Opg729/erVq9X1vPTVleqEVV5Obm6PC01rNNSzJwHaAHAiCg3dUf+Frfqg0WjYSj7zKh09epQNqA3QtL+/P4CNGzfyYfz6dWrThgB67TW6ebNWbykro7AwksupX78YmUwWFhbG61afGqlOWBERxMofsl3YW7dqN2Wz2OYzZ0gkIh+fBykphthj+VzOnj3Lpv3skO09MsDkNDs728TExNTUlL+QxrQ0bWyFkxPV6Is9dow6dtRmc3jrLfXVq9d46lXteaGwKirolVcIIBauUlRErVs/Ll+uVpOn5+M92sZi1qxZAGbPnk1EarWaTSMuX77Md7tsk9PgwYN5bSU3l3r3JoDkcnqR9/TaNRo4UCupDh3qHpDIOdVdsdLS6B//0D4OC9Pe9dmqwOrVBFDbtsYs8qbRaFjc3Llz54jo0qVLIpHIMBuPhg0bBuA///kP3w0VFtLgwQRQixZ08CDp9pSePUvZ2TRlijbtjL09RUYSbzsR60Kt/FgZGSSXE0CsQuLDh+TgQABxt8xfF+Lj45l7RjchTUtLq5r9myfy8vJkMpmJiUl27Ssk14PyclIqKTKS3NweFz/z8NDeKMViCgqi9HQDdEQ/qhNWXh6xr0yjobVracYM7flPP2WZmfjvXbXs3LlTLpf7+/sbuN0tW7YYZU+HlxeNGkVs/u3hQevW0ZAh9N//GrgXtaU6YTk60qMk/tShg/bBtWtkYkISCfE/kqmBlJQUCwuLOpcArTNsEVpX38BgeHnRX39Rjx6kVpOHB1VWkvHioWqmulo6Dg7Ytg337z9x0sYGo0YhKAientW81RC88sorCxYsUKvVo0eP/uOPPwzTaHFx8eHDh8ViMVuZNjCurhg0CJGRACAWo0Hnj65GdF5edPQoffghUZUrFsNIXrfn8MknnwCwsrK6dOmSAZrbvXs3uNjkWQfYMlVJCfn4kIuL4dvXjxqqf/n7o6wMp049ff7J/UXGZNmyZe+++25BQcGwYcPu3LnDd3N79uwBwHahGAVzcyxahBenx28wVCM69hO5e5d69Xr6itWgUKlUgwYNAuDq6sqSYfBEaWlpixYtRCJRcnIyf61Uwz//SevWkbHDVmpFzcIiomXLGrSwiCg/P5/Fknt7e/O3lPHrr7/CSDk2iEijIZmMAOJ01ZsvqhOWbiVXpeIgJSbfpKenM3+pLo6Zc1hy+cWLF/NhvEZycrTFthsFPOZ5Nzw3b95kqzoffPBBnbfxZGdn//bbb2FhYUOHDv3xxx9153UboP/3v/9x1F/9uHKFAHq0P6ih06SERUSxsbFyuRz6JH/LycmJiop6bg6tUaNG6V7GMgl4eHjw0/GaOXiQADK4P7iO8FvyxPB07959x44dI0aMWLRokYODA0sP9BSVlZX//e9/Y2Nj4+Lizp8/f+3aNbVarXtWKpV6enp6e3t7e3tXLVBg9PlgWhoANJpioMZWNi9s3rxZJBI9N2p5wYIFz1aVcXV1HT9+/Pfff3/27NnS562rFxYWsqLcV65cMcgneA5ffUUAffGFsdrXj6Z2xWKMHz8+NTV13rx5H3zwgY2NDduUx7C0tCwsLHR3d+/6iM6dO1fN1cZQqVRxcXHx8fHx8fFnzpxJSkpydHR0dHTs2LGjYT/KY9LTAUChMFb7emJsZfPIp59+imec8hkZGS/yQmVkZPzyyy/z58/39/dnoT46WDVrPAqAMwrDhhFA+/YZq339aMrC0mg0SqUSgEKheK6YsrOz2bD9WSVJJJKuXbsGBwdv3LgxISFBrVazKDcnJ6f8umXaqzfvvbevc+fjcXHGibHTl6YsLCJSqVSsuKuLi0tWVlZpaWlMTExERMSYMWOemgACePXVV1lgYExMzLOxNxqNxsfHB8arTsMGeXplUjUi/FZYbQg8fPjQz8/v+vXrTk5ORUVFRUVFuqdkMlnnzp3ZBNDHx4eFpFZDfHy8t7c3y4Pi6urKc8efQKVSsbRyZWVlkoazUlsNxla2IUhNTXV2draxsTE1NfX19a16g9PXFMs+8vbbb/PRz2pITk4G4OzsbOB260yzEBYRsTDz+mdJzczMZKMxA5d4PXPmDKrkaWr41LBtpmmQm5tbWlpqZWXlXG/3oqOj42effQZg7ty5avUzhZp5Iy0tDUD9+28wmoWwuP1WZs2aNXDgKI1m1Zo1hvvvCcJqiHD7rZiZmQUH7752rdf8+cjJ4cRkzQjCaoiwXIkcfiuBgRg8GA8f4quvuDJZA0xYikbjd28ewuLj575iBaRSrF6Na9c4tPpCnJyc2rVrx8pkNAoEYdURNzdMnYrKSnzyCYdWX8jy5cuTkpJYybhGQTMSFuf3kW++gb09fv8dv/zCreGmQDMSFucjXxsbhIUBQGgoVCpubTd6BGHVi6lT8frrSE7GsWOc227cNH1hlZeXs3RWTxWB5gSpFGvXYt06vPqq9szZs8jJwdmz2kO1GjExnDfbCGj6wmKp2B0dHXlau+3dG3FxGDkSZWUA8M9/4sYNzJ+vfbaoCLNn89FsQ6fpC8swrkU/PzxKpy0AAE1za3JVDCOsoCB88QVu3tQeJibi/fcBoKKC12YbLoKwuEEsxrJlCA6GuTkAvP46Vq8GgPx8jB7Na8sNlOZyKzTAYkjXrmjXDqdPA4BEAisrWFnhmYCg5kJzERZPV6y7d3HoECwswIoyLVoEuRwmJpDLtS8QiR4/blY0/Vsh5yvQOnJzMXQo/voL+/ahWzcAsLVFUhIA/Pqr9jUtW+L4cc5bbgQ0ZWGlpaXl5OTwdMUqKsLgwUhMRI8eGDCAW9tNAmNvYeWFgoKC4OBgU1PTN954gxWgL2BVDziiooLeektbXUHfqiTNhCY4xtqzZ4+np+fKlSvLy8vbt29fUlIik8ny8/O5sk+EoCAcPAhHRxw6BAcHrgw3LYytbC45c+aMrupVr1694uLiVCrVypUrAYjF4oCAgKNHj9a/lfnztdUi4uLqb6zJ0kSElZGRoVQqRSIRgDZt2uzcuVOXH+vQoUM9evQwNTVlgvPz89u7d2+dy26vXUsiEUkk9Msv3PW+KdL4hVVeTt9/f3fAAABSqTQkJCQ3N5c9k5WVpVQqxWKxWCw+ceJEREQEq7kNwMnJKSwsjBW0rj27du3q2PHvdnaVW7bw8EGaFo1cWNHR2sp3wI+TJunKFKrV6tWrV7OYdIlEMnXqVFaeRKVS7dy5k0XKA5DL5VOmTKllccNz586xeUB4+E/8faAmQ6MV1pUrNGCAtuxVp07aKj9ERHTgwIH27dsz6QQEBDw3s2NMTMyYMWPYfgexWOzv7x8VFVVNa5cvX2ZxqiEhIdx/lqZIIxTW/fuPy145OFQte5WZkjL60cpc27Ztd+3aVb2lW7duBQcH65JjeXl5RUZGPpt4LSUlhbnBxowZU+fBWXOjsQnryhVydNSWvfrb3ygzU3s+L4+CgzU2Nl6Oji1btoyIiKh9xfb8/PyIiAhdAIyjo2NYWJiuNPeDBw/c3d0B+Pv7q1hFUIFa0NiEVVFBHh40dCjduKE9o9HQ5s3aKp0i0fXZs+uWoKG8vHznzp26pKMymUypVMbHx7MBmZeXl7HSYjVSGoOw8vLo738nf38aNIh276b09Mdlr/74gzp31o60+vSpucZtTWg0mujo6MGDBzPPhVgsZlPIdevW3Rdc7PrQGIQ1dixt305EVFhIfn4UH09ElJxMAQFaSbVtS9UOvfWlojzLL1cAAAMnSURBVKJi9+7dw4YN69q16+TJkwcOHAjg559/5rCJJk+DF5ZaTY9qiRMRbd5MX3xBBQVkZ0cAyWT0+efE6TogEanVaktLS5FIxJwU4eHhAGbOnMltK02bBr9WWFT0xGY5Ozs8eIAWLTB5MpRK3L6N8HDOd9NJJJLOnTsT0cWLFwGwYVZsbCy3rTRtGrywWrZESYk2AgZAYiLeeAMAFi/Gpk38pdNnYjp//jyAbt26SSSSy5cvq4Sw1FrT4IUFYOZMTJ2Kc+ewZw+2bUNQEMB7xURvb288ukrJ5XI3NzeVSnXlyhVeG21KNAZhzZiBqVNx9Ciys3HsGKytDdAmExa7YuHJC5hAbWgMwgLQqxcWLsS0aXgyGzt/tG3b1tHRMTs7OyUlBU9ewARqQyMRljGoetEShKUvgrBeSFUxeXh4jOvQ4QsnJw13O1GbNoKwXkh/H5//8/EZk5cHQCqVbrOxmfDHH+I//zR2vxoHgrBeiG/37vPi4nps3w5WzdDbGwCEu2HtEIT1Yqyt4eqKkhJtmlFBWPogCKtamJiYl4HtOxU8DrVDEFa1VBXWK6/A0RHZ2UhONm6nGgWCsKrlqdufcDesNYKwqsXLCzIZbtwA8zIIwqo1grCqxdQUXl7QaHDhAiAMs/RAEFZNVB1mde0Kf38MHmzcHjUKmn6F1fpy6BAOHcK778LBAYmJUCjwKCxRoBoEYdWOf/8b0dEYOhRXr6K4GJs2GbtDDZ2mnB+LM/LzsXo1Ll3S5u177z388Qf69DF2txo0whirFty8iTfe0KoKgI8PLl82aocaAYKwaoGlJYqLHx8WFeFR8LTAixCEVQtcXJCWhpQUACgpwS+/CMkha0QYY9UCqRQbN2LSJLRsidxczJ2Ldu2M3aeGjjArFOAF4VYowAuCsAR4QRCWAC8IwhLgBUFYArwgCEuAFwRhCfCCICwBXhCEJcALgrAEeEEQlgAvCMIS4AVBWAK8IAhLgBcEYQnwgiAsAV4QhCXAC4KwBHhBEJYALwjCEuAFQVgCvCAIS4AXBGEJ8IIgLAFeEIQlwAuCsAR4QRCWAC8IwhLghf8H+OFmsH3rDYAAAAH4elRYdHJka2l0UEtMIHJka2l0IDIwMjEuMDMuMQAAeJx7v2/tPQYg4AFiRgYIkAZiOSBuYGRzsADSzIws7A4aIAYzG4RmYWMA0Uws7BAaIQ6noRpRNTCzcEBoJnQ+OwNEAxaTIDRhF6A7lcEA1SnoEtwMjBlMjEwJTMwKzCwazEysGUysbAps7BlM7BwJHJwKnFwaTJzcCtw8GkzcvAq8fAp8/An8AgoCghlMgkIJQsIKwiIazEKiGUyiYgli4gz8EkD9kgmSUgySDAkSbAl8HBlMYgIJIiysDIxACTZ2Dj5+CTZWTg4+Xm5WQQExUSFxWIAzSKcmJh94fbPOAcSZHDn1wNdpdmD28vONByLOnbUHsV+fnnkg5vdcOxBb/8TGAyELa/eD2NfVVA54fnwIVnPw+PH9vbPVwGzhNsYDRxa7gdVYtjXtT/n6Ecy+2TZt//eSiAMgdm+S3AELuxYwm9nM3Y67sh7MPnuU0V5q/TowmzN4pv1+aQswO1ngqZ3dz5Ngc/4IZNqvPCO1D8TO0JRw6BJRBbutRtfeQVvgCNgND4P7Hbr5N4DZn/PWOwilyoP9xdp13iHuUBqY/SpopkPxmt17QewtbfEO+ZPDweantIU6KMaLgu39em3/3luTy8DmLLEUOJDy0A+sN189ab/111IwWwwAAUaEfAhwfaEAAAHdelRYdE1PTCByZGtpdCAyMDIxLjAzLjEAAHicnVRLbtwwDN37FLpABX5ESlx3siqaAFnkDtn3/ihlepgp0AIdGl48muLz40c82n7ebz8+f7V86HYcjWZjaO3vr5m1DwKAw49/4y5Ca0dyt0W4EXT3Qvve/kXx+J4so6tOOv/fbS54YHl9hgVEdcdiV5hW1bJArzwYltZYxOsicyPoZjBrGVEXHRYZTRWqaUFngRWxKnf0LAt1IF6R0ZxSrC52QJuBlgFXWXAqxPxxeeqojzlW9ByZHjv99t8sHoE2JLSYYa26HiGgFpMzZFlNi9fFr0/ktqbWps4jhhfmmpxZvEceYQgj5gUFa7Pr+4B92K46a53FVuwXz4ixWJfh82IQLDxFalq8v4s4VA2DIos6i2jsXQXRakbT8OoRGNZ2nSsYdt4eZ1njj9v4hBa/yawcs8vMxf2y8+Crv6Zc3JjUSVhCFTFJKaNdjcUjWNbg0pbyIM9hhOGI0wiEYTiS89Pl0TzmaOYxRys9jiwNawj3Y44w/nsZlB5qyOlxIxU4QklDGqYCR5gKHGEqcISpwBGlAkd7jDg9WQNHlDVwRF8KtO1GZdqUChxRKtifMT1y1mTcVX8VxKnx7vnZ2svr7fgNB7ZrvTJfNXkAAAFRelRYdFNNSUxFUyByZGtpdCAyMDIxLjAzLjEAAHicNZE7biQxEEOvsoCTGUAj1P+DhqPO7UN0Pifw4c1qYzPpgSwWpfPN1/U4P76e74tf11xel/wnbzmfF678dT4+v5+nfH7/+3noVg3V9RIctHUduq0l1ot2mdAQ29msOYiaQ9OHWVb34o2r5Tp8W4n0EtjJbR0B4LF0B3nwOmR3JTscrpw2QDNdF20OFoaEdjMZNEhiZ06wO1QjOSHsUG5YXxgSlAUUTjVeFPCwSszPcC4Q20gOgJHGDYqCDS6lch+Nb3ePnsRuStNbFsgrVOnMHqNCJSUo0yXkd5q4+hBR8b89q9QwXfFwSn2LSLR4hqMpWtybE3fKwqGadEqbpTYPceTJOnhDUj6fUhnYDiL0doMNKzRnDHKKFlvoYF5oPsMZOT0qLWG7d7C0xOfZZmza6/nzCxBycWva2mQiAAAAAElFTkSuQmCC\" alt=\"Mol\"/></td>\n",
       "    </tr>\n",
       "    <tr>\n",
       "      <th>3</th>\n",
       "      <td>[H]C1=NC(C#N)=C(C2C([H])=C(C3=NC(C#N)=C([H])N3...</td>\n",
       "      <td>1.86334</td>\n",
       "      <td>6.608289</td>\n",
       "      <td>3.064964</td>\n",
       "      <td>6.563143</td>\n",
       "      <td>2.124967</td>\n",
       "      <td>2.091372</td>\n",
       "      <td><img data-content=\"rdkit/molecule\" src=\"data:image/png;base64,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\" alt=\"Mol\"/></td>\n",
       "    </tr>\n",
       "    <tr>\n",
       "      <th>4</th>\n",
       "      <td>[H]C(=O)C1=C([H])C(C2N=C([H])C3=C([H])C([H])=C...</td>\n",
       "      <td>2.84523</td>\n",
       "      <td>6.694830</td>\n",
       "      <td>2.420412</td>\n",
       "      <td>6.641895</td>\n",
       "      <td>1.531979</td>\n",
       "      <td>2.906341</td>\n",
       "      <td><img data-content=\"rdkit/molecule\" src=\"data:image/png;base64,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\" alt=\"Mol\"/></td>\n",
       "    </tr>\n",
       "  </tbody>\n",
       "</table>\n",
       "</div>\n",
       "      <button class=\"colab-df-convert\" onclick=\"convertToInteractive('df-5bb8adda-d731-4155-89ea-8c53d4c41145')\"\n",
       "              title=\"Convert this dataframe to an interactive table.\"\n",
       "              style=\"display:none;\">\n",
       "        \n",
       "  <svg xmlns=\"http://www.w3.org/2000/svg\" height=\"24px\"viewBox=\"0 0 24 24\"\n",
       "       width=\"24px\">\n",
       "    <path d=\"M0 0h24v24H0V0z\" fill=\"none\"/>\n",
       "    <path d=\"M18.56 5.44l.94 2.06.94-2.06 2.06-.94-2.06-.94-.94-2.06-.94 2.06-2.06.94zm-11 1L8.5 8.5l.94-2.06 2.06-.94-2.06-.94L8.5 2.5l-.94 2.06-2.06.94zm10 10l.94 2.06.94-2.06 2.06-.94-2.06-.94-.94-2.06-.94 2.06-2.06.94z\"/><path d=\"M17.41 7.96l-1.37-1.37c-.4-.4-.92-.59-1.43-.59-.52 0-1.04.2-1.43.59L10.3 9.45l-7.72 7.72c-.78.78-.78 2.05 0 2.83L4 21.41c.39.39.9.59 1.41.59.51 0 1.02-.2 1.41-.59l7.78-7.78 2.81-2.81c.8-.78.8-2.07 0-2.86zM5.41 20L4 18.59l7.72-7.72 1.47 1.35L5.41 20z\"/>\n",
       "  </svg>\n",
       "      </button>\n",
       "      \n",
       "  <style>\n",
       "    .colab-df-container {\n",
       "      display:flex;\n",
       "      flex-wrap:wrap;\n",
       "      gap: 12px;\n",
       "    }\n",
       "\n",
       "    .colab-df-convert {\n",
       "      background-color: #E8F0FE;\n",
       "      border: none;\n",
       "      border-radius: 50%;\n",
       "      cursor: pointer;\n",
       "      display: none;\n",
       "      fill: #1967D2;\n",
       "      height: 32px;\n",
       "      padding: 0 0 0 0;\n",
       "      width: 32px;\n",
       "    }\n",
       "\n",
       "    .colab-df-convert:hover {\n",
       "      background-color: #E2EBFA;\n",
       "      box-shadow: 0px 1px 2px rgba(60, 64, 67, 0.3), 0px 1px 3px 1px rgba(60, 64, 67, 0.15);\n",
       "      fill: #174EA6;\n",
       "    }\n",
       "\n",
       "    [theme=dark] .colab-df-convert {\n",
       "      background-color: #3B4455;\n",
       "      fill: #D2E3FC;\n",
       "    }\n",
       "\n",
       "    [theme=dark] .colab-df-convert:hover {\n",
       "      background-color: #434B5C;\n",
       "      box-shadow: 0px 1px 3px 1px rgba(0, 0, 0, 0.15);\n",
       "      filter: drop-shadow(0px 1px 2px rgba(0, 0, 0, 0.3));\n",
       "      fill: #FFFFFF;\n",
       "    }\n",
       "  </style>\n",
       "\n",
       "      <script>\n",
       "        const buttonEl =\n",
       "          document.querySelector('#df-5bb8adda-d731-4155-89ea-8c53d4c41145 button.colab-df-convert');\n",
       "        buttonEl.style.display =\n",
       "          google.colab.kernel.accessAllowed ? 'block' : 'none';\n",
       "\n",
       "        async function convertToInteractive(key) {\n",
       "          const element = document.querySelector('#df-5bb8adda-d731-4155-89ea-8c53d4c41145');\n",
       "          const dataTable =\n",
       "            await google.colab.kernel.invokeFunction('convertToInteractive',\n",
       "                                                     [key], {});\n",
       "          if (!dataTable) return;\n",
       "\n",
       "          const docLinkHtml = 'Like what you see? Visit the ' +\n",
       "            '<a target=\"_blank\" href=https://colab.research.google.com/notebooks/data_table.ipynb>data table notebook</a>'\n",
       "            + ' to learn more about interactive tables.';\n",
       "          element.innerHTML = '';\n",
       "          dataTable['output_type'] = 'display_data';\n",
       "          await google.colab.output.renderOutput(dataTable, element);\n",
       "          const docLink = document.createElement('div');\n",
       "          docLink.innerHTML = docLinkHtml;\n",
       "          element.appendChild(docLink);\n",
       "        }\n",
       "      </script>\n",
       "    </div>\n",
       "  </div>\n",
       "  "
      ],
      "text/plain": [
       "                                              TRIMER  Excitation Energy (eV)  \\\n",
       "0  [H]C1=C([H])C(C2C([H])=C(F)C(=C([H])C=2Cl)C2=C...                 3.40548   \n",
       "1  [H]C1=C([H])C(C2=C([H])C(Cl)=C(C([H])=C2F)C2=C...                 3.36813   \n",
       "2  [H]C1=NC(C#N)=C(C2C([H])=C3C(=O)C(=O)N([H])C3=...                 1.88575   \n",
       "3  [H]C1=NC(C#N)=C(C2C([H])=C(C3=NC(C#N)=C([H])N3...                 1.86334   \n",
       "4  [H]C(=O)C1=C([H])C(C2N=C([H])C3=C([H])C([H])=C...                 2.84523   \n",
       "\n",
       "    IP (eV)   EA (eV)  Calib. IP (eV)  Calib. EA (eV)  \\\n",
       "0  6.352397  1.481368        6.330281        0.668059   \n",
       "1  6.319819  1.484588        6.300635        0.671021   \n",
       "2  6.585175  3.063124        6.542109        2.123274   \n",
       "3  6.608289  3.064964        6.563143        2.124967   \n",
       "4  6.694830  2.420412        6.641895        1.531979   \n",
       "\n",
       "   Calib. Excitation Energy (eV)  \\\n",
       "0                       3.371348   \n",
       "1                       3.340348   \n",
       "2                       2.109973   \n",
       "3                       2.091372   \n",
       "4                       2.906341   \n",
       "\n",
       "                                          TRIMER_mol  \n",
       "0  <img data-content=\"rdkit/molecule\" src=\"data:i...  \n",
       "1  <img data-content=\"rdkit/molecule\" src=\"data:i...  \n",
       "2  <img data-content=\"rdkit/molecule\" src=\"data:i...  \n",
       "3  <img data-content=\"rdkit/molecule\" src=\"data:i...  \n",
       "4  <img data-content=\"rdkit/molecule\" src=\"data:i...  "
      ]
     },
     "execution_count": 11,
     "metadata": {},
     "output_type": "execute_result"
    }
   ],
   "source": [
    "DF_small.head()"
   ]
  },
  {
   "cell_type": "code",
   "execution_count": 12,
   "metadata": {
    "colab": {
     "base_uri": "https://localhost:8080/",
     "height": 417
    },
    "executionInfo": {
     "elapsed": 4,
     "status": "ok",
     "timestamp": 1677967096576,
     "user": {
      "displayName": "Mao Tim",
      "userId": "10158930274252295750"
     },
     "user_tz": 300
    },
    "id": "VTI78D2p4GCZ",
    "outputId": "ad5d86b8-5975-48e8-df1a-0a761df3208c"
   },
   "outputs": [
    {
     "data": {
      "image/png": "[encoded data removed]",
      "text/plain": [
       "<IPython.core.display.Image object>"
      ]
     },
     "execution_count": 12,
     "metadata": {},
     "output_type": "execute_result"
    }
   ],
   "source": [
    "Chem.Draw.MolsToGridImage(list(DF_small.TRIMER_mol))"
   ]
  },
  {
   "cell_type": "code",
   "execution_count": null,
   "metadata": {
    "colab": {
     "base_uri": "https://localhost:8080/"
    },
    "executionInfo": {
     "elapsed": 333,
     "status": "ok",
     "timestamp": 1677952618509,
     "user": {
      "displayName": "Mao Tim",
      "userId": "10158930274252295750"
     },
     "user_tz": 300
    },
    "id": "JH7l9igCxQhO",
    "outputId": "91a544cd-baff-4232-8af4-0af001c74210"
   },
   "outputs": [
    {
     "data": {
      "text/plain": [
       "0        <rdkit.Chem.rdchem.Mol object at 0x7fa86d4e8280>\n",
       "1        <rdkit.Chem.rdchem.Mol object at 0x7fa86d4e83a0>\n",
       "2        <rdkit.Chem.rdchem.Mol object at 0x7fa86d4e8580>\n",
       "3        <rdkit.Chem.rdchem.Mol object at 0x7fa86d4e8340>\n",
       "4        <rdkit.Chem.rdchem.Mol object at 0x7fa86d4e8460>\n",
       "                               ...                       \n",
       "47983    <rdkit.Chem.rdchem.Mol object at 0x7fa86e48aac0>\n",
       "47984    <rdkit.Chem.rdchem.Mol object at 0x7fa86e48ab20>\n",
       "47985    <rdkit.Chem.rdchem.Mol object at 0x7fa86e48ab80>\n",
       "47986    <rdkit.Chem.rdchem.Mol object at 0x7fa86e48abe0>\n",
       "47987    <rdkit.Chem.rdchem.Mol object at 0x7fa86e48ac40>\n",
       "Name: TRIMER_mol, Length: 47988, dtype: object"
      ]
     },
     "execution_count": 8,
     "metadata": {},
     "output_type": "execute_result"
    }
   ],
   "source": [
    "DF['TRIMER_mol']"
   ]
  },
  {
   "cell_type": "markdown",
   "metadata": {
    "id": "EvxcS2p9DRLc"
   },
   "source": [
    "# Morgan Fingerprints \n",
    "\n",
    "1. Choose a radius: The first step in generating a Morgan fingerprint is to choose a radius value. The radius value determines how many atoms away from the central atom should be considered when generating the fingerprint. A typical radius value is 2, which means that the atoms up to 2 bonds away from the central atom will be considered.\n",
    "\n",
    "2. Generate atom-centered environments: Once the radius is chosen, the next step is to generate atom-centered environments. For each atom in the molecule, a circular environment is generated that includes all atoms within the chosen radius. The circular environment is centered on the current atom and includes all the bonds and atoms up to the chosen radius away from it.\n",
    "\n",
    "3. Generate substructures for each environment: Once the environments are generated, substructures are generated for each environment. The substructures represent the features of the environment that are important for fingerprinting. The substructures are generated by hashing the paths in the circular environment and creating a unique identifier for each path.\n",
    "\n",
    "4. Hash substructures to generate fingerprint: Finally, the substructures are hashed to generate the Morgan fingerprint. The hashing is done using a hash function that takes the substructure identifiers as input and generates a unique bit vector for each substructure. The bit vector is the fingerprint for that substructure and represents the presence or absence of that substructure in the molecule.\n",
    "\n",
    "5. Combine all substructure fingerprints: The Morgan fingerprint is generated by combining all of the substructure fingerprints generated in step 4. The resulting fingerprint is a binary bit vector where each bit represents the presence or absence of a particular substructure in the molecule."
   ]
  },
  {
   "cell_type": "code",
   "execution_count": 4,
   "metadata": {
    "executionInfo": {
     "elapsed": 213,
     "status": "ok",
     "timestamp": 1677967104971,
     "user": {
      "displayName": "Mao Tim",
      "userId": "10158930274252295750"
     },
     "user_tz": 300
    },
    "id": "4LezppWwllYV"
   },
   "outputs": [],
   "source": [
    "fp = DF['TRIMER_mol'].apply(lambda m: AllChem.GetMorganFingerprint(m, radius=3))\n",
    "fp_n = fp.apply(lambda m: m.GetNonzeroElements()) #dict, each key represent a substructure in bit digits"
   ]
  },
  {
   "cell_type": "code",
   "execution_count": 14,
   "metadata": {
    "colab": {
     "base_uri": "https://localhost:8080/"
    },
    "executionInfo": {
     "elapsed": 3,
     "status": "ok",
     "timestamp": 1677967104972,
     "user": {
      "displayName": "Mao Tim",
      "userId": "10158930274252295750"
     },
     "user_tz": 300
    },
    "id": "K14NrfwyAi-p",
    "outputId": "76233056-4408-48e7-ec70-402b4523d36e"
   },
   "outputs": [
    {
     "data": {
      "text/plain": [
       "<rdkit.DataStructs.cDataStructs.UIntSparseIntVect at 0x7f4a2c967580>"
      ]
     },
     "execution_count": 14,
     "metadata": {},
     "output_type": "execute_result"
    }
   ],
   "source": [
    "fp[0]"
   ]
  },
  {
   "cell_type": "code",
   "execution_count": 5,
   "metadata": {
    "colab": {
     "base_uri": "https://localhost:8080/"
    },
    "executionInfo": {
     "elapsed": 4,
     "status": "ok",
     "timestamp": 1677955346364,
     "user": {
      "displayName": "Mao Tim",
      "userId": "10158930274252295750"
     },
     "user_tz": 300
    },
    "id": "4AZHs6Aw6OKy",
    "outputId": "5dd6daa5-b634-4b5b-ad46-0286578835f6"
   },
   "outputs": [
    {
     "data": {
      "text/plain": [
       "{10565946: 2,\n",
       " 98513984: 1,\n",
       " 179432116: 1,\n",
       " 278534794: 1,\n",
       " 467123520: 1,\n",
       " 587511141: 1,\n",
       " 661888323: 1,\n",
       " 789496286: 1,\n",
       " 845999250: 1,\n",
       " 864942730: 2,\n",
       " 882399112: 1,\n",
       " 925707654: 1,\n",
       " 951226070: 4,\n",
       " 994485099: 3,\n",
       " 997801163: 1,\n",
       " 1016841875: 1,\n",
       " 1172939177: 1,\n",
       " 1323467736: 1,\n",
       " 1427929407: 1,\n",
       " 1455745809: 1,\n",
       " 1500223086: 1,\n",
       " 1616159509: 1,\n",
       " 1836363923: 1,\n",
       " 1842898132: 2,\n",
       " 1857396528: 1,\n",
       " 1866149706: 1,\n",
       " 1866436192: 1,\n",
       " 2051343976: 1,\n",
       " 2132511834: 2,\n",
       " 2144040306: 1,\n",
       " 2161076531: 1,\n",
       " 2286444213: 1,\n",
       " 2296493092: 2,\n",
       " 2302929571: 1,\n",
       " 2349689990: 1,\n",
       " 2353112200: 1,\n",
       " 2424973678: 1,\n",
       " 2602464909: 2,\n",
       " 2646407751: 1,\n",
       " 2739494946: 1,\n",
       " 2753990149: 1,\n",
       " 2806469715: 1,\n",
       " 2844346206: 1,\n",
       " 2850656190: 1,\n",
       " 2851977513: 1,\n",
       " 2968968094: 2,\n",
       " 2969923882: 1,\n",
       " 2985257562: 1,\n",
       " 3157391782: 1,\n",
       " 3217380708: 12,\n",
       " 3218693969: 8,\n",
       " 3234104871: 2,\n",
       " 3337745083: 1,\n",
       " 3376178981: 1,\n",
       " 3452535345: 1,\n",
       " 3462479532: 1,\n",
       " 3647526986: 1,\n",
       " 3658364521: 1,\n",
       " 3692055567: 1,\n",
       " 3745256908: 1,\n",
       " 3777038188: 1,\n",
       " 3863608508: 1,\n",
       " 3866353766: 1,\n",
       " 3941569874: 1,\n",
       " 3982076256: 3,\n",
       " 4142616092: 2,\n",
       " 4216335232: 1,\n",
       " 4217176003: 1,\n",
       " 4267579308: 2}"
      ]
     },
     "execution_count": 5,
     "metadata": {},
     "output_type": "execute_result"
    }
   ],
   "source": [
    "fp[0].GetNonzeroElements()"
   ]
  },
  {
   "cell_type": "code",
   "execution_count": null,
   "metadata": {
    "colab": {
     "base_uri": "https://localhost:8080/"
    },
    "executionInfo": {
     "elapsed": 3,
     "status": "ok",
     "timestamp": 1677955316081,
     "user": {
      "displayName": "Mao Tim",
      "userId": "10158930274252295750"
     },
     "user_tz": 300
    },
    "id": "p-IZcTfk7hkz",
    "outputId": "ddfd69fe-b1ec-45a4-f6cc-c11083d41fe7"
   },
   "outputs": [
    {
     "name": "stdout",
     "output_type": "stream",
     "text": [
      "['GetLength', 'GetNonzeroElements', 'GetTotalVal', 'ToBinary', 'UpdateFromSequence', '__add__', '__and__', '__class__', '__delattr__', '__dict__', '__dir__', '__doc__', '__eq__', '__format__', '__ge__', '__getattribute__', '__getinitargs__', '__getitem__', '__gt__', '__hash__', '__iadd__', '__idiv__', '__imul__', '__init__', '__init_subclass__', '__instance_size__', '__isub__', '__le__', '__lt__', '__module__', '__ne__', '__new__', '__or__', '__reduce__', '__reduce_ex__', '__repr__', '__safe_for_unpickling__', '__setattr__', '__setitem__', '__sizeof__', '__str__', '__sub__', '__subclasshook__', '__weakref__']\n"
     ]
    }
   ],
   "source": [
    "print(dir(fp[0]))\n"
   ]
  },
  {
   "cell_type": "code",
   "execution_count": null,
   "metadata": {
    "colab": {
     "base_uri": "https://localhost:8080/"
    },
    "executionInfo": {
     "elapsed": 4,
     "status": "ok",
     "timestamp": 1677955653068,
     "user": {
      "displayName": "Mao Tim",
      "userId": "10158930274252295750"
     },
     "user_tz": 300
    },
    "id": "IG8Cwb8O8MJR",
    "outputId": "b2413acd-1705-4220-e897-219c4e810baa"
   },
   "outputs": [
    {
     "data": {
      "text/plain": [
       "0.9038461538461539"
      ]
     },
     "execution_count": 45,
     "metadata": {},
     "output_type": "execute_result"
    }
   ],
   "source": [
    "#Compare similarity between two fingerprints\n",
    "\n",
    "fp1 = fp[0]\n",
    "fp2 = fp[1]\n",
    "\n",
    "rdkit.DataStructs.DiceSimilarity(fp1,fp2)"
   ]
  },
  {
   "cell_type": "code",
   "execution_count": null,
   "metadata": {
    "colab": {
     "base_uri": "https://localhost:8080/"
    },
    "executionInfo": {
     "elapsed": 3,
     "status": "ok",
     "timestamp": 1677955664823,
     "user": {
      "displayName": "Mao Tim",
      "userId": "10158930274252295750"
     },
     "user_tz": 300
    },
    "id": "mJGHprIc82x2",
    "outputId": "860828ec-c237-4ca5-f14a-8f299ad82086"
   },
   "outputs": [
    {
     "data": {
      "text/plain": [
       "1.0"
      ]
     },
     "execution_count": 46,
     "metadata": {},
     "output_type": "execute_result"
    }
   ],
   "source": [
    "rdkit.DataStructs.DiceSimilarity(fp1,fp1)"
   ]
  },
  {
   "cell_type": "code",
   "execution_count": null,
   "metadata": {
    "colab": {
     "base_uri": "https://localhost:8080/"
    },
    "executionInfo": {
     "elapsed": 331,
     "status": "ok",
     "timestamp": 1677956563190,
     "user": {
      "displayName": "Mao Tim",
      "userId": "10158930274252295750"
     },
     "user_tz": 300
    },
    "id": "2TBLQBJPAPJZ",
    "outputId": "4860f794-d576-400d-845d-5e05ad89752b"
   },
   "outputs": [
    {
     "data": {
      "text/plain": [
       "<rdkit.DataStructs.cDataStructs.UIntSparseIntVect at 0x7fa8551cc4c0>"
      ]
     },
     "execution_count": 48,
     "metadata": {},
     "output_type": "execute_result"
    }
   ],
   "source": [
    "fp1"
   ]
  },
  {
   "cell_type": "code",
   "execution_count": null,
   "metadata": {
    "colab": {
     "base_uri": "https://localhost:8080/"
    },
    "executionInfo": {
     "elapsed": 3,
     "status": "ok",
     "timestamp": 1677956588550,
     "user": {
      "displayName": "Mao Tim",
      "userId": "10158930274252295750"
     },
     "user_tz": 300
    },
    "id": "7ZrUZvzZAUxI",
    "outputId": "58e7742b-956f-4ceb-d917-618ec489ed99"
   },
   "outputs": [
    {
     "data": {
      "text/plain": [
       "dict"
      ]
     },
     "execution_count": 51,
     "metadata": {},
     "output_type": "execute_result"
    }
   ],
   "source": [
    "type(fp_n[0])"
   ]
  },
  {
   "cell_type": "code",
   "execution_count": 6,
   "metadata": {
    "executionInfo": {
     "elapsed": 183,
     "status": "ok",
     "timestamp": 1677967114689,
     "user": {
      "displayName": "Mao Tim",
      "userId": "10158930274252295750"
     },
     "user_tz": 300
    },
    "id": "U86P6NC5lpf4"
   },
   "outputs": [],
   "source": [
    "#collect unique substructures in a list\n",
    "HashCode = []\n",
    "for i in fp_n:\n",
    "    for j in i.keys():\n",
    "        HashCode.append(j)\n",
    "unique_set = set(HashCode)\n",
    "unique_list = list(unique_set)  #list of unique substructures \n",
    "Corr_df = pd.DataFrame(unique_list).reset_index()"
   ]
  },
  {
   "cell_type": "code",
   "execution_count": null,
   "metadata": {
    "colab": {
     "base_uri": "https://localhost:8080/",
     "height": 206
    },
    "executionInfo": {
     "elapsed": 4,
     "status": "ok",
     "timestamp": 1677957929744,
     "user": {
      "displayName": "Mao Tim",
      "userId": "10158930274252295750"
     },
     "user_tz": 300
    },
    "id": "cXW-ajGdFfB-",
    "outputId": "e2e1610f-d930-41ee-d7fa-cad6dac9b0b9"
   },
   "outputs": [
    {
     "data": {
      "text/html": [
       "\n",
       "  <div id=\"df-565c7ef9-7eeb-4b58-87d8-70abb271580f\">\n",
       "    <div class=\"colab-df-container\">\n",
       "      <div>\n",
       "<style scoped>\n",
       "    .dataframe tbody tr th:only-of-type {\n",
       "        vertical-align: middle;\n",
       "    }\n",
       "\n",
       "    .dataframe tbody tr th {\n",
       "        vertical-align: top;\n",
       "    }\n",
       "\n",
       "    .dataframe thead th {\n",
       "        text-align: right;\n",
       "    }\n",
       "</style>\n",
       "<table border=\"1\" class=\"dataframe\">\n",
       "  <thead>\n",
       "    <tr style=\"text-align: right;\">\n",
       "      <th></th>\n",
       "      <th>index</th>\n",
       "      <th>0</th>\n",
       "    </tr>\n",
       "  </thead>\n",
       "  <tbody>\n",
       "    <tr>\n",
       "      <th>0</th>\n",
       "      <td>0</td>\n",
       "      <td>2584477697</td>\n",
       "    </tr>\n",
       "    <tr>\n",
       "      <th>1</th>\n",
       "      <td>1</td>\n",
       "      <td>2023489538</td>\n",
       "    </tr>\n",
       "    <tr>\n",
       "      <th>2</th>\n",
       "      <td>2</td>\n",
       "      <td>24641539</td>\n",
       "    </tr>\n",
       "    <tr>\n",
       "      <th>3</th>\n",
       "      <td>3</td>\n",
       "      <td>1011613704</td>\n",
       "    </tr>\n",
       "    <tr>\n",
       "      <th>4</th>\n",
       "      <td>4</td>\n",
       "      <td>2694578185</td>\n",
       "    </tr>\n",
       "  </tbody>\n",
       "</table>\n",
       "</div>\n",
       "      <button class=\"colab-df-convert\" onclick=\"convertToInteractive('df-565c7ef9-7eeb-4b58-87d8-70abb271580f')\"\n",
       "              title=\"Convert this dataframe to an interactive table.\"\n",
       "              style=\"display:none;\">\n",
       "        \n",
       "  <svg xmlns=\"http://www.w3.org/2000/svg\" height=\"24px\"viewBox=\"0 0 24 24\"\n",
       "       width=\"24px\">\n",
       "    <path d=\"M0 0h24v24H0V0z\" fill=\"none\"/>\n",
       "    <path d=\"M18.56 5.44l.94 2.06.94-2.06 2.06-.94-2.06-.94-.94-2.06-.94 2.06-2.06.94zm-11 1L8.5 8.5l.94-2.06 2.06-.94-2.06-.94L8.5 2.5l-.94 2.06-2.06.94zm10 10l.94 2.06.94-2.06 2.06-.94-2.06-.94-.94-2.06-.94 2.06-2.06.94z\"/><path d=\"M17.41 7.96l-1.37-1.37c-.4-.4-.92-.59-1.43-.59-.52 0-1.04.2-1.43.59L10.3 9.45l-7.72 7.72c-.78.78-.78 2.05 0 2.83L4 21.41c.39.39.9.59 1.41.59.51 0 1.02-.2 1.41-.59l7.78-7.78 2.81-2.81c.8-.78.8-2.07 0-2.86zM5.41 20L4 18.59l7.72-7.72 1.47 1.35L5.41 20z\"/>\n",
       "  </svg>\n",
       "      </button>\n",
       "      \n",
       "  <style>\n",
       "    .colab-df-container {\n",
       "      display:flex;\n",
       "      flex-wrap:wrap;\n",
       "      gap: 12px;\n",
       "    }\n",
       "\n",
       "    .colab-df-convert {\n",
       "      background-color: #E8F0FE;\n",
       "      border: none;\n",
       "      border-radius: 50%;\n",
       "      cursor: pointer;\n",
       "      display: none;\n",
       "      fill: #1967D2;\n",
       "      height: 32px;\n",
       "      padding: 0 0 0 0;\n",
       "      width: 32px;\n",
       "    }\n",
       "\n",
       "    .colab-df-convert:hover {\n",
       "      background-color: #E2EBFA;\n",
       "      box-shadow: 0px 1px 2px rgba(60, 64, 67, 0.3), 0px 1px 3px 1px rgba(60, 64, 67, 0.15);\n",
       "      fill: #174EA6;\n",
       "    }\n",
       "\n",
       "    [theme=dark] .colab-df-convert {\n",
       "      background-color: #3B4455;\n",
       "      fill: #D2E3FC;\n",
       "    }\n",
       "\n",
       "    [theme=dark] .colab-df-convert:hover {\n",
       "      background-color: #434B5C;\n",
       "      box-shadow: 0px 1px 3px 1px rgba(0, 0, 0, 0.15);\n",
       "      filter: drop-shadow(0px 1px 2px rgba(0, 0, 0, 0.3));\n",
       "      fill: #FFFFFF;\n",
       "    }\n",
       "  </style>\n",
       "\n",
       "      <script>\n",
       "        const buttonEl =\n",
       "          document.querySelector('#df-565c7ef9-7eeb-4b58-87d8-70abb271580f button.colab-df-convert');\n",
       "        buttonEl.style.display =\n",
       "          google.colab.kernel.accessAllowed ? 'block' : 'none';\n",
       "\n",
       "        async function convertToInteractive(key) {\n",
       "          const element = document.querySelector('#df-565c7ef9-7eeb-4b58-87d8-70abb271580f');\n",
       "          const dataTable =\n",
       "            await google.colab.kernel.invokeFunction('convertToInteractive',\n",
       "                                                     [key], {});\n",
       "          if (!dataTable) return;\n",
       "\n",
       "          const docLinkHtml = 'Like what you see? Visit the ' +\n",
       "            '<a target=\"_blank\" href=https://colab.research.google.com/notebooks/data_table.ipynb>data table notebook</a>'\n",
       "            + ' to learn more about interactive tables.';\n",
       "          element.innerHTML = '';\n",
       "          dataTable['output_type'] = 'display_data';\n",
       "          await google.colab.output.renderOutput(dataTable, element);\n",
       "          const docLink = document.createElement('div');\n",
       "          docLink.innerHTML = docLinkHtml;\n",
       "          element.appendChild(docLink);\n",
       "        }\n",
       "      </script>\n",
       "    </div>\n",
       "  </div>\n",
       "  "
      ],
      "text/plain": [
       "   index           0\n",
       "0      0  2584477697\n",
       "1      1  2023489538\n",
       "2      2    24641539\n",
       "3      3  1011613704\n",
       "4      4  2694578185"
      ]
     },
     "execution_count": 55,
     "metadata": {},
     "output_type": "execute_result"
    }
   ],
   "source": [
    "Corr_df.head()"
   ]
  },
  {
   "cell_type": "code",
   "execution_count": 16,
   "metadata": {
    "colab": {
     "base_uri": "https://localhost:8080/"
    },
    "executionInfo": {
     "elapsed": 191,
     "status": "ok",
     "timestamp": 1677967118683,
     "user": {
      "displayName": "Mao Tim",
      "userId": "10158930274252295750"
     },
     "user_tz": 300
    },
    "id": "DjihT5gHF-bR",
    "outputId": "2105c79f-71cc-49af-9443-1fe9714b2fdc"
   },
   "outputs": [
    {
     "data": {
      "text/plain": [
       "12511"
      ]
     },
     "execution_count": 16,
     "metadata": {},
     "output_type": "execute_result"
    }
   ],
   "source": [
    "len(unique_list)"
   ]
  },
  {
   "cell_type": "code",
   "execution_count": null,
   "metadata": {
    "colab": {
     "base_uri": "https://localhost:8080/"
    },
    "executionInfo": {
     "elapsed": 3,
     "status": "ok",
     "timestamp": 1677958645515,
     "user": {
      "displayName": "Mao Tim",
      "userId": "10158930274252295750"
     },
     "user_tz": 300
    },
    "id": "Zhee4DUNIPfr",
    "outputId": "70fdb24e-fa46-48a4-b2f2-cbb046df0e6d"
   },
   "outputs": [
    {
     "data": {
      "text/plain": [
       "47988"
      ]
     },
     "execution_count": 72,
     "metadata": {},
     "output_type": "execute_result"
    }
   ],
   "source": [
    "len(fp_n)"
   ]
  },
  {
   "cell_type": "code",
   "execution_count": 7,
   "metadata": {
    "executionInfo": {
     "elapsed": 63522,
     "status": "ok",
     "timestamp": 1677967198865,
     "user": {
      "displayName": "Mao Tim",
      "userId": "10158930274252295750"
     },
     "user_tz": 300
    },
    "id": "zIrcDpVFl2ry"
   },
   "outputs": [],
   "source": [
    "#calculate the appearance of each substructure in the whole dataset. 130451 x 47988 size in total\n",
    "MY_finger = []\n",
    "for polymer in fp_n:\n",
    "    my_finger = [0] * len(unique_list)\n",
    "    for key in polymer.keys():\n",
    "        index = Corr_df[Corr_df[0] == key]['index'].values[0]\n",
    "        my_finger[index] = polymer[key]\n",
    "    MY_finger.append(my_finger)\n",
    "MY_finger_dataset_1000 = pd.DataFrame(MY_finger)\n",
    "MY_finger_dataset_1000.to_csv('MY_finger_dataset_1000.csv', index=False)"
   ]
  },
  {
   "cell_type": "code",
   "execution_count": 8,
   "metadata": {
    "executionInfo": {
     "elapsed": 533,
     "status": "ok",
     "timestamp": 1677967318911,
     "user": {
      "displayName": "Mao Tim",
      "userId": "10158930274252295750"
     },
     "user_tz": 300
    },
    "id": "KKTIDLIbMekP"
   },
   "outputs": [],
   "source": [
    "#MY_finger_dataset=pd.read_csv('MY_finger_dataset.csv').reset_index()\n",
    "MY_finger_dataset = MY_finger_dataset_1000"
   ]
  },
  {
   "cell_type": "code",
   "execution_count": 9,
   "metadata": {},
   "outputs": [],
   "source": [
    "Zero_Sum = (MY_finger_dataset == 0).astype(int).sum()\n",
    "NumberOfZero = 4670 # a optimized parameter for feature filter: if more than 4670 of the 5000 samples do not pocess one substrcture, then remove this substructure from the feature matrix\n",
    "X = MY_finger_dataset[Zero_Sum[Zero_Sum < NumberOfZero].index]"
   ]
  },
  {
   "cell_type": "code",
   "execution_count": 29,
   "metadata": {},
   "outputs": [
    {
     "data": {
      "text/plain": [
       "(1000, 12511)"
      ]
     },
     "execution_count": 29,
     "metadata": {},
     "output_type": "execute_result"
    }
   ],
   "source": [
    "X.shape"
   ]
  },
  {
   "cell_type": "code",
   "execution_count": 10,
   "metadata": {},
   "outputs": [],
   "source": [
    "# input for RNN\n",
    "Mix_X_100Block = []\n",
    "for i in range(len(DF)):\n",
    "    Sequency_X = [0 for a in range(100)]\n",
    "    for j in range(100):\n",
    "            if j%2 == 0:\n",
    "                Sequency_X[j] = list(X.iloc[i].values)\n",
    "            else:\n",
    "                Sequency_X[j] = list(X.iloc[i].values)\n",
    "    Mix_X_100Block.append(Sequency_X)   \n",
    "Mix_X_100Block = np.array(Mix_X_100Block)"
   ]
  },
  {
   "cell_type": "code",
   "execution_count": 15,
   "metadata": {},
   "outputs": [
    {
     "data": {
      "text/plain": [
       "(1000, 100, 12511)"
      ]
     },
     "execution_count": 15,
     "metadata": {},
     "output_type": "execute_result"
    }
   ],
   "source": [
    "Mix_X_100Block.shape"
   ]
  },
  {
   "cell_type": "code",
   "execution_count": 18,
   "metadata": {
    "executionInfo": {
     "elapsed": 232,
     "status": "ok",
     "timestamp": 1677967327212,
     "user": {
      "displayName": "Mao Tim",
      "userId": "10158930274252295750"
     },
     "user_tz": 300
    },
    "id": "FJE-vOfXMhLi"
   },
   "outputs": [],
   "source": [
    "X_train, X_test, y_train, y_test = train_test_split(Mix_X_100Block, DF['IP (eV)'], test_size=0.2, random_state=11)"
   ]
  },
  {
   "cell_type": "code",
   "execution_count": 21,
   "metadata": {
    "colab": {
     "base_uri": "https://localhost:8080/",
     "height": 1000
    },
    "executionInfo": {
     "elapsed": 546,
     "status": "error",
     "timestamp": 1677967348042,
     "user": {
      "displayName": "Mao Tim",
      "userId": "10158930274252295750"
     },
     "user_tz": 300
    },
    "id": "LzPBQGDxpX1d",
    "outputId": "f2495e3d-0522-4ebf-95ba-5365362282d9"
   },
   "outputs": [],
   "source": [
    "# model setup using the optimized architecture for IP\n",
    "LSTMunits = 20 # hyperprameter for LSTM\n",
    "RNNmodel = Sequential()\n",
    "RNNmodel.add(Bidirectional(LSTM(LSTMunits, return_sequences=True), input_shape=(100,12511)))\n",
    "RNNmodel.add(Bidirectional(LSTM(LSTMunits, return_sequences=True)))\n",
    "RNNmodel.add(TimeDistributed(tensorflow.keras.layers.Dense(int(LSTMunits/2), activation=\"relu\")))\n",
    "RNNmodel.add(Reshape((int(LSTMunits/2*100),)))\n",
    "RNNmodel.add(Dense(1))"
   ]
  },
  {
   "cell_type": "code",
   "execution_count": 22,
   "metadata": {
    "id": "Xs6AeSCvuZC8"
   },
   "outputs": [
    {
     "name": "stdout",
     "output_type": "stream",
     "text": [
      "Epoch 1/120\n",
      "10/10 [==============================] - 10s 981ms/step - loss: 16.4998 - val_loss: 1.2958\n",
      "Epoch 2/120\n",
      "10/10 [==============================] - 8s 802ms/step - loss: 1.9288 - val_loss: 0.4124\n",
      "Epoch 3/120\n",
      "10/10 [==============================] - 8s 844ms/step - loss: 0.6624 - val_loss: 0.1510\n",
      "Epoch 4/120\n",
      "10/10 [==============================] - 8s 806ms/step - loss: 0.2730 - val_loss: 0.1345\n",
      "Epoch 5/120\n",
      "10/10 [==============================] - 8s 821ms/step - loss: 0.1444 - val_loss: 0.1270\n",
      "Epoch 6/120\n",
      "10/10 [==============================] - 8s 799ms/step - loss: 0.0921 - val_loss: 0.0934\n",
      "Epoch 7/120\n",
      "10/10 [==============================] - 7s 747ms/step - loss: 0.0580 - val_loss: 0.0791\n",
      "Epoch 8/120\n",
      "10/10 [==============================] - 8s 752ms/step - loss: 0.0358 - val_loss: 0.0642\n",
      "Epoch 9/120\n",
      "10/10 [==============================] - 8s 786ms/step - loss: 0.0230 - val_loss: 0.0559\n",
      "Epoch 10/120\n",
      "10/10 [==============================] - 8s 793ms/step - loss: 0.0156 - val_loss: 0.0509\n",
      "Epoch 11/120\n",
      "10/10 [==============================] - 7s 726ms/step - loss: 0.0107 - val_loss: 0.0469\n",
      "Epoch 12/120\n",
      "10/10 [==============================] - 7s 716ms/step - loss: 0.0074 - val_loss: 0.0457\n",
      "Epoch 13/120\n",
      "10/10 [==============================] - 7s 722ms/step - loss: 0.0053 - val_loss: 0.0437\n",
      "Epoch 14/120\n",
      "10/10 [==============================] - 7s 737ms/step - loss: 0.0037 - val_loss: 0.0428\n",
      "Epoch 15/120\n",
      "10/10 [==============================] - 7s 725ms/step - loss: 0.0025 - val_loss: 0.0423\n",
      "Epoch 16/120\n",
      "10/10 [==============================] - 7s 710ms/step - loss: 0.0017 - val_loss: 0.0414\n",
      "Epoch 17/120\n",
      "10/10 [==============================] - 7s 709ms/step - loss: 0.0012 - val_loss: 0.0415\n",
      "Epoch 18/120\n",
      "10/10 [==============================] - 7s 725ms/step - loss: 8.5268e-04 - val_loss: 0.0409\n",
      "Epoch 19/120\n",
      "10/10 [==============================] - 7s 720ms/step - loss: 5.9980e-04 - val_loss: 0.0409\n",
      "Epoch 20/120\n",
      "10/10 [==============================] - 7s 719ms/step - loss: 4.2397e-04 - val_loss: 0.0405\n",
      "Epoch 21/120\n",
      "10/10 [==============================] - 7s 720ms/step - loss: 3.1996e-04 - val_loss: 0.0405\n",
      "Epoch 22/120\n",
      "10/10 [==============================] - 7s 717ms/step - loss: 2.3178e-04 - val_loss: 0.0405\n",
      "Epoch 23/120\n",
      "10/10 [==============================] - 7s 724ms/step - loss: 1.8146e-04 - val_loss: 0.0404\n",
      "Epoch 24/120\n",
      "10/10 [==============================] - 7s 721ms/step - loss: 1.3531e-04 - val_loss: 0.0403\n",
      "Epoch 25/120\n",
      "10/10 [==============================] - 7s 733ms/step - loss: 1.0501e-04 - val_loss: 0.0403\n",
      "Epoch 26/120\n",
      "10/10 [==============================] - 7s 735ms/step - loss: 8.3346e-05 - val_loss: 0.0404\n",
      "Epoch 27/120\n",
      "10/10 [==============================] - 7s 729ms/step - loss: 6.5537e-05 - val_loss: 0.0403\n",
      "Epoch 28/120\n",
      "10/10 [==============================] - 7s 724ms/step - loss: 5.3415e-05 - val_loss: 0.0404\n",
      "Epoch 29/120\n",
      "10/10 [==============================] - 7s 706ms/step - loss: 4.3713e-05 - val_loss: 0.0404\n",
      "Epoch 30/120\n",
      "10/10 [==============================] - 7s 725ms/step - loss: 3.7997e-05 - val_loss: 0.0403\n",
      "Epoch 31/120\n",
      "10/10 [==============================] - 7s 710ms/step - loss: 3.1976e-05 - val_loss: 0.0403\n",
      "Epoch 32/120\n",
      "10/10 [==============================] - 7s 723ms/step - loss: 2.7627e-05 - val_loss: 0.0403\n",
      "Epoch 33/120\n",
      "10/10 [==============================] - 7s 713ms/step - loss: 2.4646e-05 - val_loss: 0.0403\n",
      "Epoch 34/120\n",
      "10/10 [==============================] - 7s 706ms/step - loss: 2.2338e-05 - val_loss: 0.0403\n",
      "Epoch 35/120\n",
      "10/10 [==============================] - 7s 723ms/step - loss: 2.0795e-05 - val_loss: 0.0403\n",
      "Epoch 36/120\n",
      "10/10 [==============================] - 7s 721ms/step - loss: 1.9332e-05 - val_loss: 0.0403\n",
      "Epoch 37/120\n",
      "10/10 [==============================] - 7s 715ms/step - loss: 1.7295e-05 - val_loss: 0.0403\n",
      "Epoch 38/120\n",
      "10/10 [==============================] - 7s 720ms/step - loss: 1.7498e-05 - val_loss: 0.0403\n",
      "Epoch 39/120\n",
      "10/10 [==============================] - 7s 729ms/step - loss: 1.6638e-05 - val_loss: 0.0403\n",
      "Epoch 40/120\n",
      "10/10 [==============================] - 7s 725ms/step - loss: 1.4799e-05 - val_loss: 0.0403\n",
      "Epoch 41/120\n",
      "10/10 [==============================] - 7s 709ms/step - loss: 1.4902e-05 - val_loss: 0.0403\n",
      "Epoch 42/120\n",
      "10/10 [==============================] - 7s 713ms/step - loss: 1.4640e-05 - val_loss: 0.0403\n",
      "Epoch 43/120\n",
      "10/10 [==============================] - 7s 714ms/step - loss: 1.3970e-05 - val_loss: 0.0403\n",
      "Epoch 44/120\n",
      "10/10 [==============================] - 7s 732ms/step - loss: 1.4298e-05 - val_loss: 0.0403\n",
      "Epoch 45/120\n",
      "10/10 [==============================] - 7s 718ms/step - loss: 1.3010e-05 - val_loss: 0.0403\n",
      "Epoch 46/120\n",
      "10/10 [==============================] - 7s 721ms/step - loss: 1.3037e-05 - val_loss: 0.0403\n",
      "Epoch 47/120\n",
      "10/10 [==============================] - 7s 719ms/step - loss: 1.3809e-05 - val_loss: 0.0403\n",
      "Epoch 48/120\n",
      "10/10 [==============================] - 7s 736ms/step - loss: 1.3267e-05 - val_loss: 0.0403\n",
      "Epoch 49/120\n",
      "10/10 [==============================] - 7s 720ms/step - loss: 1.2885e-05 - val_loss: 0.0403\n",
      "Epoch 50/120\n",
      "10/10 [==============================] - 7s 712ms/step - loss: 1.2821e-05 - val_loss: 0.0403\n",
      "Epoch 51/120\n",
      "10/10 [==============================] - 7s 724ms/step - loss: 1.3095e-05 - val_loss: 0.0403\n",
      "Epoch 52/120\n",
      "10/10 [==============================] - 7s 733ms/step - loss: 1.2551e-05 - val_loss: 0.0403\n",
      "Epoch 53/120\n",
      "10/10 [==============================] - 7s 720ms/step - loss: 1.2773e-05 - val_loss: 0.0403\n",
      "Epoch 54/120\n",
      "10/10 [==============================] - 7s 730ms/step - loss: 1.2954e-05 - val_loss: 0.0403\n",
      "Epoch 55/120\n",
      "10/10 [==============================] - 7s 727ms/step - loss: 1.2008e-05 - val_loss: 0.0403\n",
      "Epoch 56/120\n",
      "10/10 [==============================] - 7s 725ms/step - loss: 1.2706e-05 - val_loss: 0.0403\n",
      "Epoch 57/120\n",
      "10/10 [==============================] - 7s 719ms/step - loss: 1.2457e-05 - val_loss: 0.0403\n",
      "Epoch 58/120\n",
      "10/10 [==============================] - 7s 709ms/step - loss: 1.2114e-05 - val_loss: 0.0403\n",
      "Epoch 59/120\n",
      "10/10 [==============================] - 7s 719ms/step - loss: 1.2678e-05 - val_loss: 0.0403\n",
      "Epoch 60/120\n",
      "10/10 [==============================] - 7s 718ms/step - loss: 1.2515e-05 - val_loss: 0.0403\n",
      "Epoch 61/120\n",
      "10/10 [==============================] - 7s 716ms/step - loss: 1.2771e-05 - val_loss: 0.0403\n",
      "Epoch 62/120\n",
      "10/10 [==============================] - 7s 719ms/step - loss: 1.3402e-05 - val_loss: 0.0403\n",
      "Epoch 63/120\n",
      "10/10 [==============================] - 7s 736ms/step - loss: 1.3735e-05 - val_loss: 0.0403\n",
      "Epoch 64/120\n",
      "10/10 [==============================] - 7s 709ms/step - loss: 1.2537e-05 - val_loss: 0.0403\n",
      "Epoch 65/120\n",
      "10/10 [==============================] - 7s 700ms/step - loss: 1.2200e-05 - val_loss: 0.0403\n",
      "Epoch 66/120\n",
      "10/10 [==============================] - 7s 725ms/step - loss: 1.3640e-05 - val_loss: 0.0403\n",
      "Epoch 67/120\n",
      "10/10 [==============================] - 7s 721ms/step - loss: 1.2456e-05 - val_loss: 0.0403\n",
      "Epoch 68/120\n",
      "10/10 [==============================] - 7s 731ms/step - loss: 1.3009e-05 - val_loss: 0.0403\n",
      "Epoch 69/120\n",
      "10/10 [==============================] - 7s 705ms/step - loss: 1.3476e-05 - val_loss: 0.0403\n",
      "Epoch 70/120\n",
      "10/10 [==============================] - 7s 722ms/step - loss: 1.3173e-05 - val_loss: 0.0403\n",
      "Epoch 71/120\n",
      "10/10 [==============================] - 7s 713ms/step - loss: 1.4229e-05 - val_loss: 0.0403\n",
      "Epoch 72/120\n",
      "10/10 [==============================] - 7s 727ms/step - loss: 1.3090e-05 - val_loss: 0.0403\n",
      "Epoch 73/120\n",
      "10/10 [==============================] - 7s 709ms/step - loss: 1.3354e-05 - val_loss: 0.0403\n",
      "Epoch 74/120\n",
      "10/10 [==============================] - 7s 743ms/step - loss: 1.2393e-05 - val_loss: 0.0403\n",
      "Epoch 75/120\n",
      "10/10 [==============================] - 7s 721ms/step - loss: 1.3873e-05 - val_loss: 0.0403\n",
      "Epoch 76/120\n",
      "10/10 [==============================] - 7s 723ms/step - loss: 1.2462e-05 - val_loss: 0.0403\n",
      "Epoch 77/120\n",
      "10/10 [==============================] - 7s 713ms/step - loss: 1.2353e-05 - val_loss: 0.0403\n",
      "Epoch 78/120\n",
      "10/10 [==============================] - 7s 713ms/step - loss: 1.4851e-05 - val_loss: 0.0403\n",
      "Epoch 79/120\n",
      "10/10 [==============================] - 7s 724ms/step - loss: 1.5263e-05 - val_loss: 0.0402\n",
      "Epoch 80/120\n",
      "10/10 [==============================] - 7s 719ms/step - loss: 1.5457e-05 - val_loss: 0.0403\n",
      "Epoch 81/120\n",
      "10/10 [==============================] - 7s 715ms/step - loss: 1.4959e-05 - val_loss: 0.0402\n",
      "Epoch 82/120\n",
      "10/10 [==============================] - 7s 722ms/step - loss: 1.3468e-05 - val_loss: 0.0403\n",
      "Epoch 83/120\n",
      "10/10 [==============================] - 7s 705ms/step - loss: 1.3032e-05 - val_loss: 0.0403\n",
      "Epoch 84/120\n",
      "10/10 [==============================] - 7s 723ms/step - loss: 1.4649e-05 - val_loss: 0.0403\n",
      "Epoch 85/120\n",
      "10/10 [==============================] - 7s 732ms/step - loss: 1.2524e-05 - val_loss: 0.0403\n",
      "Epoch 86/120\n",
      "10/10 [==============================] - 7s 719ms/step - loss: 1.4415e-05 - val_loss: 0.0403\n",
      "Epoch 87/120\n",
      "10/10 [==============================] - 7s 719ms/step - loss: 1.5665e-05 - val_loss: 0.0403\n",
      "Epoch 88/120\n",
      "10/10 [==============================] - 7s 721ms/step - loss: 1.4737e-05 - val_loss: 0.0403\n",
      "Epoch 89/120\n",
      "10/10 [==============================] - 7s 700ms/step - loss: 1.4002e-05 - val_loss: 0.0403\n",
      "Epoch 90/120\n",
      "10/10 [==============================] - 7s 706ms/step - loss: 1.4627e-05 - val_loss: 0.0403\n",
      "Epoch 91/120\n",
      "10/10 [==============================] - 7s 706ms/step - loss: 1.4390e-05 - val_loss: 0.0403\n",
      "Epoch 92/120\n",
      "10/10 [==============================] - 7s 728ms/step - loss: 1.3142e-05 - val_loss: 0.0403\n",
      "Epoch 93/120\n",
      "10/10 [==============================] - 7s 703ms/step - loss: 1.2715e-05 - val_loss: 0.0403\n",
      "Epoch 94/120\n",
      "10/10 [==============================] - 7s 721ms/step - loss: 1.3446e-05 - val_loss: 0.0403\n",
      "Epoch 95/120\n",
      "10/10 [==============================] - 7s 725ms/step - loss: 1.2296e-05 - val_loss: 0.0403\n",
      "Epoch 96/120\n",
      "10/10 [==============================] - 7s 710ms/step - loss: 1.4315e-05 - val_loss: 0.0403\n",
      "Epoch 97/120\n",
      "10/10 [==============================] - 7s 703ms/step - loss: 1.5937e-05 - val_loss: 0.0403\n",
      "Epoch 98/120\n",
      "10/10 [==============================] - 7s 703ms/step - loss: 1.5261e-05 - val_loss: 0.0403\n",
      "Epoch 99/120\n",
      "10/10 [==============================] - 7s 724ms/step - loss: 1.2980e-05 - val_loss: 0.0403\n",
      "Epoch 100/120\n",
      "10/10 [==============================] - 7s 711ms/step - loss: 1.5582e-05 - val_loss: 0.0403\n",
      "Epoch 101/120\n",
      "10/10 [==============================] - 7s 719ms/step - loss: 1.4045e-05 - val_loss: 0.0403\n",
      "Epoch 102/120\n",
      "10/10 [==============================] - 7s 714ms/step - loss: 1.3871e-05 - val_loss: 0.0403\n",
      "Epoch 103/120\n",
      "10/10 [==============================] - 7s 716ms/step - loss: 1.4608e-05 - val_loss: 0.0403\n",
      "Epoch 104/120\n",
      "10/10 [==============================] - 7s 714ms/step - loss: 1.3258e-05 - val_loss: 0.0403\n",
      "Epoch 105/120\n",
      "10/10 [==============================] - 7s 734ms/step - loss: 1.2408e-05 - val_loss: 0.0403\n",
      "Epoch 106/120\n",
      "10/10 [==============================] - 7s 718ms/step - loss: 1.3860e-05 - val_loss: 0.0403\n",
      "Epoch 107/120\n",
      "10/10 [==============================] - 7s 725ms/step - loss: 1.3102e-05 - val_loss: 0.0403\n",
      "Epoch 108/120\n",
      "10/10 [==============================] - 7s 732ms/step - loss: 1.3219e-05 - val_loss: 0.0403\n",
      "Epoch 109/120\n",
      "10/10 [==============================] - 7s 712ms/step - loss: 1.5220e-05 - val_loss: 0.0403\n",
      "Epoch 110/120\n",
      "10/10 [==============================] - 7s 709ms/step - loss: 1.4730e-05 - val_loss: 0.0403\n",
      "Epoch 111/120\n",
      "10/10 [==============================] - 7s 697ms/step - loss: 1.6585e-05 - val_loss: 0.0402\n",
      "Epoch 112/120\n",
      "10/10 [==============================] - 7s 726ms/step - loss: 1.3863e-05 - val_loss: 0.0403\n",
      "Epoch 113/120\n",
      "10/10 [==============================] - 7s 711ms/step - loss: 1.5111e-05 - val_loss: 0.0403\n",
      "Epoch 114/120\n",
      "10/10 [==============================] - 7s 725ms/step - loss: 1.4703e-05 - val_loss: 0.0403\n",
      "Epoch 115/120\n",
      "10/10 [==============================] - 7s 733ms/step - loss: 1.4666e-05 - val_loss: 0.0402\n",
      "Epoch 116/120\n",
      "10/10 [==============================] - 7s 730ms/step - loss: 1.6179e-05 - val_loss: 0.0403\n",
      "Epoch 117/120\n",
      "10/10 [==============================] - 7s 728ms/step - loss: 1.6117e-05 - val_loss: 0.0403\n",
      "Epoch 118/120\n",
      "10/10 [==============================] - 7s 702ms/step - loss: 1.5959e-05 - val_loss: 0.0403\n",
      "Epoch 119/120\n",
      "10/10 [==============================] - 7s 688ms/step - loss: 1.5496e-05 - val_loss: 0.0403\n",
      "Epoch 120/120\n",
      "10/10 [==============================] - 7s 698ms/step - loss: 1.5578e-05 - val_loss: 0.0403\n"
     ]
    },
    {
     "data": {
      "text/plain": [
       "<tensorflow.python.keras.callbacks.History at 0x7f0da07311d0>"
      ]
     },
     "execution_count": 22,
     "metadata": {},
     "output_type": "execute_result"
    }
   ],
   "source": [
    "RNNmodel.compile(loss='mse', optimizer='adam')\n",
    "RNNmodel.fit(X_train, y_train, validation_split=0.2, epochs=120, batch_size=64)"
   ]
  },
  {
   "cell_type": "code",
   "execution_count": 24,
   "metadata": {},
   "outputs": [],
   "source": [
    "filepath = 'Binary_IP_RNN_1000.model'\n",
    "save_model(RNNmodel, filepath, save_format='h5')"
   ]
  },
  {
   "cell_type": "code",
   "execution_count": 25,
   "metadata": {},
   "outputs": [
    {
     "name": "stdout",
     "output_type": "stream",
     "text": [
      "model performance (IP)\n",
      "Train set R^2: 0.96\n",
      "Train MAE score: 0.03\n",
      "Train RMSE score: 0.09\n",
      "Test set R^2: 0.79\n",
      "Test MAE score: 0.16\n",
      "Test RMSE score: 0.22\n"
     ]
    }
   ],
   "source": [
    "# model evaluation\n",
    "print(\"model performance (IP)\")\n",
    "y_pred_train = RNNmodel.predict((X_train))\n",
    "print(\"Train set R^2: %.2f\" % r2_score(y_train, y_pred_train))\n",
    "print(\"Train MAE score: %.2f\" % mean_absolute_error(y_train, y_pred_train))\n",
    "print(\"Train RMSE score: %.2f\" % np.sqrt(mean_squared_error(y_train, y_pred_train)))\n",
    "y_pred_test = RNNmodel.predict((X_test))\n",
    "print(\"Test set R^2: %.2f\" % r2_score(y_test, y_pred_test))\n",
    "print(\"Test MAE score: %.2f\" % mean_absolute_error(y_test, y_pred_test))\n",
    "print(\"Test RMSE score: %.2f\" % np.sqrt(mean_squared_error(y_test, y_pred_test)))\n"
   ]
  },
  {
   "cell_type": "code",
   "execution_count": 26,
   "metadata": {},
   "outputs": [],
   "source": [
    "X_train, X_test, y_train, y_test = train_test_split(Mix_X_100Block, DF['EA (eV)'], test_size=0.2, random_state=11)"
   ]
  },
  {
   "cell_type": "code",
   "execution_count": 27,
   "metadata": {},
   "outputs": [],
   "source": [
    "# model setup using the optimized architecture for EA\n",
    "LSTMunits = 20 # hyperprameter for LSTM\n",
    "RNNmodel = Sequential()\n",
    "RNNmodel.add(Bidirectional(LSTM(LSTMunits, return_sequences=True), input_shape=(100,12511)))\n",
    "RNNmodel.add(Bidirectional(LSTM(LSTMunits, return_sequences=True)))\n",
    "RNNmodel.add(TimeDistributed(Dense(int(LSTMunits/2), activation=\"relu\")))\n",
    "RNNmodel.add(Reshape((int(LSTMunits/2*100),)))\n",
    "RNNmodel.add(Dense(1))"
   ]
  },
  {
   "cell_type": "code",
   "execution_count": null,
   "metadata": {},
   "outputs": [],
   "source": [
    "RNNmodel.compile(loss='mse', optimizer='adam')\n",
    "RNNmodel.fit(X_train, y_train, validation_split=0.2, epochs=120, batch_size=64)\n"
   ]
  },
  {
   "cell_type": "code",
   "execution_count": null,
   "metadata": {},
   "outputs": [],
   "source": []
  }
 ],
 "metadata": {
  "accelerator": "GPU",
  "colab": {
   "authorship_tag": "ABX9TyMplFmXY1hRk8oUXXQ0aV9Q",
   "machine_shape": "hm",
   "mount_file_id": "1Ky8CvCljMiX1KQqC8vvGVK7nKMCVElBs",
   "provenance": []
  },
  "gpuClass": "standard",
  "kernelspec": {
   "display_name": "Python (.conda-figo)",
   "language": "python",
   "name": "conda-env-.conda-figo-py"
  },
  "language_info": {
   "codemirror_mode": {
    "name": "ipython",
    "version": 3
   },
   "file_extension": ".py",
   "mimetype": "text/x-python",
   "name": "python",
   "nbconvert_exporter": "python",
   "pygments_lexer": "ipython3",
   "version": "3.7.13"
  }
 },
 "nbformat": 4,
 "nbformat_minor": 4
}
