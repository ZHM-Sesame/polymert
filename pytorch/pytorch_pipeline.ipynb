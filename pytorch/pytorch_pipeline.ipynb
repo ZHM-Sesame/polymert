{
 "cells": [
  {
   "cell_type": "code",
   "execution_count": 1,
   "id": "59a7d5d4-e9c3-4bb0-9f10-2f593de86d74",
   "metadata": {},
   "outputs": [
    {
     "name": "stdout",
     "output_type": "stream",
     "text": [
      "Using cuda device\n"
     ]
    }
   ],
   "source": [
    "import pandas as pd\n",
    "import numpy as np\n",
    "import pickle\n",
    "import rdkit\n",
    "from rdkit import Chem\n",
    "from rdkit.Chem import AllChem\n",
    "import time\n",
    "import argparse\n",
    "import os\n",
    "import matplotlib.pyplot as plt\n",
    "import torch\n",
    "from torch import nn\n",
    "import torch.nn.init as init\n",
    "from torchvision.transforms import ToTensor\n",
    "from sklearn.model_selection import train_test_split\n",
    "from torch.utils.data import Dataset, DataLoader\n",
    "import wandb\n",
    "from tqdm import tqdm\n",
    "\n",
    "\n",
    "device = \"cuda\" if torch.cuda.is_available() else \"mps\" if torch.backends.mps.is_available() else \"cpu\"\n",
    "print(f\"Using {device} device\")"
   ]
  },
  {
   "cell_type": "code",
   "execution_count": 2,
   "id": "c0a72674-1130-480e-a17b-c5714f9fde40",
   "metadata": {},
   "outputs": [
    {
     "name": "stderr",
     "output_type": "stream",
     "text": [
      "Failed to detect the name of this notebook, you can set it manually with the WANDB_NOTEBOOK_NAME environment variable to enable code saving.\n",
      "\u001b[34m\u001b[1mwandb\u001b[0m: Currently logged in as: \u001b[33mzihaom96\u001b[0m. Use \u001b[1m`wandb login --relogin`\u001b[0m to force relogin\n"
     ]
    },
    {
     "data": {
      "text/plain": [
       "True"
      ]
     },
     "execution_count": 2,
     "metadata": {},
     "output_type": "execute_result"
    }
   ],
   "source": [
    "wandb.login() #9a0ae44e5144f21ddaf2dbb8139e4f300be33f43"
   ]
  },
  {
   "cell_type": "code",
   "execution_count": 3,
   "id": "3778efc5-493c-4ca3-883e-03e6208444ef",
   "metadata": {},
   "outputs": [],
   "source": [
    "df = pd.read_csv('../baselines/RNN/datasets/Dataset 1.csv') #to be comparable with the size of other datasets, select ~5000 data points from the reference\n",
    "df['TRIMER_mol'] = df['TRIMER'].apply(Chem.MolFromSmiles)\n",
    "df = df.dropna()\n",
    "#df = df.head(5000)"
   ]
  },
  {
   "cell_type": "code",
   "execution_count": 4,
   "id": "ce8ffff8-98b7-4def-b85a-00ebd877b3fb",
   "metadata": {},
   "outputs": [],
   "source": [
    "nbits = 1024\n",
    "fp = df['TRIMER_mol'].apply(lambda m: AllChem.GetMorganFingerprintAsBitVect(m, radius=3, nBits=nbits))\n",
    "fp_array = np.asarray([np.array(fp[i]) for i in range(len(fp))])\n",
    "df['fps'] = fp"
   ]
  },
  {
   "cell_type": "code",
   "execution_count": 5,
   "id": "ba318624-e54e-4d76-b356-fa09b2bb9f12",
   "metadata": {},
   "outputs": [],
   "source": [
    "Mix_X_100Block = np.repeat(fp_array, 100, axis=0)\n",
    "Mix_X_100Block = Mix_X_100Block.reshape(len(df), 100, nbits)\n"
   ]
  },
  {
   "cell_type": "code",
   "execution_count": 6,
   "id": "9d945a6f-ed47-4f79-ac72-709631c8c4d6",
   "metadata": {},
   "outputs": [],
   "source": [
    "\n",
    "target_column = \"IP (eV)\" #\"EA (eV)\"\n",
    "\n",
    "X_train, X_test, y_train, y_test = train_test_split(Mix_X_100Block, df[target_column], test_size=0.2, random_state=11)\n"
   ]
  },
  {
   "cell_type": "code",
   "execution_count": 7,
   "id": "5083f6b1-c784-4909-9492-82ce7be43e79",
   "metadata": {},
   "outputs": [],
   "source": [
    "X_train_tensor = torch.tensor(X_train, dtype=torch.long)\n",
    "y_train_tensor = torch.tensor(y_train.values, dtype=torch.float32)\n",
    "\n",
    "X_test_tensor = torch.tensor(X_test, dtype=torch.long)\n",
    "y_test_tensor = torch.tensor(y_test.values, dtype=torch.float32)"
   ]
  },
  {
   "cell_type": "code",
   "execution_count": 8,
   "id": "69658207-b01e-47eb-af20-22568cd57b07",
   "metadata": {},
   "outputs": [],
   "source": [
    "class MolecularDataset(Dataset):\n",
    "    def __init__(self, X, y):\n",
    "        self.X = X\n",
    "        self.y = y\n",
    "\n",
    "    def __len__(self):\n",
    "        return len(self.X)\n",
    "\n",
    "    def __getitem__(self, idx):\n",
    "        x = self.X[idx]\n",
    "        y = self.y[idx]\n",
    "        \n",
    "        x = torch.tensor(x, dtype=torch.float32)\n",
    "        y = torch.tensor(y, dtype=torch.float32)\n",
    "        \n",
    "        return x, y"
   ]
  },
  {
   "cell_type": "code",
   "execution_count": 9,
   "id": "0b20a63c-5ed0-4d46-82b4-b06da637255f",
   "metadata": {},
   "outputs": [],
   "source": [
    "train_dataset = MolecularDataset(X_train_tensor, y_train_tensor)\n",
    "test_dataset = MolecularDataset(X_test_tensor, y_test_tensor)\n"
   ]
  },
  {
   "cell_type": "code",
   "execution_count": null,
   "id": "91e20397-696b-4d93-a7a3-d639623f79e0",
   "metadata": {},
   "outputs": [],
   "source": []
  },
  {
   "cell_type": "code",
   "execution_count": 10,
   "id": "ab6bc084-969c-453c-890e-f60e6de764c7",
   "metadata": {},
   "outputs": [
    {
     "data": {
      "text/plain": [
       "rdkit.DataStructs.cDataStructs.ExplicitBitVect"
      ]
     },
     "execution_count": 10,
     "metadata": {},
     "output_type": "execute_result"
    }
   ],
   "source": [
    "type(df['fps'][0])"
   ]
  },
  {
   "cell_type": "code",
   "execution_count": 11,
   "id": "37445a2d-93fc-4e48-a07c-85a1edc202b4",
   "metadata": {},
   "outputs": [],
   "source": [
    "from sklearn.model_selection import train_test_split\n",
    "\n",
    "train_data, test_data = train_test_split(df, test_size=0.2, random_state=42)\n",
    "\n",
    "#reset index\n",
    "train_data = train_data.reset_index(drop=True)\n",
    "test_data = test_data.reset_index(drop=True)"
   ]
  },
  {
   "cell_type": "code",
   "execution_count": 12,
   "id": "de410120-2931-4218-94f9-de436ecb9e74",
   "metadata": {},
   "outputs": [],
   "source": [
    "class TrimerDataset(Dataset):\n",
    "    def __init__(self, data, target_column):\n",
    "        self.data = data\n",
    "        self.target_column = target_column\n",
    "\n",
    "    def __getitem__(self, index):\n",
    "        tokens = self.data.loc[index, \"fps\"]\n",
    "        target = self.data.loc[index, self.target_column]\n",
    "\n",
    "        tokens_tensor = torch.tensor(tokens, dtype=torch.long)\n",
    "        target_tensor = torch.tensor(target, dtype=torch.float32)\n",
    "\n",
    "        return tokens_tensor, target_tensor\n",
    "\n",
    "    def __len__(self):\n",
    "        return len(self.data)\n"
   ]
  },
  {
   "cell_type": "code",
   "execution_count": 13,
   "id": "9db7c6c9-1b1d-4896-923d-93811a55869f",
   "metadata": {},
   "outputs": [],
   "source": [
    "#target_column = \"EA (eV)\"\n",
    "# train_dataset = TrimerDataset(train_data, target_column)\n",
    "# test_dataset = TrimerDataset(test_data, target_column)\n"
   ]
  },
  {
   "cell_type": "code",
   "execution_count": 14,
   "id": "28b254fa-fefb-4a90-92db-9ba9f84f08b2",
   "metadata": {},
   "outputs": [],
   "source": [
    "batch_size = 128#128\n",
    "shuffle = True\n",
    "train_dataloader = DataLoader(train_dataset, batch_size=batch_size, shuffle=shuffle)\n",
    "test_dataloader = DataLoader(test_dataset, batch_size=batch_size, shuffle=shuffle)\n"
   ]
  },
  {
   "cell_type": "code",
   "execution_count": 15,
   "id": "a8abb83e-2950-4cc4-a4e7-acbe369470b5",
   "metadata": {},
   "outputs": [
    {
     "name": "stderr",
     "output_type": "stream",
     "text": [
      "/home/zmao_umass_edu/.conda/envs/figo/lib/python3.7/site-packages/ipykernel_launcher.py:13: UserWarning: To copy construct from a tensor, it is recommended to use sourceTensor.clone().detach() or sourceTensor.clone().detach().requires_grad_(True), rather than torch.tensor(sourceTensor).\n",
      "  del sys.path[0]\n",
      "/home/zmao_umass_edu/.conda/envs/figo/lib/python3.7/site-packages/ipykernel_launcher.py:14: UserWarning: To copy construct from a tensor, it is recommended to use sourceTensor.clone().detach() or sourceTensor.clone().detach().requires_grad_(True), rather than torch.tensor(sourceTensor).\n",
      "  \n"
     ]
    },
    {
     "name": "stdout",
     "output_type": "stream",
     "text": [
      "Sample 1:\n",
      "Tokens: tensor([[0., 0., 0.,  ..., 0., 0., 0.],\n",
      "        [0., 0., 0.,  ..., 0., 0., 0.],\n",
      "        [0., 0., 0.,  ..., 0., 0., 0.],\n",
      "        ...,\n",
      "        [0., 0., 0.,  ..., 0., 0., 0.],\n",
      "        [0., 0., 0.,  ..., 0., 0., 0.],\n",
      "        [0., 0., 0.,  ..., 0., 0., 0.]])\n",
      "Target: 6.040721893310547\n",
      "\n"
     ]
    }
   ],
   "source": [
    "for i in range(1):\n",
    "    tokens, target = train_dataset[i]\n",
    "    print(f\"Sample {i + 1}:\")\n",
    "    print(f\"Tokens: {tokens}\")\n",
    "    print(f\"Target: {target}\\n\")"
   ]
  },
  {
   "cell_type": "code",
   "execution_count": 16,
   "id": "62ebae80-cc0c-459b-a783-cf89d27ed646",
   "metadata": {},
   "outputs": [],
   "source": [
    "# from Veronika\n",
    "# class RNN(nn.Module):\n",
    "#     def __init__(self, seq_len, emb_dim, lstm_dim, linear_dim, out_dim, num_tokens=None):\n",
    "#         super(RNN, self).__init__()\n",
    "#         self.seq_len = seq_len\n",
    "#         self.emb = nn.Embedding(num_tokens, emb_dim) if num_tokens is not None else None\n",
    "#         self.lstm1 = nn.LSTM(emb_dim, lstm_dim, bidirectional=True, batch_first=True)\n",
    "#         self.lstm2 = nn.LSTM(lstm_dim*2, lstm_dim, bidirectional=True, batch_first=True)\n",
    "#         self.lstm_dim = lstm_dim\n",
    "\n",
    "#         self.mlp = nn.Sequential(\n",
    "#             nn.Linear(lstm_dim * 2, int(lstm_dim/2)),\n",
    "#             nn.ReLU(),\n",
    "#         )\n",
    "        \n",
    "#         self.last = nn.Linear(int(lstm_dim/2)*seq_len, out_dim)\n",
    "\n",
    "#     def forward(self, data):  # 2D\n",
    "#         x = self.emb(data) if self.emb else data\n",
    "#         #print(x.shape)\n",
    "#         x, _ = self.lstm1(x)\n",
    "#         x, _ = self.lstm2(x)\n",
    "#         # x = x.reshape(x.shape[0], -1)  # Flatten time and batch dims\n",
    "#         x = self.mlp(x) #removed mlp\n",
    "#         #x = x.reshape(x.shape[0], -1)  # Flatten time dim into last one (instead of before into sample dim)\n",
    "#         x = x.reshape(-1, int(self.lstm_dim/2) * self.seq_len)\n",
    "#         #x = self.mlp(x)\n",
    "#         x = self.last(x)\n",
    "#         return x"
   ]
  },
  {
   "cell_type": "code",
   "execution_count": 27,
   "id": "ad44968d-5204-4fe3-bd7e-0b412e02359e",
   "metadata": {},
   "outputs": [],
   "source": [
    "# adjusted from Veronika\n",
    "class RNN(nn.Module):\n",
    "    def __init__(self, seq_len, emb_dim, lstm_dim, linear_dim, out_dim, num_tokens=None):\n",
    "        super(RNN, self).__init__()\n",
    "        self.seq_len = seq_len\n",
    "        self.emb = nn.Embedding(num_tokens, emb_dim) if num_tokens is not None else None\n",
    "        self.lstm1 = nn.LSTM(emb_dim, lstm_dim, bidirectional=True, batch_first=True)\n",
    "        self.lstm2 = nn.LSTM(lstm_dim*2, lstm_dim, bidirectional=True, batch_first=True)\n",
    "        self.lstm_dim = lstm_dim\n",
    "\n",
    "        self.mlp = nn.Sequential(\n",
    "            nn.Linear(lstm_dim * 2, int(lstm_dim/2)),\n",
    "            nn.ReLU(),\n",
    "        )\n",
    "        init.xavier_uniform_(self.mlp[0].weight)\n",
    "        init.zeros_(self.mlp[0].bias)\n",
    "\n",
    "        self.last = nn.Linear(int(lstm_dim/2)*seq_len, out_dim)\n",
    "        init.xavier_uniform_(self.last.weight)\n",
    "        init.zeros_(self.last.bias)\n",
    "\n",
    "\n",
    "    def forward(self, data):  # 2D\n",
    "        #x = self.emb(data) if self.emb else data\n",
    "        #print(x.shape)\n",
    "        x = data\n",
    "        x, _ = self.lstm1(x)\n",
    "        print(f\"LSTM Layer 1 output shape: {x.shape}\")\n",
    "\n",
    "        x, _ = self.lstm2(x)\n",
    "        print(f\"LSTM Layer 2 output shape: {x.shape}\")\n",
    "\n",
    "        # x = x.reshape(x.shape[0], -1)  # Flatten time and batch dims\n",
    "        x = self.mlp(x) #removed mlp\n",
    "        print(f\"MLP output shape: {x.shape}\")\n",
    "\n",
    "        #x = x.reshape(x.shape[0], -1)  # Flatten time dim into last one (instead of before into sample dim)\n",
    "        x = x.reshape(-1, int(self.lstm_dim/2) * self.seq_len)\n",
    "        print(f\"Reshape output shape: {x.shape}\")\n",
    "\n",
    "        #x = self.mlp(x)\n",
    "        x = self.last(x)\n",
    "        print(f\"Output Layer shape: {x.shape}\")\n",
    "\n",
    "        return x\n",
    "    \n",
    "    def __str__(self):\n",
    "        layers = [\n",
    "            ('Embedding Layer', self.emb),\n",
    "            ('LSTM Layer 1', self.lstm1),\n",
    "            ('LSTM Layer 2', self.lstm2),\n",
    "            ('MLP', self.mlp),\n",
    "            ('Output Layer', self.last),\n",
    "        ]\n",
    "        layer_str = '\\n'.join([f'{name}: {layer}' for name, layer in layers])\n",
    "        return f'RNN Model:\\n{layer_str}'\n"
   ]
  },
  {
   "cell_type": "code",
   "execution_count": 28,
   "id": "c7a74f1d-c1d6-4eef-9472-f6f628a3af9d",
   "metadata": {},
   "outputs": [],
   "source": [
    "seq_len = 100\n",
    "emb_dim = 1024\n",
    "lstm_dim = 20 #512\n",
    "linear_dim = 10 #256\n",
    "\n",
    "out_dim = 1\n",
    "num_tokens=1024\n",
    "learning_rate = 0.001\n",
    "\n",
    "model = RNN(seq_len, emb_dim, lstm_dim, linear_dim, out_dim).to(device)\n",
    "loss_fn = nn.MSELoss()\n",
    "#optimizer = torch.optim.Adam(model.parameters(), lr=learning_rate)\n",
    "weight_decay = 0.01  # L2 regularization strength\n",
    "optimizer = torch.optim.Adam(model.parameters(), lr=learning_rate, weight_decay=weight_decay)"
   ]
  },
  {
   "cell_type": "code",
   "execution_count": 21,
   "id": "adc431fa-cb9d-40e4-839d-7568b2a65f82",
   "metadata": {},
   "outputs": [
    {
     "name": "stdout",
     "output_type": "stream",
     "text": [
      "RNN Model:\n",
      "Embedding Layer: None\n",
      "LSTM Layer 1: LSTM(1024, 20, batch_first=True, bidirectional=True)\n",
      "LSTM Layer 2: LSTM(40, 20, batch_first=True, bidirectional=True)\n",
      "MLP: Sequential(\n",
      "  (0): Linear(in_features=40, out_features=10, bias=True)\n",
      "  (1): ReLU()\n",
      ")\n",
      "Output Layer: Linear(in_features=1000, out_features=1, bias=True)\n"
     ]
    }
   ],
   "source": [
    "print(model)"
   ]
  },
  {
   "cell_type": "code",
   "execution_count": 75,
   "id": "2292b5d8-edd4-4f93-b492-e4b9b98a9eb0",
   "metadata": {},
   "outputs": [],
   "source": [
    "### For Trimer dataset\n",
    "\n",
    "# seq_len = 1024\n",
    "# emb_dim = 100 #50, 100, 200, or 300\n",
    "# lstm_dim= 20 #50, 100, 200\n",
    "# linear_dim = 100\n",
    "# out_dim = 1\n",
    "# num_tokens=1024\n",
    "# learning_rate = 0.001\n",
    "\n",
    "# model = RNN(seq_len, emb_dim, lstm_dim, linear_dim, out_dim, num_tokens).to(device)\n",
    "# loss_fn = nn.MSELoss()\n",
    "# #optimizer = torch.optim.Adam(model.parameters(), lr=learning_rate)\n",
    "# weight_decay = 0.01  # L2 regularization strength\n",
    "# optimizer = torch.optim.Adam(model.parameters(), lr=learning_rate, weight_decay=weight_decay)"
   ]
  },
  {
   "cell_type": "code",
   "execution_count": 29,
   "id": "ddff0f15-ae0e-4324-8a2a-1595dce9121d",
   "metadata": {},
   "outputs": [],
   "source": [
    "def train_RNN(model, train_loader, test_loader, loss_fn, optimizer, num_epochs=10, device=\"cpu\"):\n",
    "    model.to(device)\n",
    "    train_losses = []\n",
    "    test_losses = []\n",
    "\n",
    "    for epoch in range(num_epochs):\n",
    "        # Training\n",
    "        model.train()\n",
    "        train_loss = 0\n",
    "        #for x, y in train_loader:\n",
    "        for x, y in tqdm(train_loader, desc=f'Training epoch {epoch + 1}/{num_epochs}'):\n",
    "            x, y = x.to(device), y.to(device)\n",
    "\n",
    "            optimizer.zero_grad()\n",
    "            output = model(x)\n",
    "            loss = loss_fn(output, y)\n",
    "            loss.backward()\n",
    "            optimizer.step()\n",
    "            train_loss += loss.item()\n",
    "        \n",
    "        train_loss /= len(train_loader)\n",
    "        train_losses.append(train_loss)\n",
    "\n",
    "        # Testing\n",
    "        model.eval()\n",
    "        test_loss = 0\n",
    "        with torch.no_grad():\n",
    "            for x, y in test_loader:\n",
    "                x, y = x.to(device), y.to(device)\n",
    "\n",
    "                output = model(x)\n",
    "                loss = loss_fn(output, y)\n",
    "                test_loss += loss.item()\n",
    "\n",
    "        test_loss /= len(test_loader)\n",
    "        test_losses.append(test_loss)\n",
    "        \n",
    "        #wandb.log({\"train_loss\": test_loss, \"test_losses\": test_loss})\n",
    "\n",
    "        print(f\"Epoch {epoch + 1}/{num_epochs}, Train Loss: {train_loss:.4f}, Test Loss: {test_loss:.4f}\")\n",
    "\n",
    "    return train_losses, test_losses"
   ]
  },
  {
   "cell_type": "code",
   "execution_count": 80,
   "id": "a7254431-b136-450d-b6e3-34dccac75e46",
   "metadata": {},
   "outputs": [],
   "source": [
    "def train_with_wandb():\n",
    "    # Initialize a new wandb run\n",
    "    run = wandb.init()\n",
    "    \n",
    "     # Get the hyperparameters from the Sweep\n",
    "    config = wandb.config\n",
    "    learning_rate = config.learning_rate\n",
    "    num_epochs = 20#config.num_epochs\n",
    "    weight_decay = config.weight_decay\n",
    "    \n",
    "   # Set the run name with hyperparameter details\n",
    "    run_name = f\"lr_{learning_rate:.5f}_wd_{weight_decay:.5f}\"\n",
    "    wandb.run.name = run_name\n",
    "    wandb.run.save()\n",
    "\n",
    "    # Build your model, optimizer, and loss function\n",
    "    model = RNN(seq_len, emb_dim, lstm_dim, linear_dim, out_dim).to(device)\n",
    "    loss_fn = nn.MSELoss()\n",
    "    optimizer = torch.optim.Adam(model.parameters(), lr=learning_rate, weight_decay=weight_decay)\n",
    "\n",
    "    # Train your model using train_RNN function\n",
    "    train_losses, test_losses = train_RNN(model, train_dataloader, test_dataloader, loss_fn, optimizer, num_epochs, device)\n",
    "    \n",
    "    # Finish the run\n",
    "    run.finish()"
   ]
  },
  {
   "cell_type": "code",
   "execution_count": 85,
   "id": "d7256f74-b54f-438f-a1af-e7b43d856daa",
   "metadata": {},
   "outputs": [],
   "source": [
    "sweep_config = {\n",
    "    \"name\": \"RNN Sweep\",\n",
    "    \"method\": \"random\",\n",
    "    \"metric\": {\n",
    "        \"name\": \"test_loss\",\n",
    "        \"goal\": \"minimize\",\n",
    "    },\n",
    "    \"parameters\": {\n",
    "        \"learning_rate\": {\n",
    "            \"min\": 0.00001,\n",
    "            \"max\": 0.001,\n",
    "        },\n",
    "        \"weight_decay\": {\n",
    "            \"min\": 0.00001,\n",
    "            \"max\": 0.1,\n",
    "        },\n",
    "    },\n",
    "}\n",
    "\n"
   ]
  },
  {
   "cell_type": "code",
   "execution_count": null,
   "id": "af792a98-1e96-47bd-a95c-c4514cbc3d00",
   "metadata": {},
   "outputs": [
    {
     "name": "stdout",
     "output_type": "stream",
     "text": [
      "Create sweep with ID: l0dl7ho9\n",
      "Sweep URL: https://wandb.ai/zihaom96/RNN-Pytorch-polymer/sweeps/l0dl7ho9\n"
     ]
    },
    {
     "name": "stderr",
     "output_type": "stream",
     "text": [
      "\u001b[34m\u001b[1mwandb\u001b[0m: Agent Starting Run: k6lj948g with config:\n",
      "\u001b[34m\u001b[1mwandb\u001b[0m: \tlearning_rate: 0.0009399172548070652\n",
      "\u001b[34m\u001b[1mwandb\u001b[0m: \tweight_decay: 0.05570658805320806\n"
     ]
    },
    {
     "data": {
      "text/html": [
       "wandb version 0.14.1 is available!  To upgrade, please run:\n",
       " $ pip install wandb --upgrade"
      ],
      "text/plain": [
       "<IPython.core.display.HTML object>"
      ]
     },
     "metadata": {},
     "output_type": "display_data"
    },
    {
     "data": {
      "text/html": [
       "Tracking run with wandb version 0.14.0"
      ],
      "text/plain": [
       "<IPython.core.display.HTML object>"
      ]
     },
     "metadata": {},
     "output_type": "display_data"
    },
    {
     "data": {
      "text/html": [
       "Run data is saved locally in <code>/home/zmao_umass_edu/pytorch/wandb/run-20230406_213719-k6lj948g</code>"
      ],
      "text/plain": [
       "<IPython.core.display.HTML object>"
      ]
     },
     "metadata": {},
     "output_type": "display_data"
    },
    {
     "data": {
      "text/html": [
       "Syncing run <strong><a href='https://wandb.ai/zihaom96/RNN-Pytorch-polymer/runs/k6lj948g' target=\"_blank\">solar-sweep-1</a></strong> to <a href='https://wandb.ai/zihaom96/RNN-Pytorch-polymer' target=\"_blank\">Weights & Biases</a> (<a href='https://wandb.me/run' target=\"_blank\">docs</a>)<br/>Sweep page: <a href='https://wandb.ai/zihaom96/RNN-Pytorch-polymer/sweeps/l0dl7ho9' target=\"_blank\">https://wandb.ai/zihaom96/RNN-Pytorch-polymer/sweeps/l0dl7ho9</a>"
      ],
      "text/plain": [
       "<IPython.core.display.HTML object>"
      ]
     },
     "metadata": {},
     "output_type": "display_data"
    },
    {
     "data": {
      "text/html": [
       " View project at <a href='https://wandb.ai/zihaom96/RNN-Pytorch-polymer' target=\"_blank\">https://wandb.ai/zihaom96/RNN-Pytorch-polymer</a>"
      ],
      "text/plain": [
       "<IPython.core.display.HTML object>"
      ]
     },
     "metadata": {},
     "output_type": "display_data"
    },
    {
     "data": {
      "text/html": [
       " View sweep at <a href='https://wandb.ai/zihaom96/RNN-Pytorch-polymer/sweeps/l0dl7ho9' target=\"_blank\">https://wandb.ai/zihaom96/RNN-Pytorch-polymer/sweeps/l0dl7ho9</a>"
      ],
      "text/plain": [
       "<IPython.core.display.HTML object>"
      ]
     },
     "metadata": {},
     "output_type": "display_data"
    },
    {
     "data": {
      "text/html": [
       " View run at <a href='https://wandb.ai/zihaom96/RNN-Pytorch-polymer/runs/k6lj948g' target=\"_blank\">https://wandb.ai/zihaom96/RNN-Pytorch-polymer/runs/k6lj948g</a>"
      ],
      "text/plain": [
       "<IPython.core.display.HTML object>"
      ]
     },
     "metadata": {},
     "output_type": "display_data"
    },
    {
     "name": "stderr",
     "output_type": "stream",
     "text": [
      "Training epoch 1/20:   0%|          | 0/300 [00:00<?, ?it/s]/home/zmao_umass_edu/.conda/envs/figo/lib/python3.7/site-packages/ipykernel_launcher.py:13: UserWarning: To copy construct from a tensor, it is recommended to use sourceTensor.clone().detach() or sourceTensor.clone().detach().requires_grad_(True), rather than torch.tensor(sourceTensor).\n",
      "  del sys.path[0]\n",
      "/home/zmao_umass_edu/.conda/envs/figo/lib/python3.7/site-packages/ipykernel_launcher.py:14: UserWarning: To copy construct from a tensor, it is recommended to use sourceTensor.clone().detach() or sourceTensor.clone().detach().requires_grad_(True), rather than torch.tensor(sourceTensor).\n",
      "  \n",
      "/home/zmao_umass_edu/.conda/envs/figo/lib/python3.7/site-packages/torch/nn/modules/loss.py:530: UserWarning: Using a target size (torch.Size([128])) that is different to the input size (torch.Size([128, 1])). This will likely lead to incorrect results due to broadcasting. Please ensure they have the same size.\n",
      "  return F.mse_loss(input, target, reduction=self.reduction)\n",
      "Training epoch 1/20: 100%|█████████▉| 299/300 [00:28<00:00, 11.50it/s]/home/zmao_umass_edu/.conda/envs/figo/lib/python3.7/site-packages/torch/nn/modules/loss.py:530: UserWarning: Using a target size (torch.Size([118])) that is different to the input size (torch.Size([118, 1])). This will likely lead to incorrect results due to broadcasting. Please ensure they have the same size.\n",
      "  return F.mse_loss(input, target, reduction=self.reduction)\n",
      "Training epoch 1/20: 100%|██████████| 300/300 [00:28<00:00, 10.52it/s]\n",
      "/home/zmao_umass_edu/.conda/envs/figo/lib/python3.7/site-packages/torch/nn/modules/loss.py:530: UserWarning: Using a target size (torch.Size([126])) that is different to the input size (torch.Size([126, 1])). This will likely lead to incorrect results due to broadcasting. Please ensure they have the same size.\n",
      "  return F.mse_loss(input, target, reduction=self.reduction)\n"
     ]
    },
    {
     "name": "stdout",
     "output_type": "stream",
     "text": [
      "Epoch 1/20, Train Loss: 1.2785, Test Loss: 0.2433\n"
     ]
    },
    {
     "name": "stderr",
     "output_type": "stream",
     "text": [
      "Training epoch 2/20: 100%|██████████| 300/300 [00:23<00:00, 12.59it/s]\n"
     ]
    },
    {
     "name": "stdout",
     "output_type": "stream",
     "text": [
      "Epoch 2/20, Train Loss: 0.2389, Test Loss: 0.2318\n"
     ]
    },
    {
     "name": "stderr",
     "output_type": "stream",
     "text": [
      "Training epoch 3/20: 100%|██████████| 300/300 [00:29<00:00, 10.19it/s]\n"
     ]
    },
    {
     "name": "stdout",
     "output_type": "stream",
     "text": [
      "Epoch 3/20, Train Loss: 0.2343, Test Loss: 0.2298\n"
     ]
    },
    {
     "name": "stderr",
     "output_type": "stream",
     "text": [
      "Training epoch 4/20: 100%|██████████| 300/300 [00:27<00:00, 10.91it/s]\n"
     ]
    },
    {
     "name": "stdout",
     "output_type": "stream",
     "text": [
      "Epoch 4/20, Train Loss: 0.2326, Test Loss: 0.2266\n"
     ]
    },
    {
     "name": "stderr",
     "output_type": "stream",
     "text": [
      "Training epoch 5/20: 100%|██████████| 300/300 [00:24<00:00, 12.19it/s]\n"
     ]
    },
    {
     "name": "stdout",
     "output_type": "stream",
     "text": [
      "Epoch 5/20, Train Loss: 0.2312, Test Loss: 0.2271\n"
     ]
    },
    {
     "name": "stderr",
     "output_type": "stream",
     "text": [
      "Training epoch 6/20: 100%|██████████| 300/300 [00:24<00:00, 12.02it/s]\n"
     ]
    },
    {
     "name": "stdout",
     "output_type": "stream",
     "text": [
      "Epoch 6/20, Train Loss: 0.2331, Test Loss: 0.2263\n"
     ]
    },
    {
     "name": "stderr",
     "output_type": "stream",
     "text": [
      "Training epoch 7/20: 100%|██████████| 300/300 [00:28<00:00, 10.43it/s]\n"
     ]
    },
    {
     "name": "stdout",
     "output_type": "stream",
     "text": [
      "Epoch 7/20, Train Loss: 0.2299, Test Loss: 0.2254\n"
     ]
    },
    {
     "name": "stderr",
     "output_type": "stream",
     "text": [
      "Training epoch 8/20: 100%|██████████| 300/300 [00:25<00:00, 11.86it/s]\n"
     ]
    },
    {
     "name": "stdout",
     "output_type": "stream",
     "text": [
      "Epoch 8/20, Train Loss: 0.2305, Test Loss: 0.2250\n"
     ]
    },
    {
     "name": "stderr",
     "output_type": "stream",
     "text": [
      "Training epoch 9/20: 100%|██████████| 300/300 [00:25<00:00, 11.92it/s]\n"
     ]
    },
    {
     "name": "stdout",
     "output_type": "stream",
     "text": [
      "Epoch 9/20, Train Loss: 0.2283, Test Loss: 0.2250\n"
     ]
    },
    {
     "name": "stderr",
     "output_type": "stream",
     "text": [
      "Training epoch 10/20: 100%|██████████| 300/300 [00:22<00:00, 13.19it/s]\n"
     ]
    },
    {
     "name": "stdout",
     "output_type": "stream",
     "text": [
      "Epoch 10/20, Train Loss: 0.2292, Test Loss: 0.2257\n"
     ]
    },
    {
     "name": "stderr",
     "output_type": "stream",
     "text": [
      "Training epoch 11/20: 100%|██████████| 300/300 [00:26<00:00, 11.37it/s]\n"
     ]
    },
    {
     "name": "stdout",
     "output_type": "stream",
     "text": [
      "Epoch 11/20, Train Loss: 0.2283, Test Loss: 0.2247\n"
     ]
    },
    {
     "name": "stderr",
     "output_type": "stream",
     "text": [
      "Training epoch 12/20: 100%|██████████| 300/300 [00:24<00:00, 12.11it/s]\n"
     ]
    },
    {
     "name": "stdout",
     "output_type": "stream",
     "text": [
      "Epoch 12/20, Train Loss: 0.2292, Test Loss: 0.2393\n"
     ]
    },
    {
     "name": "stderr",
     "output_type": "stream",
     "text": [
      "Training epoch 13/20: 100%|██████████| 300/300 [00:27<00:00, 10.98it/s]\n"
     ]
    },
    {
     "name": "stdout",
     "output_type": "stream",
     "text": [
      "Epoch 13/20, Train Loss: 0.2285, Test Loss: 0.2260\n"
     ]
    },
    {
     "name": "stderr",
     "output_type": "stream",
     "text": [
      "Training epoch 14/20: 100%|██████████| 300/300 [00:24<00:00, 12.45it/s]\n"
     ]
    },
    {
     "name": "stdout",
     "output_type": "stream",
     "text": [
      "Epoch 14/20, Train Loss: 0.2300, Test Loss: 0.2278\n"
     ]
    },
    {
     "name": "stderr",
     "output_type": "stream",
     "text": [
      "Training epoch 15/20: 100%|██████████| 300/300 [00:20<00:00, 14.50it/s]\n"
     ]
    },
    {
     "name": "stdout",
     "output_type": "stream",
     "text": [
      "Epoch 15/20, Train Loss: 0.2290, Test Loss: 0.2269\n"
     ]
    },
    {
     "name": "stderr",
     "output_type": "stream",
     "text": [
      "Training epoch 16/20: 100%|██████████| 300/300 [00:23<00:00, 12.98it/s]\n"
     ]
    },
    {
     "name": "stdout",
     "output_type": "stream",
     "text": [
      "Epoch 16/20, Train Loss: 0.2282, Test Loss: 0.2258\n"
     ]
    },
    {
     "name": "stderr",
     "output_type": "stream",
     "text": [
      "Training epoch 17/20: 100%|██████████| 300/300 [00:22<00:00, 13.57it/s]\n"
     ]
    },
    {
     "name": "stdout",
     "output_type": "stream",
     "text": [
      "Epoch 17/20, Train Loss: 0.2293, Test Loss: 0.2307\n"
     ]
    },
    {
     "name": "stderr",
     "output_type": "stream",
     "text": [
      "Training epoch 18/20: 100%|██████████| 300/300 [00:22<00:00, 13.56it/s]\n"
     ]
    },
    {
     "name": "stdout",
     "output_type": "stream",
     "text": [
      "Epoch 18/20, Train Loss: 0.2288, Test Loss: 0.2308\n"
     ]
    },
    {
     "name": "stderr",
     "output_type": "stream",
     "text": [
      "Training epoch 19/20: 100%|██████████| 300/300 [00:22<00:00, 13.45it/s]\n"
     ]
    },
    {
     "name": "stdout",
     "output_type": "stream",
     "text": [
      "Epoch 19/20, Train Loss: 0.2286, Test Loss: 0.2252\n"
     ]
    },
    {
     "name": "stderr",
     "output_type": "stream",
     "text": [
      "Training epoch 20/20: 100%|██████████| 300/300 [00:26<00:00, 11.32it/s]\n"
     ]
    },
    {
     "name": "stdout",
     "output_type": "stream",
     "text": [
      "Epoch 20/20, Train Loss: 0.2291, Test Loss: 0.2319\n"
     ]
    },
    {
     "data": {
      "text/html": [
       "Waiting for W&B process to finish... <strong style=\"color:green\">(success).</strong>"
      ],
      "text/plain": [
       "<IPython.core.display.HTML object>"
      ]
     },
     "metadata": {},
     "output_type": "display_data"
    },
    {
     "data": {
      "application/vnd.jupyter.widget-view+json": {
       "model_id": "32f258e31ddf4a83b34235396962a6a3",
       "version_major": 2,
       "version_minor": 0
      },
      "text/plain": [
       "VBox(children=(Label(value='0.003 MB of 0.017 MB uploaded (0.000 MB deduped)\\r'), FloatProgress(value=0.196551…"
      ]
     },
     "metadata": {},
     "output_type": "display_data"
    },
    {
     "data": {
      "text/html": [
       "<style>\n",
       "    table.wandb td:nth-child(1) { padding: 0 10px; text-align: left ; width: auto;} td:nth-child(2) {text-align: left ; width: 100%}\n",
       "    .wandb-row { display: flex; flex-direction: row; flex-wrap: wrap; justify-content: flex-start; width: 100% }\n",
       "    .wandb-col { display: flex; flex-direction: column; flex-basis: 100%; flex: 1; padding: 10px; }\n",
       "    </style>\n",
       "<div class=\"wandb-row\"><div class=\"wandb-col\"><h3>Run history:</h3><br/><table class=\"wandb\"><tr><td>test_losses</td><td>█▄▃▂▂▂▁▁▁▁▁▆▁▂▂▁▃▃▁▄</td></tr><tr><td>train_loss</td><td>█▄▃▂▂▂▁▁▁▁▁▆▁▂▂▁▃▃▁▄</td></tr></table><br/></div><div class=\"wandb-col\"><h3>Run summary:</h3><br/><table class=\"wandb\"><tr><td>test_losses</td><td>0.23194</td></tr><tr><td>train_loss</td><td>0.23194</td></tr></table><br/></div></div>"
      ],
      "text/plain": [
       "<IPython.core.display.HTML object>"
      ]
     },
     "metadata": {},
     "output_type": "display_data"
    },
    {
     "data": {
      "text/html": [
       " View run <strong style=\"color:#cdcd00\">solar-sweep-1</strong> at: <a href='https://wandb.ai/zihaom96/RNN-Pytorch-polymer/runs/k6lj948g' target=\"_blank\">https://wandb.ai/zihaom96/RNN-Pytorch-polymer/runs/k6lj948g</a><br/>Synced 6 W&B file(s), 0 media file(s), 0 artifact file(s) and 0 other file(s)"
      ],
      "text/plain": [
       "<IPython.core.display.HTML object>"
      ]
     },
     "metadata": {},
     "output_type": "display_data"
    },
    {
     "data": {
      "text/html": [
       "Find logs at: <code>./wandb/run-20230406_213719-k6lj948g/logs</code>"
      ],
      "text/plain": [
       "<IPython.core.display.HTML object>"
      ]
     },
     "metadata": {},
     "output_type": "display_data"
    },
    {
     "name": "stderr",
     "output_type": "stream",
     "text": [
      "\u001b[34m\u001b[1mwandb\u001b[0m: Agent Starting Run: lh6wsofk with config:\n",
      "\u001b[34m\u001b[1mwandb\u001b[0m: \tlearning_rate: 0.000986727904182117\n",
      "\u001b[34m\u001b[1mwandb\u001b[0m: \tweight_decay: 0.05913135291413087\n"
     ]
    },
    {
     "data": {
      "text/html": [
       "wandb version 0.14.1 is available!  To upgrade, please run:\n",
       " $ pip install wandb --upgrade"
      ],
      "text/plain": [
       "<IPython.core.display.HTML object>"
      ]
     },
     "metadata": {},
     "output_type": "display_data"
    },
    {
     "data": {
      "text/html": [
       "Tracking run with wandb version 0.14.0"
      ],
      "text/plain": [
       "<IPython.core.display.HTML object>"
      ]
     },
     "metadata": {},
     "output_type": "display_data"
    },
    {
     "data": {
      "text/html": [
       "Run data is saved locally in <code>/home/zmao_umass_edu/pytorch/wandb/run-20230406_214740-lh6wsofk</code>"
      ],
      "text/plain": [
       "<IPython.core.display.HTML object>"
      ]
     },
     "metadata": {},
     "output_type": "display_data"
    },
    {
     "data": {
      "text/html": [
       "Syncing run <strong><a href='https://wandb.ai/zihaom96/RNN-Pytorch-polymer/runs/lh6wsofk' target=\"_blank\">quiet-sweep-2</a></strong> to <a href='https://wandb.ai/zihaom96/RNN-Pytorch-polymer' target=\"_blank\">Weights & Biases</a> (<a href='https://wandb.me/run' target=\"_blank\">docs</a>)<br/>Sweep page: <a href='https://wandb.ai/zihaom96/RNN-Pytorch-polymer/sweeps/l0dl7ho9' target=\"_blank\">https://wandb.ai/zihaom96/RNN-Pytorch-polymer/sweeps/l0dl7ho9</a>"
      ],
      "text/plain": [
       "<IPython.core.display.HTML object>"
      ]
     },
     "metadata": {},
     "output_type": "display_data"
    },
    {
     "data": {
      "text/html": [
       " View project at <a href='https://wandb.ai/zihaom96/RNN-Pytorch-polymer' target=\"_blank\">https://wandb.ai/zihaom96/RNN-Pytorch-polymer</a>"
      ],
      "text/plain": [
       "<IPython.core.display.HTML object>"
      ]
     },
     "metadata": {},
     "output_type": "display_data"
    },
    {
     "data": {
      "text/html": [
       " View sweep at <a href='https://wandb.ai/zihaom96/RNN-Pytorch-polymer/sweeps/l0dl7ho9' target=\"_blank\">https://wandb.ai/zihaom96/RNN-Pytorch-polymer/sweeps/l0dl7ho9</a>"
      ],
      "text/plain": [
       "<IPython.core.display.HTML object>"
      ]
     },
     "metadata": {},
     "output_type": "display_data"
    },
    {
     "data": {
      "text/html": [
       " View run at <a href='https://wandb.ai/zihaom96/RNN-Pytorch-polymer/runs/lh6wsofk' target=\"_blank\">https://wandb.ai/zihaom96/RNN-Pytorch-polymer/runs/lh6wsofk</a>"
      ],
      "text/plain": [
       "<IPython.core.display.HTML object>"
      ]
     },
     "metadata": {},
     "output_type": "display_data"
    },
    {
     "name": "stderr",
     "output_type": "stream",
     "text": [
      "Training epoch 1/20: 100%|██████████| 300/300 [00:24<00:00, 12.15it/s]\n"
     ]
    },
    {
     "name": "stdout",
     "output_type": "stream",
     "text": [
      "Epoch 1/20, Train Loss: 1.6401, Test Loss: 0.2395\n"
     ]
    },
    {
     "name": "stderr",
     "output_type": "stream",
     "text": [
      "Training epoch 2/20: 100%|██████████| 300/300 [00:19<00:00, 15.07it/s]\n"
     ]
    },
    {
     "name": "stdout",
     "output_type": "stream",
     "text": [
      "Epoch 2/20, Train Loss: 0.2364, Test Loss: 0.2305\n"
     ]
    },
    {
     "name": "stderr",
     "output_type": "stream",
     "text": [
      "Training epoch 3/20: 100%|██████████| 300/300 [00:21<00:00, 14.27it/s]\n"
     ]
    },
    {
     "name": "stdout",
     "output_type": "stream",
     "text": [
      "Epoch 3/20, Train Loss: 0.2332, Test Loss: 0.2274\n"
     ]
    },
    {
     "name": "stderr",
     "output_type": "stream",
     "text": [
      "Training epoch 4/20: 100%|██████████| 300/300 [00:20<00:00, 14.47it/s]\n"
     ]
    },
    {
     "name": "stdout",
     "output_type": "stream",
     "text": [
      "Epoch 4/20, Train Loss: 0.2317, Test Loss: 0.2269\n"
     ]
    },
    {
     "name": "stderr",
     "output_type": "stream",
     "text": [
      "Training epoch 5/20: 100%|██████████| 300/300 [00:22<00:00, 13.59it/s]\n"
     ]
    },
    {
     "name": "stdout",
     "output_type": "stream",
     "text": [
      "Epoch 5/20, Train Loss: 0.2314, Test Loss: 0.2269\n"
     ]
    },
    {
     "name": "stderr",
     "output_type": "stream",
     "text": [
      "Training epoch 6/20: 100%|██████████| 300/300 [00:28<00:00, 10.49it/s]\n"
     ]
    },
    {
     "name": "stdout",
     "output_type": "stream",
     "text": [
      "Epoch 6/20, Train Loss: 0.2292, Test Loss: 0.2250\n"
     ]
    },
    {
     "name": "stderr",
     "output_type": "stream",
     "text": [
      "Training epoch 7/20: 100%|██████████| 300/300 [00:30<00:00,  9.92it/s]\n"
     ]
    },
    {
     "name": "stdout",
     "output_type": "stream",
     "text": [
      "Epoch 7/20, Train Loss: 0.2285, Test Loss: 0.2254\n"
     ]
    },
    {
     "name": "stderr",
     "output_type": "stream",
     "text": [
      "Training epoch 8/20: 100%|██████████| 300/300 [00:23<00:00, 12.67it/s]\n"
     ]
    },
    {
     "name": "stdout",
     "output_type": "stream",
     "text": [
      "Epoch 8/20, Train Loss: 0.2307, Test Loss: 0.2255\n"
     ]
    },
    {
     "name": "stderr",
     "output_type": "stream",
     "text": [
      "Training epoch 9/20: 100%|██████████| 300/300 [00:33<00:00,  9.00it/s]\n"
     ]
    },
    {
     "name": "stdout",
     "output_type": "stream",
     "text": [
      "Epoch 9/20, Train Loss: 0.2302, Test Loss: 0.2408\n"
     ]
    },
    {
     "name": "stderr",
     "output_type": "stream",
     "text": [
      "Training epoch 10/20: 100%|██████████| 300/300 [00:28<00:00, 10.44it/s]\n"
     ]
    },
    {
     "name": "stdout",
     "output_type": "stream",
     "text": [
      "Epoch 10/20, Train Loss: 0.2280, Test Loss: 0.2273\n"
     ]
    },
    {
     "name": "stderr",
     "output_type": "stream",
     "text": [
      "Training epoch 11/20: 100%|██████████| 300/300 [00:21<00:00, 14.18it/s]\n"
     ]
    },
    {
     "name": "stdout",
     "output_type": "stream",
     "text": [
      "Epoch 11/20, Train Loss: 0.2297, Test Loss: 0.2250\n"
     ]
    },
    {
     "name": "stderr",
     "output_type": "stream",
     "text": [
      "Training epoch 12/20: 100%|██████████| 300/300 [00:20<00:00, 14.53it/s]\n"
     ]
    },
    {
     "name": "stdout",
     "output_type": "stream",
     "text": [
      "Epoch 12/20, Train Loss: 0.2296, Test Loss: 0.2280\n"
     ]
    },
    {
     "name": "stderr",
     "output_type": "stream",
     "text": [
      "Training epoch 13/20: 100%|██████████| 300/300 [00:20<00:00, 14.39it/s]\n"
     ]
    },
    {
     "name": "stdout",
     "output_type": "stream",
     "text": [
      "Epoch 13/20, Train Loss: 0.2290, Test Loss: 0.2280\n"
     ]
    },
    {
     "name": "stderr",
     "output_type": "stream",
     "text": [
      "Training epoch 14/20: 100%|██████████| 300/300 [00:20<00:00, 14.42it/s]\n"
     ]
    },
    {
     "name": "stdout",
     "output_type": "stream",
     "text": [
      "Epoch 14/20, Train Loss: 0.2288, Test Loss: 0.2247\n"
     ]
    },
    {
     "name": "stderr",
     "output_type": "stream",
     "text": [
      "Training epoch 15/20: 100%|██████████| 300/300 [00:20<00:00, 14.31it/s]\n"
     ]
    },
    {
     "name": "stdout",
     "output_type": "stream",
     "text": [
      "Epoch 15/20, Train Loss: 0.2297, Test Loss: 0.2265\n"
     ]
    },
    {
     "name": "stderr",
     "output_type": "stream",
     "text": [
      "Training epoch 16/20: 100%|██████████| 300/300 [00:21<00:00, 14.16it/s]\n"
     ]
    },
    {
     "name": "stdout",
     "output_type": "stream",
     "text": [
      "Epoch 16/20, Train Loss: 0.2290, Test Loss: 0.2248\n"
     ]
    },
    {
     "name": "stderr",
     "output_type": "stream",
     "text": [
      "Training epoch 17/20: 100%|██████████| 300/300 [00:22<00:00, 13.18it/s]\n"
     ]
    },
    {
     "name": "stdout",
     "output_type": "stream",
     "text": [
      "Epoch 17/20, Train Loss: 0.2276, Test Loss: 0.2254\n"
     ]
    },
    {
     "name": "stderr",
     "output_type": "stream",
     "text": [
      "Training epoch 18/20: 100%|██████████| 300/300 [00:25<00:00, 11.77it/s]\n"
     ]
    },
    {
     "name": "stdout",
     "output_type": "stream",
     "text": [
      "Epoch 18/20, Train Loss: 0.2294, Test Loss: 0.2364\n"
     ]
    },
    {
     "name": "stderr",
     "output_type": "stream",
     "text": [
      "Training epoch 19/20: 100%|██████████| 300/300 [00:24<00:00, 12.45it/s]\n"
     ]
    },
    {
     "name": "stdout",
     "output_type": "stream",
     "text": [
      "Epoch 19/20, Train Loss: 0.2288, Test Loss: 0.2247\n"
     ]
    },
    {
     "name": "stderr",
     "output_type": "stream",
     "text": [
      "Training epoch 20/20: 100%|██████████| 300/300 [00:22<00:00, 13.35it/s]\n"
     ]
    },
    {
     "name": "stdout",
     "output_type": "stream",
     "text": [
      "Epoch 20/20, Train Loss: 0.2283, Test Loss: 0.2256\n"
     ]
    },
    {
     "data": {
      "text/html": [
       "Waiting for W&B process to finish... <strong style=\"color:green\">(success).</strong>"
      ],
      "text/plain": [
       "<IPython.core.display.HTML object>"
      ]
     },
     "metadata": {},
     "output_type": "display_data"
    },
    {
     "data": {
      "text/html": [
       "<style>\n",
       "    table.wandb td:nth-child(1) { padding: 0 10px; text-align: left ; width: auto;} td:nth-child(2) {text-align: left ; width: 100%}\n",
       "    .wandb-row { display: flex; flex-direction: row; flex-wrap: wrap; justify-content: flex-start; width: 100% }\n",
       "    .wandb-col { display: flex; flex-direction: column; flex-basis: 100%; flex: 1; padding: 10px; }\n",
       "    </style>\n",
       "<div class=\"wandb-row\"><div class=\"wandb-col\"><h3>Run history:</h3><br/><table class=\"wandb\"><tr><td>test_losses</td><td>▇▄▂▂▂▁▁▁█▂▁▂▂▁▂▁▁▆▁▁</td></tr><tr><td>train_loss</td><td>▇▄▂▂▂▁▁▁█▂▁▂▂▁▂▁▁▆▁▁</td></tr></table><br/></div><div class=\"wandb-col\"><h3>Run summary:</h3><br/><table class=\"wandb\"><tr><td>test_losses</td><td>0.22558</td></tr><tr><td>train_loss</td><td>0.22558</td></tr></table><br/></div></div>"
      ],
      "text/plain": [
       "<IPython.core.display.HTML object>"
      ]
     },
     "metadata": {},
     "output_type": "display_data"
    },
    {
     "data": {
      "text/html": [
       " View run <strong style=\"color:#cdcd00\">quiet-sweep-2</strong> at: <a href='https://wandb.ai/zihaom96/RNN-Pytorch-polymer/runs/lh6wsofk' target=\"_blank\">https://wandb.ai/zihaom96/RNN-Pytorch-polymer/runs/lh6wsofk</a><br/>Synced 6 W&B file(s), 0 media file(s), 0 artifact file(s) and 0 other file(s)"
      ],
      "text/plain": [
       "<IPython.core.display.HTML object>"
      ]
     },
     "metadata": {},
     "output_type": "display_data"
    },
    {
     "data": {
      "text/html": [
       "Find logs at: <code>./wandb/run-20230406_214740-lh6wsofk/logs</code>"
      ],
      "text/plain": [
       "<IPython.core.display.HTML object>"
      ]
     },
     "metadata": {},
     "output_type": "display_data"
    },
    {
     "name": "stderr",
     "output_type": "stream",
     "text": [
      "\u001b[34m\u001b[1mwandb\u001b[0m: Agent Starting Run: u3lcfcxa with config:\n",
      "\u001b[34m\u001b[1mwandb\u001b[0m: \tlearning_rate: 0.0007345492499129306\n",
      "\u001b[34m\u001b[1mwandb\u001b[0m: \tweight_decay: 0.05923684204257069\n"
     ]
    },
    {
     "data": {
      "text/html": [
       "wandb version 0.14.1 is available!  To upgrade, please run:\n",
       " $ pip install wandb --upgrade"
      ],
      "text/plain": [
       "<IPython.core.display.HTML object>"
      ]
     },
     "metadata": {},
     "output_type": "display_data"
    },
    {
     "data": {
      "text/html": [
       "Tracking run with wandb version 0.14.0"
      ],
      "text/plain": [
       "<IPython.core.display.HTML object>"
      ]
     },
     "metadata": {},
     "output_type": "display_data"
    },
    {
     "data": {
      "text/html": [
       "Run data is saved locally in <code>/home/zmao_umass_edu/pytorch/wandb/run-20230406_215734-u3lcfcxa</code>"
      ],
      "text/plain": [
       "<IPython.core.display.HTML object>"
      ]
     },
     "metadata": {},
     "output_type": "display_data"
    },
    {
     "data": {
      "text/html": [
       "Syncing run <strong><a href='https://wandb.ai/zihaom96/RNN-Pytorch-polymer/runs/u3lcfcxa' target=\"_blank\">amber-sweep-3</a></strong> to <a href='https://wandb.ai/zihaom96/RNN-Pytorch-polymer' target=\"_blank\">Weights & Biases</a> (<a href='https://wandb.me/run' target=\"_blank\">docs</a>)<br/>Sweep page: <a href='https://wandb.ai/zihaom96/RNN-Pytorch-polymer/sweeps/l0dl7ho9' target=\"_blank\">https://wandb.ai/zihaom96/RNN-Pytorch-polymer/sweeps/l0dl7ho9</a>"
      ],
      "text/plain": [
       "<IPython.core.display.HTML object>"
      ]
     },
     "metadata": {},
     "output_type": "display_data"
    },
    {
     "data": {
      "text/html": [
       " View project at <a href='https://wandb.ai/zihaom96/RNN-Pytorch-polymer' target=\"_blank\">https://wandb.ai/zihaom96/RNN-Pytorch-polymer</a>"
      ],
      "text/plain": [
       "<IPython.core.display.HTML object>"
      ]
     },
     "metadata": {},
     "output_type": "display_data"
    },
    {
     "data": {
      "text/html": [
       " View sweep at <a href='https://wandb.ai/zihaom96/RNN-Pytorch-polymer/sweeps/l0dl7ho9' target=\"_blank\">https://wandb.ai/zihaom96/RNN-Pytorch-polymer/sweeps/l0dl7ho9</a>"
      ],
      "text/plain": [
       "<IPython.core.display.HTML object>"
      ]
     },
     "metadata": {},
     "output_type": "display_data"
    },
    {
     "data": {
      "text/html": [
       " View run at <a href='https://wandb.ai/zihaom96/RNN-Pytorch-polymer/runs/u3lcfcxa' target=\"_blank\">https://wandb.ai/zihaom96/RNN-Pytorch-polymer/runs/u3lcfcxa</a>"
      ],
      "text/plain": [
       "<IPython.core.display.HTML object>"
      ]
     },
     "metadata": {},
     "output_type": "display_data"
    },
    {
     "name": "stderr",
     "output_type": "stream",
     "text": [
      "Training epoch 1/20: 100%|██████████| 300/300 [00:25<00:00, 11.64it/s]\n"
     ]
    },
    {
     "name": "stdout",
     "output_type": "stream",
     "text": [
      "Epoch 1/20, Train Loss: 1.8639, Test Loss: 0.2458\n"
     ]
    },
    {
     "name": "stderr",
     "output_type": "stream",
     "text": [
      "Training epoch 2/20: 100%|██████████| 300/300 [00:20<00:00, 14.57it/s]\n"
     ]
    },
    {
     "name": "stdout",
     "output_type": "stream",
     "text": [
      "Epoch 2/20, Train Loss: 0.2373, Test Loss: 0.2318\n"
     ]
    },
    {
     "name": "stderr",
     "output_type": "stream",
     "text": [
      "Training epoch 3/20: 100%|██████████| 300/300 [00:22<00:00, 13.33it/s]\n"
     ]
    },
    {
     "name": "stdout",
     "output_type": "stream",
     "text": [
      "Epoch 3/20, Train Loss: 0.2325, Test Loss: 0.2429\n"
     ]
    },
    {
     "name": "stderr",
     "output_type": "stream",
     "text": [
      "Training epoch 4/20: 100%|██████████| 300/300 [00:23<00:00, 12.99it/s]\n"
     ]
    },
    {
     "name": "stdout",
     "output_type": "stream",
     "text": [
      "Epoch 4/20, Train Loss: 0.2322, Test Loss: 0.2264\n"
     ]
    },
    {
     "name": "stderr",
     "output_type": "stream",
     "text": [
      "Training epoch 5/20: 100%|██████████| 300/300 [00:32<00:00,  9.37it/s]\n"
     ]
    },
    {
     "name": "stdout",
     "output_type": "stream",
     "text": [
      "Epoch 5/20, Train Loss: 0.2309, Test Loss: 0.2288\n"
     ]
    },
    {
     "name": "stderr",
     "output_type": "stream",
     "text": [
      "Training epoch 6/20: 100%|██████████| 300/300 [00:21<00:00, 13.86it/s]\n"
     ]
    },
    {
     "name": "stdout",
     "output_type": "stream",
     "text": [
      "Epoch 6/20, Train Loss: 0.2308, Test Loss: 0.2254\n"
     ]
    },
    {
     "name": "stderr",
     "output_type": "stream",
     "text": [
      "Training epoch 7/20: 100%|██████████| 300/300 [00:26<00:00, 11.30it/s]\n"
     ]
    },
    {
     "name": "stdout",
     "output_type": "stream",
     "text": [
      "Epoch 7/20, Train Loss: 0.2295, Test Loss: 0.2323\n"
     ]
    },
    {
     "name": "stderr",
     "output_type": "stream",
     "text": [
      "Training epoch 8/20: 100%|██████████| 300/300 [00:21<00:00, 14.18it/s]\n"
     ]
    },
    {
     "name": "stdout",
     "output_type": "stream",
     "text": [
      "Epoch 8/20, Train Loss: 0.2297, Test Loss: 0.2251\n"
     ]
    },
    {
     "name": "stderr",
     "output_type": "stream",
     "text": [
      "Training epoch 9/20: 100%|██████████| 300/300 [00:23<00:00, 12.94it/s]\n"
     ]
    },
    {
     "name": "stdout",
     "output_type": "stream",
     "text": [
      "Epoch 9/20, Train Loss: 0.2283, Test Loss: 0.2252\n"
     ]
    },
    {
     "name": "stderr",
     "output_type": "stream",
     "text": [
      "Training epoch 10/20: 100%|██████████| 300/300 [00:22<00:00, 13.17it/s]\n"
     ]
    },
    {
     "name": "stdout",
     "output_type": "stream",
     "text": [
      "Epoch 10/20, Train Loss: 0.2283, Test Loss: 0.2281\n"
     ]
    },
    {
     "name": "stderr",
     "output_type": "stream",
     "text": [
      "Training epoch 11/20: 100%|██████████| 300/300 [00:22<00:00, 13.32it/s]\n"
     ]
    },
    {
     "name": "stdout",
     "output_type": "stream",
     "text": [
      "Epoch 11/20, Train Loss: 0.2288, Test Loss: 0.2253\n"
     ]
    },
    {
     "name": "stderr",
     "output_type": "stream",
     "text": [
      "Training epoch 12/20: 100%|██████████| 300/300 [00:21<00:00, 13.70it/s]\n"
     ]
    },
    {
     "name": "stdout",
     "output_type": "stream",
     "text": [
      "Epoch 12/20, Train Loss: 0.2290, Test Loss: 0.2248\n"
     ]
    },
    {
     "name": "stderr",
     "output_type": "stream",
     "text": [
      "Training epoch 13/20: 100%|██████████| 300/300 [00:21<00:00, 13.79it/s]\n"
     ]
    },
    {
     "name": "stdout",
     "output_type": "stream",
     "text": [
      "Epoch 13/20, Train Loss: 0.2285, Test Loss: 0.2264\n"
     ]
    },
    {
     "name": "stderr",
     "output_type": "stream",
     "text": [
      "Training epoch 14/20: 100%|██████████| 300/300 [00:20<00:00, 14.46it/s]\n"
     ]
    },
    {
     "name": "stdout",
     "output_type": "stream",
     "text": [
      "Epoch 14/20, Train Loss: 0.2280, Test Loss: 0.2266\n"
     ]
    },
    {
     "name": "stderr",
     "output_type": "stream",
     "text": [
      "Training epoch 15/20: 100%|██████████| 300/300 [00:24<00:00, 12.30it/s]\n"
     ]
    },
    {
     "name": "stdout",
     "output_type": "stream",
     "text": [
      "Epoch 15/20, Train Loss: 0.2284, Test Loss: 0.2251\n"
     ]
    },
    {
     "name": "stderr",
     "output_type": "stream",
     "text": [
      "Training epoch 16/20: 100%|██████████| 300/300 [00:23<00:00, 12.90it/s]\n"
     ]
    },
    {
     "name": "stdout",
     "output_type": "stream",
     "text": [
      "Epoch 16/20, Train Loss: 0.2290, Test Loss: 0.2256\n"
     ]
    },
    {
     "name": "stderr",
     "output_type": "stream",
     "text": [
      "Training epoch 17/20: 100%|██████████| 300/300 [00:20<00:00, 14.34it/s]\n"
     ]
    },
    {
     "name": "stdout",
     "output_type": "stream",
     "text": [
      "Epoch 17/20, Train Loss: 0.2289, Test Loss: 0.2247\n"
     ]
    },
    {
     "name": "stderr",
     "output_type": "stream",
     "text": [
      "Training epoch 18/20: 100%|██████████| 300/300 [00:21<00:00, 14.02it/s]\n"
     ]
    },
    {
     "name": "stdout",
     "output_type": "stream",
     "text": [
      "Epoch 18/20, Train Loss: 0.2294, Test Loss: 0.2292\n"
     ]
    },
    {
     "name": "stderr",
     "output_type": "stream",
     "text": [
      "Training epoch 19/20: 100%|██████████| 300/300 [00:23<00:00, 12.51it/s]\n"
     ]
    },
    {
     "name": "stdout",
     "output_type": "stream",
     "text": [
      "Epoch 19/20, Train Loss: 0.2291, Test Loss: 0.2322\n"
     ]
    },
    {
     "name": "stderr",
     "output_type": "stream",
     "text": [
      "Training epoch 20/20: 100%|██████████| 300/300 [00:21<00:00, 14.27it/s]\n"
     ]
    },
    {
     "name": "stdout",
     "output_type": "stream",
     "text": [
      "Epoch 20/20, Train Loss: 0.2282, Test Loss: 0.2248\n"
     ]
    },
    {
     "data": {
      "text/html": [
       "Waiting for W&B process to finish... <strong style=\"color:green\">(success).</strong>"
      ],
      "text/plain": [
       "<IPython.core.display.HTML object>"
      ]
     },
     "metadata": {},
     "output_type": "display_data"
    },
    {
     "data": {
      "text/html": [
       "<style>\n",
       "    table.wandb td:nth-child(1) { padding: 0 10px; text-align: left ; width: auto;} td:nth-child(2) {text-align: left ; width: 100%}\n",
       "    .wandb-row { display: flex; flex-direction: row; flex-wrap: wrap; justify-content: flex-start; width: 100% }\n",
       "    .wandb-col { display: flex; flex-direction: column; flex-basis: 100%; flex: 1; padding: 10px; }\n",
       "    </style>\n",
       "<div class=\"wandb-row\"><div class=\"wandb-col\"><h3>Run history:</h3><br/><table class=\"wandb\"><tr><td>test_losses</td><td>█▃▇▂▂▁▄▁▁▂▁▁▂▂▁▁▁▂▃▁</td></tr><tr><td>train_loss</td><td>█▃▇▂▂▁▄▁▁▂▁▁▂▂▁▁▁▂▃▁</td></tr></table><br/></div><div class=\"wandb-col\"><h3>Run summary:</h3><br/><table class=\"wandb\"><tr><td>test_losses</td><td>0.22475</td></tr><tr><td>train_loss</td><td>0.22475</td></tr></table><br/></div></div>"
      ],
      "text/plain": [
       "<IPython.core.display.HTML object>"
      ]
     },
     "metadata": {},
     "output_type": "display_data"
    },
    {
     "data": {
      "text/html": [
       " View run <strong style=\"color:#cdcd00\">amber-sweep-3</strong> at: <a href='https://wandb.ai/zihaom96/RNN-Pytorch-polymer/runs/u3lcfcxa' target=\"_blank\">https://wandb.ai/zihaom96/RNN-Pytorch-polymer/runs/u3lcfcxa</a><br/>Synced 6 W&B file(s), 0 media file(s), 0 artifact file(s) and 0 other file(s)"
      ],
      "text/plain": [
       "<IPython.core.display.HTML object>"
      ]
     },
     "metadata": {},
     "output_type": "display_data"
    },
    {
     "data": {
      "text/html": [
       "Find logs at: <code>./wandb/run-20230406_215734-u3lcfcxa/logs</code>"
      ],
      "text/plain": [
       "<IPython.core.display.HTML object>"
      ]
     },
     "metadata": {},
     "output_type": "display_data"
    },
    {
     "name": "stderr",
     "output_type": "stream",
     "text": [
      "\u001b[34m\u001b[1mwandb\u001b[0m: Agent Starting Run: nd4xmhem with config:\n",
      "\u001b[34m\u001b[1mwandb\u001b[0m: \tlearning_rate: 0.0005742981671427362\n",
      "\u001b[34m\u001b[1mwandb\u001b[0m: \tweight_decay: 0.0644965077611346\n"
     ]
    },
    {
     "data": {
      "text/html": [
       "wandb version 0.14.1 is available!  To upgrade, please run:\n",
       " $ pip install wandb --upgrade"
      ],
      "text/plain": [
       "<IPython.core.display.HTML object>"
      ]
     },
     "metadata": {},
     "output_type": "display_data"
    },
    {
     "data": {
      "text/html": [
       "Tracking run with wandb version 0.14.0"
      ],
      "text/plain": [
       "<IPython.core.display.HTML object>"
      ]
     },
     "metadata": {},
     "output_type": "display_data"
    },
    {
     "data": {
      "text/html": [
       "Run data is saved locally in <code>/home/zmao_umass_edu/pytorch/wandb/run-20230406_220709-nd4xmhem</code>"
      ],
      "text/plain": [
       "<IPython.core.display.HTML object>"
      ]
     },
     "metadata": {},
     "output_type": "display_data"
    },
    {
     "data": {
      "text/html": [
       "Syncing run <strong><a href='https://wandb.ai/zihaom96/RNN-Pytorch-polymer/runs/nd4xmhem' target=\"_blank\">sweet-sweep-4</a></strong> to <a href='https://wandb.ai/zihaom96/RNN-Pytorch-polymer' target=\"_blank\">Weights & Biases</a> (<a href='https://wandb.me/run' target=\"_blank\">docs</a>)<br/>Sweep page: <a href='https://wandb.ai/zihaom96/RNN-Pytorch-polymer/sweeps/l0dl7ho9' target=\"_blank\">https://wandb.ai/zihaom96/RNN-Pytorch-polymer/sweeps/l0dl7ho9</a>"
      ],
      "text/plain": [
       "<IPython.core.display.HTML object>"
      ]
     },
     "metadata": {},
     "output_type": "display_data"
    },
    {
     "data": {
      "text/html": [
       " View project at <a href='https://wandb.ai/zihaom96/RNN-Pytorch-polymer' target=\"_blank\">https://wandb.ai/zihaom96/RNN-Pytorch-polymer</a>"
      ],
      "text/plain": [
       "<IPython.core.display.HTML object>"
      ]
     },
     "metadata": {},
     "output_type": "display_data"
    },
    {
     "data": {
      "text/html": [
       " View sweep at <a href='https://wandb.ai/zihaom96/RNN-Pytorch-polymer/sweeps/l0dl7ho9' target=\"_blank\">https://wandb.ai/zihaom96/RNN-Pytorch-polymer/sweeps/l0dl7ho9</a>"
      ],
      "text/plain": [
       "<IPython.core.display.HTML object>"
      ]
     },
     "metadata": {},
     "output_type": "display_data"
    },
    {
     "data": {
      "text/html": [
       " View run at <a href='https://wandb.ai/zihaom96/RNN-Pytorch-polymer/runs/nd4xmhem' target=\"_blank\">https://wandb.ai/zihaom96/RNN-Pytorch-polymer/runs/nd4xmhem</a>"
      ],
      "text/plain": [
       "<IPython.core.display.HTML object>"
      ]
     },
     "metadata": {},
     "output_type": "display_data"
    },
    {
     "name": "stderr",
     "output_type": "stream",
     "text": [
      "Training epoch 1/20: 100%|██████████| 300/300 [00:24<00:00, 12.30it/s]\n"
     ]
    },
    {
     "name": "stdout",
     "output_type": "stream",
     "text": [
      "Epoch 1/20, Train Loss: 2.5455, Test Loss: 0.2622\n"
     ]
    },
    {
     "name": "stderr",
     "output_type": "stream",
     "text": [
      "Training epoch 2/20: 100%|██████████| 300/300 [00:22<00:00, 13.61it/s]\n"
     ]
    },
    {
     "name": "stdout",
     "output_type": "stream",
     "text": [
      "Epoch 2/20, Train Loss: 0.2458, Test Loss: 0.2380\n"
     ]
    },
    {
     "name": "stderr",
     "output_type": "stream",
     "text": [
      "Training epoch 3/20: 100%|██████████| 300/300 [00:21<00:00, 14.06it/s]\n"
     ]
    },
    {
     "name": "stdout",
     "output_type": "stream",
     "text": [
      "Epoch 3/20, Train Loss: 0.2343, Test Loss: 0.2306\n"
     ]
    },
    {
     "name": "stderr",
     "output_type": "stream",
     "text": [
      "Training epoch 4/20: 100%|██████████| 300/300 [00:23<00:00, 12.97it/s]\n"
     ]
    },
    {
     "name": "stdout",
     "output_type": "stream",
     "text": [
      "Epoch 4/20, Train Loss: 0.2318, Test Loss: 0.2296\n"
     ]
    },
    {
     "name": "stderr",
     "output_type": "stream",
     "text": [
      "Training epoch 5/20: 100%|██████████| 300/300 [00:26<00:00, 11.53it/s]\n"
     ]
    },
    {
     "name": "stdout",
     "output_type": "stream",
     "text": [
      "Epoch 5/20, Train Loss: 0.2314, Test Loss: 0.2265\n"
     ]
    },
    {
     "name": "stderr",
     "output_type": "stream",
     "text": [
      "Training epoch 6/20: 100%|██████████| 300/300 [00:25<00:00, 11.79it/s]\n"
     ]
    },
    {
     "name": "stdout",
     "output_type": "stream",
     "text": [
      "Epoch 6/20, Train Loss: 0.2303, Test Loss: 0.2308\n"
     ]
    },
    {
     "name": "stderr",
     "output_type": "stream",
     "text": [
      "Training epoch 7/20: 100%|██████████| 300/300 [00:26<00:00, 11.48it/s]\n"
     ]
    },
    {
     "name": "stdout",
     "output_type": "stream",
     "text": [
      "Epoch 7/20, Train Loss: 0.2295, Test Loss: 0.2273\n"
     ]
    },
    {
     "name": "stderr",
     "output_type": "stream",
     "text": [
      "Training epoch 8/20: 100%|██████████| 300/300 [00:23<00:00, 12.87it/s]\n"
     ]
    },
    {
     "name": "stdout",
     "output_type": "stream",
     "text": [
      "Epoch 8/20, Train Loss: 0.2299, Test Loss: 0.2255\n"
     ]
    },
    {
     "name": "stderr",
     "output_type": "stream",
     "text": [
      "Training epoch 9/20: 100%|██████████| 300/300 [00:25<00:00, 11.57it/s]\n"
     ]
    },
    {
     "name": "stdout",
     "output_type": "stream",
     "text": [
      "Epoch 9/20, Train Loss: 0.2285, Test Loss: 0.2274\n"
     ]
    },
    {
     "name": "stderr",
     "output_type": "stream",
     "text": [
      "Training epoch 10/20: 100%|██████████| 300/300 [00:31<00:00,  9.63it/s]\n"
     ]
    },
    {
     "name": "stdout",
     "output_type": "stream",
     "text": [
      "Epoch 10/20, Train Loss: 0.2289, Test Loss: 0.2322\n"
     ]
    },
    {
     "name": "stderr",
     "output_type": "stream",
     "text": [
      "Training epoch 11/20: 100%|██████████| 300/300 [00:23<00:00, 12.80it/s]\n"
     ]
    },
    {
     "name": "stdout",
     "output_type": "stream",
     "text": [
      "Epoch 11/20, Train Loss: 0.2282, Test Loss: 0.2300\n"
     ]
    },
    {
     "name": "stderr",
     "output_type": "stream",
     "text": [
      "Training epoch 12/20: 100%|██████████| 300/300 [00:31<00:00,  9.60it/s]\n"
     ]
    },
    {
     "name": "stdout",
     "output_type": "stream",
     "text": [
      "Epoch 12/20, Train Loss: 0.2288, Test Loss: 0.2257\n"
     ]
    },
    {
     "name": "stderr",
     "output_type": "stream",
     "text": [
      "Training epoch 13/20: 100%|██████████| 300/300 [00:25<00:00, 11.63it/s]\n"
     ]
    },
    {
     "name": "stdout",
     "output_type": "stream",
     "text": [
      "Epoch 13/20, Train Loss: 0.2275, Test Loss: 0.2255\n"
     ]
    },
    {
     "name": "stderr",
     "output_type": "stream",
     "text": [
      "Training epoch 14/20: 100%|██████████| 300/300 [00:20<00:00, 14.39it/s]\n"
     ]
    },
    {
     "name": "stdout",
     "output_type": "stream",
     "text": [
      "Epoch 14/20, Train Loss: 0.2283, Test Loss: 0.2281\n"
     ]
    },
    {
     "name": "stderr",
     "output_type": "stream",
     "text": [
      "Training epoch 15/20: 100%|██████████| 300/300 [00:23<00:00, 13.03it/s]\n"
     ]
    },
    {
     "name": "stdout",
     "output_type": "stream",
     "text": [
      "Epoch 15/20, Train Loss: 0.2284, Test Loss: 0.2284\n"
     ]
    },
    {
     "name": "stderr",
     "output_type": "stream",
     "text": [
      "Training epoch 16/20: 100%|██████████| 300/300 [00:22<00:00, 13.56it/s]\n"
     ]
    },
    {
     "name": "stdout",
     "output_type": "stream",
     "text": [
      "Epoch 16/20, Train Loss: 0.2281, Test Loss: 0.2265\n"
     ]
    },
    {
     "name": "stderr",
     "output_type": "stream",
     "text": [
      "Training epoch 17/20: 100%|██████████| 300/300 [00:20<00:00, 14.30it/s]\n"
     ]
    },
    {
     "name": "stdout",
     "output_type": "stream",
     "text": [
      "Epoch 17/20, Train Loss: 0.2279, Test Loss: 0.2329\n"
     ]
    },
    {
     "name": "stderr",
     "output_type": "stream",
     "text": [
      "Training epoch 18/20: 100%|██████████| 300/300 [00:22<00:00, 13.38it/s]\n"
     ]
    },
    {
     "name": "stdout",
     "output_type": "stream",
     "text": [
      "Epoch 18/20, Train Loss: 0.2276, Test Loss: 0.2367\n"
     ]
    },
    {
     "name": "stderr",
     "output_type": "stream",
     "text": [
      "Training epoch 19/20: 100%|██████████| 300/300 [00:22<00:00, 13.17it/s]\n"
     ]
    },
    {
     "name": "stdout",
     "output_type": "stream",
     "text": [
      "Epoch 19/20, Train Loss: 0.2281, Test Loss: 0.2248\n"
     ]
    },
    {
     "name": "stderr",
     "output_type": "stream",
     "text": [
      "Training epoch 20/20: 100%|██████████| 300/300 [00:21<00:00, 13.85it/s]\n"
     ]
    },
    {
     "name": "stdout",
     "output_type": "stream",
     "text": [
      "Epoch 20/20, Train Loss: 0.2282, Test Loss: 0.2249\n"
     ]
    },
    {
     "data": {
      "text/html": [
       "Waiting for W&B process to finish... <strong style=\"color:green\">(success).</strong>"
      ],
      "text/plain": [
       "<IPython.core.display.HTML object>"
      ]
     },
     "metadata": {},
     "output_type": "display_data"
    },
    {
     "data": {
      "text/html": [
       "<style>\n",
       "    table.wandb td:nth-child(1) { padding: 0 10px; text-align: left ; width: auto;} td:nth-child(2) {text-align: left ; width: 100%}\n",
       "    .wandb-row { display: flex; flex-direction: row; flex-wrap: wrap; justify-content: flex-start; width: 100% }\n",
       "    .wandb-col { display: flex; flex-direction: column; flex-basis: 100%; flex: 1; padding: 10px; }\n",
       "    </style>\n",
       "<div class=\"wandb-row\"><div class=\"wandb-col\"><h3>Run history:</h3><br/><table class=\"wandb\"><tr><td>test_losses</td><td>█▃▂▂▁▂▁▁▁▂▂▁▁▂▂▁▃▃▁▁</td></tr><tr><td>train_loss</td><td>█▃▂▂▁▂▁▁▁▂▂▁▁▂▂▁▃▃▁▁</td></tr></table><br/></div><div class=\"wandb-col\"><h3>Run summary:</h3><br/><table class=\"wandb\"><tr><td>test_losses</td><td>0.2249</td></tr><tr><td>train_loss</td><td>0.2249</td></tr></table><br/></div></div>"
      ],
      "text/plain": [
       "<IPython.core.display.HTML object>"
      ]
     },
     "metadata": {},
     "output_type": "display_data"
    },
    {
     "data": {
      "text/html": [
       " View run <strong style=\"color:#cdcd00\">sweet-sweep-4</strong> at: <a href='https://wandb.ai/zihaom96/RNN-Pytorch-polymer/runs/nd4xmhem' target=\"_blank\">https://wandb.ai/zihaom96/RNN-Pytorch-polymer/runs/nd4xmhem</a><br/>Synced 6 W&B file(s), 0 media file(s), 0 artifact file(s) and 0 other file(s)"
      ],
      "text/plain": [
       "<IPython.core.display.HTML object>"
      ]
     },
     "metadata": {},
     "output_type": "display_data"
    },
    {
     "data": {
      "text/html": [
       "Find logs at: <code>./wandb/run-20230406_220709-nd4xmhem/logs</code>"
      ],
      "text/plain": [
       "<IPython.core.display.HTML object>"
      ]
     },
     "metadata": {},
     "output_type": "display_data"
    },
    {
     "name": "stderr",
     "output_type": "stream",
     "text": [
      "\u001b[34m\u001b[1mwandb\u001b[0m: Agent Starting Run: oq565tm7 with config:\n",
      "\u001b[34m\u001b[1mwandb\u001b[0m: \tlearning_rate: 1.040717538656384e-05\n",
      "\u001b[34m\u001b[1mwandb\u001b[0m: \tweight_decay: 0.04761707874830074\n"
     ]
    },
    {
     "data": {
      "text/html": [
       "wandb version 0.14.1 is available!  To upgrade, please run:\n",
       " $ pip install wandb --upgrade"
      ],
      "text/plain": [
       "<IPython.core.display.HTML object>"
      ]
     },
     "metadata": {},
     "output_type": "display_data"
    },
    {
     "data": {
      "text/html": [
       "Tracking run with wandb version 0.14.0"
      ],
      "text/plain": [
       "<IPython.core.display.HTML object>"
      ]
     },
     "metadata": {},
     "output_type": "display_data"
    },
    {
     "data": {
      "text/html": [
       "Run data is saved locally in <code>/home/zmao_umass_edu/pytorch/wandb/run-20230406_221713-oq565tm7</code>"
      ],
      "text/plain": [
       "<IPython.core.display.HTML object>"
      ]
     },
     "metadata": {},
     "output_type": "display_data"
    },
    {
     "data": {
      "text/html": [
       "Syncing run <strong><a href='https://wandb.ai/zihaom96/RNN-Pytorch-polymer/runs/oq565tm7' target=\"_blank\">desert-sweep-5</a></strong> to <a href='https://wandb.ai/zihaom96/RNN-Pytorch-polymer' target=\"_blank\">Weights & Biases</a> (<a href='https://wandb.me/run' target=\"_blank\">docs</a>)<br/>Sweep page: <a href='https://wandb.ai/zihaom96/RNN-Pytorch-polymer/sweeps/l0dl7ho9' target=\"_blank\">https://wandb.ai/zihaom96/RNN-Pytorch-polymer/sweeps/l0dl7ho9</a>"
      ],
      "text/plain": [
       "<IPython.core.display.HTML object>"
      ]
     },
     "metadata": {},
     "output_type": "display_data"
    },
    {
     "data": {
      "text/html": [
       " View project at <a href='https://wandb.ai/zihaom96/RNN-Pytorch-polymer' target=\"_blank\">https://wandb.ai/zihaom96/RNN-Pytorch-polymer</a>"
      ],
      "text/plain": [
       "<IPython.core.display.HTML object>"
      ]
     },
     "metadata": {},
     "output_type": "display_data"
    },
    {
     "data": {
      "text/html": [
       " View sweep at <a href='https://wandb.ai/zihaom96/RNN-Pytorch-polymer/sweeps/l0dl7ho9' target=\"_blank\">https://wandb.ai/zihaom96/RNN-Pytorch-polymer/sweeps/l0dl7ho9</a>"
      ],
      "text/plain": [
       "<IPython.core.display.HTML object>"
      ]
     },
     "metadata": {},
     "output_type": "display_data"
    },
    {
     "data": {
      "text/html": [
       " View run at <a href='https://wandb.ai/zihaom96/RNN-Pytorch-polymer/runs/oq565tm7' target=\"_blank\">https://wandb.ai/zihaom96/RNN-Pytorch-polymer/runs/oq565tm7</a>"
      ],
      "text/plain": [
       "<IPython.core.display.HTML object>"
      ]
     },
     "metadata": {},
     "output_type": "display_data"
    },
    {
     "name": "stderr",
     "output_type": "stream",
     "text": [
      "Training epoch 1/20: 100%|██████████| 300/300 [00:23<00:00, 12.54it/s]\n"
     ]
    },
    {
     "name": "stdout",
     "output_type": "stream",
     "text": [
      "Epoch 1/20, Train Loss: 38.2654, Test Loss: 34.3776\n"
     ]
    },
    {
     "name": "stderr",
     "output_type": "stream",
     "text": [
      "Training epoch 2/20: 100%|██████████| 300/300 [00:24<00:00, 12.19it/s]\n"
     ]
    },
    {
     "name": "stdout",
     "output_type": "stream",
     "text": [
      "Epoch 2/20, Train Loss: 27.7127, Test Loss: 19.5910\n"
     ]
    },
    {
     "name": "stderr",
     "output_type": "stream",
     "text": [
      "Training epoch 3/20: 100%|██████████| 300/300 [00:25<00:00, 11.99it/s]\n"
     ]
    },
    {
     "name": "stdout",
     "output_type": "stream",
     "text": [
      "Epoch 3/20, Train Loss: 10.4978, Test Loss: 3.6503\n"
     ]
    },
    {
     "name": "stderr",
     "output_type": "stream",
     "text": [
      "Training epoch 4/20: 100%|██████████| 300/300 [00:23<00:00, 12.90it/s]\n"
     ]
    },
    {
     "name": "stdout",
     "output_type": "stream",
     "text": [
      "Epoch 4/20, Train Loss: 1.9074, Test Loss: 1.3532\n"
     ]
    },
    {
     "name": "stderr",
     "output_type": "stream",
     "text": [
      "Training epoch 5/20: 100%|██████████| 300/300 [00:21<00:00, 13.85it/s]\n"
     ]
    },
    {
     "name": "stdout",
     "output_type": "stream",
     "text": [
      "Epoch 5/20, Train Loss: 1.1730, Test Loss: 1.0686\n"
     ]
    },
    {
     "name": "stderr",
     "output_type": "stream",
     "text": [
      "Training epoch 6/20: 100%|██████████| 300/300 [00:24<00:00, 12.49it/s]\n"
     ]
    },
    {
     "name": "stdout",
     "output_type": "stream",
     "text": [
      "Epoch 6/20, Train Loss: 0.9525, Test Loss: 0.8800\n"
     ]
    },
    {
     "name": "stderr",
     "output_type": "stream",
     "text": [
      "Training epoch 7/20: 100%|██████████| 300/300 [00:21<00:00, 14.02it/s]\n"
     ]
    },
    {
     "name": "stdout",
     "output_type": "stream",
     "text": [
      "Epoch 7/20, Train Loss: 0.7969, Test Loss: 0.7462\n"
     ]
    },
    {
     "name": "stderr",
     "output_type": "stream",
     "text": [
      "Training epoch 8/20: 100%|██████████| 300/300 [00:21<00:00, 14.16it/s]\n"
     ]
    },
    {
     "name": "stdout",
     "output_type": "stream",
     "text": [
      "Epoch 8/20, Train Loss: 0.6822, Test Loss: 0.6434\n"
     ]
    },
    {
     "name": "stderr",
     "output_type": "stream",
     "text": [
      "Training epoch 9/20: 100%|██████████| 300/300 [00:21<00:00, 14.18it/s]\n"
     ]
    },
    {
     "name": "stdout",
     "output_type": "stream",
     "text": [
      "Epoch 9/20, Train Loss: 0.5952, Test Loss: 0.5645\n"
     ]
    },
    {
     "name": "stderr",
     "output_type": "stream",
     "text": [
      "Training epoch 10/20: 100%|██████████| 300/300 [00:20<00:00, 14.30it/s]\n"
     ]
    },
    {
     "name": "stdout",
     "output_type": "stream",
     "text": [
      "Epoch 10/20, Train Loss: 0.5280, Test Loss: 0.5047\n"
     ]
    },
    {
     "name": "stderr",
     "output_type": "stream",
     "text": [
      "Training epoch 11/20: 100%|██████████| 300/300 [00:26<00:00, 11.32it/s]\n"
     ]
    },
    {
     "name": "stdout",
     "output_type": "stream",
     "text": [
      "Epoch 11/20, Train Loss: 0.4750, Test Loss: 0.4558\n"
     ]
    },
    {
     "name": "stderr",
     "output_type": "stream",
     "text": [
      "Training epoch 12/20: 100%|██████████| 300/300 [00:24<00:00, 12.29it/s]\n"
     ]
    },
    {
     "name": "stdout",
     "output_type": "stream",
     "text": [
      "Epoch 12/20, Train Loss: 0.4323, Test Loss: 0.4169\n"
     ]
    },
    {
     "name": "stderr",
     "output_type": "stream",
     "text": [
      "Training epoch 13/20: 100%|██████████| 300/300 [00:22<00:00, 13.36it/s]\n"
     ]
    },
    {
     "name": "stdout",
     "output_type": "stream",
     "text": [
      "Epoch 13/20, Train Loss: 0.3985, Test Loss: 0.3858\n"
     ]
    },
    {
     "name": "stderr",
     "output_type": "stream",
     "text": [
      "Training epoch 14/20: 100%|██████████| 300/300 [00:23<00:00, 12.66it/s]\n"
     ]
    },
    {
     "name": "stdout",
     "output_type": "stream",
     "text": [
      "Epoch 14/20, Train Loss: 0.3705, Test Loss: 0.3608\n"
     ]
    },
    {
     "name": "stderr",
     "output_type": "stream",
     "text": [
      "Training epoch 15/20: 100%|██████████| 300/300 [00:21<00:00, 14.22it/s]\n"
     ]
    },
    {
     "name": "stdout",
     "output_type": "stream",
     "text": [
      "Epoch 15/20, Train Loss: 0.3481, Test Loss: 0.3395\n"
     ]
    },
    {
     "name": "stderr",
     "output_type": "stream",
     "text": [
      "Training epoch 16/20: 100%|██████████| 300/300 [00:20<00:00, 14.50it/s]\n"
     ]
    },
    {
     "name": "stdout",
     "output_type": "stream",
     "text": [
      "Epoch 16/20, Train Loss: 0.3294, Test Loss: 0.3223\n"
     ]
    },
    {
     "name": "stderr",
     "output_type": "stream",
     "text": [
      "Training epoch 17/20: 100%|██████████| 300/300 [00:23<00:00, 12.89it/s]\n"
     ]
    },
    {
     "name": "stdout",
     "output_type": "stream",
     "text": [
      "Epoch 17/20, Train Loss: 0.3144, Test Loss: 0.3078\n"
     ]
    },
    {
     "name": "stderr",
     "output_type": "stream",
     "text": [
      "Training epoch 18/20: 100%|██████████| 300/300 [00:21<00:00, 13.72it/s]\n"
     ]
    },
    {
     "name": "stdout",
     "output_type": "stream",
     "text": [
      "Epoch 18/20, Train Loss: 0.3016, Test Loss: 0.2966\n"
     ]
    },
    {
     "name": "stderr",
     "output_type": "stream",
     "text": [
      "Training epoch 19/20: 100%|██████████| 300/300 [00:23<00:00, 12.99it/s]\n"
     ]
    },
    {
     "name": "stdout",
     "output_type": "stream",
     "text": [
      "Epoch 19/20, Train Loss: 0.2912, Test Loss: 0.2869\n"
     ]
    },
    {
     "name": "stderr",
     "output_type": "stream",
     "text": [
      "Training epoch 20/20: 100%|██████████| 300/300 [00:25<00:00, 11.97it/s]\n"
     ]
    },
    {
     "name": "stdout",
     "output_type": "stream",
     "text": [
      "Epoch 20/20, Train Loss: 0.2825, Test Loss: 0.2789\n"
     ]
    },
    {
     "data": {
      "text/html": [
       "Waiting for W&B process to finish... <strong style=\"color:green\">(success).</strong>"
      ],
      "text/plain": [
       "<IPython.core.display.HTML object>"
      ]
     },
     "metadata": {},
     "output_type": "display_data"
    },
    {
     "data": {
      "text/html": [
       "<style>\n",
       "    table.wandb td:nth-child(1) { padding: 0 10px; text-align: left ; width: auto;} td:nth-child(2) {text-align: left ; width: 100%}\n",
       "    .wandb-row { display: flex; flex-direction: row; flex-wrap: wrap; justify-content: flex-start; width: 100% }\n",
       "    .wandb-col { display: flex; flex-direction: column; flex-basis: 100%; flex: 1; padding: 10px; }\n",
       "    </style>\n",
       "<div class=\"wandb-row\"><div class=\"wandb-col\"><h3>Run history:</h3><br/><table class=\"wandb\"><tr><td>test_losses</td><td>█▅▂▁▁▁▁▁▁▁▁▁▁▁▁▁▁▁▁▁</td></tr><tr><td>train_loss</td><td>█▅▂▁▁▁▁▁▁▁▁▁▁▁▁▁▁▁▁▁</td></tr></table><br/></div><div class=\"wandb-col\"><h3>Run summary:</h3><br/><table class=\"wandb\"><tr><td>test_losses</td><td>0.27892</td></tr><tr><td>train_loss</td><td>0.27892</td></tr></table><br/></div></div>"
      ],
      "text/plain": [
       "<IPython.core.display.HTML object>"
      ]
     },
     "metadata": {},
     "output_type": "display_data"
    },
    {
     "data": {
      "text/html": [
       " View run <strong style=\"color:#cdcd00\">desert-sweep-5</strong> at: <a href='https://wandb.ai/zihaom96/RNN-Pytorch-polymer/runs/oq565tm7' target=\"_blank\">https://wandb.ai/zihaom96/RNN-Pytorch-polymer/runs/oq565tm7</a><br/>Synced 6 W&B file(s), 0 media file(s), 0 artifact file(s) and 0 other file(s)"
      ],
      "text/plain": [
       "<IPython.core.display.HTML object>"
      ]
     },
     "metadata": {},
     "output_type": "display_data"
    },
    {
     "data": {
      "text/html": [
       "Find logs at: <code>./wandb/run-20230406_221713-oq565tm7/logs</code>"
      ],
      "text/plain": [
       "<IPython.core.display.HTML object>"
      ]
     },
     "metadata": {},
     "output_type": "display_data"
    },
    {
     "name": "stderr",
     "output_type": "stream",
     "text": [
      "\u001b[34m\u001b[1mwandb\u001b[0m: Agent Starting Run: 2czlqll7 with config:\n",
      "\u001b[34m\u001b[1mwandb\u001b[0m: \tlearning_rate: 1.0678508397784786e-05\n",
      "\u001b[34m\u001b[1mwandb\u001b[0m: \tweight_decay: 0.0999198825316596\n"
     ]
    },
    {
     "data": {
      "text/html": [
       "wandb version 0.14.1 is available!  To upgrade, please run:\n",
       " $ pip install wandb --upgrade"
      ],
      "text/plain": [
       "<IPython.core.display.HTML object>"
      ]
     },
     "metadata": {},
     "output_type": "display_data"
    },
    {
     "data": {
      "text/html": [
       "Tracking run with wandb version 0.14.0"
      ],
      "text/plain": [
       "<IPython.core.display.HTML object>"
      ]
     },
     "metadata": {},
     "output_type": "display_data"
    },
    {
     "data": {
      "text/html": [
       "Run data is saved locally in <code>/home/zmao_umass_edu/pytorch/wandb/run-20230406_222648-2czlqll7</code>"
      ],
      "text/plain": [
       "<IPython.core.display.HTML object>"
      ]
     },
     "metadata": {},
     "output_type": "display_data"
    },
    {
     "data": {
      "text/html": [
       "Syncing run <strong><a href='https://wandb.ai/zihaom96/RNN-Pytorch-polymer/runs/2czlqll7' target=\"_blank\">cosmic-sweep-6</a></strong> to <a href='https://wandb.ai/zihaom96/RNN-Pytorch-polymer' target=\"_blank\">Weights & Biases</a> (<a href='https://wandb.me/run' target=\"_blank\">docs</a>)<br/>Sweep page: <a href='https://wandb.ai/zihaom96/RNN-Pytorch-polymer/sweeps/l0dl7ho9' target=\"_blank\">https://wandb.ai/zihaom96/RNN-Pytorch-polymer/sweeps/l0dl7ho9</a>"
      ],
      "text/plain": [
       "<IPython.core.display.HTML object>"
      ]
     },
     "metadata": {},
     "output_type": "display_data"
    },
    {
     "data": {
      "text/html": [
       " View project at <a href='https://wandb.ai/zihaom96/RNN-Pytorch-polymer' target=\"_blank\">https://wandb.ai/zihaom96/RNN-Pytorch-polymer</a>"
      ],
      "text/plain": [
       "<IPython.core.display.HTML object>"
      ]
     },
     "metadata": {},
     "output_type": "display_data"
    },
    {
     "data": {
      "text/html": [
       " View sweep at <a href='https://wandb.ai/zihaom96/RNN-Pytorch-polymer/sweeps/l0dl7ho9' target=\"_blank\">https://wandb.ai/zihaom96/RNN-Pytorch-polymer/sweeps/l0dl7ho9</a>"
      ],
      "text/plain": [
       "<IPython.core.display.HTML object>"
      ]
     },
     "metadata": {},
     "output_type": "display_data"
    },
    {
     "data": {
      "text/html": [
       " View run at <a href='https://wandb.ai/zihaom96/RNN-Pytorch-polymer/runs/2czlqll7' target=\"_blank\">https://wandb.ai/zihaom96/RNN-Pytorch-polymer/runs/2czlqll7</a>"
      ],
      "text/plain": [
       "<IPython.core.display.HTML object>"
      ]
     },
     "metadata": {},
     "output_type": "display_data"
    },
    {
     "name": "stderr",
     "output_type": "stream",
     "text": [
      "Training epoch 1/20: 100%|██████████| 300/300 [00:23<00:00, 12.85it/s]\n"
     ]
    },
    {
     "name": "stdout",
     "output_type": "stream",
     "text": [
      "Epoch 1/20, Train Loss: 33.4836, Test Loss: 29.1963\n"
     ]
    },
    {
     "name": "stderr",
     "output_type": "stream",
     "text": [
      "Training epoch 2/20: 100%|██████████| 300/300 [00:22<00:00, 13.55it/s]\n"
     ]
    },
    {
     "name": "stdout",
     "output_type": "stream",
     "text": [
      "Epoch 2/20, Train Loss: 22.1486, Test Loss: 14.0078\n"
     ]
    },
    {
     "name": "stderr",
     "output_type": "stream",
     "text": [
      "Training epoch 3/20: 100%|██████████| 300/300 [00:19<00:00, 15.49it/s]\n"
     ]
    },
    {
     "name": "stdout",
     "output_type": "stream",
     "text": [
      "Epoch 3/20, Train Loss: 6.9531, Test Loss: 2.3404\n"
     ]
    },
    {
     "name": "stderr",
     "output_type": "stream",
     "text": [
      "Training epoch 4/20: 100%|██████████| 300/300 [00:20<00:00, 14.62it/s]\n"
     ]
    },
    {
     "name": "stdout",
     "output_type": "stream",
     "text": [
      "Epoch 4/20, Train Loss: 1.5538, Test Loss: 1.2685\n"
     ]
    },
    {
     "name": "stderr",
     "output_type": "stream",
     "text": [
      "Training epoch 5/20: 100%|██████████| 300/300 [00:24<00:00, 12.07it/s]\n"
     ]
    },
    {
     "name": "stdout",
     "output_type": "stream",
     "text": [
      "Epoch 5/20, Train Loss: 1.1592, Test Loss: 1.0763\n"
     ]
    },
    {
     "name": "stderr",
     "output_type": "stream",
     "text": [
      "Training epoch 6/20: 100%|██████████| 300/300 [00:23<00:00, 12.71it/s]\n"
     ]
    },
    {
     "name": "stdout",
     "output_type": "stream",
     "text": [
      "Epoch 6/20, Train Loss: 0.9940, Test Loss: 0.9335\n"
     ]
    },
    {
     "name": "stderr",
     "output_type": "stream",
     "text": [
      "Training epoch 7/20:  86%|████████▌ | 258/300 [00:19<00:03, 11.58it/s]"
     ]
    }
   ],
   "source": [
    "\n",
    "sweep_id = wandb.sweep(sweep_config, project=\"RNN-Pytorch-polymer\")\n",
    "wandb.agent(sweep_id, train_with_wandb, count=10)"
   ]
  },
  {
   "cell_type": "code",
   "execution_count": 30,
   "id": "fa6d3f8b-a201-4a16-8528-014e9efbb29c",
   "metadata": {},
   "outputs": [
    {
     "name": "stderr",
     "output_type": "stream",
     "text": [
      "Training epoch 1/1:   0%|          | 0/300 [00:00<?, ?it/s]/home/zmao_umass_edu/.conda/envs/figo/lib/python3.7/site-packages/ipykernel_launcher.py:13: UserWarning: To copy construct from a tensor, it is recommended to use sourceTensor.clone().detach() or sourceTensor.clone().detach().requires_grad_(True), rather than torch.tensor(sourceTensor).\n",
      "  del sys.path[0]\n",
      "/home/zmao_umass_edu/.conda/envs/figo/lib/python3.7/site-packages/ipykernel_launcher.py:14: UserWarning: To copy construct from a tensor, it is recommended to use sourceTensor.clone().detach() or sourceTensor.clone().detach().requires_grad_(True), rather than torch.tensor(sourceTensor).\n",
      "  \n",
      "/home/zmao_umass_edu/.conda/envs/figo/lib/python3.7/site-packages/torch/nn/modules/loss.py:530: UserWarning: Using a target size (torch.Size([128])) that is different to the input size (torch.Size([128, 1])). This will likely lead to incorrect results due to broadcasting. Please ensure they have the same size.\n",
      "  return F.mse_loss(input, target, reduction=self.reduction)\n",
      "Training epoch 1/1:   1%|          | 2/300 [00:00<00:25, 11.92it/s]"
     ]
    },
    {
     "name": "stdout",
     "output_type": "stream",
     "text": [
      "LSTM Layer 1 output shape: torch.Size([128, 100, 40])\n",
      "LSTM Layer 2 output shape: torch.Size([128, 100, 40])\n",
      "MLP output shape: torch.Size([128, 100, 10])\n",
      "Reshape output shape: torch.Size([128, 1000])\n",
      "Output Layer shape: torch.Size([128, 1])\n",
      "LSTM Layer 1 output shape: torch.Size([128, 100, 40])\n",
      "LSTM Layer 2 output shape: torch.Size([128, 100, 40])\n",
      "MLP output shape: torch.Size([128, 100, 10])\n",
      "Reshape output shape: torch.Size([128, 1000])\n",
      "Output Layer shape: torch.Size([128, 1])\n",
      "LSTM Layer 1 output shape: torch.Size([128, 100, 40])\n",
      "LSTM Layer 2 output shape: torch.Size([128, 100, 40])\n",
      "MLP output shape: torch.Size([128, 100, 10])\n",
      "Reshape output shape: torch.Size([128, 1000])\n",
      "Output Layer shape: torch.Size([128, 1])\n"
     ]
    },
    {
     "name": "stderr",
     "output_type": "stream",
     "text": [
      "Training epoch 1/1:   2%|▏         | 6/300 [00:00<00:23, 12.58it/s]"
     ]
    },
    {
     "name": "stdout",
     "output_type": "stream",
     "text": [
      "LSTM Layer 1 output shape: torch.Size([128, 100, 40])\n",
      "LSTM Layer 2 output shape: torch.Size([128, 100, 40])\n",
      "MLP output shape: torch.Size([128, 100, 10])\n",
      "Reshape output shape: torch.Size([128, 1000])\n",
      "Output Layer shape: torch.Size([128, 1])\n",
      "LSTM Layer 1 output shape: torch.Size([128, 100, 40])\n",
      "LSTM Layer 2 output shape: torch.Size([128, 100, 40])\n",
      "MLP output shape: torch.Size([128, 100, 10])\n",
      "Reshape output shape: torch.Size([128, 1000])\n",
      "Output Layer shape: torch.Size([128, 1])\n",
      "LSTM Layer 1 output shape: torch.Size([128, 100, 40])\n",
      "LSTM Layer 2 output shape: torch.Size([128, 100, 40])\n",
      "MLP output shape: torch.Size([128, 100, 10])\n",
      "Reshape output shape: torch.Size([128, 1000])\n",
      "Output Layer shape: torch.Size([128, 1])\n"
     ]
    },
    {
     "name": "stderr",
     "output_type": "stream",
     "text": [
      "Training epoch 1/1:   3%|▎         | 8/300 [00:00<00:22, 12.70it/s]"
     ]
    },
    {
     "name": "stdout",
     "output_type": "stream",
     "text": [
      "LSTM Layer 1 output shape: torch.Size([128, 100, 40])\n",
      "LSTM Layer 2 output shape: torch.Size([128, 100, 40])\n",
      "MLP output shape: torch.Size([128, 100, 10])\n",
      "Reshape output shape: torch.Size([128, 1000])\n",
      "Output Layer shape: torch.Size([128, 1])\n",
      "LSTM Layer 1 output shape: torch.Size([128, 100, 40])\n",
      "LSTM Layer 2 output shape: torch.Size([128, 100, 40])\n",
      "MLP output shape: torch.Size([128, 100, 10])\n",
      "Reshape output shape: torch.Size([128, 1000])\n",
      "Output Layer shape: torch.Size([128, 1])\n",
      "LSTM Layer 1 output shape: torch.Size([128, 100, 40])\n",
      "LSTM Layer 2 output shape: torch.Size([128, 100, 40])\n",
      "MLP output shape: torch.Size([128, 100, 10])\n",
      "Reshape output shape: torch.Size([128, 1000])\n",
      "Output Layer shape: torch.Size([128, 1])\n"
     ]
    },
    {
     "name": "stderr",
     "output_type": "stream",
     "text": [
      "Training epoch 1/1:   4%|▍         | 12/300 [00:00<00:22, 12.70it/s]"
     ]
    },
    {
     "name": "stdout",
     "output_type": "stream",
     "text": [
      "LSTM Layer 1 output shape: torch.Size([128, 100, 40])\n",
      "LSTM Layer 2 output shape: torch.Size([128, 100, 40])\n",
      "MLP output shape: torch.Size([128, 100, 10])\n",
      "Reshape output shape: torch.Size([128, 1000])\n",
      "Output Layer shape: torch.Size([128, 1])\n",
      "LSTM Layer 1 output shape: torch.Size([128, 100, 40])\n",
      "LSTM Layer 2 output shape: torch.Size([128, 100, 40])\n",
      "MLP output shape: torch.Size([128, 100, 10])\n",
      "Reshape output shape: torch.Size([128, 1000])\n",
      "Output Layer shape: torch.Size([128, 1])\n",
      "LSTM Layer 1 output shape: torch.Size([128, 100, 40])\n",
      "LSTM Layer 2 output shape: torch.Size([128, 100, 40])\n",
      "MLP output shape: torch.Size([128, 100, 10])\n",
      "Reshape output shape: torch.Size([128, 1000])\n",
      "Output Layer shape: torch.Size([128, 1])\n"
     ]
    },
    {
     "name": "stderr",
     "output_type": "stream",
     "text": [
      "Training epoch 1/1:   5%|▍         | 14/300 [00:01<00:22, 12.76it/s]"
     ]
    },
    {
     "name": "stdout",
     "output_type": "stream",
     "text": [
      "LSTM Layer 1 output shape: torch.Size([128, 100, 40])\n",
      "LSTM Layer 2 output shape: torch.Size([128, 100, 40])\n",
      "MLP output shape: torch.Size([128, 100, 10])\n",
      "Reshape output shape: torch.Size([128, 1000])\n",
      "Output Layer shape: torch.Size([128, 1])\n",
      "LSTM Layer 1 output shape: torch.Size([128, 100, 40])\n",
      "LSTM Layer 2 output shape: torch.Size([128, 100, 40])\n",
      "MLP output shape: torch.Size([128, 100, 10])\n",
      "Reshape output shape: torch.Size([128, 1000])\n",
      "Output Layer shape: torch.Size([128, 1])\n",
      "LSTM Layer 1 output shape: torch.Size([128, 100, 40])\n",
      "LSTM Layer 2 output shape: torch.Size([128, 100, 40])\n",
      "MLP output shape: torch.Size([128, 100, 10])\n",
      "Reshape output shape: torch.Size([128, 1000])\n",
      "Output Layer shape: torch.Size([128, 1])\n"
     ]
    },
    {
     "name": "stderr",
     "output_type": "stream",
     "text": [
      "Training epoch 1/1:   6%|▌         | 18/300 [00:01<00:21, 12.88it/s]"
     ]
    },
    {
     "name": "stdout",
     "output_type": "stream",
     "text": [
      "LSTM Layer 1 output shape: torch.Size([128, 100, 40])\n",
      "LSTM Layer 2 output shape: torch.Size([128, 100, 40])\n",
      "MLP output shape: torch.Size([128, 100, 10])\n",
      "Reshape output shape: torch.Size([128, 1000])\n",
      "Output Layer shape: torch.Size([128, 1])\n",
      "LSTM Layer 1 output shape: torch.Size([128, 100, 40])\n",
      "LSTM Layer 2 output shape: torch.Size([128, 100, 40])\n",
      "MLP output shape: torch.Size([128, 100, 10])\n",
      "Reshape output shape: torch.Size([128, 1000])\n",
      "Output Layer shape: torch.Size([128, 1])\n",
      "LSTM Layer 1 output shape: torch.Size([128, 100, 40])\n",
      "LSTM Layer 2 output shape: torch.Size([128, 100, 40])\n",
      "MLP output shape: torch.Size([128, 100, 10])\n",
      "Reshape output shape: torch.Size([128, 1000])\n",
      "Output Layer shape: torch.Size([128, 1])\n"
     ]
    },
    {
     "name": "stderr",
     "output_type": "stream",
     "text": [
      "Training epoch 1/1:   7%|▋         | 20/300 [00:01<00:21, 12.88it/s]"
     ]
    },
    {
     "name": "stdout",
     "output_type": "stream",
     "text": [
      "LSTM Layer 1 output shape: torch.Size([128, 100, 40])\n",
      "LSTM Layer 2 output shape: torch.Size([128, 100, 40])\n",
      "MLP output shape: torch.Size([128, 100, 10])\n",
      "Reshape output shape: torch.Size([128, 1000])\n",
      "Output Layer shape: torch.Size([128, 1])\n",
      "LSTM Layer 1 output shape: torch.Size([128, 100, 40])\n",
      "LSTM Layer 2 output shape: torch.Size([128, 100, 40])\n",
      "MLP output shape: torch.Size([128, 100, 10])\n",
      "Reshape output shape: torch.Size([128, 1000])\n",
      "Output Layer shape: torch.Size([128, 1])\n",
      "LSTM Layer 1 output shape: torch.Size([128, 100, 40])\n",
      "LSTM Layer 2 output shape: torch.Size([128, 100, 40])\n",
      "MLP output shape: torch.Size([128, 100, 10])\n",
      "Reshape output shape: torch.Size([128, 1000])\n",
      "Output Layer shape: torch.Size([128, 1])\n"
     ]
    },
    {
     "name": "stderr",
     "output_type": "stream",
     "text": [
      "Training epoch 1/1:   8%|▊         | 24/300 [00:01<00:21, 12.91it/s]"
     ]
    },
    {
     "name": "stdout",
     "output_type": "stream",
     "text": [
      "LSTM Layer 1 output shape: torch.Size([128, 100, 40])\n",
      "LSTM Layer 2 output shape: torch.Size([128, 100, 40])\n",
      "MLP output shape: torch.Size([128, 100, 10])\n",
      "Reshape output shape: torch.Size([128, 1000])\n",
      "Output Layer shape: torch.Size([128, 1])\n",
      "LSTM Layer 1 output shape: torch.Size([128, 100, 40])\n",
      "LSTM Layer 2 output shape: torch.Size([128, 100, 40])\n",
      "MLP output shape: torch.Size([128, 100, 10])\n",
      "Reshape output shape: torch.Size([128, 1000])\n",
      "Output Layer shape: torch.Size([128, 1])\n",
      "LSTM Layer 1 output shape: torch.Size([128, 100, 40])\n",
      "LSTM Layer 2 output shape: torch.Size([128, 100, 40])\n",
      "MLP output shape: torch.Size([128, 100, 10])\n",
      "Reshape output shape: torch.Size([128, 1000])\n",
      "Output Layer shape: torch.Size([128, 1])\n"
     ]
    },
    {
     "name": "stderr",
     "output_type": "stream",
     "text": [
      "Training epoch 1/1:   9%|▊         | 26/300 [00:02<00:21, 12.94it/s]"
     ]
    },
    {
     "name": "stdout",
     "output_type": "stream",
     "text": [
      "LSTM Layer 1 output shape: torch.Size([128, 100, 40])\n",
      "LSTM Layer 2 output shape: torch.Size([128, 100, 40])\n",
      "MLP output shape: torch.Size([128, 100, 10])\n",
      "Reshape output shape: torch.Size([128, 1000])\n",
      "Output Layer shape: torch.Size([128, 1])\n",
      "LSTM Layer 1 output shape: torch.Size([128, 100, 40])\n",
      "LSTM Layer 2 output shape: torch.Size([128, 100, 40])\n",
      "MLP output shape: torch.Size([128, 100, 10])\n",
      "Reshape output shape: torch.Size([128, 1000])\n",
      "Output Layer shape: torch.Size([128, 1])\n",
      "LSTM Layer 1 output shape: torch.Size([128, 100, 40])\n",
      "LSTM Layer 2 output shape: torch.Size([128, 100, 40])\n",
      "MLP output shape: torch.Size([128, 100, 10])\n",
      "Reshape output shape: torch.Size([128, 1000])\n",
      "Output Layer shape: torch.Size([128, 1])\n"
     ]
    },
    {
     "name": "stderr",
     "output_type": "stream",
     "text": [
      "Training epoch 1/1:  10%|█         | 30/300 [00:02<00:21, 12.83it/s]"
     ]
    },
    {
     "name": "stdout",
     "output_type": "stream",
     "text": [
      "LSTM Layer 1 output shape: torch.Size([128, 100, 40])\n",
      "LSTM Layer 2 output shape: torch.Size([128, 100, 40])\n",
      "MLP output shape: torch.Size([128, 100, 10])\n",
      "Reshape output shape: torch.Size([128, 1000])\n",
      "Output Layer shape: torch.Size([128, 1])\n",
      "LSTM Layer 1 output shape: torch.Size([128, 100, 40])\n",
      "LSTM Layer 2 output shape: torch.Size([128, 100, 40])\n",
      "MLP output shape: torch.Size([128, 100, 10])\n",
      "Reshape output shape: torch.Size([128, 1000])\n",
      "Output Layer shape: torch.Size([128, 1])\n",
      "LSTM Layer 1 output shape: torch.Size([128, 100, 40])\n",
      "LSTM Layer 2 output shape: torch.Size([128, 100, 40])\n",
      "MLP output shape: torch.Size([128, 100, 10])\n",
      "Reshape output shape: torch.Size([128, 1000])\n",
      "Output Layer shape: torch.Size([128, 1])\n"
     ]
    },
    {
     "name": "stderr",
     "output_type": "stream",
     "text": [
      "Training epoch 1/1:  11%|█         | 32/300 [00:02<00:20, 12.86it/s]"
     ]
    },
    {
     "name": "stdout",
     "output_type": "stream",
     "text": [
      "LSTM Layer 1 output shape: torch.Size([128, 100, 40])\n",
      "LSTM Layer 2 output shape: torch.Size([128, 100, 40])\n",
      "MLP output shape: torch.Size([128, 100, 10])\n",
      "Reshape output shape: torch.Size([128, 1000])\n",
      "Output Layer shape: torch.Size([128, 1])\n",
      "LSTM Layer 1 output shape: torch.Size([128, 100, 40])\n",
      "LSTM Layer 2 output shape: torch.Size([128, 100, 40])\n",
      "MLP output shape: torch.Size([128, 100, 10])\n",
      "Reshape output shape: torch.Size([128, 1000])\n",
      "Output Layer shape: torch.Size([128, 1])\n",
      "LSTM Layer 1 output shape: torch.Size([128, 100, 40])\n",
      "LSTM Layer 2 output shape: torch.Size([128, 100, 40])\n",
      "MLP output shape: torch.Size([128, 100, 10])\n",
      "Reshape output shape: torch.Size([128, 1000])\n",
      "Output Layer shape: torch.Size([128, 1])\n"
     ]
    },
    {
     "name": "stderr",
     "output_type": "stream",
     "text": [
      "Training epoch 1/1:  12%|█▏        | 36/300 [00:02<00:20, 12.89it/s]"
     ]
    },
    {
     "name": "stdout",
     "output_type": "stream",
     "text": [
      "LSTM Layer 1 output shape: torch.Size([128, 100, 40])\n",
      "LSTM Layer 2 output shape: torch.Size([128, 100, 40])\n",
      "MLP output shape: torch.Size([128, 100, 10])\n",
      "Reshape output shape: torch.Size([128, 1000])\n",
      "Output Layer shape: torch.Size([128, 1])\n",
      "LSTM Layer 1 output shape: torch.Size([128, 100, 40])\n",
      "LSTM Layer 2 output shape: torch.Size([128, 100, 40])\n",
      "MLP output shape: torch.Size([128, 100, 10])\n",
      "Reshape output shape: torch.Size([128, 1000])\n",
      "Output Layer shape: torch.Size([128, 1])\n",
      "LSTM Layer 1 output shape: torch.Size([128, 100, 40])\n",
      "LSTM Layer 2 output shape: torch.Size([128, 100, 40])\n",
      "MLP output shape: torch.Size([128, 100, 10])\n",
      "Reshape output shape: torch.Size([128, 1000])\n",
      "Output Layer shape: torch.Size([128, 1])\n"
     ]
    },
    {
     "name": "stderr",
     "output_type": "stream",
     "text": [
      "Training epoch 1/1:  13%|█▎        | 38/300 [00:02<00:20, 12.88it/s]"
     ]
    },
    {
     "name": "stdout",
     "output_type": "stream",
     "text": [
      "LSTM Layer 1 output shape: torch.Size([128, 100, 40])\n",
      "LSTM Layer 2 output shape: torch.Size([128, 100, 40])\n",
      "MLP output shape: torch.Size([128, 100, 10])\n",
      "Reshape output shape: torch.Size([128, 1000])\n",
      "Output Layer shape: torch.Size([128, 1])\n",
      "LSTM Layer 1 output shape: torch.Size([128, 100, 40])\n",
      "LSTM Layer 2 output shape: torch.Size([128, 100, 40])\n",
      "MLP output shape: torch.Size([128, 100, 10])\n",
      "Reshape output shape: torch.Size([128, 1000])\n",
      "Output Layer shape: torch.Size([128, 1])\n",
      "LSTM Layer 1 output shape: torch.Size([128, 100, 40])\n",
      "LSTM Layer 2 output shape: torch.Size([128, 100, 40])\n",
      "MLP output shape: torch.Size([128, 100, 10])\n",
      "Reshape output shape: torch.Size([128, 1000])\n",
      "Output Layer shape: torch.Size([128, 1])\n"
     ]
    },
    {
     "name": "stderr",
     "output_type": "stream",
     "text": [
      "Training epoch 1/1:  14%|█▍        | 42/300 [00:03<00:19, 12.93it/s]"
     ]
    },
    {
     "name": "stdout",
     "output_type": "stream",
     "text": [
      "LSTM Layer 1 output shape: torch.Size([128, 100, 40])\n",
      "LSTM Layer 2 output shape: torch.Size([128, 100, 40])\n",
      "MLP output shape: torch.Size([128, 100, 10])\n",
      "Reshape output shape: torch.Size([128, 1000])\n",
      "Output Layer shape: torch.Size([128, 1])\n",
      "LSTM Layer 1 output shape: torch.Size([128, 100, 40])\n",
      "LSTM Layer 2 output shape: torch.Size([128, 100, 40])\n",
      "MLP output shape: torch.Size([128, 100, 10])\n",
      "Reshape output shape: torch.Size([128, 1000])\n",
      "Output Layer shape: torch.Size([128, 1])\n",
      "LSTM Layer 1 output shape: torch.Size([128, 100, 40])\n",
      "LSTM Layer 2 output shape: torch.Size([128, 100, 40])\n",
      "MLP output shape: torch.Size([128, 100, 10])\n",
      "Reshape output shape: torch.Size([128, 1000])\n",
      "Output Layer shape: torch.Size([128, 1])\n"
     ]
    },
    {
     "name": "stderr",
     "output_type": "stream",
     "text": [
      "Training epoch 1/1:  15%|█▍        | 44/300 [00:03<00:19, 12.92it/s]"
     ]
    },
    {
     "name": "stdout",
     "output_type": "stream",
     "text": [
      "LSTM Layer 1 output shape: torch.Size([128, 100, 40])\n",
      "LSTM Layer 2 output shape: torch.Size([128, 100, 40])\n",
      "MLP output shape: torch.Size([128, 100, 10])\n",
      "Reshape output shape: torch.Size([128, 1000])\n",
      "Output Layer shape: torch.Size([128, 1])\n",
      "LSTM Layer 1 output shape: torch.Size([128, 100, 40])\n",
      "LSTM Layer 2 output shape: torch.Size([128, 100, 40])\n",
      "MLP output shape: torch.Size([128, 100, 10])\n",
      "Reshape output shape: torch.Size([128, 1000])\n",
      "Output Layer shape: torch.Size([128, 1])\n",
      "LSTM Layer 1 output shape: torch.Size([128, 100, 40])\n",
      "LSTM Layer 2 output shape: torch.Size([128, 100, 40])\n",
      "MLP output shape: torch.Size([128, 100, 10])\n",
      "Reshape output shape: torch.Size([128, 1000])\n",
      "Output Layer shape: torch.Size([128, 1])\n"
     ]
    },
    {
     "name": "stderr",
     "output_type": "stream",
     "text": [
      "Training epoch 1/1:  16%|█▌        | 48/300 [00:03<00:19, 12.94it/s]"
     ]
    },
    {
     "name": "stdout",
     "output_type": "stream",
     "text": [
      "LSTM Layer 1 output shape: torch.Size([128, 100, 40])\n",
      "LSTM Layer 2 output shape: torch.Size([128, 100, 40])\n",
      "MLP output shape: torch.Size([128, 100, 10])\n",
      "Reshape output shape: torch.Size([128, 1000])\n",
      "Output Layer shape: torch.Size([128, 1])\n",
      "LSTM Layer 1 output shape: torch.Size([128, 100, 40])\n",
      "LSTM Layer 2 output shape: torch.Size([128, 100, 40])\n",
      "MLP output shape: torch.Size([128, 100, 10])\n",
      "Reshape output shape: torch.Size([128, 1000])\n",
      "Output Layer shape: torch.Size([128, 1])\n",
      "LSTM Layer 1 output shape: torch.Size([128, 100, 40])\n",
      "LSTM Layer 2 output shape: torch.Size([128, 100, 40])\n",
      "MLP output shape: torch.Size([128, 100, 10])\n",
      "Reshape output shape: torch.Size([128, 1000])\n",
      "Output Layer shape: torch.Size([128, 1])\n"
     ]
    },
    {
     "name": "stderr",
     "output_type": "stream",
     "text": [
      "Training epoch 1/1:  17%|█▋        | 50/300 [00:03<00:19, 13.00it/s]"
     ]
    },
    {
     "name": "stdout",
     "output_type": "stream",
     "text": [
      "LSTM Layer 1 output shape: torch.Size([128, 100, 40])\n",
      "LSTM Layer 2 output shape: torch.Size([128, 100, 40])\n",
      "MLP output shape: torch.Size([128, 100, 10])\n",
      "Reshape output shape: torch.Size([128, 1000])\n",
      "Output Layer shape: torch.Size([128, 1])\n",
      "LSTM Layer 1 output shape: torch.Size([128, 100, 40])\n",
      "LSTM Layer 2 output shape: torch.Size([128, 100, 40])\n",
      "MLP output shape: torch.Size([128, 100, 10])\n",
      "Reshape output shape: torch.Size([128, 1000])\n",
      "Output Layer shape: torch.Size([128, 1])\n",
      "LSTM Layer 1 output shape: torch.Size([128, 100, 40])\n",
      "LSTM Layer 2 output shape: torch.Size([128, 100, 40])\n",
      "MLP output shape: torch.Size([128, 100, 10])\n",
      "Reshape output shape: torch.Size([128, 1000])\n",
      "Output Layer shape: torch.Size([128, 1])\n"
     ]
    },
    {
     "name": "stderr",
     "output_type": "stream",
     "text": [
      "Training epoch 1/1:  18%|█▊        | 54/300 [00:04<00:18, 12.96it/s]"
     ]
    },
    {
     "name": "stdout",
     "output_type": "stream",
     "text": [
      "LSTM Layer 1 output shape: torch.Size([128, 100, 40])\n",
      "LSTM Layer 2 output shape: torch.Size([128, 100, 40])\n",
      "MLP output shape: torch.Size([128, 100, 10])\n",
      "Reshape output shape: torch.Size([128, 1000])\n",
      "Output Layer shape: torch.Size([128, 1])\n",
      "LSTM Layer 1 output shape: torch.Size([128, 100, 40])\n",
      "LSTM Layer 2 output shape: torch.Size([128, 100, 40])\n",
      "MLP output shape: torch.Size([128, 100, 10])\n",
      "Reshape output shape: torch.Size([128, 1000])\n",
      "Output Layer shape: torch.Size([128, 1])\n",
      "LSTM Layer 1 output shape: torch.Size([128, 100, 40])\n",
      "LSTM Layer 2 output shape: torch.Size([128, 100, 40])\n",
      "MLP output shape: torch.Size([128, 100, 10])\n",
      "Reshape output shape: torch.Size([128, 1000])\n",
      "Output Layer shape: torch.Size([128, 1])\n"
     ]
    },
    {
     "name": "stderr",
     "output_type": "stream",
     "text": [
      "Training epoch 1/1:  19%|█▊        | 56/300 [00:04<00:18, 12.88it/s]"
     ]
    },
    {
     "name": "stdout",
     "output_type": "stream",
     "text": [
      "LSTM Layer 1 output shape: torch.Size([128, 100, 40])\n",
      "LSTM Layer 2 output shape: torch.Size([128, 100, 40])\n",
      "MLP output shape: torch.Size([128, 100, 10])\n",
      "Reshape output shape: torch.Size([128, 1000])\n",
      "Output Layer shape: torch.Size([128, 1])\n",
      "LSTM Layer 1 output shape: torch.Size([128, 100, 40])\n",
      "LSTM Layer 2 output shape: torch.Size([128, 100, 40])\n",
      "MLP output shape: torch.Size([128, 100, 10])\n",
      "Reshape output shape: torch.Size([128, 1000])\n",
      "Output Layer shape: torch.Size([128, 1])\n",
      "LSTM Layer 1 output shape: torch.Size([128, 100, 40])\n",
      "LSTM Layer 2 output shape: torch.Size([128, 100, 40])\n",
      "MLP output shape: torch.Size([128, 100, 10])\n",
      "Reshape output shape: torch.Size([128, 1000])\n",
      "Output Layer shape: torch.Size([128, 1])\n"
     ]
    },
    {
     "name": "stderr",
     "output_type": "stream",
     "text": [
      "Training epoch 1/1:  20%|██        | 60/300 [00:04<00:18, 12.92it/s]"
     ]
    },
    {
     "name": "stdout",
     "output_type": "stream",
     "text": [
      "LSTM Layer 1 output shape: torch.Size([128, 100, 40])\n",
      "LSTM Layer 2 output shape: torch.Size([128, 100, 40])\n",
      "MLP output shape: torch.Size([128, 100, 10])\n",
      "Reshape output shape: torch.Size([128, 1000])\n",
      "Output Layer shape: torch.Size([128, 1])\n",
      "LSTM Layer 1 output shape: torch.Size([128, 100, 40])\n",
      "LSTM Layer 2 output shape: torch.Size([128, 100, 40])\n",
      "MLP output shape: torch.Size([128, 100, 10])\n",
      "Reshape output shape: torch.Size([128, 1000])\n",
      "Output Layer shape: torch.Size([128, 1])\n",
      "LSTM Layer 1 output shape: torch.Size([128, 100, 40])\n",
      "LSTM Layer 2 output shape: torch.Size([128, 100, 40])\n",
      "MLP output shape: torch.Size([128, 100, 10])\n",
      "Reshape output shape: torch.Size([128, 1000])\n",
      "Output Layer shape: torch.Size([128, 1])\n"
     ]
    },
    {
     "name": "stderr",
     "output_type": "stream",
     "text": [
      "Training epoch 1/1:  21%|██        | 62/300 [00:04<00:18, 12.90it/s]"
     ]
    },
    {
     "name": "stdout",
     "output_type": "stream",
     "text": [
      "LSTM Layer 1 output shape: torch.Size([128, 100, 40])\n",
      "LSTM Layer 2 output shape: torch.Size([128, 100, 40])\n",
      "MLP output shape: torch.Size([128, 100, 10])\n",
      "Reshape output shape: torch.Size([128, 1000])\n",
      "Output Layer shape: torch.Size([128, 1])\n",
      "LSTM Layer 1 output shape: torch.Size([128, 100, 40])\n",
      "LSTM Layer 2 output shape: torch.Size([128, 100, 40])\n",
      "MLP output shape: torch.Size([128, 100, 10])\n",
      "Reshape output shape: torch.Size([128, 1000])\n",
      "Output Layer shape: torch.Size([128, 1])\n",
      "LSTM Layer 1 output shape: torch.Size([128, 100, 40])\n",
      "LSTM Layer 2 output shape: torch.Size([128, 100, 40])\n",
      "MLP output shape: torch.Size([128, 100, 10])\n",
      "Reshape output shape: torch.Size([128, 1000])\n",
      "Output Layer shape: torch.Size([128, 1])\n"
     ]
    },
    {
     "name": "stderr",
     "output_type": "stream",
     "text": [
      "Training epoch 1/1:  22%|██▏       | 66/300 [00:05<00:18, 12.87it/s]"
     ]
    },
    {
     "name": "stdout",
     "output_type": "stream",
     "text": [
      "LSTM Layer 1 output shape: torch.Size([128, 100, 40])\n",
      "LSTM Layer 2 output shape: torch.Size([128, 100, 40])\n",
      "MLP output shape: torch.Size([128, 100, 10])\n",
      "Reshape output shape: torch.Size([128, 1000])\n",
      "Output Layer shape: torch.Size([128, 1])\n",
      "LSTM Layer 1 output shape: torch.Size([128, 100, 40])\n",
      "LSTM Layer 2 output shape: torch.Size([128, 100, 40])\n",
      "MLP output shape: torch.Size([128, 100, 10])\n",
      "Reshape output shape: torch.Size([128, 1000])\n",
      "Output Layer shape: torch.Size([128, 1])\n",
      "LSTM Layer 1 output shape: torch.Size([128, 100, 40])\n",
      "LSTM Layer 2 output shape: torch.Size([128, 100, 40])\n",
      "MLP output shape: torch.Size([128, 100, 10])\n",
      "Reshape output shape: torch.Size([128, 1000])\n",
      "Output Layer shape: torch.Size([128, 1])\n"
     ]
    },
    {
     "name": "stderr",
     "output_type": "stream",
     "text": [
      "Training epoch 1/1:  23%|██▎       | 68/300 [00:05<00:17, 12.91it/s]"
     ]
    },
    {
     "name": "stdout",
     "output_type": "stream",
     "text": [
      "LSTM Layer 1 output shape: torch.Size([128, 100, 40])\n",
      "LSTM Layer 2 output shape: torch.Size([128, 100, 40])\n",
      "MLP output shape: torch.Size([128, 100, 10])\n",
      "Reshape output shape: torch.Size([128, 1000])\n",
      "Output Layer shape: torch.Size([128, 1])\n",
      "LSTM Layer 1 output shape: torch.Size([128, 100, 40])\n",
      "LSTM Layer 2 output shape: torch.Size([128, 100, 40])\n",
      "MLP output shape: torch.Size([128, 100, 10])\n",
      "Reshape output shape: torch.Size([128, 1000])\n",
      "Output Layer shape: torch.Size([128, 1])\n",
      "LSTM Layer 1 output shape: torch.Size([128, 100, 40])\n",
      "LSTM Layer 2 output shape: torch.Size([128, 100, 40])\n",
      "MLP output shape: torch.Size([128, 100, 10])\n",
      "Reshape output shape: torch.Size([128, 1000])\n",
      "Output Layer shape: torch.Size([128, 1])\n"
     ]
    },
    {
     "name": "stderr",
     "output_type": "stream",
     "text": [
      "Training epoch 1/1:  24%|██▍       | 72/300 [00:05<00:17, 12.80it/s]"
     ]
    },
    {
     "name": "stdout",
     "output_type": "stream",
     "text": [
      "LSTM Layer 1 output shape: torch.Size([128, 100, 40])\n",
      "LSTM Layer 2 output shape: torch.Size([128, 100, 40])\n",
      "MLP output shape: torch.Size([128, 100, 10])\n",
      "Reshape output shape: torch.Size([128, 1000])\n",
      "Output Layer shape: torch.Size([128, 1])\n",
      "LSTM Layer 1 output shape: torch.Size([128, 100, 40])\n",
      "LSTM Layer 2 output shape: torch.Size([128, 100, 40])\n",
      "MLP output shape: torch.Size([128, 100, 10])\n",
      "Reshape output shape: torch.Size([128, 1000])\n",
      "Output Layer shape: torch.Size([128, 1])\n",
      "LSTM Layer 1 output shape: torch.Size([128, 100, 40])\n",
      "LSTM Layer 2 output shape: torch.Size([128, 100, 40])\n",
      "MLP output shape: torch.Size([128, 100, 10])\n",
      "Reshape output shape: torch.Size([128, 1000])\n",
      "Output Layer shape: torch.Size([128, 1])\n"
     ]
    },
    {
     "name": "stderr",
     "output_type": "stream",
     "text": [
      "Training epoch 1/1:  25%|██▍       | 74/300 [00:05<00:17, 12.83it/s]"
     ]
    },
    {
     "name": "stdout",
     "output_type": "stream",
     "text": [
      "LSTM Layer 1 output shape: torch.Size([128, 100, 40])\n",
      "LSTM Layer 2 output shape: torch.Size([128, 100, 40])\n",
      "MLP output shape: torch.Size([128, 100, 10])\n",
      "Reshape output shape: torch.Size([128, 1000])\n",
      "Output Layer shape: torch.Size([128, 1])\n",
      "LSTM Layer 1 output shape: torch.Size([128, 100, 40])\n",
      "LSTM Layer 2 output shape: torch.Size([128, 100, 40])\n",
      "MLP output shape: torch.Size([128, 100, 10])\n",
      "Reshape output shape: torch.Size([128, 1000])\n",
      "Output Layer shape: torch.Size([128, 1])\n",
      "LSTM Layer 1 output shape: torch.Size([128, 100, 40])\n",
      "LSTM Layer 2 output shape: torch.Size([128, 100, 40])\n",
      "MLP output shape: torch.Size([128, 100, 10])\n",
      "Reshape output shape: torch.Size([128, 1000])\n",
      "Output Layer shape: torch.Size([128, 1])\n"
     ]
    },
    {
     "name": "stderr",
     "output_type": "stream",
     "text": [
      "Training epoch 1/1:  26%|██▌       | 78/300 [00:06<00:17, 12.93it/s]"
     ]
    },
    {
     "name": "stdout",
     "output_type": "stream",
     "text": [
      "LSTM Layer 1 output shape: torch.Size([128, 100, 40])\n",
      "LSTM Layer 2 output shape: torch.Size([128, 100, 40])\n",
      "MLP output shape: torch.Size([128, 100, 10])\n",
      "Reshape output shape: torch.Size([128, 1000])\n",
      "Output Layer shape: torch.Size([128, 1])\n",
      "LSTM Layer 1 output shape: torch.Size([128, 100, 40])\n",
      "LSTM Layer 2 output shape: torch.Size([128, 100, 40])\n",
      "MLP output shape: torch.Size([128, 100, 10])\n",
      "Reshape output shape: torch.Size([128, 1000])\n",
      "Output Layer shape: torch.Size([128, 1])\n",
      "LSTM Layer 1 output shape: torch.Size([128, 100, 40])\n",
      "LSTM Layer 2 output shape: torch.Size([128, 100, 40])\n",
      "MLP output shape: torch.Size([128, 100, 10])\n",
      "Reshape output shape: torch.Size([128, 1000])\n",
      "Output Layer shape: torch.Size([128, 1])\n"
     ]
    },
    {
     "name": "stderr",
     "output_type": "stream",
     "text": [
      "Training epoch 1/1:  27%|██▋       | 80/300 [00:06<00:17, 12.93it/s]"
     ]
    },
    {
     "name": "stdout",
     "output_type": "stream",
     "text": [
      "LSTM Layer 1 output shape: torch.Size([128, 100, 40])\n",
      "LSTM Layer 2 output shape: torch.Size([128, 100, 40])\n",
      "MLP output shape: torch.Size([128, 100, 10])\n",
      "Reshape output shape: torch.Size([128, 1000])\n",
      "Output Layer shape: torch.Size([128, 1])\n",
      "LSTM Layer 1 output shape: torch.Size([128, 100, 40])\n",
      "LSTM Layer 2 output shape: torch.Size([128, 100, 40])\n",
      "MLP output shape: torch.Size([128, 100, 10])\n",
      "Reshape output shape: torch.Size([128, 1000])\n",
      "Output Layer shape: torch.Size([128, 1])\n",
      "LSTM Layer 1 output shape: torch.Size([128, 100, 40])\n",
      "LSTM Layer 2 output shape: torch.Size([128, 100, 40])\n",
      "MLP output shape: torch.Size([128, 100, 10])\n",
      "Reshape output shape: torch.Size([128, 1000])\n",
      "Output Layer shape: torch.Size([128, 1])\n"
     ]
    },
    {
     "name": "stderr",
     "output_type": "stream",
     "text": [
      "Training epoch 1/1:  28%|██▊       | 84/300 [00:06<00:16, 12.97it/s]"
     ]
    },
    {
     "name": "stdout",
     "output_type": "stream",
     "text": [
      "LSTM Layer 1 output shape: torch.Size([128, 100, 40])\n",
      "LSTM Layer 2 output shape: torch.Size([128, 100, 40])\n",
      "MLP output shape: torch.Size([128, 100, 10])\n",
      "Reshape output shape: torch.Size([128, 1000])\n",
      "Output Layer shape: torch.Size([128, 1])\n",
      "LSTM Layer 1 output shape: torch.Size([128, 100, 40])\n",
      "LSTM Layer 2 output shape: torch.Size([128, 100, 40])\n",
      "MLP output shape: torch.Size([128, 100, 10])\n",
      "Reshape output shape: torch.Size([128, 1000])\n",
      "Output Layer shape: torch.Size([128, 1])\n",
      "LSTM Layer 1 output shape: torch.Size([128, 100, 40])\n",
      "LSTM Layer 2 output shape: torch.Size([128, 100, 40])\n",
      "MLP output shape: torch.Size([128, 100, 10])\n",
      "Reshape output shape: torch.Size([128, 1000])\n",
      "Output Layer shape: torch.Size([128, 1])\n"
     ]
    },
    {
     "name": "stderr",
     "output_type": "stream",
     "text": [
      "Training epoch 1/1:  29%|██▊       | 86/300 [00:06<00:16, 12.96it/s]"
     ]
    },
    {
     "name": "stdout",
     "output_type": "stream",
     "text": [
      "LSTM Layer 1 output shape: torch.Size([128, 100, 40])\n",
      "LSTM Layer 2 output shape: torch.Size([128, 100, 40])\n",
      "MLP output shape: torch.Size([128, 100, 10])\n",
      "Reshape output shape: torch.Size([128, 1000])\n",
      "Output Layer shape: torch.Size([128, 1])\n",
      "LSTM Layer 1 output shape: torch.Size([128, 100, 40])\n",
      "LSTM Layer 2 output shape: torch.Size([128, 100, 40])\n",
      "MLP output shape: torch.Size([128, 100, 10])\n",
      "Reshape output shape: torch.Size([128, 1000])\n",
      "Output Layer shape: torch.Size([128, 1])\n",
      "LSTM Layer 1 output shape: torch.Size([128, 100, 40])\n",
      "LSTM Layer 2 output shape: torch.Size([128, 100, 40])\n",
      "MLP output shape: torch.Size([128, 100, 10])\n",
      "Reshape output shape: torch.Size([128, 1000])\n",
      "Output Layer shape: torch.Size([128, 1])\n"
     ]
    },
    {
     "name": "stderr",
     "output_type": "stream",
     "text": [
      "Training epoch 1/1:  30%|███       | 90/300 [00:06<00:16, 12.99it/s]"
     ]
    },
    {
     "name": "stdout",
     "output_type": "stream",
     "text": [
      "LSTM Layer 1 output shape: torch.Size([128, 100, 40])\n",
      "LSTM Layer 2 output shape: torch.Size([128, 100, 40])\n",
      "MLP output shape: torch.Size([128, 100, 10])\n",
      "Reshape output shape: torch.Size([128, 1000])\n",
      "Output Layer shape: torch.Size([128, 1])\n",
      "LSTM Layer 1 output shape: torch.Size([128, 100, 40])\n",
      "LSTM Layer 2 output shape: torch.Size([128, 100, 40])\n",
      "MLP output shape: torch.Size([128, 100, 10])\n",
      "Reshape output shape: torch.Size([128, 1000])\n",
      "Output Layer shape: torch.Size([128, 1])\n",
      "LSTM Layer 1 output shape: torch.Size([128, 100, 40])\n",
      "LSTM Layer 2 output shape: torch.Size([128, 100, 40])\n",
      "MLP output shape: torch.Size([128, 100, 10])\n",
      "Reshape output shape: torch.Size([128, 1000])\n",
      "Output Layer shape: torch.Size([128, 1])\n"
     ]
    },
    {
     "name": "stderr",
     "output_type": "stream",
     "text": [
      "Training epoch 1/1:  31%|███       | 92/300 [00:07<00:15, 13.02it/s]"
     ]
    },
    {
     "name": "stdout",
     "output_type": "stream",
     "text": [
      "LSTM Layer 1 output shape: torch.Size([128, 100, 40])\n",
      "LSTM Layer 2 output shape: torch.Size([128, 100, 40])\n",
      "MLP output shape: torch.Size([128, 100, 10])\n",
      "Reshape output shape: torch.Size([128, 1000])\n",
      "Output Layer shape: torch.Size([128, 1])\n",
      "LSTM Layer 1 output shape: torch.Size([128, 100, 40])\n",
      "LSTM Layer 2 output shape: torch.Size([128, 100, 40])\n",
      "MLP output shape: torch.Size([128, 100, 10])\n",
      "Reshape output shape: torch.Size([128, 1000])\n",
      "Output Layer shape: torch.Size([128, 1])\n",
      "LSTM Layer 1 output shape: torch.Size([128, 100, 40])\n",
      "LSTM Layer 2 output shape: torch.Size([128, 100, 40])\n",
      "MLP output shape: torch.Size([128, 100, 10])\n",
      "Reshape output shape: torch.Size([128, 1000])\n",
      "Output Layer shape: torch.Size([128, 1])\n"
     ]
    },
    {
     "name": "stderr",
     "output_type": "stream",
     "text": [
      "Training epoch 1/1:  32%|███▏      | 96/300 [00:07<00:15, 13.03it/s]"
     ]
    },
    {
     "name": "stdout",
     "output_type": "stream",
     "text": [
      "LSTM Layer 1 output shape: torch.Size([128, 100, 40])\n",
      "LSTM Layer 2 output shape: torch.Size([128, 100, 40])\n",
      "MLP output shape: torch.Size([128, 100, 10])\n",
      "Reshape output shape: torch.Size([128, 1000])\n",
      "Output Layer shape: torch.Size([128, 1])\n",
      "LSTM Layer 1 output shape: torch.Size([128, 100, 40])\n",
      "LSTM Layer 2 output shape: torch.Size([128, 100, 40])\n",
      "MLP output shape: torch.Size([128, 100, 10])\n",
      "Reshape output shape: torch.Size([128, 1000])\n",
      "Output Layer shape: torch.Size([128, 1])\n",
      "LSTM Layer 1 output shape: torch.Size([128, 100, 40])\n",
      "LSTM Layer 2 output shape: torch.Size([128, 100, 40])\n",
      "MLP output shape: torch.Size([128, 100, 10])\n",
      "Reshape output shape: torch.Size([128, 1000])\n",
      "Output Layer shape: torch.Size([128, 1])\n"
     ]
    },
    {
     "name": "stderr",
     "output_type": "stream",
     "text": [
      "Training epoch 1/1:  33%|███▎      | 98/300 [00:07<00:15, 13.09it/s]"
     ]
    },
    {
     "name": "stdout",
     "output_type": "stream",
     "text": [
      "LSTM Layer 1 output shape: torch.Size([128, 100, 40])\n",
      "LSTM Layer 2 output shape: torch.Size([128, 100, 40])\n",
      "MLP output shape: torch.Size([128, 100, 10])\n",
      "Reshape output shape: torch.Size([128, 1000])\n",
      "Output Layer shape: torch.Size([128, 1])\n",
      "LSTM Layer 1 output shape: torch.Size([128, 100, 40])\n",
      "LSTM Layer 2 output shape: torch.Size([128, 100, 40])\n",
      "MLP output shape: torch.Size([128, 100, 10])\n",
      "Reshape output shape: torch.Size([128, 1000])\n",
      "Output Layer shape: torch.Size([128, 1])\n",
      "LSTM Layer 1 output shape: torch.Size([128, 100, 40])\n",
      "LSTM Layer 2 output shape: torch.Size([128, 100, 40])\n",
      "MLP output shape: torch.Size([128, 100, 10])\n",
      "Reshape output shape: torch.Size([128, 1000])\n",
      "Output Layer shape: torch.Size([128, 1])\n"
     ]
    },
    {
     "name": "stderr",
     "output_type": "stream",
     "text": [
      "Training epoch 1/1:  34%|███▍      | 102/300 [00:07<00:15, 13.07it/s]"
     ]
    },
    {
     "name": "stdout",
     "output_type": "stream",
     "text": [
      "LSTM Layer 1 output shape: torch.Size([128, 100, 40])\n",
      "LSTM Layer 2 output shape: torch.Size([128, 100, 40])\n",
      "MLP output shape: torch.Size([128, 100, 10])\n",
      "Reshape output shape: torch.Size([128, 1000])\n",
      "Output Layer shape: torch.Size([128, 1])\n",
      "LSTM Layer 1 output shape: torch.Size([128, 100, 40])\n",
      "LSTM Layer 2 output shape: torch.Size([128, 100, 40])\n",
      "MLP output shape: torch.Size([128, 100, 10])\n",
      "Reshape output shape: torch.Size([128, 1000])\n",
      "Output Layer shape: torch.Size([128, 1])\n",
      "LSTM Layer 1 output shape: torch.Size([128, 100, 40])\n",
      "LSTM Layer 2 output shape: torch.Size([128, 100, 40])\n",
      "MLP output shape: torch.Size([128, 100, 10])\n",
      "Reshape output shape: torch.Size([128, 1000])\n",
      "Output Layer shape: torch.Size([128, 1])\n"
     ]
    },
    {
     "name": "stderr",
     "output_type": "stream",
     "text": [
      "Training epoch 1/1:  35%|███▍      | 104/300 [00:08<00:15, 13.03it/s]"
     ]
    },
    {
     "name": "stdout",
     "output_type": "stream",
     "text": [
      "LSTM Layer 1 output shape: torch.Size([128, 100, 40])\n",
      "LSTM Layer 2 output shape: torch.Size([128, 100, 40])\n",
      "MLP output shape: torch.Size([128, 100, 10])\n",
      "Reshape output shape: torch.Size([128, 1000])\n",
      "Output Layer shape: torch.Size([128, 1])\n",
      "LSTM Layer 1 output shape: torch.Size([128, 100, 40])\n",
      "LSTM Layer 2 output shape: torch.Size([128, 100, 40])\n",
      "MLP output shape: torch.Size([128, 100, 10])\n",
      "Reshape output shape: torch.Size([128, 1000])\n",
      "Output Layer shape: torch.Size([128, 1])\n",
      "LSTM Layer 1 output shape: torch.Size([128, 100, 40])\n",
      "LSTM Layer 2 output shape: torch.Size([128, 100, 40])\n",
      "MLP output shape: torch.Size([128, 100, 10])\n",
      "Reshape output shape: torch.Size([128, 1000])\n",
      "Output Layer shape: torch.Size([128, 1])\n"
     ]
    },
    {
     "name": "stderr",
     "output_type": "stream",
     "text": [
      "Training epoch 1/1:  36%|███▌      | 108/300 [00:08<00:14, 13.01it/s]"
     ]
    },
    {
     "name": "stdout",
     "output_type": "stream",
     "text": [
      "LSTM Layer 1 output shape: torch.Size([128, 100, 40])\n",
      "LSTM Layer 2 output shape: torch.Size([128, 100, 40])\n",
      "MLP output shape: torch.Size([128, 100, 10])\n",
      "Reshape output shape: torch.Size([128, 1000])\n",
      "Output Layer shape: torch.Size([128, 1])\n",
      "LSTM Layer 1 output shape: torch.Size([128, 100, 40])\n",
      "LSTM Layer 2 output shape: torch.Size([128, 100, 40])\n",
      "MLP output shape: torch.Size([128, 100, 10])\n",
      "Reshape output shape: torch.Size([128, 1000])\n",
      "Output Layer shape: torch.Size([128, 1])\n",
      "LSTM Layer 1 output shape: torch.Size([128, 100, 40])\n",
      "LSTM Layer 2 output shape: torch.Size([128, 100, 40])\n",
      "MLP output shape: torch.Size([128, 100, 10])\n",
      "Reshape output shape: torch.Size([128, 1000])\n",
      "Output Layer shape: torch.Size([128, 1])\n"
     ]
    },
    {
     "name": "stderr",
     "output_type": "stream",
     "text": [
      "Training epoch 1/1:  37%|███▋      | 110/300 [00:08<00:14, 12.92it/s]"
     ]
    },
    {
     "name": "stdout",
     "output_type": "stream",
     "text": [
      "LSTM Layer 1 output shape: torch.Size([128, 100, 40])\n",
      "LSTM Layer 2 output shape: torch.Size([128, 100, 40])\n",
      "MLP output shape: torch.Size([128, 100, 10])\n",
      "Reshape output shape: torch.Size([128, 1000])\n",
      "Output Layer shape: torch.Size([128, 1])\n",
      "LSTM Layer 1 output shape: torch.Size([128, 100, 40])\n",
      "LSTM Layer 2 output shape: torch.Size([128, 100, 40])\n",
      "MLP output shape: torch.Size([128, 100, 10])\n",
      "Reshape output shape: torch.Size([128, 1000])\n",
      "Output Layer shape: torch.Size([128, 1])\n",
      "LSTM Layer 1 output shape: torch.Size([128, 100, 40])\n",
      "LSTM Layer 2 output shape: torch.Size([128, 100, 40])\n",
      "MLP output shape: torch.Size([128, 100, 10])\n",
      "Reshape output shape: torch.Size([128, 1000])\n",
      "Output Layer shape: torch.Size([128, 1])\n"
     ]
    },
    {
     "name": "stderr",
     "output_type": "stream",
     "text": [
      "Training epoch 1/1:  38%|███▊      | 114/300 [00:08<00:14, 12.73it/s]"
     ]
    },
    {
     "name": "stdout",
     "output_type": "stream",
     "text": [
      "LSTM Layer 1 output shape: torch.Size([128, 100, 40])\n",
      "LSTM Layer 2 output shape: torch.Size([128, 100, 40])\n",
      "MLP output shape: torch.Size([128, 100, 10])\n",
      "Reshape output shape: torch.Size([128, 1000])\n",
      "Output Layer shape: torch.Size([128, 1])\n",
      "LSTM Layer 1 output shape: torch.Size([128, 100, 40])\n",
      "LSTM Layer 2 output shape: torch.Size([128, 100, 40])\n",
      "MLP output shape: torch.Size([128, 100, 10])\n",
      "Reshape output shape: torch.Size([128, 1000])\n",
      "Output Layer shape: torch.Size([128, 1])\n",
      "LSTM Layer 1 output shape: torch.Size([128, 100, 40])\n",
      "LSTM Layer 2 output shape: torch.Size([128, 100, 40])\n",
      "MLP output shape: torch.Size([128, 100, 10])\n",
      "Reshape output shape: torch.Size([128, 1000])\n",
      "Output Layer shape: torch.Size([128, 1])\n"
     ]
    },
    {
     "name": "stderr",
     "output_type": "stream",
     "text": [
      "Training epoch 1/1:  39%|███▊      | 116/300 [00:09<00:14, 12.69it/s]"
     ]
    },
    {
     "name": "stdout",
     "output_type": "stream",
     "text": [
      "LSTM Layer 1 output shape: torch.Size([128, 100, 40])\n",
      "LSTM Layer 2 output shape: torch.Size([128, 100, 40])\n",
      "MLP output shape: torch.Size([128, 100, 10])\n",
      "Reshape output shape: torch.Size([128, 1000])\n",
      "Output Layer shape: torch.Size([128, 1])\n",
      "LSTM Layer 1 output shape: torch.Size([128, 100, 40])\n",
      "LSTM Layer 2 output shape: torch.Size([128, 100, 40])\n",
      "MLP output shape: torch.Size([128, 100, 10])\n",
      "Reshape output shape: torch.Size([128, 1000])\n",
      "Output Layer shape: torch.Size([128, 1])\n",
      "LSTM Layer 1 output shape: torch.Size([128, 100, 40])\n",
      "LSTM Layer 2 output shape: torch.Size([128, 100, 40])\n",
      "MLP output shape: torch.Size([128, 100, 10])\n",
      "Reshape output shape: torch.Size([128, 1000])\n",
      "Output Layer shape: torch.Size([128, 1])\n"
     ]
    },
    {
     "name": "stderr",
     "output_type": "stream",
     "text": [
      "Training epoch 1/1:  40%|████      | 120/300 [00:09<00:14, 12.82it/s]"
     ]
    },
    {
     "name": "stdout",
     "output_type": "stream",
     "text": [
      "LSTM Layer 1 output shape: torch.Size([128, 100, 40])\n",
      "LSTM Layer 2 output shape: torch.Size([128, 100, 40])\n",
      "MLP output shape: torch.Size([128, 100, 10])\n",
      "Reshape output shape: torch.Size([128, 1000])\n",
      "Output Layer shape: torch.Size([128, 1])\n",
      "LSTM Layer 1 output shape: torch.Size([128, 100, 40])\n",
      "LSTM Layer 2 output shape: torch.Size([128, 100, 40])\n",
      "MLP output shape: torch.Size([128, 100, 10])\n",
      "Reshape output shape: torch.Size([128, 1000])\n",
      "Output Layer shape: torch.Size([128, 1])\n",
      "LSTM Layer 1 output shape: torch.Size([128, 100, 40])\n",
      "LSTM Layer 2 output shape: torch.Size([128, 100, 40])\n",
      "MLP output shape: torch.Size([128, 100, 10])\n",
      "Reshape output shape: torch.Size([128, 1000])\n",
      "Output Layer shape: torch.Size([128, 1])\n"
     ]
    },
    {
     "name": "stderr",
     "output_type": "stream",
     "text": [
      "Training epoch 1/1:  41%|████      | 122/300 [00:09<00:13, 12.87it/s]"
     ]
    },
    {
     "name": "stdout",
     "output_type": "stream",
     "text": [
      "LSTM Layer 1 output shape: torch.Size([128, 100, 40])\n",
      "LSTM Layer 2 output shape: torch.Size([128, 100, 40])\n",
      "MLP output shape: torch.Size([128, 100, 10])\n",
      "Reshape output shape: torch.Size([128, 1000])\n",
      "Output Layer shape: torch.Size([128, 1])\n",
      "LSTM Layer 1 output shape: torch.Size([128, 100, 40])\n",
      "LSTM Layer 2 output shape: torch.Size([128, 100, 40])\n",
      "MLP output shape: torch.Size([128, 100, 10])\n",
      "Reshape output shape: torch.Size([128, 1000])\n",
      "Output Layer shape: torch.Size([128, 1])\n",
      "LSTM Layer 1 output shape: torch.Size([128, 100, 40])\n",
      "LSTM Layer 2 output shape: torch.Size([128, 100, 40])\n",
      "MLP output shape: torch.Size([128, 100, 10])\n",
      "Reshape output shape: torch.Size([128, 1000])\n",
      "Output Layer shape: torch.Size([128, 1])\n"
     ]
    },
    {
     "name": "stderr",
     "output_type": "stream",
     "text": [
      "Training epoch 1/1:  42%|████▏     | 126/300 [00:09<00:13, 12.95it/s]"
     ]
    },
    {
     "name": "stdout",
     "output_type": "stream",
     "text": [
      "LSTM Layer 1 output shape: torch.Size([128, 100, 40])\n",
      "LSTM Layer 2 output shape: torch.Size([128, 100, 40])\n",
      "MLP output shape: torch.Size([128, 100, 10])\n",
      "Reshape output shape: torch.Size([128, 1000])\n",
      "Output Layer shape: torch.Size([128, 1])\n",
      "LSTM Layer 1 output shape: torch.Size([128, 100, 40])\n",
      "LSTM Layer 2 output shape: torch.Size([128, 100, 40])\n",
      "MLP output shape: torch.Size([128, 100, 10])\n",
      "Reshape output shape: torch.Size([128, 1000])\n",
      "Output Layer shape: torch.Size([128, 1])\n",
      "LSTM Layer 1 output shape: torch.Size([128, 100, 40])\n",
      "LSTM Layer 2 output shape: torch.Size([128, 100, 40])\n",
      "MLP output shape: torch.Size([128, 100, 10])\n",
      "Reshape output shape: torch.Size([128, 1000])\n",
      "Output Layer shape: torch.Size([128, 1])\n"
     ]
    },
    {
     "name": "stderr",
     "output_type": "stream",
     "text": [
      "Training epoch 1/1:  43%|████▎     | 128/300 [00:09<00:13, 12.99it/s]"
     ]
    },
    {
     "name": "stdout",
     "output_type": "stream",
     "text": [
      "LSTM Layer 1 output shape: torch.Size([128, 100, 40])\n",
      "LSTM Layer 2 output shape: torch.Size([128, 100, 40])\n",
      "MLP output shape: torch.Size([128, 100, 10])\n",
      "Reshape output shape: torch.Size([128, 1000])\n",
      "Output Layer shape: torch.Size([128, 1])\n",
      "LSTM Layer 1 output shape: torch.Size([128, 100, 40])\n",
      "LSTM Layer 2 output shape: torch.Size([128, 100, 40])\n",
      "MLP output shape: torch.Size([128, 100, 10])\n",
      "Reshape output shape: torch.Size([128, 1000])\n",
      "Output Layer shape: torch.Size([128, 1])\n",
      "LSTM Layer 1 output shape: torch.Size([128, 100, 40])\n",
      "LSTM Layer 2 output shape: torch.Size([128, 100, 40])\n",
      "MLP output shape: torch.Size([128, 100, 10])\n",
      "Reshape output shape: torch.Size([128, 1000])\n",
      "Output Layer shape: torch.Size([128, 1])\n"
     ]
    },
    {
     "name": "stderr",
     "output_type": "stream",
     "text": [
      "Training epoch 1/1:  44%|████▍     | 132/300 [00:10<00:12, 13.03it/s]"
     ]
    },
    {
     "name": "stdout",
     "output_type": "stream",
     "text": [
      "LSTM Layer 1 output shape: torch.Size([128, 100, 40])\n",
      "LSTM Layer 2 output shape: torch.Size([128, 100, 40])\n",
      "MLP output shape: torch.Size([128, 100, 10])\n",
      "Reshape output shape: torch.Size([128, 1000])\n",
      "Output Layer shape: torch.Size([128, 1])\n",
      "LSTM Layer 1 output shape: torch.Size([128, 100, 40])\n",
      "LSTM Layer 2 output shape: torch.Size([128, 100, 40])\n",
      "MLP output shape: torch.Size([128, 100, 10])\n",
      "Reshape output shape: torch.Size([128, 1000])\n",
      "Output Layer shape: torch.Size([128, 1])\n",
      "LSTM Layer 1 output shape: torch.Size([128, 100, 40])\n",
      "LSTM Layer 2 output shape: torch.Size([128, 100, 40])\n",
      "MLP output shape: torch.Size([128, 100, 10])\n",
      "Reshape output shape: torch.Size([128, 1000])\n",
      "Output Layer shape: torch.Size([128, 1])\n"
     ]
    },
    {
     "name": "stderr",
     "output_type": "stream",
     "text": [
      "Training epoch 1/1:  45%|████▍     | 134/300 [00:10<00:12, 13.01it/s]"
     ]
    },
    {
     "name": "stdout",
     "output_type": "stream",
     "text": [
      "LSTM Layer 1 output shape: torch.Size([128, 100, 40])\n",
      "LSTM Layer 2 output shape: torch.Size([128, 100, 40])\n",
      "MLP output shape: torch.Size([128, 100, 10])\n",
      "Reshape output shape: torch.Size([128, 1000])\n",
      "Output Layer shape: torch.Size([128, 1])\n",
      "LSTM Layer 1 output shape: torch.Size([128, 100, 40])\n",
      "LSTM Layer 2 output shape: torch.Size([128, 100, 40])\n",
      "MLP output shape: torch.Size([128, 100, 10])\n",
      "Reshape output shape: torch.Size([128, 1000])\n",
      "Output Layer shape: torch.Size([128, 1])\n",
      "LSTM Layer 1 output shape: torch.Size([128, 100, 40])\n",
      "LSTM Layer 2 output shape: torch.Size([128, 100, 40])\n",
      "MLP output shape: torch.Size([128, 100, 10])\n",
      "Reshape output shape: torch.Size([128, 1000])\n",
      "Output Layer shape: torch.Size([128, 1])\n"
     ]
    },
    {
     "name": "stderr",
     "output_type": "stream",
     "text": [
      "Training epoch 1/1:  46%|████▌     | 138/300 [00:10<00:12, 13.00it/s]"
     ]
    },
    {
     "name": "stdout",
     "output_type": "stream",
     "text": [
      "LSTM Layer 1 output shape: torch.Size([128, 100, 40])\n",
      "LSTM Layer 2 output shape: torch.Size([128, 100, 40])\n",
      "MLP output shape: torch.Size([128, 100, 10])\n",
      "Reshape output shape: torch.Size([128, 1000])\n",
      "Output Layer shape: torch.Size([128, 1])\n",
      "LSTM Layer 1 output shape: torch.Size([128, 100, 40])\n",
      "LSTM Layer 2 output shape: torch.Size([128, 100, 40])\n",
      "MLP output shape: torch.Size([128, 100, 10])\n",
      "Reshape output shape: torch.Size([128, 1000])\n",
      "Output Layer shape: torch.Size([128, 1])\n",
      "LSTM Layer 1 output shape: torch.Size([128, 100, 40])\n",
      "LSTM Layer 2 output shape: torch.Size([128, 100, 40])\n",
      "MLP output shape: torch.Size([128, 100, 10])\n",
      "Reshape output shape: torch.Size([128, 1000])\n",
      "Output Layer shape: torch.Size([128, 1])\n"
     ]
    },
    {
     "name": "stderr",
     "output_type": "stream",
     "text": [
      "Training epoch 1/1:  47%|████▋     | 140/300 [00:10<00:12, 12.82it/s]"
     ]
    },
    {
     "name": "stdout",
     "output_type": "stream",
     "text": [
      "LSTM Layer 1 output shape: torch.Size([128, 100, 40])\n",
      "LSTM Layer 2 output shape: torch.Size([128, 100, 40])\n",
      "MLP output shape: torch.Size([128, 100, 10])\n",
      "Reshape output shape: torch.Size([128, 1000])\n",
      "Output Layer shape: torch.Size([128, 1])\n",
      "LSTM Layer 1 output shape: torch.Size([128, 100, 40])\n",
      "LSTM Layer 2 output shape: torch.Size([128, 100, 40])\n",
      "MLP output shape: torch.Size([128, 100, 10])\n",
      "Reshape output shape: torch.Size([128, 1000])\n",
      "Output Layer shape: torch.Size([128, 1])\n",
      "LSTM Layer 1 output shape: torch.Size([128, 100, 40])\n",
      "LSTM Layer 2 output shape: torch.Size([128, 100, 40])\n",
      "MLP output shape: torch.Size([128, 100, 10])\n",
      "Reshape output shape: torch.Size([128, 1000])\n",
      "Output Layer shape: torch.Size([128, 1])\n"
     ]
    },
    {
     "name": "stderr",
     "output_type": "stream",
     "text": [
      "Training epoch 1/1:  48%|████▊     | 144/300 [00:11<00:12, 12.95it/s]"
     ]
    },
    {
     "name": "stdout",
     "output_type": "stream",
     "text": [
      "LSTM Layer 1 output shape: torch.Size([128, 100, 40])\n",
      "LSTM Layer 2 output shape: torch.Size([128, 100, 40])\n",
      "MLP output shape: torch.Size([128, 100, 10])\n",
      "Reshape output shape: torch.Size([128, 1000])\n",
      "Output Layer shape: torch.Size([128, 1])\n",
      "LSTM Layer 1 output shape: torch.Size([128, 100, 40])\n",
      "LSTM Layer 2 output shape: torch.Size([128, 100, 40])\n",
      "MLP output shape: torch.Size([128, 100, 10])\n",
      "Reshape output shape: torch.Size([128, 1000])\n",
      "Output Layer shape: torch.Size([128, 1])\n",
      "LSTM Layer 1 output shape: torch.Size([128, 100, 40])\n",
      "LSTM Layer 2 output shape: torch.Size([128, 100, 40])\n",
      "MLP output shape: torch.Size([128, 100, 10])\n",
      "Reshape output shape: torch.Size([128, 1000])\n",
      "Output Layer shape: torch.Size([128, 1])\n"
     ]
    },
    {
     "name": "stderr",
     "output_type": "stream",
     "text": [
      "Training epoch 1/1:  49%|████▊     | 146/300 [00:11<00:11, 12.95it/s]"
     ]
    },
    {
     "name": "stdout",
     "output_type": "stream",
     "text": [
      "LSTM Layer 1 output shape: torch.Size([128, 100, 40])\n",
      "LSTM Layer 2 output shape: torch.Size([128, 100, 40])\n",
      "MLP output shape: torch.Size([128, 100, 10])\n",
      "Reshape output shape: torch.Size([128, 1000])\n",
      "Output Layer shape: torch.Size([128, 1])\n",
      "LSTM Layer 1 output shape: torch.Size([128, 100, 40])\n",
      "LSTM Layer 2 output shape: torch.Size([128, 100, 40])\n",
      "MLP output shape: torch.Size([128, 100, 10])\n",
      "Reshape output shape: torch.Size([128, 1000])\n",
      "Output Layer shape: torch.Size([128, 1])\n",
      "LSTM Layer 1 output shape: torch.Size([128, 100, 40])\n",
      "LSTM Layer 2 output shape: torch.Size([128, 100, 40])\n",
      "MLP output shape: torch.Size([128, 100, 10])\n",
      "Reshape output shape: torch.Size([128, 1000])\n",
      "Output Layer shape: torch.Size([128, 1])\n"
     ]
    },
    {
     "name": "stderr",
     "output_type": "stream",
     "text": [
      "Training epoch 1/1:  50%|█████     | 150/300 [00:11<00:11, 12.96it/s]"
     ]
    },
    {
     "name": "stdout",
     "output_type": "stream",
     "text": [
      "LSTM Layer 1 output shape: torch.Size([128, 100, 40])\n",
      "LSTM Layer 2 output shape: torch.Size([128, 100, 40])\n",
      "MLP output shape: torch.Size([128, 100, 10])\n",
      "Reshape output shape: torch.Size([128, 1000])\n",
      "Output Layer shape: torch.Size([128, 1])\n",
      "LSTM Layer 1 output shape: torch.Size([128, 100, 40])\n",
      "LSTM Layer 2 output shape: torch.Size([128, 100, 40])\n",
      "MLP output shape: torch.Size([128, 100, 10])\n",
      "Reshape output shape: torch.Size([128, 1000])\n",
      "Output Layer shape: torch.Size([128, 1])\n",
      "LSTM Layer 1 output shape: torch.Size([128, 100, 40])\n",
      "LSTM Layer 2 output shape: torch.Size([128, 100, 40])\n",
      "MLP output shape: torch.Size([128, 100, 10])\n",
      "Reshape output shape: torch.Size([128, 1000])\n",
      "Output Layer shape: torch.Size([128, 1])\n"
     ]
    },
    {
     "name": "stderr",
     "output_type": "stream",
     "text": [
      "Training epoch 1/1:  51%|█████     | 152/300 [00:11<00:11, 12.88it/s]"
     ]
    },
    {
     "name": "stdout",
     "output_type": "stream",
     "text": [
      "LSTM Layer 1 output shape: torch.Size([128, 100, 40])\n",
      "LSTM Layer 2 output shape: torch.Size([128, 100, 40])\n",
      "MLP output shape: torch.Size([128, 100, 10])\n",
      "Reshape output shape: torch.Size([128, 1000])\n",
      "Output Layer shape: torch.Size([128, 1])\n",
      "LSTM Layer 1 output shape: torch.Size([128, 100, 40])\n",
      "LSTM Layer 2 output shape: torch.Size([128, 100, 40])\n",
      "MLP output shape: torch.Size([128, 100, 10])\n",
      "Reshape output shape: torch.Size([128, 1000])\n",
      "Output Layer shape: torch.Size([128, 1])\n",
      "LSTM Layer 1 output shape: torch.Size([128, 100, 40])\n",
      "LSTM Layer 2 output shape: torch.Size([128, 100, 40])\n",
      "MLP output shape: torch.Size([128, 100, 10])\n",
      "Reshape output shape: torch.Size([128, 1000])\n",
      "Output Layer shape: torch.Size([128, 1])\n"
     ]
    },
    {
     "name": "stderr",
     "output_type": "stream",
     "text": [
      "Training epoch 1/1:  52%|█████▏    | 156/300 [00:12<00:11, 12.95it/s]"
     ]
    },
    {
     "name": "stdout",
     "output_type": "stream",
     "text": [
      "LSTM Layer 1 output shape: torch.Size([128, 100, 40])\n",
      "LSTM Layer 2 output shape: torch.Size([128, 100, 40])\n",
      "MLP output shape: torch.Size([128, 100, 10])\n",
      "Reshape output shape: torch.Size([128, 1000])\n",
      "Output Layer shape: torch.Size([128, 1])\n",
      "LSTM Layer 1 output shape: torch.Size([128, 100, 40])\n",
      "LSTM Layer 2 output shape: torch.Size([128, 100, 40])\n",
      "MLP output shape: torch.Size([128, 100, 10])\n",
      "Reshape output shape: torch.Size([128, 1000])\n",
      "Output Layer shape: torch.Size([128, 1])\n",
      "LSTM Layer 1 output shape: torch.Size([128, 100, 40])\n",
      "LSTM Layer 2 output shape: torch.Size([128, 100, 40])\n",
      "MLP output shape: torch.Size([128, 100, 10])\n",
      "Reshape output shape: torch.Size([128, 1000])\n",
      "Output Layer shape: torch.Size([128, 1])\n"
     ]
    },
    {
     "name": "stderr",
     "output_type": "stream",
     "text": [
      "Training epoch 1/1:  53%|█████▎    | 158/300 [00:12<00:10, 12.92it/s]"
     ]
    },
    {
     "name": "stdout",
     "output_type": "stream",
     "text": [
      "LSTM Layer 1 output shape: torch.Size([128, 100, 40])\n",
      "LSTM Layer 2 output shape: torch.Size([128, 100, 40])\n",
      "MLP output shape: torch.Size([128, 100, 10])\n",
      "Reshape output shape: torch.Size([128, 1000])\n",
      "Output Layer shape: torch.Size([128, 1])\n",
      "LSTM Layer 1 output shape: torch.Size([128, 100, 40])\n",
      "LSTM Layer 2 output shape: torch.Size([128, 100, 40])\n",
      "MLP output shape: torch.Size([128, 100, 10])\n",
      "Reshape output shape: torch.Size([128, 1000])\n",
      "Output Layer shape: torch.Size([128, 1])\n",
      "LSTM Layer 1 output shape: torch.Size([128, 100, 40])\n",
      "LSTM Layer 2 output shape: torch.Size([128, 100, 40])\n",
      "MLP output shape: torch.Size([128, 100, 10])\n",
      "Reshape output shape: torch.Size([128, 1000])\n",
      "Output Layer shape: torch.Size([128, 1])\n"
     ]
    },
    {
     "name": "stderr",
     "output_type": "stream",
     "text": [
      "Training epoch 1/1:  54%|█████▍    | 162/300 [00:12<00:10, 12.82it/s]"
     ]
    },
    {
     "name": "stdout",
     "output_type": "stream",
     "text": [
      "LSTM Layer 1 output shape: torch.Size([128, 100, 40])\n",
      "LSTM Layer 2 output shape: torch.Size([128, 100, 40])\n",
      "MLP output shape: torch.Size([128, 100, 10])\n",
      "Reshape output shape: torch.Size([128, 1000])\n",
      "Output Layer shape: torch.Size([128, 1])\n",
      "LSTM Layer 1 output shape: torch.Size([128, 100, 40])\n",
      "LSTM Layer 2 output shape: torch.Size([128, 100, 40])\n",
      "MLP output shape: torch.Size([128, 100, 10])\n",
      "Reshape output shape: torch.Size([128, 1000])\n",
      "Output Layer shape: torch.Size([128, 1])\n",
      "LSTM Layer 1 output shape: torch.Size([128, 100, 40])\n",
      "LSTM Layer 2 output shape: torch.Size([128, 100, 40])\n",
      "MLP output shape: torch.Size([128, 100, 10])\n",
      "Reshape output shape: torch.Size([128, 1000])\n",
      "Output Layer shape: torch.Size([128, 1])\n"
     ]
    },
    {
     "name": "stderr",
     "output_type": "stream",
     "text": [
      "Training epoch 1/1:  55%|█████▍    | 164/300 [00:12<00:10, 12.86it/s]"
     ]
    },
    {
     "name": "stdout",
     "output_type": "stream",
     "text": [
      "LSTM Layer 1 output shape: torch.Size([128, 100, 40])\n",
      "LSTM Layer 2 output shape: torch.Size([128, 100, 40])\n",
      "MLP output shape: torch.Size([128, 100, 10])\n",
      "Reshape output shape: torch.Size([128, 1000])\n",
      "Output Layer shape: torch.Size([128, 1])\n",
      "LSTM Layer 1 output shape: torch.Size([128, 100, 40])\n",
      "LSTM Layer 2 output shape: torch.Size([128, 100, 40])\n",
      "MLP output shape: torch.Size([128, 100, 10])\n",
      "Reshape output shape: torch.Size([128, 1000])\n",
      "Output Layer shape: torch.Size([128, 1])\n",
      "LSTM Layer 1 output shape: torch.Size([128, 100, 40])\n",
      "LSTM Layer 2 output shape: torch.Size([128, 100, 40])\n",
      "MLP output shape: torch.Size([128, 100, 10])\n",
      "Reshape output shape: torch.Size([128, 1000])\n",
      "Output Layer shape: torch.Size([128, 1])\n"
     ]
    },
    {
     "name": "stderr",
     "output_type": "stream",
     "text": [
      "Training epoch 1/1:  56%|█████▌    | 168/300 [00:13<00:10, 12.70it/s]"
     ]
    },
    {
     "name": "stdout",
     "output_type": "stream",
     "text": [
      "LSTM Layer 1 output shape: torch.Size([128, 100, 40])\n",
      "LSTM Layer 2 output shape: torch.Size([128, 100, 40])\n",
      "MLP output shape: torch.Size([128, 100, 10])\n",
      "Reshape output shape: torch.Size([128, 1000])\n",
      "Output Layer shape: torch.Size([128, 1])\n",
      "LSTM Layer 1 output shape: torch.Size([128, 100, 40])\n",
      "LSTM Layer 2 output shape: torch.Size([128, 100, 40])\n",
      "MLP output shape: torch.Size([128, 100, 10])\n",
      "Reshape output shape: torch.Size([128, 1000])\n",
      "Output Layer shape: torch.Size([128, 1])\n",
      "LSTM Layer 1 output shape: torch.Size([128, 100, 40])\n",
      "LSTM Layer 2 output shape: torch.Size([128, 100, 40])\n",
      "MLP output shape: torch.Size([128, 100, 10])\n",
      "Reshape output shape: torch.Size([128, 1000])\n",
      "Output Layer shape: torch.Size([128, 1])\n"
     ]
    },
    {
     "name": "stderr",
     "output_type": "stream",
     "text": [
      "Training epoch 1/1:  57%|█████▋    | 170/300 [00:13<00:10, 12.73it/s]"
     ]
    },
    {
     "name": "stdout",
     "output_type": "stream",
     "text": [
      "LSTM Layer 1 output shape: torch.Size([128, 100, 40])\n",
      "LSTM Layer 2 output shape: torch.Size([128, 100, 40])\n",
      "MLP output shape: torch.Size([128, 100, 10])\n",
      "Reshape output shape: torch.Size([128, 1000])\n",
      "Output Layer shape: torch.Size([128, 1])\n",
      "LSTM Layer 1 output shape: torch.Size([128, 100, 40])\n",
      "LSTM Layer 2 output shape: torch.Size([128, 100, 40])\n",
      "MLP output shape: torch.Size([128, 100, 10])\n",
      "Reshape output shape: torch.Size([128, 1000])\n",
      "Output Layer shape: torch.Size([128, 1])\n",
      "LSTM Layer 1 output shape: torch.Size([128, 100, 40])\n",
      "LSTM Layer 2 output shape: torch.Size([128, 100, 40])\n",
      "MLP output shape: torch.Size([128, 100, 10])\n",
      "Reshape output shape: torch.Size([128, 1000])\n",
      "Output Layer shape: torch.Size([128, 1])\n"
     ]
    },
    {
     "name": "stderr",
     "output_type": "stream",
     "text": [
      "Training epoch 1/1:  58%|█████▊    | 174/300 [00:13<00:09, 12.90it/s]"
     ]
    },
    {
     "name": "stdout",
     "output_type": "stream",
     "text": [
      "LSTM Layer 1 output shape: torch.Size([128, 100, 40])\n",
      "LSTM Layer 2 output shape: torch.Size([128, 100, 40])\n",
      "MLP output shape: torch.Size([128, 100, 10])\n",
      "Reshape output shape: torch.Size([128, 1000])\n",
      "Output Layer shape: torch.Size([128, 1])\n",
      "LSTM Layer 1 output shape: torch.Size([128, 100, 40])\n",
      "LSTM Layer 2 output shape: torch.Size([128, 100, 40])\n",
      "MLP output shape: torch.Size([128, 100, 10])\n",
      "Reshape output shape: torch.Size([128, 1000])\n",
      "Output Layer shape: torch.Size([128, 1])\n",
      "LSTM Layer 1 output shape: torch.Size([128, 100, 40])\n",
      "LSTM Layer 2 output shape: torch.Size([128, 100, 40])\n",
      "MLP output shape: torch.Size([128, 100, 10])\n",
      "Reshape output shape: torch.Size([128, 1000])\n",
      "Output Layer shape: torch.Size([128, 1])\n"
     ]
    },
    {
     "name": "stderr",
     "output_type": "stream",
     "text": [
      "Training epoch 1/1:  59%|█████▊    | 176/300 [00:13<00:09, 12.95it/s]"
     ]
    },
    {
     "name": "stdout",
     "output_type": "stream",
     "text": [
      "LSTM Layer 1 output shape: torch.Size([128, 100, 40])\n",
      "LSTM Layer 2 output shape: torch.Size([128, 100, 40])\n",
      "MLP output shape: torch.Size([128, 100, 10])\n",
      "Reshape output shape: torch.Size([128, 1000])\n",
      "Output Layer shape: torch.Size([128, 1])\n",
      "LSTM Layer 1 output shape: torch.Size([128, 100, 40])\n",
      "LSTM Layer 2 output shape: torch.Size([128, 100, 40])\n",
      "MLP output shape: torch.Size([128, 100, 10])\n",
      "Reshape output shape: torch.Size([128, 1000])\n",
      "Output Layer shape: torch.Size([128, 1])\n",
      "LSTM Layer 1 output shape: torch.Size([128, 100, 40])\n",
      "LSTM Layer 2 output shape: torch.Size([128, 100, 40])\n",
      "MLP output shape: torch.Size([128, 100, 10])\n",
      "Reshape output shape: torch.Size([128, 1000])\n",
      "Output Layer shape: torch.Size([128, 1])\n"
     ]
    },
    {
     "name": "stderr",
     "output_type": "stream",
     "text": [
      "Training epoch 1/1:  60%|██████    | 180/300 [00:13<00:09, 12.84it/s]"
     ]
    },
    {
     "name": "stdout",
     "output_type": "stream",
     "text": [
      "LSTM Layer 1 output shape: torch.Size([128, 100, 40])\n",
      "LSTM Layer 2 output shape: torch.Size([128, 100, 40])\n",
      "MLP output shape: torch.Size([128, 100, 10])\n",
      "Reshape output shape: torch.Size([128, 1000])\n",
      "Output Layer shape: torch.Size([128, 1])\n",
      "LSTM Layer 1 output shape: torch.Size([128, 100, 40])\n",
      "LSTM Layer 2 output shape: torch.Size([128, 100, 40])\n",
      "MLP output shape: torch.Size([128, 100, 10])\n",
      "Reshape output shape: torch.Size([128, 1000])\n",
      "Output Layer shape: torch.Size([128, 1])\n",
      "LSTM Layer 1 output shape: torch.Size([128, 100, 40])\n",
      "LSTM Layer 2 output shape: torch.Size([128, 100, 40])\n",
      "MLP output shape: torch.Size([128, 100, 10])\n",
      "Reshape output shape: torch.Size([128, 1000])\n",
      "Output Layer shape: torch.Size([128, 1])\n"
     ]
    },
    {
     "name": "stderr",
     "output_type": "stream",
     "text": [
      "Training epoch 1/1:  61%|██████    | 182/300 [00:14<00:09, 12.67it/s]"
     ]
    },
    {
     "name": "stdout",
     "output_type": "stream",
     "text": [
      "LSTM Layer 1 output shape: torch.Size([128, 100, 40])\n",
      "LSTM Layer 2 output shape: torch.Size([128, 100, 40])\n",
      "MLP output shape: torch.Size([128, 100, 10])\n",
      "Reshape output shape: torch.Size([128, 1000])\n",
      "Output Layer shape: torch.Size([128, 1])\n",
      "LSTM Layer 1 output shape: torch.Size([128, 100, 40])\n",
      "LSTM Layer 2 output shape: torch.Size([128, 100, 40])\n",
      "MLP output shape: torch.Size([128, 100, 10])\n",
      "Reshape output shape: torch.Size([128, 1000])\n",
      "Output Layer shape: torch.Size([128, 1])\n",
      "LSTM Layer 1 output shape: torch.Size([128, 100, 40])\n",
      "LSTM Layer 2 output shape: torch.Size([128, 100, 40])\n",
      "MLP output shape: torch.Size([128, 100, 10])\n",
      "Reshape output shape: torch.Size([128, 1000])\n",
      "Output Layer shape: torch.Size([128, 1])\n"
     ]
    },
    {
     "name": "stderr",
     "output_type": "stream",
     "text": [
      "Training epoch 1/1:  62%|██████▏   | 186/300 [00:14<00:08, 12.69it/s]"
     ]
    },
    {
     "name": "stdout",
     "output_type": "stream",
     "text": [
      "LSTM Layer 1 output shape: torch.Size([128, 100, 40])\n",
      "LSTM Layer 2 output shape: torch.Size([128, 100, 40])\n",
      "MLP output shape: torch.Size([128, 100, 10])\n",
      "Reshape output shape: torch.Size([128, 1000])\n",
      "Output Layer shape: torch.Size([128, 1])\n",
      "LSTM Layer 1 output shape: torch.Size([128, 100, 40])\n",
      "LSTM Layer 2 output shape: torch.Size([128, 100, 40])\n",
      "MLP output shape: torch.Size([128, 100, 10])\n",
      "Reshape output shape: torch.Size([128, 1000])\n",
      "Output Layer shape: torch.Size([128, 1])\n",
      "LSTM Layer 1 output shape: torch.Size([128, 100, 40])\n",
      "LSTM Layer 2 output shape: torch.Size([128, 100, 40])\n",
      "MLP output shape: torch.Size([128, 100, 10])\n",
      "Reshape output shape: torch.Size([128, 1000])\n",
      "Output Layer shape: torch.Size([128, 1])\n"
     ]
    },
    {
     "name": "stderr",
     "output_type": "stream",
     "text": [
      "Training epoch 1/1:  63%|██████▎   | 188/300 [00:14<00:08, 12.55it/s]"
     ]
    },
    {
     "name": "stdout",
     "output_type": "stream",
     "text": [
      "LSTM Layer 1 output shape: torch.Size([128, 100, 40])\n",
      "LSTM Layer 2 output shape: torch.Size([128, 100, 40])\n",
      "MLP output shape: torch.Size([128, 100, 10])\n",
      "Reshape output shape: torch.Size([128, 1000])\n",
      "Output Layer shape: torch.Size([128, 1])\n",
      "LSTM Layer 1 output shape: torch.Size([128, 100, 40])\n",
      "LSTM Layer 2 output shape: torch.Size([128, 100, 40])\n",
      "MLP output shape: torch.Size([128, 100, 10])\n",
      "Reshape output shape: torch.Size([128, 1000])\n",
      "Output Layer shape: torch.Size([128, 1])\n",
      "LSTM Layer 1 output shape: torch.Size([128, 100, 40])\n",
      "LSTM Layer 2 output shape: torch.Size([128, 100, 40])\n",
      "MLP output shape: torch.Size([128, 100, 10])\n",
      "Reshape output shape: torch.Size([128, 1000])\n",
      "Output Layer shape: torch.Size([128, 1])\n"
     ]
    },
    {
     "name": "stderr",
     "output_type": "stream",
     "text": [
      "Training epoch 1/1:  64%|██████▍   | 192/300 [00:14<00:08, 12.47it/s]"
     ]
    },
    {
     "name": "stdout",
     "output_type": "stream",
     "text": [
      "LSTM Layer 1 output shape: torch.Size([128, 100, 40])\n",
      "LSTM Layer 2 output shape: torch.Size([128, 100, 40])\n",
      "MLP output shape: torch.Size([128, 100, 10])\n",
      "Reshape output shape: torch.Size([128, 1000])\n",
      "Output Layer shape: torch.Size([128, 1])\n",
      "LSTM Layer 1 output shape: torch.Size([128, 100, 40])\n",
      "LSTM Layer 2 output shape: torch.Size([128, 100, 40])\n",
      "MLP output shape: torch.Size([128, 100, 10])\n",
      "Reshape output shape: torch.Size([128, 1000])\n",
      "Output Layer shape: torch.Size([128, 1])\n",
      "LSTM Layer 1 output shape: torch.Size([128, 100, 40])\n",
      "LSTM Layer 2 output shape: torch.Size([128, 100, 40])\n",
      "MLP output shape: torch.Size([128, 100, 10])\n",
      "Reshape output shape: torch.Size([128, 1000])\n",
      "Output Layer shape: torch.Size([128, 1])\n"
     ]
    },
    {
     "name": "stderr",
     "output_type": "stream",
     "text": [
      "Training epoch 1/1:  65%|██████▍   | 194/300 [00:15<00:08, 12.62it/s]"
     ]
    },
    {
     "name": "stdout",
     "output_type": "stream",
     "text": [
      "LSTM Layer 1 output shape: torch.Size([128, 100, 40])\n",
      "LSTM Layer 2 output shape: torch.Size([128, 100, 40])\n",
      "MLP output shape: torch.Size([128, 100, 10])\n",
      "Reshape output shape: torch.Size([128, 1000])\n",
      "Output Layer shape: torch.Size([128, 1])\n",
      "LSTM Layer 1 output shape: torch.Size([128, 100, 40])\n",
      "LSTM Layer 2 output shape: torch.Size([128, 100, 40])\n",
      "MLP output shape: torch.Size([128, 100, 10])\n",
      "Reshape output shape: torch.Size([128, 1000])\n",
      "Output Layer shape: torch.Size([128, 1])\n",
      "LSTM Layer 1 output shape: torch.Size([128, 100, 40])\n",
      "LSTM Layer 2 output shape: torch.Size([128, 100, 40])\n",
      "MLP output shape: torch.Size([128, 100, 10])\n",
      "Reshape output shape: torch.Size([128, 1000])\n",
      "Output Layer shape: torch.Size([128, 1])\n"
     ]
    },
    {
     "name": "stderr",
     "output_type": "stream",
     "text": [
      "Training epoch 1/1:  66%|██████▌   | 198/300 [00:15<00:07, 12.77it/s]"
     ]
    },
    {
     "name": "stdout",
     "output_type": "stream",
     "text": [
      "LSTM Layer 1 output shape: torch.Size([128, 100, 40])\n",
      "LSTM Layer 2 output shape: torch.Size([128, 100, 40])\n",
      "MLP output shape: torch.Size([128, 100, 10])\n",
      "Reshape output shape: torch.Size([128, 1000])\n",
      "Output Layer shape: torch.Size([128, 1])\n",
      "LSTM Layer 1 output shape: torch.Size([128, 100, 40])\n",
      "LSTM Layer 2 output shape: torch.Size([128, 100, 40])\n",
      "MLP output shape: torch.Size([128, 100, 10])\n",
      "Reshape output shape: torch.Size([128, 1000])\n",
      "Output Layer shape: torch.Size([128, 1])\n",
      "LSTM Layer 1 output shape: torch.Size([128, 100, 40])\n",
      "LSTM Layer 2 output shape: torch.Size([128, 100, 40])\n",
      "MLP output shape: torch.Size([128, 100, 10])\n",
      "Reshape output shape: torch.Size([128, 1000])\n",
      "Output Layer shape: torch.Size([128, 1])\n"
     ]
    },
    {
     "name": "stderr",
     "output_type": "stream",
     "text": [
      "Training epoch 1/1:  67%|██████▋   | 200/300 [00:15<00:07, 12.87it/s]"
     ]
    },
    {
     "name": "stdout",
     "output_type": "stream",
     "text": [
      "LSTM Layer 1 output shape: torch.Size([128, 100, 40])\n",
      "LSTM Layer 2 output shape: torch.Size([128, 100, 40])\n",
      "MLP output shape: torch.Size([128, 100, 10])\n",
      "Reshape output shape: torch.Size([128, 1000])\n",
      "Output Layer shape: torch.Size([128, 1])\n",
      "LSTM Layer 1 output shape: torch.Size([128, 100, 40])\n",
      "LSTM Layer 2 output shape: torch.Size([128, 100, 40])\n",
      "MLP output shape: torch.Size([128, 100, 10])\n",
      "Reshape output shape: torch.Size([128, 1000])\n",
      "Output Layer shape: torch.Size([128, 1])\n",
      "LSTM Layer 1 output shape: torch.Size([128, 100, 40])\n",
      "LSTM Layer 2 output shape: torch.Size([128, 100, 40])\n",
      "MLP output shape: torch.Size([128, 100, 10])\n",
      "Reshape output shape: torch.Size([128, 1000])\n",
      "Output Layer shape: torch.Size([128, 1])\n"
     ]
    },
    {
     "name": "stderr",
     "output_type": "stream",
     "text": [
      "Training epoch 1/1:  68%|██████▊   | 204/300 [00:15<00:07, 12.92it/s]"
     ]
    },
    {
     "name": "stdout",
     "output_type": "stream",
     "text": [
      "LSTM Layer 1 output shape: torch.Size([128, 100, 40])\n",
      "LSTM Layer 2 output shape: torch.Size([128, 100, 40])\n",
      "MLP output shape: torch.Size([128, 100, 10])\n",
      "Reshape output shape: torch.Size([128, 1000])\n",
      "Output Layer shape: torch.Size([128, 1])\n",
      "LSTM Layer 1 output shape: torch.Size([128, 100, 40])\n",
      "LSTM Layer 2 output shape: torch.Size([128, 100, 40])\n",
      "MLP output shape: torch.Size([128, 100, 10])\n",
      "Reshape output shape: torch.Size([128, 1000])\n",
      "Output Layer shape: torch.Size([128, 1])\n",
      "LSTM Layer 1 output shape: torch.Size([128, 100, 40])\n",
      "LSTM Layer 2 output shape: torch.Size([128, 100, 40])\n",
      "MLP output shape: torch.Size([128, 100, 10])\n",
      "Reshape output shape: torch.Size([128, 1000])\n",
      "Output Layer shape: torch.Size([128, 1])\n"
     ]
    },
    {
     "name": "stderr",
     "output_type": "stream",
     "text": [
      "Training epoch 1/1:  69%|██████▊   | 206/300 [00:16<00:07, 12.86it/s]"
     ]
    },
    {
     "name": "stdout",
     "output_type": "stream",
     "text": [
      "LSTM Layer 1 output shape: torch.Size([128, 100, 40])\n",
      "LSTM Layer 2 output shape: torch.Size([128, 100, 40])\n",
      "MLP output shape: torch.Size([128, 100, 10])\n",
      "Reshape output shape: torch.Size([128, 1000])\n",
      "Output Layer shape: torch.Size([128, 1])\n",
      "LSTM Layer 1 output shape: torch.Size([128, 100, 40])\n",
      "LSTM Layer 2 output shape: torch.Size([128, 100, 40])\n",
      "MLP output shape: torch.Size([128, 100, 10])\n",
      "Reshape output shape: torch.Size([128, 1000])\n",
      "Output Layer shape: torch.Size([128, 1])\n",
      "LSTM Layer 1 output shape: torch.Size([128, 100, 40])\n",
      "LSTM Layer 2 output shape: torch.Size([128, 100, 40])\n",
      "MLP output shape: torch.Size([128, 100, 10])\n",
      "Reshape output shape: torch.Size([128, 1000])\n",
      "Output Layer shape: torch.Size([128, 1])\n"
     ]
    },
    {
     "name": "stderr",
     "output_type": "stream",
     "text": [
      "Training epoch 1/1:  70%|███████   | 210/300 [00:16<00:07, 12.65it/s]"
     ]
    },
    {
     "name": "stdout",
     "output_type": "stream",
     "text": [
      "LSTM Layer 1 output shape: torch.Size([128, 100, 40])\n",
      "LSTM Layer 2 output shape: torch.Size([128, 100, 40])\n",
      "MLP output shape: torch.Size([128, 100, 10])\n",
      "Reshape output shape: torch.Size([128, 1000])\n",
      "Output Layer shape: torch.Size([128, 1])\n",
      "LSTM Layer 1 output shape: torch.Size([128, 100, 40])\n",
      "LSTM Layer 2 output shape: torch.Size([128, 100, 40])\n",
      "MLP output shape: torch.Size([128, 100, 10])\n",
      "Reshape output shape: torch.Size([128, 1000])\n",
      "Output Layer shape: torch.Size([128, 1])\n",
      "LSTM Layer 1 output shape: torch.Size([128, 100, 40])\n",
      "LSTM Layer 2 output shape: torch.Size([128, 100, 40])\n",
      "MLP output shape: torch.Size([128, 100, 10])\n",
      "Reshape output shape: torch.Size([128, 1000])\n",
      "Output Layer shape: torch.Size([128, 1])\n"
     ]
    },
    {
     "name": "stderr",
     "output_type": "stream",
     "text": [
      "Training epoch 1/1:  71%|███████   | 212/300 [00:16<00:06, 12.59it/s]"
     ]
    },
    {
     "name": "stdout",
     "output_type": "stream",
     "text": [
      "LSTM Layer 1 output shape: torch.Size([128, 100, 40])\n",
      "LSTM Layer 2 output shape: torch.Size([128, 100, 40])\n",
      "MLP output shape: torch.Size([128, 100, 10])\n",
      "Reshape output shape: torch.Size([128, 1000])\n",
      "Output Layer shape: torch.Size([128, 1])\n",
      "LSTM Layer 1 output shape: torch.Size([128, 100, 40])\n",
      "LSTM Layer 2 output shape: torch.Size([128, 100, 40])\n",
      "MLP output shape: torch.Size([128, 100, 10])\n",
      "Reshape output shape: torch.Size([128, 1000])\n",
      "Output Layer shape: torch.Size([128, 1])\n",
      "LSTM Layer 1 output shape: torch.Size([128, 100, 40])\n",
      "LSTM Layer 2 output shape: torch.Size([128, 100, 40])\n",
      "MLP output shape: torch.Size([128, 100, 10])\n",
      "Reshape output shape: torch.Size([128, 1000])\n",
      "Output Layer shape: torch.Size([128, 1])\n"
     ]
    },
    {
     "name": "stderr",
     "output_type": "stream",
     "text": [
      "Training epoch 1/1:  72%|███████▏  | 216/300 [00:16<00:06, 12.52it/s]"
     ]
    },
    {
     "name": "stdout",
     "output_type": "stream",
     "text": [
      "LSTM Layer 1 output shape: torch.Size([128, 100, 40])\n",
      "LSTM Layer 2 output shape: torch.Size([128, 100, 40])\n",
      "MLP output shape: torch.Size([128, 100, 10])\n",
      "Reshape output shape: torch.Size([128, 1000])\n",
      "Output Layer shape: torch.Size([128, 1])\n",
      "LSTM Layer 1 output shape: torch.Size([128, 100, 40])\n",
      "LSTM Layer 2 output shape: torch.Size([128, 100, 40])\n",
      "MLP output shape: torch.Size([128, 100, 10])\n",
      "Reshape output shape: torch.Size([128, 1000])\n",
      "Output Layer shape: torch.Size([128, 1])\n",
      "LSTM Layer 1 output shape: torch.Size([128, 100, 40])\n",
      "LSTM Layer 2 output shape: torch.Size([128, 100, 40])\n",
      "MLP output shape: torch.Size([128, 100, 10])\n",
      "Reshape output shape: torch.Size([128, 1000])\n",
      "Output Layer shape: torch.Size([128, 1])\n"
     ]
    },
    {
     "name": "stderr",
     "output_type": "stream",
     "text": [
      "Training epoch 1/1:  73%|███████▎  | 218/300 [00:16<00:06, 12.53it/s]"
     ]
    },
    {
     "name": "stdout",
     "output_type": "stream",
     "text": [
      "LSTM Layer 1 output shape: torch.Size([128, 100, 40])\n",
      "LSTM Layer 2 output shape: torch.Size([128, 100, 40])\n",
      "MLP output shape: torch.Size([128, 100, 10])\n",
      "Reshape output shape: torch.Size([128, 1000])\n",
      "Output Layer shape: torch.Size([128, 1])\n",
      "LSTM Layer 1 output shape: torch.Size([128, 100, 40])\n",
      "LSTM Layer 2 output shape: torch.Size([128, 100, 40])\n",
      "MLP output shape: torch.Size([128, 100, 10])\n",
      "Reshape output shape: torch.Size([128, 1000])\n",
      "Output Layer shape: torch.Size([128, 1])\n",
      "LSTM Layer 1 output shape: torch.Size([128, 100, 40])\n",
      "LSTM Layer 2 output shape: torch.Size([128, 100, 40])\n",
      "MLP output shape: torch.Size([128, 100, 10])\n",
      "Reshape output shape: torch.Size([128, 1000])\n",
      "Output Layer shape: torch.Size([128, 1])\n"
     ]
    },
    {
     "name": "stderr",
     "output_type": "stream",
     "text": [
      "Training epoch 1/1:  74%|███████▍  | 222/300 [00:17<00:06, 12.51it/s]"
     ]
    },
    {
     "name": "stdout",
     "output_type": "stream",
     "text": [
      "LSTM Layer 1 output shape: torch.Size([128, 100, 40])\n",
      "LSTM Layer 2 output shape: torch.Size([128, 100, 40])\n",
      "MLP output shape: torch.Size([128, 100, 10])\n",
      "Reshape output shape: torch.Size([128, 1000])\n",
      "Output Layer shape: torch.Size([128, 1])\n",
      "LSTM Layer 1 output shape: torch.Size([128, 100, 40])\n",
      "LSTM Layer 2 output shape: torch.Size([128, 100, 40])\n",
      "MLP output shape: torch.Size([128, 100, 10])\n",
      "Reshape output shape: torch.Size([128, 1000])\n",
      "Output Layer shape: torch.Size([128, 1])\n",
      "LSTM Layer 1 output shape: torch.Size([128, 100, 40])\n",
      "LSTM Layer 2 output shape: torch.Size([128, 100, 40])\n",
      "MLP output shape: torch.Size([128, 100, 10])\n",
      "Reshape output shape: torch.Size([128, 1000])\n",
      "Output Layer shape: torch.Size([128, 1])\n"
     ]
    },
    {
     "name": "stderr",
     "output_type": "stream",
     "text": [
      "Training epoch 1/1:  75%|███████▍  | 224/300 [00:17<00:06, 12.56it/s]"
     ]
    },
    {
     "name": "stdout",
     "output_type": "stream",
     "text": [
      "LSTM Layer 1 output shape: torch.Size([128, 100, 40])\n",
      "LSTM Layer 2 output shape: torch.Size([128, 100, 40])\n",
      "MLP output shape: torch.Size([128, 100, 10])\n",
      "Reshape output shape: torch.Size([128, 1000])\n",
      "Output Layer shape: torch.Size([128, 1])\n",
      "LSTM Layer 1 output shape: torch.Size([128, 100, 40])\n",
      "LSTM Layer 2 output shape: torch.Size([128, 100, 40])\n",
      "MLP output shape: torch.Size([128, 100, 10])\n",
      "Reshape output shape: torch.Size([128, 1000])\n",
      "Output Layer shape: torch.Size([128, 1])\n",
      "LSTM Layer 1 output shape: torch.Size([128, 100, 40])\n",
      "LSTM Layer 2 output shape: torch.Size([128, 100, 40])\n",
      "MLP output shape: torch.Size([128, 100, 10])\n",
      "Reshape output shape: torch.Size([128, 1000])\n",
      "Output Layer shape: torch.Size([128, 1])\n"
     ]
    },
    {
     "name": "stderr",
     "output_type": "stream",
     "text": [
      "Training epoch 1/1:  76%|███████▌  | 228/300 [00:17<00:05, 12.66it/s]"
     ]
    },
    {
     "name": "stdout",
     "output_type": "stream",
     "text": [
      "LSTM Layer 1 output shape: torch.Size([128, 100, 40])\n",
      "LSTM Layer 2 output shape: torch.Size([128, 100, 40])\n",
      "MLP output shape: torch.Size([128, 100, 10])\n",
      "Reshape output shape: torch.Size([128, 1000])\n",
      "Output Layer shape: torch.Size([128, 1])\n",
      "LSTM Layer 1 output shape: torch.Size([128, 100, 40])\n",
      "LSTM Layer 2 output shape: torch.Size([128, 100, 40])\n",
      "MLP output shape: torch.Size([128, 100, 10])\n",
      "Reshape output shape: torch.Size([128, 1000])\n",
      "Output Layer shape: torch.Size([128, 1])\n",
      "LSTM Layer 1 output shape: torch.Size([128, 100, 40])\n",
      "LSTM Layer 2 output shape: torch.Size([128, 100, 40])\n",
      "MLP output shape: torch.Size([128, 100, 10])\n",
      "Reshape output shape: torch.Size([128, 1000])\n",
      "Output Layer shape: torch.Size([128, 1])\n"
     ]
    },
    {
     "name": "stderr",
     "output_type": "stream",
     "text": [
      "Training epoch 1/1:  77%|███████▋  | 230/300 [00:17<00:05, 12.69it/s]"
     ]
    },
    {
     "name": "stdout",
     "output_type": "stream",
     "text": [
      "LSTM Layer 1 output shape: torch.Size([128, 100, 40])\n",
      "LSTM Layer 2 output shape: torch.Size([128, 100, 40])\n",
      "MLP output shape: torch.Size([128, 100, 10])\n",
      "Reshape output shape: torch.Size([128, 1000])\n",
      "Output Layer shape: torch.Size([128, 1])\n",
      "LSTM Layer 1 output shape: torch.Size([128, 100, 40])\n",
      "LSTM Layer 2 output shape: torch.Size([128, 100, 40])\n",
      "MLP output shape: torch.Size([128, 100, 10])\n",
      "Reshape output shape: torch.Size([128, 1000])\n",
      "Output Layer shape: torch.Size([128, 1])\n",
      "LSTM Layer 1 output shape: torch.Size([128, 100, 40])\n",
      "LSTM Layer 2 output shape: torch.Size([128, 100, 40])\n",
      "MLP output shape: torch.Size([128, 100, 10])\n",
      "Reshape output shape: torch.Size([128, 1000])\n",
      "Output Layer shape: torch.Size([128, 1])\n"
     ]
    },
    {
     "name": "stderr",
     "output_type": "stream",
     "text": [
      "Training epoch 1/1:  78%|███████▊  | 234/300 [00:18<00:05, 12.62it/s]"
     ]
    },
    {
     "name": "stdout",
     "output_type": "stream",
     "text": [
      "LSTM Layer 1 output shape: torch.Size([128, 100, 40])\n",
      "LSTM Layer 2 output shape: torch.Size([128, 100, 40])\n",
      "MLP output shape: torch.Size([128, 100, 10])\n",
      "Reshape output shape: torch.Size([128, 1000])\n",
      "Output Layer shape: torch.Size([128, 1])\n",
      "LSTM Layer 1 output shape: torch.Size([128, 100, 40])\n",
      "LSTM Layer 2 output shape: torch.Size([128, 100, 40])\n",
      "MLP output shape: torch.Size([128, 100, 10])\n",
      "Reshape output shape: torch.Size([128, 1000])\n",
      "Output Layer shape: torch.Size([128, 1])\n",
      "LSTM Layer 1 output shape: torch.Size([128, 100, 40])\n",
      "LSTM Layer 2 output shape: torch.Size([128, 100, 40])\n",
      "MLP output shape: torch.Size([128, 100, 10])\n",
      "Reshape output shape: torch.Size([128, 1000])\n",
      "Output Layer shape: torch.Size([128, 1])\n"
     ]
    },
    {
     "name": "stderr",
     "output_type": "stream",
     "text": [
      "Training epoch 1/1:  79%|███████▊  | 236/300 [00:18<00:05, 12.67it/s]"
     ]
    },
    {
     "name": "stdout",
     "output_type": "stream",
     "text": [
      "LSTM Layer 1 output shape: torch.Size([128, 100, 40])\n",
      "LSTM Layer 2 output shape: torch.Size([128, 100, 40])\n",
      "MLP output shape: torch.Size([128, 100, 10])\n",
      "Reshape output shape: torch.Size([128, 1000])\n",
      "Output Layer shape: torch.Size([128, 1])\n",
      "LSTM Layer 1 output shape: torch.Size([128, 100, 40])\n",
      "LSTM Layer 2 output shape: torch.Size([128, 100, 40])\n",
      "MLP output shape: torch.Size([128, 100, 10])\n",
      "Reshape output shape: torch.Size([128, 1000])\n",
      "Output Layer shape: torch.Size([128, 1])\n",
      "LSTM Layer 1 output shape: torch.Size([128, 100, 40])\n",
      "LSTM Layer 2 output shape: torch.Size([128, 100, 40])\n",
      "MLP output shape: torch.Size([128, 100, 10])\n",
      "Reshape output shape: torch.Size([128, 1000])\n",
      "Output Layer shape: torch.Size([128, 1])\n"
     ]
    },
    {
     "name": "stderr",
     "output_type": "stream",
     "text": [
      "Training epoch 1/1:  80%|████████  | 240/300 [00:18<00:04, 12.55it/s]"
     ]
    },
    {
     "name": "stdout",
     "output_type": "stream",
     "text": [
      "LSTM Layer 1 output shape: torch.Size([128, 100, 40])\n",
      "LSTM Layer 2 output shape: torch.Size([128, 100, 40])\n",
      "MLP output shape: torch.Size([128, 100, 10])\n",
      "Reshape output shape: torch.Size([128, 1000])\n",
      "Output Layer shape: torch.Size([128, 1])\n",
      "LSTM Layer 1 output shape: torch.Size([128, 100, 40])\n",
      "LSTM Layer 2 output shape: torch.Size([128, 100, 40])\n",
      "MLP output shape: torch.Size([128, 100, 10])\n",
      "Reshape output shape: torch.Size([128, 1000])\n",
      "Output Layer shape: torch.Size([128, 1])\n",
      "LSTM Layer 1 output shape: torch.Size([128, 100, 40])\n",
      "LSTM Layer 2 output shape: torch.Size([128, 100, 40])\n",
      "MLP output shape: torch.Size([128, 100, 10])\n",
      "Reshape output shape: torch.Size([128, 1000])\n",
      "Output Layer shape: torch.Size([128, 1])\n"
     ]
    },
    {
     "name": "stderr",
     "output_type": "stream",
     "text": [
      "Training epoch 1/1:  81%|████████  | 242/300 [00:18<00:04, 12.55it/s]"
     ]
    },
    {
     "name": "stdout",
     "output_type": "stream",
     "text": [
      "LSTM Layer 1 output shape: torch.Size([128, 100, 40])\n",
      "LSTM Layer 2 output shape: torch.Size([128, 100, 40])\n",
      "MLP output shape: torch.Size([128, 100, 10])\n",
      "Reshape output shape: torch.Size([128, 1000])\n",
      "Output Layer shape: torch.Size([128, 1])\n",
      "LSTM Layer 1 output shape: torch.Size([128, 100, 40])\n",
      "LSTM Layer 2 output shape: torch.Size([128, 100, 40])\n",
      "MLP output shape: torch.Size([128, 100, 10])\n",
      "Reshape output shape: torch.Size([128, 1000])\n",
      "Output Layer shape: torch.Size([128, 1])\n",
      "LSTM Layer 1 output shape: torch.Size([128, 100, 40])\n",
      "LSTM Layer 2 output shape: torch.Size([128, 100, 40])\n",
      "MLP output shape: torch.Size([128, 100, 10])\n",
      "Reshape output shape: torch.Size([128, 1000])\n",
      "Output Layer shape: torch.Size([128, 1])\n"
     ]
    },
    {
     "name": "stderr",
     "output_type": "stream",
     "text": [
      "Training epoch 1/1:  82%|████████▏ | 246/300 [00:19<00:04, 12.61it/s]"
     ]
    },
    {
     "name": "stdout",
     "output_type": "stream",
     "text": [
      "LSTM Layer 1 output shape: torch.Size([128, 100, 40])\n",
      "LSTM Layer 2 output shape: torch.Size([128, 100, 40])\n",
      "MLP output shape: torch.Size([128, 100, 10])\n",
      "Reshape output shape: torch.Size([128, 1000])\n",
      "Output Layer shape: torch.Size([128, 1])\n",
      "LSTM Layer 1 output shape: torch.Size([128, 100, 40])\n",
      "LSTM Layer 2 output shape: torch.Size([128, 100, 40])\n",
      "MLP output shape: torch.Size([128, 100, 10])\n",
      "Reshape output shape: torch.Size([128, 1000])\n",
      "Output Layer shape: torch.Size([128, 1])\n",
      "LSTM Layer 1 output shape: torch.Size([128, 100, 40])\n",
      "LSTM Layer 2 output shape: torch.Size([128, 100, 40])\n",
      "MLP output shape: torch.Size([128, 100, 10])\n",
      "Reshape output shape: torch.Size([128, 1000])\n",
      "Output Layer shape: torch.Size([128, 1])\n"
     ]
    },
    {
     "name": "stderr",
     "output_type": "stream",
     "text": [
      "Training epoch 1/1:  83%|████████▎ | 248/300 [00:19<00:04, 12.57it/s]"
     ]
    },
    {
     "name": "stdout",
     "output_type": "stream",
     "text": [
      "LSTM Layer 1 output shape: torch.Size([128, 100, 40])\n",
      "LSTM Layer 2 output shape: torch.Size([128, 100, 40])\n",
      "MLP output shape: torch.Size([128, 100, 10])\n",
      "Reshape output shape: torch.Size([128, 1000])\n",
      "Output Layer shape: torch.Size([128, 1])\n",
      "LSTM Layer 1 output shape: torch.Size([128, 100, 40])\n",
      "LSTM Layer 2 output shape: torch.Size([128, 100, 40])\n",
      "MLP output shape: torch.Size([128, 100, 10])\n",
      "Reshape output shape: torch.Size([128, 1000])\n",
      "Output Layer shape: torch.Size([128, 1])\n",
      "LSTM Layer 1 output shape: torch.Size([128, 100, 40])\n",
      "LSTM Layer 2 output shape: torch.Size([128, 100, 40])\n",
      "MLP output shape: torch.Size([128, 100, 10])\n",
      "Reshape output shape: torch.Size([128, 1000])\n",
      "Output Layer shape: torch.Size([128, 1])\n"
     ]
    },
    {
     "name": "stderr",
     "output_type": "stream",
     "text": [
      "Training epoch 1/1:  84%|████████▍ | 252/300 [00:19<00:03, 12.74it/s]"
     ]
    },
    {
     "name": "stdout",
     "output_type": "stream",
     "text": [
      "LSTM Layer 1 output shape: torch.Size([128, 100, 40])\n",
      "LSTM Layer 2 output shape: torch.Size([128, 100, 40])\n",
      "MLP output shape: torch.Size([128, 100, 10])\n",
      "Reshape output shape: torch.Size([128, 1000])\n",
      "Output Layer shape: torch.Size([128, 1])\n",
      "LSTM Layer 1 output shape: torch.Size([128, 100, 40])\n",
      "LSTM Layer 2 output shape: torch.Size([128, 100, 40])\n",
      "MLP output shape: torch.Size([128, 100, 10])\n",
      "Reshape output shape: torch.Size([128, 1000])\n",
      "Output Layer shape: torch.Size([128, 1])\n",
      "LSTM Layer 1 output shape: torch.Size([128, 100, 40])\n",
      "LSTM Layer 2 output shape: torch.Size([128, 100, 40])\n",
      "MLP output shape: torch.Size([128, 100, 10])\n",
      "Reshape output shape: torch.Size([128, 1000])\n",
      "Output Layer shape: torch.Size([128, 1])\n"
     ]
    },
    {
     "name": "stderr",
     "output_type": "stream",
     "text": [
      "Training epoch 1/1:  85%|████████▍ | 254/300 [00:19<00:03, 12.56it/s]"
     ]
    },
    {
     "name": "stdout",
     "output_type": "stream",
     "text": [
      "LSTM Layer 1 output shape: torch.Size([128, 100, 40])\n",
      "LSTM Layer 2 output shape: torch.Size([128, 100, 40])\n",
      "MLP output shape: torch.Size([128, 100, 10])\n",
      "Reshape output shape: torch.Size([128, 1000])\n",
      "Output Layer shape: torch.Size([128, 1])\n",
      "LSTM Layer 1 output shape: torch.Size([128, 100, 40])\n",
      "LSTM Layer 2 output shape: torch.Size([128, 100, 40])\n",
      "MLP output shape: torch.Size([128, 100, 10])\n",
      "Reshape output shape: torch.Size([128, 1000])\n",
      "Output Layer shape: torch.Size([128, 1])\n",
      "LSTM Layer 1 output shape: torch.Size([128, 100, 40])\n",
      "LSTM Layer 2 output shape: torch.Size([128, 100, 40])\n",
      "MLP output shape: torch.Size([128, 100, 10])\n",
      "Reshape output shape: torch.Size([128, 1000])\n",
      "Output Layer shape: torch.Size([128, 1])\n"
     ]
    },
    {
     "name": "stderr",
     "output_type": "stream",
     "text": [
      "Training epoch 1/1:  86%|████████▌ | 258/300 [00:20<00:03, 12.25it/s]"
     ]
    },
    {
     "name": "stdout",
     "output_type": "stream",
     "text": [
      "LSTM Layer 1 output shape: torch.Size([128, 100, 40])\n",
      "LSTM Layer 2 output shape: torch.Size([128, 100, 40])\n",
      "MLP output shape: torch.Size([128, 100, 10])\n",
      "Reshape output shape: torch.Size([128, 1000])\n",
      "Output Layer shape: torch.Size([128, 1])\n",
      "LSTM Layer 1 output shape: torch.Size([128, 100, 40])\n",
      "LSTM Layer 2 output shape: torch.Size([128, 100, 40])\n",
      "MLP output shape: torch.Size([128, 100, 10])\n",
      "Reshape output shape: torch.Size([128, 1000])\n",
      "Output Layer shape: torch.Size([128, 1])\n",
      "LSTM Layer 1 output shape: torch.Size([128, 100, 40])\n",
      "LSTM Layer 2 output shape: torch.Size([128, 100, 40])\n",
      "MLP output shape: torch.Size([128, 100, 10])\n",
      "Reshape output shape: torch.Size([128, 1000])\n",
      "Output Layer shape: torch.Size([128, 1])\n"
     ]
    },
    {
     "name": "stderr",
     "output_type": "stream",
     "text": [
      "Training epoch 1/1:  87%|████████▋ | 260/300 [00:20<00:03, 12.25it/s]"
     ]
    },
    {
     "name": "stdout",
     "output_type": "stream",
     "text": [
      "LSTM Layer 1 output shape: torch.Size([128, 100, 40])\n",
      "LSTM Layer 2 output shape: torch.Size([128, 100, 40])\n",
      "MLP output shape: torch.Size([128, 100, 10])\n",
      "Reshape output shape: torch.Size([128, 1000])\n",
      "Output Layer shape: torch.Size([128, 1])\n",
      "LSTM Layer 1 output shape: torch.Size([128, 100, 40])\n",
      "LSTM Layer 2 output shape: torch.Size([128, 100, 40])\n",
      "MLP output shape: torch.Size([128, 100, 10])\n",
      "Reshape output shape: torch.Size([128, 1000])\n",
      "Output Layer shape: torch.Size([128, 1])\n",
      "LSTM Layer 1 output shape: torch.Size([128, 100, 40])\n",
      "LSTM Layer 2 output shape: torch.Size([128, 100, 40])\n",
      "MLP output shape: torch.Size([128, 100, 10])\n",
      "Reshape output shape: torch.Size([128, 1000])\n",
      "Output Layer shape: torch.Size([128, 1])\n"
     ]
    },
    {
     "name": "stderr",
     "output_type": "stream",
     "text": [
      "Training epoch 1/1:  88%|████████▊ | 264/300 [00:20<00:02, 12.28it/s]"
     ]
    },
    {
     "name": "stdout",
     "output_type": "stream",
     "text": [
      "LSTM Layer 1 output shape: torch.Size([128, 100, 40])\n",
      "LSTM Layer 2 output shape: torch.Size([128, 100, 40])\n",
      "MLP output shape: torch.Size([128, 100, 10])\n",
      "Reshape output shape: torch.Size([128, 1000])\n",
      "Output Layer shape: torch.Size([128, 1])\n",
      "LSTM Layer 1 output shape: torch.Size([128, 100, 40])\n",
      "LSTM Layer 2 output shape: torch.Size([128, 100, 40])\n",
      "MLP output shape: torch.Size([128, 100, 10])\n",
      "Reshape output shape: torch.Size([128, 1000])\n",
      "Output Layer shape: torch.Size([128, 1])\n",
      "LSTM Layer 1 output shape: torch.Size([128, 100, 40])\n",
      "LSTM Layer 2 output shape: torch.Size([128, 100, 40])\n",
      "MLP output shape: torch.Size([128, 100, 10])\n",
      "Reshape output shape: torch.Size([128, 1000])\n",
      "Output Layer shape: torch.Size([128, 1])\n"
     ]
    },
    {
     "name": "stderr",
     "output_type": "stream",
     "text": [
      "Training epoch 1/1:  89%|████████▊ | 266/300 [00:20<00:02, 12.13it/s]"
     ]
    },
    {
     "name": "stdout",
     "output_type": "stream",
     "text": [
      "LSTM Layer 1 output shape: torch.Size([128, 100, 40])\n",
      "LSTM Layer 2 output shape: torch.Size([128, 100, 40])\n",
      "MLP output shape: torch.Size([128, 100, 10])\n",
      "Reshape output shape: torch.Size([128, 1000])\n",
      "Output Layer shape: torch.Size([128, 1])\n",
      "LSTM Layer 1 output shape: torch.Size([128, 100, 40])\n",
      "LSTM Layer 2 output shape: torch.Size([128, 100, 40])\n",
      "MLP output shape: torch.Size([128, 100, 10])\n",
      "Reshape output shape: torch.Size([128, 1000])\n",
      "Output Layer shape: torch.Size([128, 1])\n",
      "LSTM Layer 1 output shape: torch.Size([128, 100, 40])\n",
      "LSTM Layer 2 output shape: torch.Size([128, 100, 40])\n",
      "MLP output shape: torch.Size([128, 100, 10])\n",
      "Reshape output shape: torch.Size([128, 1000])\n",
      "Output Layer shape: torch.Size([128, 1])\n"
     ]
    },
    {
     "name": "stderr",
     "output_type": "stream",
     "text": [
      "Training epoch 1/1:  90%|█████████ | 270/300 [00:21<00:02, 12.11it/s]"
     ]
    },
    {
     "name": "stdout",
     "output_type": "stream",
     "text": [
      "LSTM Layer 1 output shape: torch.Size([128, 100, 40])\n",
      "LSTM Layer 2 output shape: torch.Size([128, 100, 40])\n",
      "MLP output shape: torch.Size([128, 100, 10])\n",
      "Reshape output shape: torch.Size([128, 1000])\n",
      "Output Layer shape: torch.Size([128, 1])\n",
      "LSTM Layer 1 output shape: torch.Size([128, 100, 40])\n",
      "LSTM Layer 2 output shape: torch.Size([128, 100, 40])\n",
      "MLP output shape: torch.Size([128, 100, 10])\n",
      "Reshape output shape: torch.Size([128, 1000])\n",
      "Output Layer shape: torch.Size([128, 1])\n",
      "LSTM Layer 1 output shape: torch.Size([128, 100, 40])\n",
      "LSTM Layer 2 output shape: torch.Size([128, 100, 40])\n",
      "MLP output shape: torch.Size([128, 100, 10])\n",
      "Reshape output shape: torch.Size([128, 1000])\n",
      "Output Layer shape: torch.Size([128, 1])\n"
     ]
    },
    {
     "name": "stderr",
     "output_type": "stream",
     "text": [
      "Training epoch 1/1:  91%|█████████ | 272/300 [00:21<00:02, 12.05it/s]"
     ]
    },
    {
     "name": "stdout",
     "output_type": "stream",
     "text": [
      "LSTM Layer 1 output shape: torch.Size([128, 100, 40])\n",
      "LSTM Layer 2 output shape: torch.Size([128, 100, 40])\n",
      "MLP output shape: torch.Size([128, 100, 10])\n",
      "Reshape output shape: torch.Size([128, 1000])\n",
      "Output Layer shape: torch.Size([128, 1])\n",
      "LSTM Layer 1 output shape: torch.Size([128, 100, 40])\n",
      "LSTM Layer 2 output shape: torch.Size([128, 100, 40])\n",
      "MLP output shape: torch.Size([128, 100, 10])\n",
      "Reshape output shape: torch.Size([128, 1000])\n",
      "Output Layer shape: torch.Size([128, 1])\n",
      "LSTM Layer 1 output shape: torch.Size([128, 100, 40])\n",
      "LSTM Layer 2 output shape: torch.Size([128, 100, 40])\n",
      "MLP output shape: torch.Size([128, 100, 10])\n",
      "Reshape output shape: torch.Size([128, 1000])\n",
      "Output Layer shape: torch.Size([128, 1])\n"
     ]
    },
    {
     "name": "stderr",
     "output_type": "stream",
     "text": [
      "Training epoch 1/1:  92%|█████████▏| 276/300 [00:21<00:02, 11.82it/s]"
     ]
    },
    {
     "name": "stdout",
     "output_type": "stream",
     "text": [
      "LSTM Layer 1 output shape: torch.Size([128, 100, 40])\n",
      "LSTM Layer 2 output shape: torch.Size([128, 100, 40])\n",
      "MLP output shape: torch.Size([128, 100, 10])\n",
      "Reshape output shape: torch.Size([128, 1000])\n",
      "Output Layer shape: torch.Size([128, 1])\n",
      "LSTM Layer 1 output shape: torch.Size([128, 100, 40])\n",
      "LSTM Layer 2 output shape: torch.Size([128, 100, 40])\n",
      "MLP output shape: torch.Size([128, 100, 10])\n",
      "Reshape output shape: torch.Size([128, 1000])\n",
      "Output Layer shape: torch.Size([128, 1])\n",
      "LSTM Layer 1 output shape: torch.Size([128, 100, 40])\n",
      "LSTM Layer 2 output shape: torch.Size([128, 100, 40])\n",
      "MLP output shape: torch.Size([128, 100, 10])\n",
      "Reshape output shape: torch.Size([128, 1000])\n",
      "Output Layer shape: torch.Size([128, 1])\n"
     ]
    },
    {
     "name": "stderr",
     "output_type": "stream",
     "text": [
      "Training epoch 1/1:  93%|█████████▎| 278/300 [00:21<00:01, 11.78it/s]"
     ]
    },
    {
     "name": "stdout",
     "output_type": "stream",
     "text": [
      "LSTM Layer 1 output shape: torch.Size([128, 100, 40])\n",
      "LSTM Layer 2 output shape: torch.Size([128, 100, 40])\n",
      "MLP output shape: torch.Size([128, 100, 10])\n",
      "Reshape output shape: torch.Size([128, 1000])\n",
      "Output Layer shape: torch.Size([128, 1])\n",
      "LSTM Layer 1 output shape: torch.Size([128, 100, 40])\n",
      "LSTM Layer 2 output shape: torch.Size([128, 100, 40])\n",
      "MLP output shape: torch.Size([128, 100, 10])\n",
      "Reshape output shape: torch.Size([128, 1000])\n",
      "Output Layer shape: torch.Size([128, 1])\n",
      "LSTM Layer 1 output shape: torch.Size([128, 100, 40])\n",
      "LSTM Layer 2 output shape: torch.Size([128, 100, 40])\n",
      "MLP output shape: torch.Size([128, 100, 10])\n",
      "Reshape output shape: torch.Size([128, 1000])\n",
      "Output Layer shape: torch.Size([128, 1])\n"
     ]
    },
    {
     "name": "stderr",
     "output_type": "stream",
     "text": [
      "Training epoch 1/1:  94%|█████████▍| 282/300 [00:22<00:01, 12.01it/s]"
     ]
    },
    {
     "name": "stdout",
     "output_type": "stream",
     "text": [
      "LSTM Layer 1 output shape: torch.Size([128, 100, 40])\n",
      "LSTM Layer 2 output shape: torch.Size([128, 100, 40])\n",
      "MLP output shape: torch.Size([128, 100, 10])\n",
      "Reshape output shape: torch.Size([128, 1000])\n",
      "Output Layer shape: torch.Size([128, 1])\n",
      "LSTM Layer 1 output shape: torch.Size([128, 100, 40])\n",
      "LSTM Layer 2 output shape: torch.Size([128, 100, 40])\n",
      "MLP output shape: torch.Size([128, 100, 10])\n",
      "Reshape output shape: torch.Size([128, 1000])\n",
      "Output Layer shape: torch.Size([128, 1])\n",
      "LSTM Layer 1 output shape: torch.Size([128, 100, 40])\n",
      "LSTM Layer 2 output shape: torch.Size([128, 100, 40])\n",
      "MLP output shape: torch.Size([128, 100, 10])\n",
      "Reshape output shape: torch.Size([128, 1000])\n",
      "Output Layer shape: torch.Size([128, 1])\n"
     ]
    },
    {
     "name": "stderr",
     "output_type": "stream",
     "text": [
      "Training epoch 1/1:  95%|█████████▍| 284/300 [00:22<00:01, 12.02it/s]"
     ]
    },
    {
     "name": "stdout",
     "output_type": "stream",
     "text": [
      "LSTM Layer 1 output shape: torch.Size([128, 100, 40])\n",
      "LSTM Layer 2 output shape: torch.Size([128, 100, 40])\n",
      "MLP output shape: torch.Size([128, 100, 10])\n",
      "Reshape output shape: torch.Size([128, 1000])\n",
      "Output Layer shape: torch.Size([128, 1])\n",
      "LSTM Layer 1 output shape: torch.Size([128, 100, 40])\n",
      "LSTM Layer 2 output shape: torch.Size([128, 100, 40])\n",
      "MLP output shape: torch.Size([128, 100, 10])\n",
      "Reshape output shape: torch.Size([128, 1000])\n",
      "Output Layer shape: torch.Size([128, 1])\n",
      "LSTM Layer 1 output shape: torch.Size([128, 100, 40])\n",
      "LSTM Layer 2 output shape: torch.Size([128, 100, 40])\n",
      "MLP output shape: torch.Size([128, 100, 10])\n",
      "Reshape output shape: torch.Size([128, 1000])\n",
      "Output Layer shape: torch.Size([128, 1])\n"
     ]
    },
    {
     "name": "stderr",
     "output_type": "stream",
     "text": [
      "Training epoch 1/1:  96%|█████████▌| 288/300 [00:22<00:00, 12.13it/s]"
     ]
    },
    {
     "name": "stdout",
     "output_type": "stream",
     "text": [
      "LSTM Layer 1 output shape: torch.Size([128, 100, 40])\n",
      "LSTM Layer 2 output shape: torch.Size([128, 100, 40])\n",
      "MLP output shape: torch.Size([128, 100, 10])\n",
      "Reshape output shape: torch.Size([128, 1000])\n",
      "Output Layer shape: torch.Size([128, 1])\n",
      "LSTM Layer 1 output shape: torch.Size([128, 100, 40])\n",
      "LSTM Layer 2 output shape: torch.Size([128, 100, 40])\n",
      "MLP output shape: torch.Size([128, 100, 10])\n",
      "Reshape output shape: torch.Size([128, 1000])\n",
      "Output Layer shape: torch.Size([128, 1])\n",
      "LSTM Layer 1 output shape: torch.Size([128, 100, 40])\n",
      "LSTM Layer 2 output shape: torch.Size([128, 100, 40])\n",
      "MLP output shape: torch.Size([128, 100, 10])\n",
      "Reshape output shape: torch.Size([128, 1000])\n",
      "Output Layer shape: torch.Size([128, 1])\n"
     ]
    },
    {
     "name": "stderr",
     "output_type": "stream",
     "text": [
      "Training epoch 1/1:  97%|█████████▋| 290/300 [00:22<00:00, 12.10it/s]"
     ]
    },
    {
     "name": "stdout",
     "output_type": "stream",
     "text": [
      "LSTM Layer 1 output shape: torch.Size([128, 100, 40])\n",
      "LSTM Layer 2 output shape: torch.Size([128, 100, 40])\n",
      "MLP output shape: torch.Size([128, 100, 10])\n",
      "Reshape output shape: torch.Size([128, 1000])\n",
      "Output Layer shape: torch.Size([128, 1])\n",
      "LSTM Layer 1 output shape: torch.Size([128, 100, 40])\n",
      "LSTM Layer 2 output shape: torch.Size([128, 100, 40])\n",
      "MLP output shape: torch.Size([128, 100, 10])\n",
      "Reshape output shape: torch.Size([128, 1000])\n",
      "Output Layer shape: torch.Size([128, 1])\n",
      "LSTM Layer 1 output shape: torch.Size([128, 100, 40])\n",
      "LSTM Layer 2 output shape: torch.Size([128, 100, 40])\n",
      "MLP output shape: torch.Size([128, 100, 10])\n",
      "Reshape output shape: torch.Size([128, 1000])\n",
      "Output Layer shape: torch.Size([128, 1])\n"
     ]
    },
    {
     "name": "stderr",
     "output_type": "stream",
     "text": [
      "Training epoch 1/1:  98%|█████████▊| 294/300 [00:23<00:00, 12.27it/s]"
     ]
    },
    {
     "name": "stdout",
     "output_type": "stream",
     "text": [
      "LSTM Layer 1 output shape: torch.Size([128, 100, 40])\n",
      "LSTM Layer 2 output shape: torch.Size([128, 100, 40])\n",
      "MLP output shape: torch.Size([128, 100, 10])\n",
      "Reshape output shape: torch.Size([128, 1000])\n",
      "Output Layer shape: torch.Size([128, 1])\n",
      "LSTM Layer 1 output shape: torch.Size([128, 100, 40])\n",
      "LSTM Layer 2 output shape: torch.Size([128, 100, 40])\n",
      "MLP output shape: torch.Size([128, 100, 10])\n",
      "Reshape output shape: torch.Size([128, 1000])\n",
      "Output Layer shape: torch.Size([128, 1])\n",
      "LSTM Layer 1 output shape: torch.Size([128, 100, 40])\n",
      "LSTM Layer 2 output shape: torch.Size([128, 100, 40])\n",
      "MLP output shape: torch.Size([128, 100, 10])\n",
      "Reshape output shape: torch.Size([128, 1000])\n",
      "Output Layer shape: torch.Size([128, 1])\n"
     ]
    },
    {
     "name": "stderr",
     "output_type": "stream",
     "text": [
      "Training epoch 1/1:  99%|█████████▊| 296/300 [00:23<00:00, 12.27it/s]"
     ]
    },
    {
     "name": "stdout",
     "output_type": "stream",
     "text": [
      "LSTM Layer 1 output shape: torch.Size([128, 100, 40])\n",
      "LSTM Layer 2 output shape: torch.Size([128, 100, 40])\n",
      "MLP output shape: torch.Size([128, 100, 10])\n",
      "Reshape output shape: torch.Size([128, 1000])\n",
      "Output Layer shape: torch.Size([128, 1])\n",
      "LSTM Layer 1 output shape: torch.Size([128, 100, 40])\n",
      "LSTM Layer 2 output shape: torch.Size([128, 100, 40])\n",
      "MLP output shape: torch.Size([128, 100, 10])\n",
      "Reshape output shape: torch.Size([128, 1000])\n",
      "Output Layer shape: torch.Size([128, 1])\n",
      "LSTM Layer 1 output shape: torch.Size([128, 100, 40])\n",
      "LSTM Layer 2 output shape: torch.Size([128, 100, 40])\n",
      "MLP output shape: torch.Size([128, 100, 10])\n",
      "Reshape output shape: torch.Size([128, 1000])\n",
      "Output Layer shape: torch.Size([128, 1])\n"
     ]
    },
    {
     "name": "stderr",
     "output_type": "stream",
     "text": [
      "Training epoch 1/1:  99%|█████████▉| 298/300 [00:23<00:00, 12.25it/s]/home/zmao_umass_edu/.conda/envs/figo/lib/python3.7/site-packages/torch/nn/modules/loss.py:530: UserWarning: Using a target size (torch.Size([118])) that is different to the input size (torch.Size([118, 1])). This will likely lead to incorrect results due to broadcasting. Please ensure they have the same size.\n",
      "  return F.mse_loss(input, target, reduction=self.reduction)\n",
      "Training epoch 1/1: 100%|██████████| 300/300 [00:23<00:00, 12.69it/s]"
     ]
    },
    {
     "name": "stdout",
     "output_type": "stream",
     "text": [
      "LSTM Layer 1 output shape: torch.Size([128, 100, 40])\n",
      "LSTM Layer 2 output shape: torch.Size([128, 100, 40])\n",
      "MLP output shape: torch.Size([128, 100, 10])\n",
      "Reshape output shape: torch.Size([128, 1000])\n",
      "Output Layer shape: torch.Size([128, 1])\n",
      "LSTM Layer 1 output shape: torch.Size([128, 100, 40])\n",
      "LSTM Layer 2 output shape: torch.Size([128, 100, 40])\n",
      "MLP output shape: torch.Size([128, 100, 10])\n",
      "Reshape output shape: torch.Size([128, 1000])\n",
      "Output Layer shape: torch.Size([128, 1])\n",
      "LSTM Layer 1 output shape: torch.Size([118, 100, 40])\n",
      "LSTM Layer 2 output shape: torch.Size([118, 100, 40])\n",
      "MLP output shape: torch.Size([118, 100, 10])\n",
      "Reshape output shape: torch.Size([118, 1000])\n",
      "Output Layer shape: torch.Size([118, 1])\n"
     ]
    },
    {
     "name": "stderr",
     "output_type": "stream",
     "text": [
      "\n"
     ]
    },
    {
     "name": "stdout",
     "output_type": "stream",
     "text": [
      "LSTM Layer 1 output shape: torch.Size([128, 100, 40])\n",
      "LSTM Layer 2 output shape: torch.Size([128, 100, 40])\n",
      "MLP output shape: torch.Size([128, 100, 10])\n",
      "Reshape output shape: torch.Size([128, 1000])\n",
      "Output Layer shape: torch.Size([128, 1])\n",
      "LSTM Layer 1 output shape: torch.Size([128, 100, 40])\n",
      "LSTM Layer 2 output shape: torch.Size([128, 100, 40])\n",
      "MLP output shape: torch.Size([128, 100, 10])\n",
      "Reshape output shape: torch.Size([128, 1000])\n",
      "Output Layer shape: torch.Size([128, 1])\n",
      "LSTM Layer 1 output shape: torch.Size([128, 100, 40])\n",
      "LSTM Layer 2 output shape: torch.Size([128, 100, 40])\n",
      "MLP output shape: torch.Size([128, 100, 10])\n",
      "Reshape output shape: torch.Size([128, 1000])\n",
      "Output Layer shape: torch.Size([128, 1])\n",
      "LSTM Layer 1 output shape: torch.Size([128, 100, 40])\n",
      "LSTM Layer 2 output shape: torch.Size([128, 100, 40])\n",
      "MLP output shape: torch.Size([128, 100, 10])\n",
      "Reshape output shape: torch.Size([128, 1000])\n",
      "Output Layer shape: torch.Size([128, 1])\n",
      "LSTM Layer 1 output shape: torch.Size([128, 100, 40])\n",
      "LSTM Layer 2 output shape: torch.Size([128, 100, 40])\n",
      "MLP output shape: torch.Size([128, 100, 10])\n",
      "Reshape output shape: torch.Size([128, 1000])\n",
      "Output Layer shape: torch.Size([128, 1])\n",
      "LSTM Layer 1 output shape: torch.Size([128, 100, 40])\n",
      "LSTM Layer 2 output shape: torch.Size([128, 100, 40])\n",
      "MLP output shape: torch.Size([128, 100, 10])\n",
      "Reshape output shape: torch.Size([128, 1000])\n",
      "Output Layer shape: torch.Size([128, 1])\n",
      "LSTM Layer 1 output shape: torch.Size([128, 100, 40])\n",
      "LSTM Layer 2 output shape: torch.Size([128, 100, 40])\n",
      "MLP output shape: torch.Size([128, 100, 10])\n",
      "Reshape output shape: torch.Size([128, 1000])\n",
      "Output Layer shape: torch.Size([128, 1])\n",
      "LSTM Layer 1 output shape: torch.Size([128, 100, 40])\n",
      "LSTM Layer 2 output shape: torch.Size([128, 100, 40])\n",
      "MLP output shape: torch.Size([128, 100, 10])\n",
      "Reshape output shape: torch.Size([128, 1000])\n",
      "Output Layer shape: torch.Size([128, 1])\n",
      "LSTM Layer 1 output shape: torch.Size([128, 100, 40])\n",
      "LSTM Layer 2 output shape: torch.Size([128, 100, 40])\n",
      "MLP output shape: torch.Size([128, 100, 10])\n",
      "Reshape output shape: torch.Size([128, 1000])\n",
      "Output Layer shape: torch.Size([128, 1])\n",
      "LSTM Layer 1 output shape: torch.Size([128, 100, 40])\n",
      "LSTM Layer 2 output shape: torch.Size([128, 100, 40])\n",
      "MLP output shape: torch.Size([128, 100, 10])\n",
      "Reshape output shape: torch.Size([128, 1000])\n",
      "Output Layer shape: torch.Size([128, 1])\n",
      "LSTM Layer 1 output shape: torch.Size([128, 100, 40])\n",
      "LSTM Layer 2 output shape: torch.Size([128, 100, 40])\n",
      "MLP output shape: torch.Size([128, 100, 10])\n",
      "Reshape output shape: torch.Size([128, 1000])\n",
      "Output Layer shape: torch.Size([128, 1])\n",
      "LSTM Layer 1 output shape: torch.Size([128, 100, 40])\n",
      "LSTM Layer 2 output shape: torch.Size([128, 100, 40])\n",
      "MLP output shape: torch.Size([128, 100, 10])\n",
      "Reshape output shape: torch.Size([128, 1000])\n",
      "Output Layer shape: torch.Size([128, 1])\n",
      "LSTM Layer 1 output shape: torch.Size([128, 100, 40])\n",
      "LSTM Layer 2 output shape: torch.Size([128, 100, 40])\n",
      "MLP output shape: torch.Size([128, 100, 10])\n",
      "Reshape output shape: torch.Size([128, 1000])\n",
      "Output Layer shape: torch.Size([128, 1])\n",
      "LSTM Layer 1 output shape: torch.Size([128, 100, 40])\n",
      "LSTM Layer 2 output shape: torch.Size([128, 100, 40])\n",
      "MLP output shape: torch.Size([128, 100, 10])\n",
      "Reshape output shape: torch.Size([128, 1000])\n",
      "Output Layer shape: torch.Size([128, 1])\n",
      "LSTM Layer 1 output shape: torch.Size([128, 100, 40])\n",
      "LSTM Layer 2 output shape: torch.Size([128, 100, 40])\n",
      "MLP output shape: torch.Size([128, 100, 10])\n",
      "Reshape output shape: torch.Size([128, 1000])\n",
      "Output Layer shape: torch.Size([128, 1])\n",
      "LSTM Layer 1 output shape: torch.Size([128, 100, 40])\n",
      "LSTM Layer 2 output shape: torch.Size([128, 100, 40])\n",
      "MLP output shape: torch.Size([128, 100, 10])\n",
      "Reshape output shape: torch.Size([128, 1000])\n",
      "Output Layer shape: torch.Size([128, 1])\n",
      "LSTM Layer 1 output shape: torch.Size([128, 100, 40])\n",
      "LSTM Layer 2 output shape: torch.Size([128, 100, 40])\n",
      "MLP output shape: torch.Size([128, 100, 10])\n",
      "Reshape output shape: torch.Size([128, 1000])\n",
      "Output Layer shape: torch.Size([128, 1])\n",
      "LSTM Layer 1 output shape: torch.Size([128, 100, 40])\n",
      "LSTM Layer 2 output shape: torch.Size([128, 100, 40])\n",
      "MLP output shape: torch.Size([128, 100, 10])\n",
      "Reshape output shape: torch.Size([128, 1000])\n",
      "Output Layer shape: torch.Size([128, 1])\n",
      "LSTM Layer 1 output shape: torch.Size([128, 100, 40])\n",
      "LSTM Layer 2 output shape: torch.Size([128, 100, 40])\n",
      "MLP output shape: torch.Size([128, 100, 10])\n",
      "Reshape output shape: torch.Size([128, 1000])\n",
      "Output Layer shape: torch.Size([128, 1])\n",
      "LSTM Layer 1 output shape: torch.Size([128, 100, 40])\n",
      "LSTM Layer 2 output shape: torch.Size([128, 100, 40])\n",
      "MLP output shape: torch.Size([128, 100, 10])\n",
      "Reshape output shape: torch.Size([128, 1000])\n",
      "Output Layer shape: torch.Size([128, 1])\n",
      "LSTM Layer 1 output shape: torch.Size([128, 100, 40])\n",
      "LSTM Layer 2 output shape: torch.Size([128, 100, 40])\n",
      "MLP output shape: torch.Size([128, 100, 10])\n",
      "Reshape output shape: torch.Size([128, 1000])\n",
      "Output Layer shape: torch.Size([128, 1])\n",
      "LSTM Layer 1 output shape: torch.Size([128, 100, 40])\n",
      "LSTM Layer 2 output shape: torch.Size([128, 100, 40])\n",
      "MLP output shape: torch.Size([128, 100, 10])\n",
      "Reshape output shape: torch.Size([128, 1000])\n",
      "Output Layer shape: torch.Size([128, 1])\n",
      "LSTM Layer 1 output shape: torch.Size([128, 100, 40])\n",
      "LSTM Layer 2 output shape: torch.Size([128, 100, 40])\n",
      "MLP output shape: torch.Size([128, 100, 10])\n",
      "Reshape output shape: torch.Size([128, 1000])\n",
      "Output Layer shape: torch.Size([128, 1])\n",
      "LSTM Layer 1 output shape: torch.Size([128, 100, 40])\n",
      "LSTM Layer 2 output shape: torch.Size([128, 100, 40])\n",
      "MLP output shape: torch.Size([128, 100, 10])\n",
      "Reshape output shape: torch.Size([128, 1000])\n",
      "Output Layer shape: torch.Size([128, 1])\n",
      "LSTM Layer 1 output shape: torch.Size([128, 100, 40])\n",
      "LSTM Layer 2 output shape: torch.Size([128, 100, 40])\n",
      "MLP output shape: torch.Size([128, 100, 10])\n",
      "Reshape output shape: torch.Size([128, 1000])\n",
      "Output Layer shape: torch.Size([128, 1])\n",
      "LSTM Layer 1 output shape: torch.Size([128, 100, 40])\n",
      "LSTM Layer 2 output shape: torch.Size([128, 100, 40])\n",
      "MLP output shape: torch.Size([128, 100, 10])\n",
      "Reshape output shape: torch.Size([128, 1000])\n",
      "Output Layer shape: torch.Size([128, 1])\n",
      "LSTM Layer 1 output shape: torch.Size([128, 100, 40])\n",
      "LSTM Layer 2 output shape: torch.Size([128, 100, 40])\n",
      "MLP output shape: torch.Size([128, 100, 10])\n",
      "Reshape output shape: torch.Size([128, 1000])\n",
      "Output Layer shape: torch.Size([128, 1])\n",
      "LSTM Layer 1 output shape: torch.Size([128, 100, 40])\n",
      "LSTM Layer 2 output shape: torch.Size([128, 100, 40])\n",
      "MLP output shape: torch.Size([128, 100, 10])\n",
      "Reshape output shape: torch.Size([128, 1000])\n",
      "Output Layer shape: torch.Size([128, 1])\n",
      "LSTM Layer 1 output shape: torch.Size([128, 100, 40])\n",
      "LSTM Layer 2 output shape: torch.Size([128, 100, 40])\n",
      "MLP output shape: torch.Size([128, 100, 10])\n",
      "Reshape output shape: torch.Size([128, 1000])\n",
      "Output Layer shape: torch.Size([128, 1])\n",
      "LSTM Layer 1 output shape: torch.Size([128, 100, 40])\n",
      "LSTM Layer 2 output shape: torch.Size([128, 100, 40])\n",
      "MLP output shape: torch.Size([128, 100, 10])\n",
      "Reshape output shape: torch.Size([128, 1000])\n",
      "Output Layer shape: torch.Size([128, 1])\n",
      "LSTM Layer 1 output shape: torch.Size([128, 100, 40])\n",
      "LSTM Layer 2 output shape: torch.Size([128, 100, 40])\n",
      "MLP output shape: torch.Size([128, 100, 10])\n",
      "Reshape output shape: torch.Size([128, 1000])\n",
      "Output Layer shape: torch.Size([128, 1])\n",
      "LSTM Layer 1 output shape: torch.Size([128, 100, 40])\n",
      "LSTM Layer 2 output shape: torch.Size([128, 100, 40])\n",
      "MLP output shape: torch.Size([128, 100, 10])\n",
      "Reshape output shape: torch.Size([128, 1000])\n",
      "Output Layer shape: torch.Size([128, 1])\n",
      "LSTM Layer 1 output shape: torch.Size([128, 100, 40])\n",
      "LSTM Layer 2 output shape: torch.Size([128, 100, 40])\n",
      "MLP output shape: torch.Size([128, 100, 10])\n",
      "Reshape output shape: torch.Size([128, 1000])\n",
      "Output Layer shape: torch.Size([128, 1])\n",
      "LSTM Layer 1 output shape: torch.Size([128, 100, 40])\n",
      "LSTM Layer 2 output shape: torch.Size([128, 100, 40])\n",
      "MLP output shape: torch.Size([128, 100, 10])\n",
      "Reshape output shape: torch.Size([128, 1000])\n",
      "Output Layer shape: torch.Size([128, 1])\n",
      "LSTM Layer 1 output shape: torch.Size([128, 100, 40])\n",
      "LSTM Layer 2 output shape: torch.Size([128, 100, 40])\n",
      "MLP output shape: torch.Size([128, 100, 10])\n",
      "Reshape output shape: torch.Size([128, 1000])\n",
      "Output Layer shape: torch.Size([128, 1])\n",
      "LSTM Layer 1 output shape: torch.Size([128, 100, 40])\n",
      "LSTM Layer 2 output shape: torch.Size([128, 100, 40])\n",
      "MLP output shape: torch.Size([128, 100, 10])\n",
      "Reshape output shape: torch.Size([128, 1000])\n",
      "Output Layer shape: torch.Size([128, 1])\n",
      "LSTM Layer 1 output shape: torch.Size([128, 100, 40])\n",
      "LSTM Layer 2 output shape: torch.Size([128, 100, 40])\n",
      "MLP output shape: torch.Size([128, 100, 10])\n",
      "Reshape output shape: torch.Size([128, 1000])\n",
      "Output Layer shape: torch.Size([128, 1])\n",
      "LSTM Layer 1 output shape: torch.Size([128, 100, 40])\n",
      "LSTM Layer 2 output shape: torch.Size([128, 100, 40])\n",
      "MLP output shape: torch.Size([128, 100, 10])\n",
      "Reshape output shape: torch.Size([128, 1000])\n",
      "Output Layer shape: torch.Size([128, 1])\n",
      "LSTM Layer 1 output shape: torch.Size([128, 100, 40])\n",
      "LSTM Layer 2 output shape: torch.Size([128, 100, 40])\n",
      "MLP output shape: torch.Size([128, 100, 10])\n",
      "Reshape output shape: torch.Size([128, 1000])\n",
      "Output Layer shape: torch.Size([128, 1])\n",
      "LSTM Layer 1 output shape: torch.Size([128, 100, 40])\n",
      "LSTM Layer 2 output shape: torch.Size([128, 100, 40])\n",
      "MLP output shape: torch.Size([128, 100, 10])\n",
      "Reshape output shape: torch.Size([128, 1000])\n",
      "Output Layer shape: torch.Size([128, 1])\n",
      "LSTM Layer 1 output shape: torch.Size([128, 100, 40])\n",
      "LSTM Layer 2 output shape: torch.Size([128, 100, 40])\n",
      "MLP output shape: torch.Size([128, 100, 10])\n",
      "Reshape output shape: torch.Size([128, 1000])\n",
      "Output Layer shape: torch.Size([128, 1])\n",
      "LSTM Layer 1 output shape: torch.Size([128, 100, 40])\n",
      "LSTM Layer 2 output shape: torch.Size([128, 100, 40])\n",
      "MLP output shape: torch.Size([128, 100, 10])\n",
      "Reshape output shape: torch.Size([128, 1000])\n",
      "Output Layer shape: torch.Size([128, 1])\n",
      "LSTM Layer 1 output shape: torch.Size([128, 100, 40])\n",
      "LSTM Layer 2 output shape: torch.Size([128, 100, 40])\n",
      "MLP output shape: torch.Size([128, 100, 10])\n",
      "Reshape output shape: torch.Size([128, 1000])\n",
      "Output Layer shape: torch.Size([128, 1])\n",
      "LSTM Layer 1 output shape: torch.Size([128, 100, 40])\n",
      "LSTM Layer 2 output shape: torch.Size([128, 100, 40])\n",
      "MLP output shape: torch.Size([128, 100, 10])\n",
      "Reshape output shape: torch.Size([128, 1000])\n",
      "Output Layer shape: torch.Size([128, 1])\n",
      "LSTM Layer 1 output shape: torch.Size([128, 100, 40])\n",
      "LSTM Layer 2 output shape: torch.Size([128, 100, 40])\n",
      "MLP output shape: torch.Size([128, 100, 10])\n",
      "Reshape output shape: torch.Size([128, 1000])\n",
      "Output Layer shape: torch.Size([128, 1])\n",
      "LSTM Layer 1 output shape: torch.Size([128, 100, 40])\n",
      "LSTM Layer 2 output shape: torch.Size([128, 100, 40])\n",
      "MLP output shape: torch.Size([128, 100, 10])\n",
      "Reshape output shape: torch.Size([128, 1000])\n",
      "Output Layer shape: torch.Size([128, 1])\n",
      "LSTM Layer 1 output shape: torch.Size([128, 100, 40])\n",
      "LSTM Layer 2 output shape: torch.Size([128, 100, 40])\n",
      "MLP output shape: torch.Size([128, 100, 10])\n",
      "Reshape output shape: torch.Size([128, 1000])\n",
      "Output Layer shape: torch.Size([128, 1])\n",
      "LSTM Layer 1 output shape: torch.Size([128, 100, 40])\n",
      "LSTM Layer 2 output shape: torch.Size([128, 100, 40])\n",
      "MLP output shape: torch.Size([128, 100, 10])\n",
      "Reshape output shape: torch.Size([128, 1000])\n",
      "Output Layer shape: torch.Size([128, 1])\n",
      "LSTM Layer 1 output shape: torch.Size([128, 100, 40])\n",
      "LSTM Layer 2 output shape: torch.Size([128, 100, 40])\n",
      "MLP output shape: torch.Size([128, 100, 10])\n",
      "Reshape output shape: torch.Size([128, 1000])\n",
      "Output Layer shape: torch.Size([128, 1])\n",
      "LSTM Layer 1 output shape: torch.Size([128, 100, 40])\n",
      "LSTM Layer 2 output shape: torch.Size([128, 100, 40])\n",
      "MLP output shape: torch.Size([128, 100, 10])\n",
      "Reshape output shape: torch.Size([128, 1000])\n",
      "Output Layer shape: torch.Size([128, 1])\n",
      "LSTM Layer 1 output shape: torch.Size([128, 100, 40])\n",
      "LSTM Layer 2 output shape: torch.Size([128, 100, 40])\n",
      "MLP output shape: torch.Size([128, 100, 10])\n",
      "Reshape output shape: torch.Size([128, 1000])\n",
      "Output Layer shape: torch.Size([128, 1])\n",
      "LSTM Layer 1 output shape: torch.Size([128, 100, 40])\n",
      "LSTM Layer 2 output shape: torch.Size([128, 100, 40])\n",
      "MLP output shape: torch.Size([128, 100, 10])\n",
      "Reshape output shape: torch.Size([128, 1000])\n",
      "Output Layer shape: torch.Size([128, 1])\n",
      "LSTM Layer 1 output shape: torch.Size([128, 100, 40])\n",
      "LSTM Layer 2 output shape: torch.Size([128, 100, 40])\n",
      "MLP output shape: torch.Size([128, 100, 10])\n",
      "Reshape output shape: torch.Size([128, 1000])\n",
      "Output Layer shape: torch.Size([128, 1])\n",
      "LSTM Layer 1 output shape: torch.Size([128, 100, 40])\n",
      "LSTM Layer 2 output shape: torch.Size([128, 100, 40])\n",
      "MLP output shape: torch.Size([128, 100, 10])\n",
      "Reshape output shape: torch.Size([128, 1000])\n",
      "Output Layer shape: torch.Size([128, 1])\n",
      "LSTM Layer 1 output shape: torch.Size([128, 100, 40])\n",
      "LSTM Layer 2 output shape: torch.Size([128, 100, 40])\n",
      "MLP output shape: torch.Size([128, 100, 10])\n",
      "Reshape output shape: torch.Size([128, 1000])\n",
      "Output Layer shape: torch.Size([128, 1])\n",
      "LSTM Layer 1 output shape: torch.Size([128, 100, 40])\n",
      "LSTM Layer 2 output shape: torch.Size([128, 100, 40])\n",
      "MLP output shape: torch.Size([128, 100, 10])\n",
      "Reshape output shape: torch.Size([128, 1000])\n",
      "Output Layer shape: torch.Size([128, 1])\n",
      "LSTM Layer 1 output shape: torch.Size([128, 100, 40])\n",
      "LSTM Layer 2 output shape: torch.Size([128, 100, 40])\n",
      "MLP output shape: torch.Size([128, 100, 10])\n",
      "Reshape output shape: torch.Size([128, 1000])\n",
      "Output Layer shape: torch.Size([128, 1])\n",
      "LSTM Layer 1 output shape: torch.Size([128, 100, 40])\n",
      "LSTM Layer 2 output shape: torch.Size([128, 100, 40])\n",
      "MLP output shape: torch.Size([128, 100, 10])\n",
      "Reshape output shape: torch.Size([128, 1000])\n",
      "Output Layer shape: torch.Size([128, 1])\n",
      "LSTM Layer 1 output shape: torch.Size([128, 100, 40])\n",
      "LSTM Layer 2 output shape: torch.Size([128, 100, 40])\n",
      "MLP output shape: torch.Size([128, 100, 10])\n",
      "Reshape output shape: torch.Size([128, 1000])\n",
      "Output Layer shape: torch.Size([128, 1])\n",
      "LSTM Layer 1 output shape: torch.Size([128, 100, 40])\n",
      "LSTM Layer 2 output shape: torch.Size([128, 100, 40])\n",
      "MLP output shape: torch.Size([128, 100, 10])\n",
      "Reshape output shape: torch.Size([128, 1000])\n",
      "Output Layer shape: torch.Size([128, 1])\n",
      "LSTM Layer 1 output shape: torch.Size([128, 100, 40])\n",
      "LSTM Layer 2 output shape: torch.Size([128, 100, 40])\n",
      "MLP output shape: torch.Size([128, 100, 10])\n",
      "Reshape output shape: torch.Size([128, 1000])\n",
      "Output Layer shape: torch.Size([128, 1])\n",
      "LSTM Layer 1 output shape: torch.Size([128, 100, 40])\n",
      "LSTM Layer 2 output shape: torch.Size([128, 100, 40])\n",
      "MLP output shape: torch.Size([128, 100, 10])\n",
      "Reshape output shape: torch.Size([128, 1000])\n",
      "Output Layer shape: torch.Size([128, 1])\n",
      "LSTM Layer 1 output shape: torch.Size([128, 100, 40])\n",
      "LSTM Layer 2 output shape: torch.Size([128, 100, 40])\n",
      "MLP output shape: torch.Size([128, 100, 10])\n",
      "Reshape output shape: torch.Size([128, 1000])\n",
      "Output Layer shape: torch.Size([128, 1])\n",
      "LSTM Layer 1 output shape: torch.Size([128, 100, 40])\n",
      "LSTM Layer 2 output shape: torch.Size([128, 100, 40])\n",
      "MLP output shape: torch.Size([128, 100, 10])\n",
      "Reshape output shape: torch.Size([128, 1000])\n",
      "Output Layer shape: torch.Size([128, 1])\n",
      "LSTM Layer 1 output shape: torch.Size([128, 100, 40])\n",
      "LSTM Layer 2 output shape: torch.Size([128, 100, 40])\n",
      "MLP output shape: torch.Size([128, 100, 10])\n",
      "Reshape output shape: torch.Size([128, 1000])\n",
      "Output Layer shape: torch.Size([128, 1])\n",
      "LSTM Layer 1 output shape: torch.Size([128, 100, 40])\n",
      "LSTM Layer 2 output shape: torch.Size([128, 100, 40])\n",
      "MLP output shape: torch.Size([128, 100, 10])\n",
      "Reshape output shape: torch.Size([128, 1000])\n",
      "Output Layer shape: torch.Size([128, 1])\n",
      "LSTM Layer 1 output shape: torch.Size([128, 100, 40])\n",
      "LSTM Layer 2 output shape: torch.Size([128, 100, 40])\n",
      "MLP output shape: torch.Size([128, 100, 10])\n",
      "Reshape output shape: torch.Size([128, 1000])\n",
      "Output Layer shape: torch.Size([128, 1])\n",
      "LSTM Layer 1 output shape: torch.Size([128, 100, 40])\n",
      "LSTM Layer 2 output shape: torch.Size([128, 100, 40])\n",
      "MLP output shape: torch.Size([128, 100, 10])\n",
      "Reshape output shape: torch.Size([128, 1000])\n",
      "Output Layer shape: torch.Size([128, 1])\n",
      "LSTM Layer 1 output shape: torch.Size([128, 100, 40])\n",
      "LSTM Layer 2 output shape: torch.Size([128, 100, 40])\n",
      "MLP output shape: torch.Size([128, 100, 10])\n",
      "Reshape output shape: torch.Size([128, 1000])\n",
      "Output Layer shape: torch.Size([128, 1])\n",
      "LSTM Layer 1 output shape: torch.Size([128, 100, 40])\n",
      "LSTM Layer 2 output shape: torch.Size([128, 100, 40])\n",
      "MLP output shape: torch.Size([128, 100, 10])\n",
      "Reshape output shape: torch.Size([128, 1000])\n",
      "Output Layer shape: torch.Size([128, 1])\n",
      "LSTM Layer 1 output shape: torch.Size([128, 100, 40])\n",
      "LSTM Layer 2 output shape: torch.Size([128, 100, 40])\n",
      "MLP output shape: torch.Size([128, 100, 10])\n",
      "Reshape output shape: torch.Size([128, 1000])\n",
      "Output Layer shape: torch.Size([128, 1])\n",
      "LSTM Layer 1 output shape: torch.Size([128, 100, 40])\n",
      "LSTM Layer 2 output shape: torch.Size([128, 100, 40])\n",
      "MLP output shape: torch.Size([128, 100, 10])\n",
      "Reshape output shape: torch.Size([128, 1000])\n",
      "Output Layer shape: torch.Size([128, 1])\n",
      "LSTM Layer 1 output shape: torch.Size([128, 100, 40])\n",
      "LSTM Layer 2 output shape: torch.Size([128, 100, 40])\n",
      "MLP output shape: torch.Size([128, 100, 10])\n",
      "Reshape output shape: torch.Size([128, 1000])\n",
      "Output Layer shape: torch.Size([128, 1])\n",
      "LSTM Layer 1 output shape: torch.Size([128, 100, 40])\n",
      "LSTM Layer 2 output shape: torch.Size([128, 100, 40])\n",
      "MLP output shape: torch.Size([128, 100, 10])\n",
      "Reshape output shape: torch.Size([128, 1000])\n",
      "Output Layer shape: torch.Size([128, 1])\n",
      "LSTM Layer 1 output shape: torch.Size([126, 100, 40])\n",
      "LSTM Layer 2 output shape: torch.Size([126, 100, 40])\n",
      "MLP output shape: torch.Size([126, 100, 10])\n",
      "Reshape output shape: torch.Size([126, 1000])\n",
      "Output Layer shape: torch.Size([126, 1])\n",
      "Epoch 1/1, Train Loss: 1.5975, Test Loss: 0.2357\n"
     ]
    },
    {
     "name": "stderr",
     "output_type": "stream",
     "text": [
      "/home/zmao_umass_edu/.conda/envs/figo/lib/python3.7/site-packages/torch/nn/modules/loss.py:530: UserWarning: Using a target size (torch.Size([126])) that is different to the input size (torch.Size([126, 1])). This will likely lead to incorrect results due to broadcasting. Please ensure they have the same size.\n",
      "  return F.mse_loss(input, target, reduction=self.reduction)\n"
     ]
    }
   ],
   "source": [
    "num_epochs = 1\n",
    "\n",
    "# wandb.init(\n",
    "#     # set the wandb project where this run will be logged\n",
    "#     project=\"RNN-Pytorch-polymer\",\n",
    "    \n",
    "#     # track hyperparameters and run metadata\n",
    "#     config={\n",
    "#     \"learning_rate\": 0.01,\n",
    "#     \"architecture\": \"RNN\",\n",
    "#     \"dataset\": \"Trimer\",\n",
    "#     \"epochs\": num_epochs,\n",
    "#     }\n",
    "# )\n",
    "\n",
    "train_losses, test_losses = train_RNN(model, train_dataloader, test_dataloader, loss_fn, optimizer, num_epochs, device)\n",
    "#train_losses, test_losses = train_RNN(model, train_dataset, test_dataset, loss_fn, optimizer, num_epochs, device)"
   ]
  },
  {
   "cell_type": "code",
   "execution_count": null,
   "id": "51e8562d-547e-46af-be7a-64dc3dcb965b",
   "metadata": {},
   "outputs": [],
   "source": [
    "current_time = time.strftime(\"%Y%m%d-%H%M%S\")\n",
    "model_path = f\"models/model_{current_time}.pt\"\n",
    "\n",
    "torch.save(model.state_dict(), model_path)\n",
    "print(\"Saved PyTorch Model State to \"+model_path)"
   ]
  },
  {
   "cell_type": "code",
   "execution_count": null,
   "id": "aa9ff4fc-1091-4d53-b857-a7de4ec7f7b5",
   "metadata": {},
   "outputs": [],
   "source": [
    "from sklearn.metrics import r2_score, mean_absolute_error, mean_squared_error\n",
    "import numpy as np\n",
    "\n",
    "def evaluate_model(model, dataloader, device):\n",
    "    model.eval()\n",
    "    all_outputs = []\n",
    "    all_targets = []\n",
    "    \n",
    "    with torch.no_grad():\n",
    "        for batch in dataloader:\n",
    "            x, y = batch\n",
    "            x = x.to(device)\n",
    "            y = y.to(device)\n",
    "            \n",
    "            output = model(x)\n",
    "            all_outputs.extend(output.cpu().numpy())\n",
    "            all_targets.extend(y.cpu().numpy())\n",
    "\n",
    "    return np.array(all_outputs), np.array(all_targets)\n",
    "\n",
    "# Evaluate the model\n",
    "predicted, targets = evaluate_model(model, test_dataloader, device)\n",
    "\n",
    "# Calculate R2 score, MAE, and RMSE\n",
    "r2 = r2_score(targets, predicted)\n",
    "mae = mean_absolute_error(targets, predicted)\n",
    "rmse = np.sqrt(mean_squared_error(targets, predicted))\n",
    "\n",
    "print(f\"R2 Score: {r2:.4f}\")\n",
    "print(f\"Mean Absolute Error: {mae:.4f}\")\n",
    "print(f\"Root Mean Squared Error: {rmse:.4f}\")"
   ]
  },
  {
   "cell_type": "code",
   "execution_count": null,
   "id": "609609ed-76f7-4ca7-ba96-fa8e34c13af5",
   "metadata": {},
   "outputs": [],
   "source": [
    "targets_np = np.array(targets).flatten()\n",
    "predicted_np = np.array(predicted).flatten()\n",
    "\n",
    "plt.figure(figsize=(10, 10))\n",
    "plt.scatter(predicted_np, targets_np, alpha=0.5)\n",
    "\n",
    "# Fit a linear regression model\n",
    "m, b = np.polyfit(predicted_np, targets_np, 1)\n",
    "\n",
    "# Create line points based on the min and max of the predicted values\n",
    "line_x = np.linspace(min(predicted_np), max(predicted_np), 100)\n",
    "line_y = m * line_x + b\n",
    "\n",
    "# Plot the best fit line\n",
    "plt.plot(line_x, line_y, '--', c='r')\n",
    "\n",
    "plt.xlabel('Predicted Values')\n",
    "plt.ylabel('True Values')\n",
    "plt.title('Scatter plot of Predicted vs. True Values')\n",
    "plt.show()\n"
   ]
  },
  {
   "cell_type": "code",
   "execution_count": null,
   "id": "fb865dff-fa65-4bc0-a64d-bc4bdf865522",
   "metadata": {},
   "outputs": [],
   "source": []
  },
  {
   "cell_type": "code",
   "execution_count": null,
   "id": "a07474e4-490d-453f-bc73-39c4c659b755",
   "metadata": {},
   "outputs": [],
   "source": []
  },
  {
   "cell_type": "code",
   "execution_count": null,
   "id": "546368cc-75d5-4493-b611-97d25e6e1948",
   "metadata": {},
   "outputs": [],
   "source": []
  },
  {
   "cell_type": "code",
   "execution_count": 64,
   "id": "cf9accfd-00ba-4210-9246-d2a0f9915be2",
   "metadata": {},
   "outputs": [],
   "source": [
    "class RNNModel(nn.Module):\n",
    "    def __init__(self, input_shape, lstm_units):\n",
    "        super(RNNModel, self).__init__()\n",
    "        self.lstm_units = lstm_units\n",
    "        self.bidir_lstm1 = nn.LSTM(input_shape[1], lstm_units, batch_first=True, bidirectional=True)\n",
    "        self.bidir_lstm2 = nn.LSTM(lstm_units * 2, lstm_units, batch_first=True, bidirectional=True)\n",
    "        self.time_distributed_dense = nn.Linear(lstm_units * 2, int(lstm_units / 2))\n",
    "        self.reshape_dim = int(lstm_units / 2 * input_shape[0])\n",
    "        self.final_dense = nn.Linear(self.reshape_dim, 1)\n",
    "\n",
    "    def forward(self, x):\n",
    "        x, _ = self.bidir_lstm1(x)\n",
    "        x, _ = self.bidir_lstm2(x)\n",
    "        x = self.time_distributed_dense(x)\n",
    "        x = torch.relu(x)\n",
    "        x = x.view(-1, self.reshape_dim)\n",
    "        x = self.final_dense(x)\n",
    "        return x\n",
    "\n",
    "# Usage example\n",
    "input_shape = (100, 1024)\n",
    "lstm_units = 20\n",
    "model = RNNModel(input_shape, lstm_units)\n"
   ]
  },
  {
   "cell_type": "code",
   "execution_count": 65,
   "id": "9dc52a65-7396-4e21-9a16-08a9da3dc8e1",
   "metadata": {},
   "outputs": [],
   "source": [
    "loss_fn = nn.MSELoss()\n",
    "#optimizer = torch.optim.Adam(model.parameters(), lr=learning_rate)\n",
    "learning_rate = 0.0001\n",
    "weight_decay = 0.01  # L2 regularization strength\n",
    "optimizer = torch.optim.Adam(model.parameters(), lr=learning_rate, weight_decay=weight_decay)"
   ]
  },
  {
   "cell_type": "code",
   "execution_count": 66,
   "id": "059a0cd2-a92b-40b0-b474-5953dee067ff",
   "metadata": {},
   "outputs": [
    {
     "name": "stderr",
     "output_type": "stream",
     "text": [
      "Training epoch 1/20:   0%|          | 0/125 [00:00<?, ?it/s]/home/zmao_umass_edu/.conda/envs/figo/lib/python3.7/site-packages/ipykernel_launcher.py:13: UserWarning: To copy construct from a tensor, it is recommended to use sourceTensor.clone().detach() or sourceTensor.clone().detach().requires_grad_(True), rather than torch.tensor(sourceTensor).\n",
      "  del sys.path[0]\n",
      "/home/zmao_umass_edu/.conda/envs/figo/lib/python3.7/site-packages/ipykernel_launcher.py:14: UserWarning: To copy construct from a tensor, it is recommended to use sourceTensor.clone().detach() or sourceTensor.clone().detach().requires_grad_(True), rather than torch.tensor(sourceTensor).\n",
      "  \n",
      "/home/zmao_umass_edu/.conda/envs/figo/lib/python3.7/site-packages/torch/nn/modules/loss.py:530: UserWarning: Using a target size (torch.Size([128])) that is different to the input size (torch.Size([128, 1])). This will likely lead to incorrect results due to broadcasting. Please ensure they have the same size.\n",
      "  return F.mse_loss(input, target, reduction=self.reduction)\n",
      "Training epoch 1/20: 100%|██████████| 125/125 [00:07<00:00, 17.17it/s]\n",
      "/home/zmao_umass_edu/.conda/envs/figo/lib/python3.7/site-packages/torch/nn/modules/loss.py:530: UserWarning: Using a target size (torch.Size([32])) that is different to the input size (torch.Size([32, 1])). This will likely lead to incorrect results due to broadcasting. Please ensure they have the same size.\n",
      "  return F.mse_loss(input, target, reduction=self.reduction)\n"
     ]
    },
    {
     "name": "stdout",
     "output_type": "stream",
     "text": [
      "Epoch 1/20, Train Loss: 24.4514, Test Loss: 0.6915\n"
     ]
    },
    {
     "name": "stderr",
     "output_type": "stream",
     "text": [
      "Training epoch 2/20: 100%|██████████| 125/125 [00:06<00:00, 19.94it/s]\n"
     ]
    },
    {
     "name": "stdout",
     "output_type": "stream",
     "text": [
      "Epoch 2/20, Train Loss: 0.4679, Test Loss: 0.3951\n"
     ]
    },
    {
     "name": "stderr",
     "output_type": "stream",
     "text": [
      "Training epoch 3/20: 100%|██████████| 125/125 [00:07<00:00, 15.66it/s]\n"
     ]
    },
    {
     "name": "stdout",
     "output_type": "stream",
     "text": [
      "Epoch 3/20, Train Loss: 0.3346, Test Loss: 0.3165\n"
     ]
    },
    {
     "name": "stderr",
     "output_type": "stream",
     "text": [
      "Training epoch 4/20: 100%|██████████| 125/125 [00:10<00:00, 11.56it/s]\n"
     ]
    },
    {
     "name": "stdout",
     "output_type": "stream",
     "text": [
      "Epoch 4/20, Train Loss: 0.2814, Test Loss: 0.2812\n"
     ]
    },
    {
     "name": "stderr",
     "output_type": "stream",
     "text": [
      "Training epoch 5/20: 100%|██████████| 125/125 [00:12<00:00,  9.93it/s]\n"
     ]
    },
    {
     "name": "stdout",
     "output_type": "stream",
     "text": [
      "Epoch 5/20, Train Loss: 0.2532, Test Loss: 0.2589\n"
     ]
    },
    {
     "name": "stderr",
     "output_type": "stream",
     "text": [
      "Training epoch 6/20: 100%|██████████| 125/125 [00:06<00:00, 18.33it/s]\n"
     ]
    },
    {
     "name": "stdout",
     "output_type": "stream",
     "text": [
      "Epoch 6/20, Train Loss: 0.2372, Test Loss: 0.2416\n"
     ]
    },
    {
     "name": "stderr",
     "output_type": "stream",
     "text": [
      "Training epoch 7/20:  46%|████▌     | 57/125 [00:05<00:06, 11.24it/s]\n"
     ]
    },
    {
     "ename": "KeyboardInterrupt",
     "evalue": "",
     "output_type": "error",
     "traceback": [
      "\u001b[0;31m---------------------------------------------------------------------------\u001b[0m",
      "\u001b[0;31mKeyboardInterrupt\u001b[0m                         Traceback (most recent call last)",
      "\u001b[0;32m<ipython-input-66-2ea337f09e76>\u001b[0m in \u001b[0;36m<module>\u001b[0;34m()\u001b[0m\n\u001b[1;32m      1\u001b[0m \u001b[0mnum_epochs\u001b[0m \u001b[0;34m=\u001b[0m \u001b[0;36m20\u001b[0m\u001b[0;34m\u001b[0m\u001b[0;34m\u001b[0m\u001b[0m\n\u001b[0;32m----> 2\u001b[0;31m \u001b[0mtrain_losses\u001b[0m\u001b[0;34m,\u001b[0m \u001b[0mtest_losses\u001b[0m \u001b[0;34m=\u001b[0m \u001b[0mtrain_RNN\u001b[0m\u001b[0;34m(\u001b[0m\u001b[0mmodel\u001b[0m\u001b[0;34m,\u001b[0m \u001b[0mtrain_dataloader\u001b[0m\u001b[0;34m,\u001b[0m \u001b[0mtest_dataloader\u001b[0m\u001b[0;34m,\u001b[0m \u001b[0mloss_fn\u001b[0m\u001b[0;34m,\u001b[0m \u001b[0moptimizer\u001b[0m\u001b[0;34m,\u001b[0m \u001b[0mnum_epochs\u001b[0m\u001b[0;34m,\u001b[0m \u001b[0mdevice\u001b[0m\u001b[0;34m)\u001b[0m\u001b[0;34m\u001b[0m\u001b[0;34m\u001b[0m\u001b[0m\n\u001b[0m",
      "\u001b[0;32m<ipython-input-62-bb349c430865>\u001b[0m in \u001b[0;36mtrain_RNN\u001b[0;34m(model, train_loader, test_loader, loss_fn, optimizer, num_epochs, device)\u001b[0m\n\u001b[1;32m     10\u001b[0m         \u001b[0mtrain_loss\u001b[0m \u001b[0;34m=\u001b[0m \u001b[0;36m0\u001b[0m\u001b[0;34m\u001b[0m\u001b[0;34m\u001b[0m\u001b[0m\n\u001b[1;32m     11\u001b[0m         \u001b[0;31m#for x, y in train_loader:\u001b[0m\u001b[0;34m\u001b[0m\u001b[0;34m\u001b[0m\u001b[0;34m\u001b[0m\u001b[0m\n\u001b[0;32m---> 12\u001b[0;31m         \u001b[0;32mfor\u001b[0m \u001b[0mx\u001b[0m\u001b[0;34m,\u001b[0m \u001b[0my\u001b[0m \u001b[0;32min\u001b[0m \u001b[0mtqdm\u001b[0m\u001b[0;34m(\u001b[0m\u001b[0mtrain_loader\u001b[0m\u001b[0;34m,\u001b[0m \u001b[0mdesc\u001b[0m\u001b[0;34m=\u001b[0m\u001b[0;34mf'Training epoch {epoch + 1}/{num_epochs}'\u001b[0m\u001b[0;34m)\u001b[0m\u001b[0;34m:\u001b[0m\u001b[0;34m\u001b[0m\u001b[0;34m\u001b[0m\u001b[0m\n\u001b[0m\u001b[1;32m     13\u001b[0m             \u001b[0mx\u001b[0m\u001b[0;34m,\u001b[0m \u001b[0my\u001b[0m \u001b[0;34m=\u001b[0m \u001b[0mx\u001b[0m\u001b[0;34m.\u001b[0m\u001b[0mto\u001b[0m\u001b[0;34m(\u001b[0m\u001b[0mdevice\u001b[0m\u001b[0;34m)\u001b[0m\u001b[0;34m,\u001b[0m \u001b[0my\u001b[0m\u001b[0;34m.\u001b[0m\u001b[0mto\u001b[0m\u001b[0;34m(\u001b[0m\u001b[0mdevice\u001b[0m\u001b[0;34m)\u001b[0m\u001b[0;34m\u001b[0m\u001b[0;34m\u001b[0m\u001b[0m\n\u001b[1;32m     14\u001b[0m \u001b[0;34m\u001b[0m\u001b[0m\n",
      "\u001b[0;32m/home/zmao_umass_edu/.conda/envs/figo/lib/python3.7/site-packages/tqdm/std.py\u001b[0m in \u001b[0;36m__iter__\u001b[0;34m(self)\u001b[0m\n\u001b[1;32m   1176\u001b[0m \u001b[0;34m\u001b[0m\u001b[0m\n\u001b[1;32m   1177\u001b[0m         \u001b[0;32mtry\u001b[0m\u001b[0;34m:\u001b[0m\u001b[0;34m\u001b[0m\u001b[0;34m\u001b[0m\u001b[0m\n\u001b[0;32m-> 1178\u001b[0;31m             \u001b[0;32mfor\u001b[0m \u001b[0mobj\u001b[0m \u001b[0;32min\u001b[0m \u001b[0miterable\u001b[0m\u001b[0;34m:\u001b[0m\u001b[0;34m\u001b[0m\u001b[0;34m\u001b[0m\u001b[0m\n\u001b[0m\u001b[1;32m   1179\u001b[0m                 \u001b[0;32myield\u001b[0m \u001b[0mobj\u001b[0m\u001b[0;34m\u001b[0m\u001b[0;34m\u001b[0m\u001b[0m\n\u001b[1;32m   1180\u001b[0m                 \u001b[0;31m# Update and possibly print the progressbar.\u001b[0m\u001b[0;34m\u001b[0m\u001b[0;34m\u001b[0m\u001b[0;34m\u001b[0m\u001b[0m\n",
      "\u001b[0;32m/home/zmao_umass_edu/.conda/envs/figo/lib/python3.7/site-packages/torch/utils/data/dataloader.py\u001b[0m in \u001b[0;36m__next__\u001b[0;34m(self)\u001b[0m\n\u001b[1;32m    679\u001b[0m                 \u001b[0;31m# TODO(https://github.com/pytorch/pytorch/issues/76750)\u001b[0m\u001b[0;34m\u001b[0m\u001b[0;34m\u001b[0m\u001b[0;34m\u001b[0m\u001b[0m\n\u001b[1;32m    680\u001b[0m                 \u001b[0mself\u001b[0m\u001b[0;34m.\u001b[0m\u001b[0m_reset\u001b[0m\u001b[0;34m(\u001b[0m\u001b[0;34m)\u001b[0m  \u001b[0;31m# type: ignore[call-arg]\u001b[0m\u001b[0;34m\u001b[0m\u001b[0;34m\u001b[0m\u001b[0m\n\u001b[0;32m--> 681\u001b[0;31m             \u001b[0mdata\u001b[0m \u001b[0;34m=\u001b[0m \u001b[0mself\u001b[0m\u001b[0;34m.\u001b[0m\u001b[0m_next_data\u001b[0m\u001b[0;34m(\u001b[0m\u001b[0;34m)\u001b[0m\u001b[0;34m\u001b[0m\u001b[0;34m\u001b[0m\u001b[0m\n\u001b[0m\u001b[1;32m    682\u001b[0m             \u001b[0mself\u001b[0m\u001b[0;34m.\u001b[0m\u001b[0m_num_yielded\u001b[0m \u001b[0;34m+=\u001b[0m \u001b[0;36m1\u001b[0m\u001b[0;34m\u001b[0m\u001b[0;34m\u001b[0m\u001b[0m\n\u001b[1;32m    683\u001b[0m             \u001b[0;32mif\u001b[0m \u001b[0mself\u001b[0m\u001b[0;34m.\u001b[0m\u001b[0m_dataset_kind\u001b[0m \u001b[0;34m==\u001b[0m \u001b[0m_DatasetKind\u001b[0m\u001b[0;34m.\u001b[0m\u001b[0mIterable\u001b[0m \u001b[0;32mand\u001b[0m\u001b[0;31m \u001b[0m\u001b[0;31m\\\u001b[0m\u001b[0;34m\u001b[0m\u001b[0;34m\u001b[0m\u001b[0m\n",
      "\u001b[0;32m/home/zmao_umass_edu/.conda/envs/figo/lib/python3.7/site-packages/torch/utils/data/dataloader.py\u001b[0m in \u001b[0;36m_next_data\u001b[0;34m(self)\u001b[0m\n\u001b[1;32m    719\u001b[0m     \u001b[0;32mdef\u001b[0m \u001b[0m_next_data\u001b[0m\u001b[0;34m(\u001b[0m\u001b[0mself\u001b[0m\u001b[0;34m)\u001b[0m\u001b[0;34m:\u001b[0m\u001b[0;34m\u001b[0m\u001b[0;34m\u001b[0m\u001b[0m\n\u001b[1;32m    720\u001b[0m         \u001b[0mindex\u001b[0m \u001b[0;34m=\u001b[0m \u001b[0mself\u001b[0m\u001b[0;34m.\u001b[0m\u001b[0m_next_index\u001b[0m\u001b[0;34m(\u001b[0m\u001b[0;34m)\u001b[0m  \u001b[0;31m# may raise StopIteration\u001b[0m\u001b[0;34m\u001b[0m\u001b[0;34m\u001b[0m\u001b[0m\n\u001b[0;32m--> 721\u001b[0;31m         \u001b[0mdata\u001b[0m \u001b[0;34m=\u001b[0m \u001b[0mself\u001b[0m\u001b[0;34m.\u001b[0m\u001b[0m_dataset_fetcher\u001b[0m\u001b[0;34m.\u001b[0m\u001b[0mfetch\u001b[0m\u001b[0;34m(\u001b[0m\u001b[0mindex\u001b[0m\u001b[0;34m)\u001b[0m  \u001b[0;31m# may raise StopIteration\u001b[0m\u001b[0;34m\u001b[0m\u001b[0;34m\u001b[0m\u001b[0m\n\u001b[0m\u001b[1;32m    722\u001b[0m         \u001b[0;32mif\u001b[0m \u001b[0mself\u001b[0m\u001b[0;34m.\u001b[0m\u001b[0m_pin_memory\u001b[0m\u001b[0;34m:\u001b[0m\u001b[0;34m\u001b[0m\u001b[0;34m\u001b[0m\u001b[0m\n\u001b[1;32m    723\u001b[0m             \u001b[0mdata\u001b[0m \u001b[0;34m=\u001b[0m \u001b[0m_utils\u001b[0m\u001b[0;34m.\u001b[0m\u001b[0mpin_memory\u001b[0m\u001b[0;34m.\u001b[0m\u001b[0mpin_memory\u001b[0m\u001b[0;34m(\u001b[0m\u001b[0mdata\u001b[0m\u001b[0;34m,\u001b[0m \u001b[0mself\u001b[0m\u001b[0;34m.\u001b[0m\u001b[0m_pin_memory_device\u001b[0m\u001b[0;34m)\u001b[0m\u001b[0;34m\u001b[0m\u001b[0;34m\u001b[0m\u001b[0m\n",
      "\u001b[0;32m/home/zmao_umass_edu/.conda/envs/figo/lib/python3.7/site-packages/torch/utils/data/_utils/fetch.py\u001b[0m in \u001b[0;36mfetch\u001b[0;34m(self, possibly_batched_index)\u001b[0m\n\u001b[1;32m     47\u001b[0m     \u001b[0;32mdef\u001b[0m \u001b[0mfetch\u001b[0m\u001b[0;34m(\u001b[0m\u001b[0mself\u001b[0m\u001b[0;34m,\u001b[0m \u001b[0mpossibly_batched_index\u001b[0m\u001b[0;34m)\u001b[0m\u001b[0;34m:\u001b[0m\u001b[0;34m\u001b[0m\u001b[0;34m\u001b[0m\u001b[0m\n\u001b[1;32m     48\u001b[0m         \u001b[0;32mif\u001b[0m \u001b[0mself\u001b[0m\u001b[0;34m.\u001b[0m\u001b[0mauto_collation\u001b[0m\u001b[0;34m:\u001b[0m\u001b[0;34m\u001b[0m\u001b[0;34m\u001b[0m\u001b[0m\n\u001b[0;32m---> 49\u001b[0;31m             \u001b[0mdata\u001b[0m \u001b[0;34m=\u001b[0m \u001b[0;34m[\u001b[0m\u001b[0mself\u001b[0m\u001b[0;34m.\u001b[0m\u001b[0mdataset\u001b[0m\u001b[0;34m[\u001b[0m\u001b[0midx\u001b[0m\u001b[0;34m]\u001b[0m \u001b[0;32mfor\u001b[0m \u001b[0midx\u001b[0m \u001b[0;32min\u001b[0m \u001b[0mpossibly_batched_index\u001b[0m\u001b[0;34m]\u001b[0m\u001b[0;34m\u001b[0m\u001b[0;34m\u001b[0m\u001b[0m\n\u001b[0m\u001b[1;32m     50\u001b[0m         \u001b[0;32melse\u001b[0m\u001b[0;34m:\u001b[0m\u001b[0;34m\u001b[0m\u001b[0;34m\u001b[0m\u001b[0m\n\u001b[1;32m     51\u001b[0m             \u001b[0mdata\u001b[0m \u001b[0;34m=\u001b[0m \u001b[0mself\u001b[0m\u001b[0;34m.\u001b[0m\u001b[0mdataset\u001b[0m\u001b[0;34m[\u001b[0m\u001b[0mpossibly_batched_index\u001b[0m\u001b[0;34m]\u001b[0m\u001b[0;34m\u001b[0m\u001b[0;34m\u001b[0m\u001b[0m\n",
      "\u001b[0;32m/home/zmao_umass_edu/.conda/envs/figo/lib/python3.7/site-packages/torch/utils/data/_utils/fetch.py\u001b[0m in \u001b[0;36m<listcomp>\u001b[0;34m(.0)\u001b[0m\n\u001b[1;32m     47\u001b[0m     \u001b[0;32mdef\u001b[0m \u001b[0mfetch\u001b[0m\u001b[0;34m(\u001b[0m\u001b[0mself\u001b[0m\u001b[0;34m,\u001b[0m \u001b[0mpossibly_batched_index\u001b[0m\u001b[0;34m)\u001b[0m\u001b[0;34m:\u001b[0m\u001b[0;34m\u001b[0m\u001b[0;34m\u001b[0m\u001b[0m\n\u001b[1;32m     48\u001b[0m         \u001b[0;32mif\u001b[0m \u001b[0mself\u001b[0m\u001b[0;34m.\u001b[0m\u001b[0mauto_collation\u001b[0m\u001b[0;34m:\u001b[0m\u001b[0;34m\u001b[0m\u001b[0;34m\u001b[0m\u001b[0m\n\u001b[0;32m---> 49\u001b[0;31m             \u001b[0mdata\u001b[0m \u001b[0;34m=\u001b[0m \u001b[0;34m[\u001b[0m\u001b[0mself\u001b[0m\u001b[0;34m.\u001b[0m\u001b[0mdataset\u001b[0m\u001b[0;34m[\u001b[0m\u001b[0midx\u001b[0m\u001b[0;34m]\u001b[0m \u001b[0;32mfor\u001b[0m \u001b[0midx\u001b[0m \u001b[0;32min\u001b[0m \u001b[0mpossibly_batched_index\u001b[0m\u001b[0;34m]\u001b[0m\u001b[0;34m\u001b[0m\u001b[0;34m\u001b[0m\u001b[0m\n\u001b[0m\u001b[1;32m     50\u001b[0m         \u001b[0;32melse\u001b[0m\u001b[0;34m:\u001b[0m\u001b[0;34m\u001b[0m\u001b[0;34m\u001b[0m\u001b[0m\n\u001b[1;32m     51\u001b[0m             \u001b[0mdata\u001b[0m \u001b[0;34m=\u001b[0m \u001b[0mself\u001b[0m\u001b[0;34m.\u001b[0m\u001b[0mdataset\u001b[0m\u001b[0;34m[\u001b[0m\u001b[0mpossibly_batched_index\u001b[0m\u001b[0;34m]\u001b[0m\u001b[0;34m\u001b[0m\u001b[0;34m\u001b[0m\u001b[0m\n",
      "\u001b[0;32m<ipython-input-51-383382d6b809>\u001b[0m in \u001b[0;36m__getitem__\u001b[0;34m(self, idx)\u001b[0m\n\u001b[1;32m     11\u001b[0m         \u001b[0my\u001b[0m \u001b[0;34m=\u001b[0m \u001b[0mself\u001b[0m\u001b[0;34m.\u001b[0m\u001b[0my\u001b[0m\u001b[0;34m[\u001b[0m\u001b[0midx\u001b[0m\u001b[0;34m]\u001b[0m\u001b[0;34m\u001b[0m\u001b[0;34m\u001b[0m\u001b[0m\n\u001b[1;32m     12\u001b[0m \u001b[0;34m\u001b[0m\u001b[0m\n\u001b[0;32m---> 13\u001b[0;31m         \u001b[0mx\u001b[0m \u001b[0;34m=\u001b[0m \u001b[0mtorch\u001b[0m\u001b[0;34m.\u001b[0m\u001b[0mtensor\u001b[0m\u001b[0;34m(\u001b[0m\u001b[0mx\u001b[0m\u001b[0;34m,\u001b[0m \u001b[0mdtype\u001b[0m\u001b[0;34m=\u001b[0m\u001b[0mtorch\u001b[0m\u001b[0;34m.\u001b[0m\u001b[0mfloat32\u001b[0m\u001b[0;34m)\u001b[0m\u001b[0;34m\u001b[0m\u001b[0;34m\u001b[0m\u001b[0m\n\u001b[0m\u001b[1;32m     14\u001b[0m         \u001b[0my\u001b[0m \u001b[0;34m=\u001b[0m \u001b[0mtorch\u001b[0m\u001b[0;34m.\u001b[0m\u001b[0mtensor\u001b[0m\u001b[0;34m(\u001b[0m\u001b[0my\u001b[0m\u001b[0;34m,\u001b[0m \u001b[0mdtype\u001b[0m\u001b[0;34m=\u001b[0m\u001b[0mtorch\u001b[0m\u001b[0;34m.\u001b[0m\u001b[0mfloat32\u001b[0m\u001b[0;34m)\u001b[0m\u001b[0;34m\u001b[0m\u001b[0;34m\u001b[0m\u001b[0m\n\u001b[1;32m     15\u001b[0m \u001b[0;34m\u001b[0m\u001b[0m\n",
      "\u001b[0;31mKeyboardInterrupt\u001b[0m: "
     ]
    }
   ],
   "source": [
    "num_epochs = 20\n",
    "train_losses, test_losses = train_RNN(model, train_dataloader, test_dataloader, loss_fn, optimizer, num_epochs, device)"
   ]
  },
  {
   "cell_type": "code",
   "execution_count": null,
   "id": "e36fc716-cc08-49ff-ba0e-c72e62fa46d7",
   "metadata": {},
   "outputs": [],
   "source": [
    "# Evaluate the model\n",
    "predicted, targets = evaluate_model(model, test_dataloader, device)\n",
    "\n",
    "# Calculate R2 score, MAE, and RMSE\n",
    "r2 = r2_score(targets, predicted)\n",
    "mae = mean_absolute_error(targets, predicted)\n",
    "rmse = np.sqrt(mean_squared_error(targets, predicted))\n",
    "\n",
    "print(f\"R2 Score: {r2:.4f}\")\n",
    "print(f\"Mean Absolute Error: {mae:.4f}\")\n",
    "print(f\"Root Mean Squared Error: {rmse:.4f}\")"
   ]
  },
  {
   "cell_type": "code",
   "execution_count": null,
   "id": "4dafc583-3b87-454c-ba03-584104eafcd5",
   "metadata": {},
   "outputs": [],
   "source": [
    "targets_np = np.array(targets).flatten()\n",
    "predicted_np = np.array(predicted).flatten()\n",
    "\n",
    "plt.figure(figsize=(10, 10))\n",
    "plt.scatter(predicted_np, targets_np, alpha=0.5)\n",
    "\n",
    "# Fit a linear regression model\n",
    "m, b = np.polyfit(predicted_np, targets_np, 1)\n",
    "\n",
    "# Create line points based on the min and max of the predicted values\n",
    "line_x = np.linspace(min(predicted_np), max(predicted_np), 100)\n",
    "line_y = m * line_x + b\n",
    "\n",
    "# Plot the best fit line\n",
    "plt.plot(line_x, line_y, '--', c='r')\n",
    "\n",
    "plt.xlabel('Predicted Values')\n",
    "plt.ylabel('True Values')\n",
    "plt.title('Scatter plot of Predicted vs. True Values')\n",
    "plt.show()\n"
   ]
  },
  {
   "cell_type": "code",
   "execution_count": null,
   "id": "599e1828-591a-4717-b6b4-8054203e8894",
   "metadata": {},
   "outputs": [],
   "source": []
  }
 ],
 "metadata": {
  "kernelspec": {
   "display_name": "Python (.conda-figo)",
   "language": "python",
   "name": "conda-env-.conda-figo-py"
  },
  "language_info": {
   "codemirror_mode": {
    "name": "ipython",
    "version": 3
   },
   "file_extension": ".py",
   "mimetype": "text/x-python",
   "name": "python",
   "nbconvert_exporter": "python",
   "pygments_lexer": "ipython3",
   "version": "3.7.13"
  }
 },
 "nbformat": 4,
 "nbformat_minor": 5
}
