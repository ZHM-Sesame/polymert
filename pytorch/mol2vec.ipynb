{
 "cells": [
  {
   "cell_type": "code",
   "execution_count": 43,
   "id": "e5f3cbc1-c1b0-425e-ac8a-86a9a2c05eb9",
   "metadata": {},
   "outputs": [
    {
     "name": "stdout",
     "output_type": "stream",
     "text": [
      "Using cuda device\n"
     ]
    }
   ],
   "source": [
    "from gensim.models import word2vec\n",
    "from rdkit import Chem\n",
    "from mol2vec.features import mol2alt_sentence, MolSentence, DfVec, sentences2vec\n",
    "import pandas as pd\n",
    "import numpy as np\n",
    "import pickle\n",
    "import rdkit\n",
    "from rdkit import Chem\n",
    "from rdkit.Chem import AllChem\n",
    "import time\n",
    "import argparse\n",
    "import os\n",
    "import matplotlib.pyplot as plt\n",
    "import torch\n",
    "from torch import nn\n",
    "import torch.nn.init as init\n",
    "from torchvision.transforms import ToTensor\n",
    "from sklearn.model_selection import train_test_split\n",
    "from torch.utils.data import Dataset, DataLoader\n",
    "import wandb\n",
    "from tqdm import tqdm\n",
    "\n",
    "\n",
    "device = \"cuda\" if torch.cuda.is_available() else \"mps\" if torch.backends.mps.is_available() else \"cpu\"\n",
    "print(f\"Using {device} device\")\n",
    "\n",
    "mol2vec_model = word2vec.Word2Vec.load('mol2vec/model_300dim.pkl')\n"
   ]
  },
  {
   "cell_type": "code",
   "execution_count": 44,
   "id": "92cec11a-0f10-4511-83bb-7d8de07712d5",
   "metadata": {},
   "outputs": [
    {
     "data": {
      "text/plain": [
       "array([[ 1.2513949,  2.334477 , -1.2833012, ..., -3.1253083, -1.1473327,\n",
       "         1.8111763],\n",
       "       [ 1.2513949,  2.334477 , -1.2833012, ..., -3.1253083, -1.1473327,\n",
       "         1.8111763],\n",
       "       [ 1.2513949,  2.334477 , -1.2833012, ..., -3.1253083, -1.1473327,\n",
       "         1.8111763],\n",
       "       ...,\n",
       "       [ 1.2513949,  2.334477 , -1.2833012, ..., -3.1253083, -1.1473327,\n",
       "         1.8111763],\n",
       "       [ 1.2513949,  2.334477 , -1.2833012, ..., -3.1253083, -1.1473327,\n",
       "         1.8111763],\n",
       "       [ 1.1262554,  2.1010292, -1.1549711, ..., -2.8127775, -1.0325994,\n",
       "         1.6300586]], dtype=float32)"
      ]
     },
     "execution_count": 44,
     "metadata": {},
     "output_type": "execute_result"
    }
   ],
   "source": [
    "smiles = 'CC(C)(C)c1ccc2occ(CC(=O)Nc3ccccc3F)c2c1'\n",
    "mol = Chem.MolFromSmiles(smiles)\n",
    "sentence = mol2alt_sentence(mol, 1)\n",
    "mol_sentence = MolSentence(sentence)\n",
    "embedding = sentences2vec(mol_sentence, mol2vec_model, unseen='UNK')\n",
    "embedding_array = DfVec(embedding).vec\n",
    "embedding_array"
   ]
  },
  {
   "cell_type": "code",
   "execution_count": 45,
   "id": "18627b0b-a35b-49f7-8844-1715166eba5d",
   "metadata": {},
   "outputs": [],
   "source": [
    "df = pd.read_csv('../baselines/RNN/datasets/Dataset 1.csv') #to be comparable with the size of other datasets, select ~5000 data points from the reference\n",
    "\n",
    "#df = df.head(1000)\n",
    "df['TRIMER_mol'] = df['TRIMER'].apply(Chem.MolFromSmiles)\n",
    "df['TRIMER_sen'] = df['TRIMER_mol'].apply(lambda mol: mol2alt_sentence(mol, 1))\n",
    "# Generate embedding_array for each sentence\n",
    "df['embedding_array'] = df['TRIMER_sen'].apply(lambda mol_sentence: sentences2vec(mol_sentence, mol2vec_model, unseen='UNK'))\n",
    "\n",
    "# Convert embedding_array to NumPy array\n",
    "df['embedding_array'] = df['embedding_array'].apply(lambda embedding: DfVec(embedding).vec)\n",
    "df = df.dropna()\n"
   ]
  },
  {
   "cell_type": "code",
   "execution_count": 46,
   "id": "92972e84-5206-452a-9ea3-eb4715074b42",
   "metadata": {},
   "outputs": [
    {
     "name": "stdout",
     "output_type": "stream",
     "text": [
      "The dimensions of the embedding_array are: (56, 300)\n"
     ]
    }
   ],
   "source": [
    "embedding_shape = df['embedding_array'].iloc[0].shape\n",
    "\n",
    "print(f\"The dimensions of the embedding_array are: {embedding_shape}\")\n"
   ]
  },
  {
   "cell_type": "code",
   "execution_count": 47,
   "id": "42476323-492b-4eb9-8151-9cd27dd8732c",
   "metadata": {},
   "outputs": [],
   "source": [
    "from sklearn.model_selection import train_test_split\n",
    "\n",
    "train_data, test_data = train_test_split(df, test_size=0.2, random_state=42)\n",
    "train_data, val_data = train_test_split(train_data, test_size=0.2, random_state=42)\n",
    "\n",
    "#reset index\n",
    "train_data = train_data.reset_index(drop=True)\n",
    "test_data = test_data.reset_index(drop=True)\n",
    "val_data = val_data.reset_index(drop=True)"
   ]
  },
  {
   "cell_type": "code",
   "execution_count": 48,
   "id": "3554e1df-9183-4e93-835a-261a9e1054f7",
   "metadata": {},
   "outputs": [],
   "source": [
    "class TrimerMol2VecDataset(Dataset):\n",
    "    def __init__(self, data, target_column, pad_length):\n",
    "        self.data = data\n",
    "        self.target_column = target_column\n",
    "        self.pad_length = pad_length\n",
    "\n",
    "    def __getitem__(self, index):\n",
    "        tokens = self.data.loc[index, \"embedding_array\"]\n",
    "        target = self.data.loc[index, self.target_column]\n",
    "        \n",
    "        # Flatten the tokens\n",
    "        tokens = tokens.reshape(-1)\n",
    "        \n",
    "        # Pad the tokens, padding at the end\n",
    "        tokens_padded = np.pad(tokens, (0, self.pad_length - len(tokens)), mode='constant')\n",
    "\n",
    "        tokens_tensor = torch.tensor(tokens_padded, dtype=torch.float32)\n",
    "        target_tensor = torch.tensor(target, dtype=torch.float32)\n",
    "\n",
    "        return tokens_tensor, target_tensor\n",
    "\n",
    "    def __len__(self):\n",
    "        return len(self.data)\n"
   ]
  },
  {
   "cell_type": "code",
   "execution_count": 49,
   "id": "81171f87-5aa5-4028-b5ff-3a42eb6f3f0a",
   "metadata": {},
   "outputs": [],
   "source": [
    "target_column = \"EA (eV)\"\n",
    "# Find the maximum length of the embedding arrays\n",
    "max_length = df['embedding_array'].apply(lambda x: x.size).max()\n",
    "\n",
    "train_dataset = TrimerMol2VecDataset(train_data, target_column, max_length)\n",
    "test_dataset = TrimerMol2VecDataset(test_data, target_column, max_length)\n",
    "val_dataset = TrimerMol2VecDataset(val_data, target_column, max_length)"
   ]
  },
  {
   "cell_type": "code",
   "execution_count": 50,
   "id": "4b776e7e-2f7f-4a16-a038-e205437c30e7",
   "metadata": {},
   "outputs": [],
   "source": [
    "batch_size = 32\n",
    "shuffle = True\n",
    "train_dataloader = DataLoader(train_dataset, batch_size=batch_size, shuffle=shuffle)\n",
    "test_dataloader = DataLoader(test_dataset, batch_size=batch_size, shuffle=shuffle)\n",
    "val_dataloader = DataLoader(val_dataset, batch_size=batch_size, shuffle=shuffle)"
   ]
  },
  {
   "cell_type": "code",
   "execution_count": 51,
   "id": "ad53b72a-22f7-4138-bb8d-0e34c86b0d8a",
   "metadata": {},
   "outputs": [],
   "source": [
    "class MLP(nn.Module):\n",
    "    def __init__(self, input_dim, hidden_dim, output_dim, num_layers=3):\n",
    "        super(MLP, self).__init__()\n",
    "        \n",
    "        self.input_dim = input_dim\n",
    "        self.hidden_dim = hidden_dim\n",
    "        self.output_dim = output_dim\n",
    "        self.num_layers = num_layers\n",
    "\n",
    "        self.layers = nn.ModuleList()\n",
    "\n",
    "        # First hidden layer\n",
    "        self.layers.append(nn.Linear(input_dim, hidden_dim))\n",
    "        init.xavier_uniform_(self.layers[-1].weight)\n",
    "        init.zeros_(self.layers[-1].bias)\n",
    "\n",
    "        # Additional hidden layers\n",
    "        for i in range(num_layers - 2):\n",
    "            self.layers.append(nn.Linear(hidden_dim, hidden_dim))\n",
    "            init.xavier_uniform_(self.layers[-1].weight)\n",
    "            init.zeros_(self.layers[-1].bias)\n",
    "\n",
    "        # Output layer\n",
    "        self.layers.append(nn.Linear(hidden_dim, output_dim))\n",
    "        init.xavier_uniform_(self.layers[-1].weight)\n",
    "        init.zeros_(self.layers[-1].bias)\n",
    "\n",
    "    def forward(self, x):\n",
    "        for i in range(self.num_layers - 1):\n",
    "            x = nn.functional.relu(self.layers[i](x))\n",
    "        x = self.layers[-1](x)\n",
    "        return x\n",
    "\n",
    "    def __str__(self):\n",
    "        layer_str = '\\n'.join([f'Layer {i}: {layer}' for i, layer in enumerate(self.layers)])\n",
    "        return f'MLP Model:\\n{layer_str}'\n"
   ]
  },
  {
   "cell_type": "code",
   "execution_count": 52,
   "id": "8e58598c-2715-4177-8c0b-cc458afc7dc7",
   "metadata": {},
   "outputs": [],
   "source": [
    "input_dim = max_length\n",
    "hidden_dim = 100\n",
    "num_layers = 3\n",
    "\n",
    "output_dim = 1\n",
    "num_tokens=1024\n",
    "learning_rate = 0.001\n",
    "\n",
    "model = MLP(input_dim, hidden_dim, output_dim, num_layers=3).to(device)\n",
    "\n",
    "loss_fn = nn.MSELoss()\n",
    "optimizer = torch.optim.Adam(model.parameters(), lr=learning_rate)"
   ]
  },
  {
   "cell_type": "code",
   "execution_count": 53,
   "id": "e844160e-bd31-409a-9b70-ae1c9c3259c5",
   "metadata": {},
   "outputs": [],
   "source": [
    "def train_MLP(model, train_loader, test_loader, loss_fn, optimizer, num_epochs=10, device=\"cpu\"):\n",
    "    model.to(device)\n",
    "    train_losses = []\n",
    "    test_losses = []\n",
    "\n",
    "    for epoch in range(num_epochs):\n",
    "        # Training\n",
    "        model.train()\n",
    "        train_loss = 0\n",
    "        for x, y in train_loader:\n",
    "            #x, y = x.to(device), y.to(device)\n",
    "            x = x.to(device).float()\n",
    "            y = y.to(device).float()\n",
    "            y = y.view(-1, 1)\n",
    "\n",
    "            optimizer.zero_grad()\n",
    "            output = model(x)\n",
    "            loss = loss_fn(output, y)\n",
    "            loss.backward()\n",
    "            optimizer.step()\n",
    "            train_loss += loss.item()\n",
    "        \n",
    "        train_loss /= len(train_loader)\n",
    "        train_losses.append(train_loss)\n",
    "\n",
    "        # Testing\n",
    "        model.eval()\n",
    "        test_loss = 0\n",
    "        with torch.no_grad():\n",
    "            for x, y in test_loader:\n",
    "                #x, y = x.to(device), y.to(device)\n",
    "                x = x.to(device).float()\n",
    "                y = y.to(device).float()\n",
    "                y = y.view(-1, 1)\n",
    "\n",
    "                output = model(x)\n",
    "                loss = loss_fn(output, y)\n",
    "                test_loss += loss.item()\n",
    "\n",
    "        test_loss /= len(test_loader)\n",
    "        test_losses.append(test_loss)\n",
    "\n",
    "        print(f\"Epoch {epoch + 1}/{num_epochs}, Train Loss: {train_loss:.4f}, Test Loss: {test_loss:.4f}\")\n",
    "\n",
    "    return train_losses, test_losses"
   ]
  },
  {
   "cell_type": "code",
   "execution_count": 54,
   "id": "d3b6b8d2-ca1b-4f41-ab91-4a44e6d10b10",
   "metadata": {},
   "outputs": [
    {
     "name": "stdout",
     "output_type": "stream",
     "text": [
      "Epoch 1/5, Train Loss: 1.5045, Test Loss: 0.5779\n",
      "Epoch 2/5, Train Loss: 1.7829, Test Loss: 0.4828\n",
      "Epoch 3/5, Train Loss: 0.4548, Test Loss: 0.4005\n",
      "Epoch 4/5, Train Loss: 0.4178, Test Loss: 0.4521\n",
      "Epoch 5/5, Train Loss: 0.4245, Test Loss: 0.4385\n"
     ]
    }
   ],
   "source": [
    "num_epochs = 5\n",
    "train_losses, test_losses = train_MLP(model, train_dataloader, val_dataloader, loss_fn, optimizer, num_epochs, device)"
   ]
  },
  {
   "cell_type": "code",
   "execution_count": 55,
   "id": "4f4818f8-554e-461a-8ec7-8c29001c7583",
   "metadata": {},
   "outputs": [
    {
     "name": "stdout",
     "output_type": "stream",
     "text": [
      "Saved PyTorch Model State to model_mol2vec_mlp20230419-080340.pt\n"
     ]
    }
   ],
   "source": [
    "current_time = time.strftime(\"%Y%m%d-%H%M%S\")\n",
    "model_path = f\"model_mol2vec_mlp{current_time}.pt\"\n",
    "\n",
    "torch.save(model.state_dict(), model_path)\n",
    "print(\"Saved PyTorch Model State to \"+model_path)"
   ]
  },
  {
   "cell_type": "code",
   "execution_count": 56,
   "id": "d3dec7f0-aa79-4ed8-9aee-1cfb737ab5e1",
   "metadata": {},
   "outputs": [
    {
     "name": "stdout",
     "output_type": "stream",
     "text": [
      "R2 Score: -0.0141\n",
      "Mean Absolute Error: 0.5450\n",
      "Root Mean Squared Error: 0.6633\n"
     ]
    }
   ],
   "source": [
    "from sklearn.metrics import r2_score, mean_absolute_error, mean_squared_error\n",
    "import numpy as np\n",
    "\n",
    "def evaluate_model(model, dataloader, device):\n",
    "    model.eval()\n",
    "    all_outputs = []\n",
    "    all_targets = []\n",
    "    \n",
    "    with torch.no_grad():\n",
    "        for batch in dataloader:\n",
    "            x, y = batch\n",
    "            x = x.to(device).float()\n",
    "            y = y.to(device).float()\n",
    "            y = y.view(-1, 1)\n",
    "            \n",
    "            output = model(x)\n",
    "            all_outputs.extend(output.cpu().numpy())\n",
    "            all_targets.extend(y.cpu().numpy())\n",
    "\n",
    "    return np.array(all_outputs), np.array(all_targets)\n",
    "\n",
    "# Evaluate the model\n",
    "predicted, targets = evaluate_model(model, test_dataloader, device)\n",
    "\n",
    "# Calculate R2 score, MAE, and RMSE\n",
    "r2 = r2_score(targets, predicted)\n",
    "mae = mean_absolute_error(targets, predicted)\n",
    "rmse = np.sqrt(mean_squared_error(targets, predicted))\n",
    "\n",
    "print(f\"R2 Score: {r2:.4f}\")\n",
    "print(f\"Mean Absolute Error: {mae:.4f}\")\n",
    "print(f\"Root Mean Squared Error: {rmse:.4f}\")"
   ]
  },
  {
   "cell_type": "code",
   "execution_count": 57,
   "id": "fb2c11c3-0909-448b-a325-d8085c988090",
   "metadata": {},
   "outputs": [
    {
     "data": {
      "image/png": "[encoded data removed]",
      "text/plain": [
       "<Figure size 720x720 with 1 Axes>"
      ]
     },
     "metadata": {
      "needs_background": "light"
     },
     "output_type": "display_data"
    }
   ],
   "source": [
    "targets_np = np.array(targets).flatten()\n",
    "predicted_np = np.array(predicted).flatten()\n",
    "\n",
    "plt.figure(figsize=(10, 10))\n",
    "plt.scatter(predicted_np, targets_np, alpha=0.5)\n",
    "\n",
    "# Fit a linear regression model\n",
    "m, b = np.polyfit(predicted_np, targets_np, 1)\n",
    "\n",
    "# Create line points based on the min and max of the predicted values\n",
    "line_x = np.linspace(min(predicted_np), max(predicted_np), 100)\n",
    "line_y = m * line_x + b\n",
    "\n",
    "# Plot the best fit line\n",
    "plt.plot(line_x, line_y, '--', c='r')\n",
    "plt.text(0.05, 0.95, f'RMSE: {rmse:.4f}\\nR-squared: {r2:.4f}', transform=plt.gca().transAxes, fontsize=12, verticalalignment='top')\n",
    "\n",
    "plt.xlabel('Predicted Values')\n",
    "plt.ylabel('True Values')\n",
    "plt.title('Scatter plot of Predicted vs. True Values')\n",
    "plt.show()\n"
   ]
  },
  {
   "cell_type": "code",
   "execution_count": null,
   "id": "3dcf0815-5491-4ede-a825-ca397659f44b",
   "metadata": {},
   "outputs": [],
   "source": []
  }
 ],
 "metadata": {
  "kernelspec": {
   "display_name": "Python (.conda-figo)",
   "language": "python",
   "name": "conda-env-.conda-figo-py"
  },
  "language_info": {
   "codemirror_mode": {
    "name": "ipython",
    "version": 3
   },
   "file_extension": ".py",
   "mimetype": "text/x-python",
   "name": "python",
   "nbconvert_exporter": "python",
   "pygments_lexer": "ipython3",
   "version": "3.7.13"
  }
 },
 "nbformat": 4,
 "nbformat_minor": 5
}
